{
 "cells": [
  {
   "cell_type": "markdown",
   "metadata": {},
   "source": [
    "# Metric Learning with Stochastic Gradient Descent"
   ]
  },
  {
   "cell_type": "code",
   "execution_count": 74,
   "metadata": {
    "ExecuteTime": {
     "end_time": "2019-02-20T14:35:49.943080Z",
     "start_time": "2019-02-20T14:35:49.936376Z"
    }
   },
   "outputs": [],
   "source": [
    "import numpy as np\n",
    "import sys\n",
    "import matplotlib.pyplot as plt\n",
    "from sklearn import datasets\n",
    "from sklearn import decomposition\n",
    "from sklearn import metrics\n",
    "import itertools\n",
    "from sklearn.neighbors import KNeighborsClassifier"
   ]
  },
  {
   "cell_type": "markdown",
   "metadata": {},
   "source": [
    "## Loading and visualizing data"
   ]
  },
  {
   "cell_type": "code",
   "execution_count": 2,
   "metadata": {
    "ExecuteTime": {
     "end_time": "2019-02-20T12:32:42.358813Z",
     "start_time": "2019-02-20T12:32:42.322266Z"
    }
   },
   "outputs": [],
   "source": [
    "if 1:  # use iris\n",
    "    iris = datasets.load_iris()\n",
    "    X = iris.data\n",
    "    y = iris.target\n",
    "else:  # use digits\n",
    "    digits = datasets.load_digits()\n",
    "    X = digits.data\n",
    "    y = digits.target\n",
    "\n",
    "    # on ne garde que les 7 premieres classes par simplicite\n",
    "    X = X[y < 7]\n",
    "    y = y[y < 7]\n",
    "\n",
    "# standardize data\n",
    "X -= X.mean(axis=0)\n",
    "X /= X.std(axis=0)\n",
    "X[np.isnan(X)] = 0.\n",
    "\n",
    "\n",
    "def plot_2d(X, y):\n",
    "    \"\"\" Plot in 2D the dataset data, colors and symbols according to the\n",
    "    class given by the vector y (if given); the separating hyperplan w can\n",
    "    also be displayed if asked\"\"\"\n",
    "    plt.figure()\n",
    "    symlist = ['o', 's', '*', 'x', 'D', '+', 'p', 'v', 'H', '^']\n",
    "    collist = ['blue', 'red', 'purple', 'orange', 'salmon', 'black', 'grey',\n",
    "               'fuchsia']\n",
    "\n",
    "    labs = np.unique(y)\n",
    "    idxbyclass = [y == labs[i] for i in range(len(labs))]\n",
    "\n",
    "    for i in range(len(labs)):\n",
    "        plt.plot(X[idxbyclass[i], 0], X[idxbyclass[i], 1], '+',\n",
    "                 color=collist[i % len(collist)], ls='None',\n",
    "                 marker=symlist[i % len(symlist)])\n",
    "    plt.ylim([np.min(X[:, 1]), np.max(X[:, 1])])\n",
    "    plt.xlim([np.min(X[:, 0]), np.max(X[:, 0])])\n",
    "    plt.show()\n"
   ]
  },
  {
   "cell_type": "code",
   "execution_count": 3,
   "metadata": {
    "ExecuteTime": {
     "end_time": "2019-02-20T12:32:45.258720Z",
     "start_time": "2019-02-20T12:32:44.078427Z"
    }
   },
   "outputs": [
    {
     "data": {
      "image/png": "[encoded data removed]",
      "text/plain": [
       "<Figure size 432x288 with 1 Axes>"
      ]
     },
     "metadata": {},
     "output_type": "display_data"
    }
   ],
   "source": [
    "# on utilise PCA pour projeter les donnees en 2D\n",
    "pca = decomposition.PCA(n_components=2)\n",
    "X_2D = pca.fit_transform(X)\n",
    "plot_2d(X_2D, y)"
   ]
  },
  {
   "cell_type": "markdown",
   "metadata": {},
   "source": [
    "## Approche basée sur les paires"
   ]
  },
  {
   "cell_type": "markdown",
   "metadata": {},
   "source": [
    "### Question 1"
   ]
  },
  {
   "cell_type": "markdown",
   "metadata": {},
   "source": [
    "Donner ici l'interprétation de la fonction de perte."
   ]
  },
  {
   "cell_type": "markdown",
   "metadata": {},
   "source": [
    "*Réponse* : La fonction de perte est une fonction Hinge Loss qui traduit la distance entre deux points."
   ]
  },
  {
   "cell_type": "markdown",
   "metadata": {},
   "source": [
    "<img src = 'loss.png'>"
   ]
  },
  {
   "cell_type": "markdown",
   "metadata": {},
   "source": [
    "- Si la paire est positive (même label), alors yij vaut 1.  \n",
    "- Si la paire est négative (labels différents), alors yij vaut -1. \n",
    "\n",
    "Si les points ont le même label, on pénalise si la distance vaut plus de 1. Si les points on un label différent, on pénalise si la distance est inférieure à 3."
   ]
  },
  {
   "cell_type": "markdown",
   "metadata": {},
   "source": [
    "<img src='graph.png'>"
   ]
  },
  {
   "cell_type": "markdown",
   "metadata": {},
   "source": [
    "### Question 2"
   ]
  },
  {
   "cell_type": "markdown",
   "metadata": {},
   "source": [
    "Compléter la fonction `sgd_metric_learning_pairs`. Vous n'avez qu'à ajouter le calcul du sous-gradient de la perte sur la paire tirée aléatoirement."
   ]
  },
  {
   "cell_type": "code",
   "execution_count": 32,
   "metadata": {
    "ExecuteTime": {
     "end_time": "2019-02-20T14:04:51.827095Z",
     "start_time": "2019-02-20T14:04:51.757658Z"
    },
    "code_folding": []
   },
   "outputs": [],
   "source": [
    "def psd_proj(M):\n",
    "    \"\"\" projection de la matrice M sur le cone des matrices semi-definies\n",
    "    positives\"\"\"\n",
    "    # calcule des valeurs et vecteurs propres\n",
    "    eigenval, eigenvec = np.linalg.eigh(M)\n",
    "    # on trouve les valeurs propres negatives ou tres proches de 0\n",
    "    ind_pos = eigenval > 1e-10\n",
    "    # on reconstruit la matrice en ignorant ces dernieres\n",
    "    M = np.dot(eigenvec[:, ind_pos] * eigenval[ind_pos][np.newaxis, :],\n",
    "               eigenvec[:, ind_pos].T)\n",
    "    return M\n",
    "\n",
    "\n",
    "def hinge_loss_pairs(X, pairs_idx, y_pairs, M):\n",
    "    \"\"\"Calcul du hinge loss sur les paires\n",
    "    \"\"\"\n",
    "    diff = X[pairs_idx[:, 0], :] - X[pairs_idx[:, 1], :]\n",
    "    return np.maximum(0., 1. + y_pairs.T * (np.sum(np.dot(M, diff.T) * diff.T, axis=0) - 2.))\n",
    "\n",
    "\n",
    "def sgd_metric_learning_pairs(X, y, gamma, alpha, n_iter, n_eval, M_ini, random_state=42):\n",
    "    \"\"\"Stochastic gradient algorithm for metric learning with pairs\n",
    "\n",
    "    Parameters\n",
    "    ----------\n",
    "    X : array, shape (n_samples, n_features)\n",
    "        The data\n",
    "    y : array, shape (n_samples,)\n",
    "        The targets.\n",
    "    gamma : float | callable\n",
    "        The step size. Can be a constant float or a function\n",
    "        that allows to have a variable step size\n",
    "    alpha : float\n",
    "        The regularization parameter\n",
    "    n_iter : int\n",
    "        The number of iterations\n",
    "    n_eval : int\n",
    "        The number of pairs to evaluate the objective function\n",
    "    M_ini : array, shape (n_features,n_features)\n",
    "        The initial value of M\n",
    "    random_state : int\n",
    "        Random seed to make the algorithm deterministic\n",
    "    \"\"\"\n",
    "    rng = np.random.RandomState(random_state)\n",
    "    n_samples, n_features = X.shape\n",
    "\n",
    "    # tirer n_eval paires aleatoirement\n",
    "    # attention: celles-ci sont seulement utilisees pour evaluer la fonction objective\n",
    "    pairs_idx = rng.randint(0, n_samples, (n_eval, 2))\n",
    "    \n",
    "    # calcul du label des paires d'evaluation\n",
    "    y_pairs = 2.0 * (y[pairs_idx[:, 0]] == y[pairs_idx[:, 1]]) - 1.0\n",
    "    M = M_ini.copy()\n",
    "    pobj = np.zeros(n_iter)\n",
    "    #print(y_pairs)\n",
    "    if not callable(gamma):\n",
    "        def gamma_func(t):\n",
    "            return gamma\n",
    "    else:\n",
    "        gamma_func = gamma\n",
    "\n",
    "    for t in range(n_iter):\n",
    "        pobj[t] = np.mean(hinge_loss_pairs(X, pairs_idx, y_pairs, M))\n",
    "        gradient = np.zeros((n_features, n_features))\n",
    "\n",
    "        # on tire 1 paire\n",
    "        pair_for_gradient = rng.randint(0, n_samples, 2)\n",
    "        #print(pair_for_gradient)\n",
    "        \n",
    "        # TODO QUESTION 2\n",
    "        y_pair = 2.0 * (y[pair_for_gradient[0]] == y[pair_for_gradient[1]]) - 1.0\n",
    "        #print(y_pair)\n",
    "        \n",
    "        diff = X[pair_for_gradient[0]] - X[pair_for_gradient[1]]\n",
    "        if np.maximum(0., 1. + y_pair.T * (np.sum(np.dot(M, diff.T) * diff.T, axis=0) - 2.)) <= 0 :\n",
    "            gradient = np.zeros((n_features, n_features))\n",
    "        else :\n",
    "            gradient = y_pair * np.outer((X[pair_for_gradient[0]] - X[pair_for_gradient[1]]), (X[pair_for_gradient[0]] - X[pair_for_gradient[1]]).T)\n",
    "            \n",
    "        M -= gamma_func(t) * gradient\n",
    "        M = psd_proj(M)\n",
    "        \n",
    "    return M, pobj"
   ]
  },
  {
   "cell_type": "code",
   "execution_count": 33,
   "metadata": {
    "ExecuteTime": {
     "end_time": "2019-02-20T14:04:54.104478Z",
     "start_time": "2019-02-20T14:04:52.431758Z"
    }
   },
   "outputs": [],
   "source": [
    "n_features = X.shape[1]\n",
    "\n",
    "M_ini = np.eye(n_features)\n",
    "M, pobj = sgd_metric_learning_pairs(X, y, 0.002, 0.0, 10000, 1000, M_ini)"
   ]
  },
  {
   "cell_type": "markdown",
   "metadata": {},
   "source": [
    "<img src='sg.png'>"
   ]
  },
  {
   "cell_type": "markdown",
   "metadata": {},
   "source": [
    "### Question 3"
   ]
  },
  {
   "cell_type": "markdown",
   "metadata": {},
   "source": [
    "Tester l'algorithme sur Iris et Digits en adaptant le pas et le nombre d'itérations afin de le faire converger."
   ]
  },
  {
   "cell_type": "code",
   "execution_count": 34,
   "metadata": {
    "ExecuteTime": {
     "end_time": "2019-02-20T14:04:57.294143Z",
     "start_time": "2019-02-20T14:04:55.578549Z"
    }
   },
   "outputs": [
    {
     "data": {
      "image/png": "[encoded data removed]",
      "text/plain": [
       "<Figure size 432x288 with 1 Axes>"
      ]
     },
     "metadata": {},
     "output_type": "display_data"
    },
    {
     "name": "stdout",
     "output_type": "stream",
     "text": [
      "Nb de valeurs propres de M égales à 0:  0 / 4\n"
     ]
    }
   ],
   "source": [
    "plt.figure()\n",
    "plt.plot(pobj)\n",
    "plt.xlabel('t')\n",
    "plt.ylabel('cost')\n",
    "plt.title('hinge stochastic with pairs')\n",
    "plt.show()\n",
    "\n",
    "e, v = np.linalg.eig(M)\n",
    "print(\"Nb de valeurs propres de M égales à 0: \", np.sum(e < 1e-12), \"/\", e.shape[0])"
   ]
  },
  {
   "cell_type": "markdown",
   "metadata": {},
   "source": [
    "### Question 4"
   ]
  },
  {
   "cell_type": "markdown",
   "metadata": {},
   "source": [
    "Utiliser le code ci-dessous plus transformer les données et comparer visuellement les représentations en dimension 2."
   ]
  },
  {
   "cell_type": "code",
   "execution_count": 25,
   "metadata": {
    "ExecuteTime": {
     "end_time": "2019-02-20T13:52:40.930229Z",
     "start_time": "2019-02-20T13:52:40.690527Z"
    }
   },
   "outputs": [
    {
     "data": {
      "image/png": "[encoded data removed]",
      "text/plain": [
       "<Figure size 432x288 with 1 Axes>"
      ]
     },
     "metadata": {},
     "output_type": "display_data"
    }
   ],
   "source": [
    "# calcul de la factorisation de cholesky\n",
    "# on ajoute de tres faibles coefficients sur la diagonale pour eviter\n",
    "# les erreurs numeriques\n",
    "L = np.linalg.cholesky(M + 1e-10 * np.eye(n_features))\n",
    "# on projette lineairement les donnees\n",
    "X_proj = np.dot(X, L)\n",
    "\n",
    "# TODO QUESTION 4: projeter X_proj en 2D avec une PCA\n",
    "pca = decomposition.PCA(n_components=2)\n",
    "X_2D = pca.fit_transform(X_proj)\n",
    "plot_2d(X_2D, y)"
   ]
  },
  {
   "cell_type": "code",
   "execution_count": 27,
   "metadata": {
    "ExecuteTime": {
     "end_time": "2019-02-20T13:54:52.517650Z",
     "start_time": "2019-02-20T13:54:52.340717Z"
    }
   },
   "outputs": [
    {
     "data": {
      "image/png": "[encoded data removed]",
      "text/plain": [
       "<Figure size 432x288 with 1 Axes>"
      ]
     },
     "metadata": {},
     "output_type": "display_data"
    }
   ],
   "source": [
    "plot_2d(X_proj, y)"
   ]
  },
  {
   "cell_type": "markdown",
   "metadata": {},
   "source": [
    "### Question 5"
   ]
  },
  {
   "cell_type": "markdown",
   "metadata": {},
   "source": [
    "Pour un échantillon aléatoire de paires d’apprentissage, calculer les valeurs de distance et comparer la courbe ROC de la distance apprise avec celle de la distance Euclidienne. Calculer également l’aire sous la courbe ROC (AUC)."
   ]
  },
  {
   "cell_type": "code",
   "execution_count": 28,
   "metadata": {
    "ExecuteTime": {
     "end_time": "2019-02-20T13:55:08.681095Z",
     "start_time": "2019-02-20T13:55:08.671789Z"
    }
   },
   "outputs": [],
   "source": [
    "def distances_random_pairs(X, y, M, n_pairs=10000, random_state=42):\n",
    "    \"\"\"Draw random pairs and compute their Euclidean and Mahalanobis distance\n",
    "\n",
    "    Parameters\n",
    "    ----------\n",
    "    X : array, shape (n_samples, n_features)\n",
    "        The data\n",
    "    y : array, shape (n_samples,)\n",
    "        The labels.\n",
    "    M : array, shape (n_features, n_features)\n",
    "        The matrix parameter of the Mahalanobis distance.\n",
    "    n_pairs : int\n",
    "        The number of pairs to sample\n",
    "    random_state : int\n",
    "        Random seed to make the algorithm deterministic\n",
    "    \"\"\"\n",
    "    rng = np.random.RandomState(random_state)\n",
    "    n_samples = X.shape[0]\n",
    "    pairs = rng.randint(0, n_samples, (n_pairs, 2)) # tirer n_pairs paires aleatoires\n",
    "    y_pairs = 2.0 * (y[pairs[:, 0]] == y[pairs[:, 1]]) - 1.0\n",
    "    diff = X[pairs[:, 0], :] - X[pairs[:, 1], :]\n",
    "    dist_euc = np.sqrt(np.sum(diff ** 2, axis=1))\n",
    "    dist_M = np.sum(np.dot(M, diff.T) * diff.T, axis=0)\n",
    "    return y_pairs, dist_euc, dist_M"
   ]
  },
  {
   "cell_type": "code",
   "execution_count": 96,
   "metadata": {
    "ExecuteTime": {
     "end_time": "2019-02-20T15:28:37.535096Z",
     "start_time": "2019-02-20T15:28:37.280286Z"
    }
   },
   "outputs": [
    {
     "data": {
      "image/png": "[encoded data removed]",
      "text/plain": [
       "<Figure size 432x288 with 1 Axes>"
      ]
     },
     "metadata": {},
     "output_type": "display_data"
    },
    {
     "name": "stdout",
     "output_type": "stream",
     "text": [
      "0.8945965757343581\n",
      "0.9774028317648802\n"
     ]
    }
   ],
   "source": [
    "# on tire 10000 paires aleatoires et on calcule les distances\n",
    "y_pairs, dist_euc, dist_M = distances_random_pairs(X, y, M, n_pairs=10000)\n",
    "\n",
    "threshold = 2\n",
    "#y_pred_euc = [1 if dist < threshold else -1 for dist in dist_euc]\n",
    "#y_pred_M = [1 if dist < threshold else -1 for dist in dist_M]\n",
    "\n",
    "# tracer les courbes ROC\n",
    "from sklearn.metrics import roc_curve, auc\n",
    "# TODO QUESTION 5\n",
    "\n",
    "fpr_euc, tpr_euc, _ = roc_curve(y_pairs, -dist_euc)\n",
    "fpr_M, tpr_M, _ = roc_curve(y_pairs, -dist_M)\n",
    "\n",
    "auc_euc = auc(fpr_euc, tpr_euc)\n",
    "auc_M = auc(fpr_M, tpr_M)\n",
    "\n",
    "# plot ROC curves\n",
    "\n",
    "plt.figure()\n",
    "plt.plot(fpr_euc, tpr_euc, label='Euclidean distance - AUC %.2f' % auc_euc)\n",
    "plt.plot(fpr_M, tpr_M, label='Learnt distance - AUC %.2f' % auc_M)\n",
    "plt.plot([0, 1], [0, 1], 'k--')\n",
    "plt.xlim([0.0, 1.0])\n",
    "plt.ylim([0.0, 1.0])\n",
    "plt.xlabel('False Positive Rate')\n",
    "plt.ylabel('True Positive Rate')\n",
    "plt.legend(loc='lower right')\n",
    "plt.show()\n",
    "\n",
    "print(auc_euc)\n",
    "print(auc_M)"
   ]
  },
  {
   "cell_type": "code",
   "execution_count": 97,
   "metadata": {
    "ExecuteTime": {
     "end_time": "2019-02-20T15:28:40.909162Z",
     "start_time": "2019-02-20T15:28:40.895266Z"
    }
   },
   "outputs": [
    {
     "data": {
      "text/plain": [
       "0.8111"
      ]
     },
     "execution_count": 97,
     "metadata": {},
     "output_type": "execute_result"
    }
   ],
   "source": [
    "from sklearn.metrics import accuracy_score\n",
    "accuracy_score(y_pairs, y_pred_euc)"
   ]
  },
  {
   "cell_type": "markdown",
   "metadata": {},
   "source": [
    "Compare to a KNN :"
   ]
  },
  {
   "cell_type": "code",
   "execution_count": 81,
   "metadata": {
    "ExecuteTime": {
     "end_time": "2019-02-20T14:41:37.372697Z",
     "start_time": "2019-02-20T14:41:37.366263Z"
    }
   },
   "outputs": [],
   "source": [
    "from sklearn.model_selection import train_test_split\n",
    "X_train, X_test, y_train, y_test = train_test_split(X_proj, y, test_size=0.33, random_state=42)"
   ]
  },
  {
   "cell_type": "code",
   "execution_count": 84,
   "metadata": {
    "ExecuteTime": {
     "end_time": "2019-02-20T14:42:16.259520Z",
     "start_time": "2019-02-20T14:42:16.252084Z"
    }
   },
   "outputs": [
    {
     "data": {
      "text/plain": [
       "KNeighborsClassifier(algorithm='auto', leaf_size=30, metric='minkowski',\n",
       "           metric_params=None, n_jobs=None, n_neighbors=3, p=2,\n",
       "           weights='uniform')"
      ]
     },
     "execution_count": 84,
     "metadata": {},
     "output_type": "execute_result"
    }
   ],
   "source": [
    "neigh = KNeighborsClassifier(n_neighbors=3)\n",
    "neigh.fit(X_train, y_train)"
   ]
  },
  {
   "cell_type": "code",
   "execution_count": 91,
   "metadata": {
    "ExecuteTime": {
     "end_time": "2019-02-20T14:49:06.568803Z",
     "start_time": "2019-02-20T14:49:06.564317Z"
    }
   },
   "outputs": [
    {
     "data": {
      "text/plain": [
       "0.98"
      ]
     },
     "execution_count": 91,
     "metadata": {},
     "output_type": "execute_result"
    }
   ],
   "source": [
    "y_pred_knn = neigh.predict(X_test)\n",
    "accuracy_score(y_pred_knn, y_test)"
   ]
  },
  {
   "cell_type": "markdown",
   "metadata": {},
   "source": [
    "### Question 6"
   ]
  },
  {
   "cell_type": "markdown",
   "metadata": {},
   "source": [
    "Modifier la fonction `sgd_metric_learning_pairs` pour permettre une version mini-batch de l'algorithme. Explorer l'effet sur la convergence de l'algorithme."
   ]
  },
  {
   "cell_type": "code",
   "execution_count": 100,
   "metadata": {
    "ExecuteTime": {
     "end_time": "2019-02-20T15:31:42.891343Z",
     "start_time": "2019-02-20T15:31:42.830469Z"
    }
   },
   "outputs": [],
   "source": [
    "def psd_proj(M):\n",
    "    \"\"\" projection de la matrice M sur le cone des matrices semi-definies\n",
    "    positives\"\"\"\n",
    "    # calcule des valeurs et vecteurs propres\n",
    "    eigenval, eigenvec = np.linalg.eigh(M)\n",
    "    # on trouve les valeurs propres negatives ou tres proches de 0\n",
    "    ind_pos = eigenval > 1e-10\n",
    "    # on reconstruit la matrice en ignorant ces dernieres\n",
    "    M = np.dot(eigenvec[:, ind_pos] * eigenval[ind_pos][np.newaxis, :],\n",
    "               eigenvec[:, ind_pos].T)\n",
    "    return M\n",
    "\n",
    "\n",
    "def hinge_loss_pairs(X, pairs_idx, y_pairs, M):\n",
    "    \"\"\"Calcul du hinge loss sur les paires\n",
    "    \"\"\"\n",
    "    diff = X[pairs_idx[:, 0], :] - X[pairs_idx[:, 1], :]\n",
    "    return np.maximum(0., 1. + y_pairs.T * (np.sum(np.dot(M, diff.T) * diff.T, axis=0) - 2.))\n",
    "\n",
    "\n",
    "def sgd_metric_learning_pairs(X, y, gamma, alpha, n_iter, n_eval, M_ini, batch_size, random_state=42):\n",
    "    \"\"\"Stochastic gradient algorithm for metric learning with pairs\n",
    "\n",
    "    Parameters\n",
    "    ----------\n",
    "    X : array, shape (n_samples, n_features)\n",
    "        The data\n",
    "    y : array, shape (n_samples,)\n",
    "        The targets.\n",
    "    gamma : float | callable\n",
    "        The step size. Can be a constant float or a function\n",
    "        that allows to have a variable step size\n",
    "    alpha : float\n",
    "        The regularization parameter\n",
    "    n_iter : int\n",
    "        The number of iterations\n",
    "    n_eval : int\n",
    "        The number of pairs to evaluate the objective function\n",
    "    M_ini : array, shape (n_features,n_features)\n",
    "        The initial value of M\n",
    "    random_state : int\n",
    "        Random seed to make the algorithm deterministic\n",
    "    \"\"\"\n",
    "    rng = np.random.RandomState(random_state)\n",
    "    n_samples, n_features = X.shape\n",
    "\n",
    "    # tirer n_eval paires aleatoirement\n",
    "    # attention: celles-ci sont seulement utilisees pour evaluer la fonction objective\n",
    "    pairs_idx = rng.randint(0, n_samples, (n_eval, 2))\n",
    "    \n",
    "    # calcul du label des paires d'evaluation\n",
    "    y_pairs = 2.0 * (y[pairs_idx[:, 0]] == y[pairs_idx[:, 1]]) - 1.0\n",
    "    M = M_ini.copy()\n",
    "    pobj = np.zeros(n_iter)\n",
    "    #print(y_pairs)\n",
    "    if not callable(gamma):\n",
    "        def gamma_func(t):\n",
    "            return gamma\n",
    "    else:\n",
    "        gamma_func = gamma\n",
    "\n",
    "    for t in range(n_iter):\n",
    "        pobj[t] = np.mean(hinge_loss_pairs(X, pairs_idx, y_pairs, M))\n",
    "        gradient = np.zeros((n_features, n_features))\n",
    "        for b in range(batch_size) : \n",
    "\n",
    "            # on tire 1 paire\n",
    "            pair_for_gradient = rng.randint(0, n_samples, 2)\n",
    "            #print(pair_for_gradient)\n",
    "        \n",
    "            # TODO QUESTION 6\n",
    "            y_pair = 2.0 * (y[pair_for_gradient[0]] == y[pair_for_gradient[1]]) - 1.0\n",
    "            #print(y_pair)\n",
    "        \n",
    "            diff = X[pair_for_gradient[0]] - X[pair_for_gradient[1]]\n",
    "            if np.maximum(0., 1. + y_pair.T * (np.sum(np.dot(M, diff.T) * diff.T, axis=0) - 2.)) <= 0 :\n",
    "                grad = np.zeros((n_features, n_features))\n",
    "            else :\n",
    "                grad = y_pair * np.outer((X[pair_for_gradient[0]] - X[pair_for_gradient[1]]), (X[pair_for_gradient[0]] - X[pair_for_gradient[1]]).T)\n",
    "            gradient = gradient + grad\n",
    "        M -= gamma_func(t) * gradient/batch_size\n",
    "        M = psd_proj(M)\n",
    "        \n",
    "    return M, pobj"
   ]
  },
  {
   "cell_type": "code",
   "execution_count": 104,
   "metadata": {
    "ExecuteTime": {
     "end_time": "2019-02-20T15:33:45.666983Z",
     "start_time": "2019-02-20T15:33:45.491796Z"
    }
   },
   "outputs": [
    {
     "data": {
      "image/png": "[encoded data removed]",
      "text/plain": [
       "<Figure size 432x288 with 1 Axes>"
      ]
     },
     "metadata": {},
     "output_type": "display_data"
    },
    {
     "name": "stdout",
     "output_type": "stream",
     "text": [
      "Nb de valeurs propres de M égales à 0:  0 / 4\n"
     ]
    }
   ],
   "source": [
    "n_features = X.shape[1]\n",
    "\n",
    "M_ini = np.eye(n_features)\n",
    "M, pobj = sgd_metric_learning_pairs(X, y, 0.002, 0.0, 10000, 1000, M_ini, 10)\n",
    "\n",
    "plt.figure()\n",
    "plt.plot(pobj)\n",
    "plt.xlabel('t')\n",
    "plt.ylabel('cost')\n",
    "plt.title('hinge stochastic with pairs')\n",
    "plt.show()\n",
    "\n",
    "e, v = np.linalg.eig(M)\n",
    "print(\"Nb de valeurs propres de M égales à 0: \", np.sum(e < 1e-12), \"/\", e.shape[0])"
   ]
  },
  {
   "cell_type": "code",
   "execution_count": null,
   "metadata": {
    "collapsed": true
   },
   "outputs": [],
   "source": [
    "\n",
    "#  AIDE POUR LE BONUS DE LA QUESTION 6:\n",
    "\n",
    "# def combs(a, r):\n",
    "#     \"\"\" compute all r-length combinations of elements in array; a faster\n",
    "#     than np.array(list(itertools.combinations(a, r)))\n",
    "#     \"\"\"\n",
    "#     a = np.asarray(a)\n",
    "#     dt = np.dtype([('', a.dtype)] * r)\n",
    "#     b = np.fromiter(itertools.combinations(a, r), dt)\n",
    "#     return b.view(a.dtype).reshape(-1, r)\n"
   ]
  },
  {
   "cell_type": "markdown",
   "metadata": {},
   "source": [
    "### Question 7"
   ]
  },
  {
   "cell_type": "markdown",
   "metadata": {},
   "source": [
    "Modifier la fonction `sgd_metric_learning_pairs` pour permettre une régularisation par la norme trace. Explorer le compromis entre performance et réduction de dimension."
   ]
  },
  {
   "cell_type": "code",
   "execution_count": 116,
   "metadata": {
    "ExecuteTime": {
     "end_time": "2019-02-20T15:55:06.971579Z",
     "start_time": "2019-02-20T15:55:06.961394Z"
    }
   },
   "outputs": [],
   "source": [
    "def psd_proj(M):\n",
    "    \"\"\" projection de la matrice M sur le cone des matrices semi-definies\n",
    "    positives\"\"\"\n",
    "    # calcule des valeurs et vecteurs propres\n",
    "    eigenval, eigenvec = np.linalg.eigh(M)\n",
    "    # on trouve les valeurs propres negatives ou tres proches de 0\n",
    "    ind_pos = eigenval > 1e-10\n",
    "    # on reconstruit la matrice en ignorant ces dernieres\n",
    "    M = np.dot(eigenvec[:, ind_pos] * eigenval[ind_pos][np.newaxis, :],\n",
    "               eigenvec[:, ind_pos].T)\n",
    "    return M\n",
    "\n",
    "\n",
    "def hinge_loss_pairs(X, pairs_idx, y_pairs, M):\n",
    "    n_samples, n_features = X.shape\n",
    "    \"\"\"Calcul du hinge loss sur les paires\n",
    "    \"\"\"\n",
    "    diff = X[pairs_idx[:, 0], :] - X[pairs_idx[:, 1], :]\n",
    "    return np.maximum(0., 1. + y_pairs.T * (np.sum(np.dot(M, diff.T) * diff.T, axis=0) - 2.))\n"
   ]
  },
  {
   "cell_type": "code",
   "execution_count": 117,
   "metadata": {
    "ExecuteTime": {
     "end_time": "2019-02-20T15:55:07.730988Z",
     "start_time": "2019-02-20T15:55:07.689092Z"
    }
   },
   "outputs": [],
   "source": [
    "def sgd_metric_learning_pairs(X, y, batch_size, gamma, alpha, n_iter, n_eval, M_ini,\n",
    "                              random_state=42):\n",
    "    \"\"\"Stochastic gradient algorithm for metric learning with pairs\n",
    "    Parameters\n",
    "    ----------\n",
    "    X : array, shape (n_samples, n_features)\n",
    "        The data\n",
    "    y : array, shape (n_samples,)\n",
    "        The targets.\n",
    "    gamma : float | callable\n",
    "        The step size. Can be a constant float or a function\n",
    "        that allows to have a variable step size\n",
    "    alpha : float\n",
    "        The regularization parameter\n",
    "    n_iter : int\n",
    "        The number of iterations\n",
    "    n_eval : int\n",
    "        The number of pairs to evaluate the objective function\n",
    "    M_ini : array, shape (n_features,n_features)\n",
    "        The initial value of M\n",
    "    random_state : int\n",
    "        Random seed to make the algorithm deterministic\n",
    "    \"\"\"\n",
    "    rng = np.random.RandomState(random_state)\n",
    "    n_samples, n_features = X.shape\n",
    "    # tirer n_eval paires aleatoirement\n",
    "    \n",
    "    # attention: celles-ci sont seulement utilisees pour evaluer la fonction objective\n",
    "    pairs_idx = rng.randint(0, n_samples, (n_eval, 2))\n",
    "    \n",
    "    # calcul du label des paires d'evaluation\n",
    "    y_pairs = 2.0 * (y[pairs_idx[:, 0]] == y[pairs_idx[:, 1]]) - 1.0\n",
    "    M = M_ini.copy()\n",
    "    pobj = np.zeros(n_iter)\n",
    "    if not callable(gamma):\n",
    "        def gamma_func(t):\n",
    "            return gamma\n",
    "    else:\n",
    "        gamma_func = gamma\n",
    "    for t in range(n_iter):\n",
    "        \n",
    "        pobj[t] = np.mean(hinge_loss_pairs(X, pairs_idx, y_pairs, M))\n",
    "        \n",
    "        gradient = np.zeros((n_features, n_features))\n",
    "        \n",
    "        for j in range(batch_size):\n",
    "            \n",
    "            # on tire 1 paire\n",
    "            pair_for_gradient = rng.randint(0, n_samples, 2)\n",
    "            y_equal = 2.0 * (y[pair_for_gradient[0]] == y[pair_for_gradient[1]]) - 1.0\n",
    "            diff = X[pair_for_gradient[0]] - X[pair_for_gradient[1]]\n",
    "            cond = np.dot(diff.T, M)\n",
    "            cond = np.dot(cond, diff)\n",
    "            cond = 1 + y_equal * (cond - 2)\n",
    "            if cond > 0:\n",
    "                gradient += (y_equal * np.outer(diff, diff) + alpha * np.eye(n_features))\n",
    "                \n",
    "        gradient = gradient / batch_size\n",
    "        \n",
    "        M -= gamma_func(t) * gradient\n",
    "        M = psd_proj(M)\n",
    "        \n",
    "    return M, pobj"
   ]
  },
  {
   "cell_type": "code",
   "execution_count": 118,
   "metadata": {
    "ExecuteTime": {
     "end_time": "2019-02-20T15:55:16.979798Z",
     "start_time": "2019-02-20T15:55:09.184082Z"
    }
   },
   "outputs": [
    {
     "data": {
      "image/png": "[encoded data removed]",
      "text/plain": [
       "<Figure size 720x360 with 1 Axes>"
      ]
     },
     "metadata": {},
     "output_type": "display_data"
    },
    {
     "name": "stdout",
     "output_type": "stream",
     "text": [
      "Nb de valeurs propres de M égales à 0:  2 / 4\n"
     ]
    }
   ],
   "source": [
    "n_features = X.shape[1]\n",
    "M_ini = np.eye(n_features)\n",
    "batch_size = 32\n",
    "M, pobj = sgd_metric_learning_pairs(X, y, batch_size, 0.002, 0.5, 10000, 1000, M_ini)\n",
    "plt.figure(figsize=(10,5))\n",
    "plt.plot(pobj)\n",
    "plt.xlabel('t')\n",
    "plt.ylabel('cost')\n",
    "plt.title('hinge stochastic with pairs')\n",
    "plt.show()\n",
    "e, v = np.linalg.eig(M)\n",
    "print(\"Nb de valeurs propres de M égales à 0: \", np.sum(e < 1e-12), \"/\", e.shape[0])"
   ]
  },
  {
   "cell_type": "markdown",
   "metadata": {},
   "source": [
    "## Approche basée sur les triplets"
   ]
  },
  {
   "cell_type": "markdown",
   "metadata": {},
   "source": [
    "### Question 8"
   ]
  },
  {
   "cell_type": "markdown",
   "metadata": {},
   "source": [
    "Donner ici l'interprétation de la fonction de perte."
   ]
  },
  {
   "cell_type": "markdown",
   "metadata": {},
   "source": [
    "<img src = 'loss_3.png'>"
   ]
  },
  {
   "cell_type": "markdown",
   "metadata": {},
   "source": [
    "On pénalise si la distance entre Xi et Xj est élevée, et on pénalise si celle entre Xi et Xk est faible."
   ]
  },
  {
   "cell_type": "markdown",
   "metadata": {},
   "source": [
    "### Question 9"
   ]
  },
  {
   "cell_type": "markdown",
   "metadata": {},
   "source": [
    "Implémenter et expérimenter avec une version triplet de l'algorithme en complétant la fonction `sgd_metric_learning_triplets` ci-dessous. Vous n'avez qu'à ajouter le calcul du sous-gradient de la perte sur le triplet tiré aléatoirement."
   ]
  },
  {
   "cell_type": "code",
   "execution_count": null,
   "metadata": {
    "collapsed": true
   },
   "outputs": [],
   "source": [
    "def hinge_loss_triplets(X, triplets_idx, M):\n",
    "    \"\"\"Calcul du hinge loss sur les triplets\n",
    "    \"\"\"\n",
    "    diffp = X[triplets_idx[:, 0], :] - X[triplets_idx[:, 1], :]\n",
    "    diffn = X[triplets_idx[:, 0], :] - X[triplets_idx[:, 2], :]\n",
    "    return np.maximum(0., 1. - np.sum(np.dot(M, diffn.T) * diffn.T, axis=0) +\n",
    "                      np.sum(np.dot(M, diffp.T) * diffp.T, axis=0))\n",
    "\n",
    "\n",
    "def generate_triplets(X, y, n_triplets, random_state=42):\n",
    "    \"\"\"Generation de triplets\n",
    "    \"\"\"\n",
    "    rng = np.random.RandomState(random_state)\n",
    "    n_samples = X.shape[0]\n",
    "    triplets_idx = np.zeros((n_triplets, 3), dtype=int)\n",
    "    triplets_idx[:, 0] = rng.randint(0, n_samples, (n_triplets,))\n",
    "    for i in range(n_triplets):\n",
    "        same_idx = np.where(y == y[triplets_idx[i, 0]])[0]\n",
    "        diff_idx = np.where(y != y[triplets_idx[i, 0]])[0]\n",
    "        triplets_idx[i, 1] = same_idx[rng.randint(0, same_idx.shape[0])]\n",
    "        triplets_idx[i, 2] = diff_idx[rng.randint(0, diff_idx.shape[0])]\n",
    "    return triplets_idx\n",
    "\n",
    "\n",
    "def sgd_metric_learning_triplets(X, y, gamma, alpha, n_iter, n_eval, M_ini,\n",
    "                                 random_state=42):\n",
    "    \"\"\"Stochastic gradient algorithm for metric learning with triplets\n",
    "\n",
    "    Parameters\n",
    "    ----------\n",
    "    X : array, shape (n_samples, n_features)\n",
    "        The data\n",
    "    y : array, shape (n_samples,)\n",
    "        The labels.\n",
    "    gamma : float | callable\n",
    "        The step size. Can be a constant float or a function\n",
    "        that allows to have a variable step size\n",
    "    alpha : float\n",
    "        The regularization parameter\n",
    "    n_iter : int\n",
    "        The number of iterations\n",
    "    n_eval : int\n",
    "        The number of triplets to evaluate the objective function\n",
    "    M_ini : array, shape (n_features,n_features)\n",
    "        The initial value of M\n",
    "    random_state : int\n",
    "        Random seed to make the algorithm deterministic\n",
    "    \"\"\"\n",
    "    rng = np.random.RandomState(random_state)\n",
    "    n_samples, n_features = X.shape\n",
    "    # generate n_eval triplets\n",
    "    triplets_idx = generate_triplets(X, y, n_eval, random_state=random_state)\n",
    "    M = M_ini.copy()\n",
    "    pobj = np.zeros(n_iter)\n",
    "\n",
    "    if not callable(gamma):\n",
    "        def gamma_func(t):\n",
    "            return gamma\n",
    "    else:\n",
    "        gamma_func = gamma\n",
    "\n",
    "    for t in range(n_iter):\n",
    "        pobj[t] = np.mean(hinge_loss_triplets(X, triplets_idx, M))\n",
    "        gradient = np.zeros((n_features, n_features))\n",
    "\n",
    "        # tirer 1 triplet\n",
    "        triplet_for_gradient = generate_triplets(X, y, 1, random_state=random_state + t)[0]\n",
    "\n",
    "        # TODO QUESTION 9\n",
    "\n",
    "        M -= gamma_func(t) * gradient\n",
    "        M = psd_proj(M)\n",
    "    return M, pobj\n"
   ]
  },
  {
   "cell_type": "code",
   "execution_count": null,
   "metadata": {
    "collapsed": true
   },
   "outputs": [],
   "source": []
  }
 ],
 "metadata": {
  "kernelspec": {
   "display_name": "Python 3",
   "language": "python",
   "name": "python3"
  },
  "language_info": {
   "codemirror_mode": {
    "name": "ipython",
    "version": 3
   },
   "file_extension": ".py",
   "mimetype": "text/x-python",
   "name": "python",
   "nbconvert_exporter": "python",
   "pygments_lexer": "ipython3",
   "version": "3.6.5"
  },
  "latex_envs": {
   "LaTeX_envs_menu_present": true,
   "autoclose": false,
   "autocomplete": true,
   "bibliofile": "biblio.bib",
   "cite_by": "apalike",
   "current_citInitial": 1,
   "eqLabelWithNumbers": true,
   "eqNumInitial": 1,
   "hotkeys": {
    "equation": "Ctrl-E",
    "itemize": "Ctrl-I"
   },
   "labels_anchors": false,
   "latex_user_defs": false,
   "report_style_numbering": false,
   "user_envs_cfg": false
  }
 },
 "nbformat": 4,
 "nbformat_minor": 2
}
