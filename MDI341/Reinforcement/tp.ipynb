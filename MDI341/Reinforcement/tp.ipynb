{
 "cells": [
  {
   "cell_type": "markdown",
   "metadata": {},
   "source": [
    "# Multi-armed bandits"
   ]
  },
  {
   "cell_type": "markdown",
   "metadata": {},
   "source": [
    "The objective of this lab session is to test the performance of some usual bandit algorithms."
   ]
  },
  {
   "cell_type": "code",
   "execution_count": 1,
   "metadata": {
    "ExecuteTime": {
     "end_time": "2019-02-13T09:24:04.414922Z",
     "start_time": "2019-02-13T09:24:03.786498Z"
    }
   },
   "outputs": [],
   "source": [
    "import numpy as np\n",
    "import matplotlib.pyplot as plt"
   ]
  },
  {
   "cell_type": "markdown",
   "metadata": {},
   "source": [
    "## Algorithms"
   ]
  },
  {
   "cell_type": "markdown",
   "metadata": {},
   "source": [
    "There are $k$ possible actions, $a \\in \\{ 0, 1,...,k - 1\\}$. \n",
    "\n",
    "We consider the following algorithms:\n",
    "* $\\varepsilon$-greedy\n",
    "* adaptive greedy\n",
    "* UCB\n",
    "* Thompson sampling\n",
    "\n",
    "Each algorithm returns an action $a$ based on the following inputs:\n",
    "\n",
    "| Variable   |      Type      |  Description |\n",
    "|:---|:---|:---|\n",
    "| `nb_tries` |  1D array of int of size `k` | number of tries of each action so far |\n",
    "| `cum_rewards` |    1D array of float of size `k`    |   cumulative reward of each action so far |\n",
    "| `t` | integer (optional) |    current time |\n",
    "| `param` | mixed |    parameter of the algorithm |"
   ]
  },
  {
   "cell_type": "markdown",
   "metadata": {},
   "source": [
    "\n",
    "***\n",
    "\n",
    "**To do:**\n",
    "* Code the UCB algorithm. \n",
    "* Observe the behaviour of the algorithms, for different parameters.\n",
    "* Test the principle of \"optimism in face of uncertainty\" on the greedy policies.\n",
    "\n",
    "**Hint:** Use the `simple_test` function to test the behaviour of the algorithms for binary rewards.\n",
    "\n",
    "***"
   ]
  },
  {
   "cell_type": "code",
   "execution_count": 2,
   "metadata": {
    "ExecuteTime": {
     "end_time": "2019-02-13T09:24:11.115120Z",
     "start_time": "2019-02-13T09:24:11.106413Z"
    }
   },
   "outputs": [],
   "source": [
    "def eps_greedy(nb_tries, cum_rewards, param):\n",
    "    if param == None:\n",
    "        eps = 0.1\n",
    "    else:\n",
    "        eps = float(param)\n",
    "    k = np.shape(nb_tries)[0]\n",
    "    if np.sum(nb_tries) == 0 or np.random.random() < eps:\n",
    "        return np.random.randint(k)\n",
    "    else:\n",
    "        index = np.where(nb_tries > 0)[0]\n",
    "        return index[np.argmax(cum_rewards[index] / nb_tries[index])]"
   ]
  },
  {
   "cell_type": "code",
   "execution_count": 3,
   "metadata": {
    "ExecuteTime": {
     "end_time": "2019-02-13T09:24:11.812867Z",
     "start_time": "2019-02-13T09:24:11.806917Z"
    }
   },
   "outputs": [],
   "source": [
    "def adaptive_greedy(nb_tries, cum_rewards, param):\n",
    "    if param == None:\n",
    "        c = 1.\n",
    "    else:\n",
    "        c = float(param)\n",
    "    k = np.shape(nb_tries)[0]\n",
    "    t = np.sum(nb_tries)\n",
    "    if np.sum(nb_tries) == 0 or np.random.random() < c / (c + t):\n",
    "        return np.random.randint(k)\n",
    "    else:\n",
    "        index = np.where(nb_tries > 0)[0]\n",
    "        return index[np.argmax(cum_rewards[index] / nb_tries[index])]"
   ]
  },
  {
   "cell_type": "code",
   "execution_count": 52,
   "metadata": {
    "ExecuteTime": {
     "end_time": "2019-02-13T09:48:42.796751Z",
     "start_time": "2019-02-13T09:48:42.789071Z"
    }
   },
   "outputs": [],
   "source": [
    "# Code the UCB algorithm."
   ]
  },
  {
   "cell_type": "code",
   "execution_count": 22,
   "metadata": {
    "ExecuteTime": {
     "end_time": "2019-02-13T09:36:29.660404Z",
     "start_time": "2019-02-13T09:36:29.647775Z"
    }
   },
   "outputs": [],
   "source": [
    "def ucb(nb_tries, cum_rewards, param):\n",
    "    if param == None:\n",
    "        c = 1. \n",
    "    else:\n",
    "        c = float(param)\n",
    "    \n",
    "    t = np.sum(nb_tries)\n",
    "    k = np.shape(nb_tries)[0]\n",
    "    \n",
    "    if np.sum(nb_tries) == 0 :\n",
    "        return np.random.randint(k)\n",
    "    else:\n",
    "        index = np.where(nb_tries > 0)[0]\n",
    "        return np.argmax(cum_rewards[index] + c * np.sqrt(np.log(t)/nb_tries[index]))"
   ]
  },
  {
   "cell_type": "code",
   "execution_count": 5,
   "metadata": {
    "ExecuteTime": {
     "end_time": "2019-02-13T09:24:13.263682Z",
     "start_time": "2019-02-13T09:24:13.256388Z"
    }
   },
   "outputs": [],
   "source": [
    "def thompson(nb_tries, cum_rewards, param):\n",
    "    k = np.shape(nb_tries)[0]\n",
    "    if param == \"beta\":\n",
    "        # Beta prior\n",
    "        try:\n",
    "            samples = np.random.beta(cum_rewards + 1, nb_tries - cum_rewards + 1)\n",
    "        except:\n",
    "            samples = np.random.random(k)\n",
    "    else:\n",
    "        # Normal prior\n",
    "        samples = np.random.normal(cum_rewards / (nb_tries + 1), 1. / (nb_tries + 1))\n",
    "    return np.argmax(samples)"
   ]
  },
  {
   "cell_type": "code",
   "execution_count": 6,
   "metadata": {
    "ExecuteTime": {
     "end_time": "2019-02-13T09:24:13.984467Z",
     "start_time": "2019-02-13T09:24:13.978618Z"
    }
   },
   "outputs": [],
   "source": [
    "def get_action(algo, nb_tries, cum_rewards, param = None):\n",
    "    if algo == \"eps_greedy\":\n",
    "        return eps_greedy(nb_tries, cum_rewards, param)\n",
    "    elif algo == \"adaptive_greedy\":\n",
    "        return adaptive_greedy(nb_tries, cum_rewards, param)\n",
    "    elif algo == \"ucb\":\n",
    "        return ucb(nb_tries, cum_rewards, param)\n",
    "    elif algo == \"thompson\":\n",
    "        return thompson(nb_tries, cum_rewards, param)"
   ]
  },
  {
   "cell_type": "code",
   "execution_count": 7,
   "metadata": {
    "ExecuteTime": {
     "end_time": "2019-02-13T09:24:14.655275Z",
     "start_time": "2019-02-13T09:24:14.649082Z"
    }
   },
   "outputs": [],
   "source": [
    "def get_bernoulli_reward(a, model_param):\n",
    "    return float(np.random.random() < model_param[a])"
   ]
  },
  {
   "cell_type": "code",
   "execution_count": 47,
   "metadata": {
    "ExecuteTime": {
     "end_time": "2019-02-13T09:47:44.388907Z",
     "start_time": "2019-02-13T09:47:44.371580Z"
    }
   },
   "outputs": [],
   "source": [
    "def simple_test(algo, model_param = [0.1, 0.6, 0.3], time_horizon = 20, param = None):\n",
    "    \n",
    "    k = len(model_param)\n",
    "    nb_tries = np.zeros(k, int)\n",
    "    cum_rewards = np.zeros(k, float)\n",
    "    print (\"action -> reward\")\n",
    "    \n",
    "    for t in range(time_horizon):\n",
    "        a = get_action(algo, nb_tries, cum_rewards, param)\n",
    "        r = get_bernoulli_reward(a, model_param)\n",
    "        #print(str(a) + \" -> \" + str(int(r)))\n",
    "        nb_tries[a] += 1\n",
    "        cum_rewards[a] += r\n",
    "        \n",
    "    index = np.where(nb_tries > 0)[0]\n",
    "    best_action = index[np.argmax(cum_rewards[index] / nb_tries[index])]\n",
    "    \n",
    "    print(\"Best action (estimation) = \", best_action)\n",
    "    print(\"Average reward of this action = \", cum_rewards[best_action] / nb_tries[best_action])"
   ]
  },
  {
   "cell_type": "code",
   "execution_count": 48,
   "metadata": {
    "ExecuteTime": {
     "end_time": "2019-02-13T09:47:49.811278Z",
     "start_time": "2019-02-13T09:47:49.807730Z"
    }
   },
   "outputs": [],
   "source": [
    "algos = [\"eps_greedy\", \"adaptive_greedy\", \"ucb\", \"thompson\"]"
   ]
  },
  {
   "cell_type": "code",
   "execution_count": 49,
   "metadata": {
    "ExecuteTime": {
     "end_time": "2019-02-13T09:47:50.489899Z",
     "start_time": "2019-02-13T09:47:50.458495Z"
    }
   },
   "outputs": [
    {
     "name": "stdout",
     "output_type": "stream",
     "text": [
      "action -> reward\n",
      "Best action (estimation) =  1\n",
      "Average reward of this action =  0.5851703406813628\n"
     ]
    }
   ],
   "source": [
    "algo = algos[2]\n",
    "simple_test(algo, time_horizon=500, param=0.5)"
   ]
  },
  {
   "cell_type": "code",
   "execution_count": 53,
   "metadata": {
    "ExecuteTime": {
     "end_time": "2019-02-13T09:49:02.028802Z",
     "start_time": "2019-02-13T09:49:02.025678Z"
    }
   },
   "outputs": [],
   "source": [
    "# Test the principle of \"optimism in face of uncertainty\" on the greedy policies."
   ]
  },
  {
   "cell_type": "code",
   "execution_count": 51,
   "metadata": {
    "ExecuteTime": {
     "end_time": "2019-02-13T09:48:15.717260Z",
     "start_time": "2019-02-13T09:48:15.614341Z"
    }
   },
   "outputs": [
    {
     "name": "stdout",
     "output_type": "stream",
     "text": [
      "#####\n",
      "eps_greedy\n",
      "action -> reward\n",
      "Best action (estimation) =  1\n",
      "Average reward of this action =  0.6352941176470588\n",
      "\n",
      "#####\n",
      "adaptive_greedy\n",
      "action -> reward\n",
      "Best action (estimation) =  1\n",
      "Average reward of this action =  0.6379928315412187\n",
      "\n",
      "#####\n",
      "ucb\n",
      "action -> reward\n",
      "Best action (estimation) =  1\n",
      "Average reward of this action =  0.5894308943089431\n",
      "\n",
      "#####\n",
      "thompson\n",
      "action -> reward\n",
      "Best action (estimation) =  1\n",
      "Average reward of this action =  0.5709876543209876\n",
      "\n"
     ]
    }
   ],
   "source": [
    "for algo in algos :\n",
    "    print(\"#####\")\n",
    "    print(algo)\n",
    "    simple_test(algo, time_horizon=500, param=1.2)\n",
    "    print()"
   ]
  },
  {
   "cell_type": "markdown",
   "metadata": {},
   "source": [
    "When parameter c for uncertainty is higher, greedy policies achieve higher average reward."
   ]
  },
  {
   "cell_type": "code",
   "execution_count": null,
   "metadata": {},
   "outputs": [],
   "source": []
  },
  {
   "cell_type": "markdown",
   "metadata": {},
   "source": [
    "## Regret and precision\n",
    "\n",
    "We now compare the performance of the algorithms in terms of **regret** and **precision**.\n",
    "\n",
    "We consider two models: Bernoulli rewards and normal rewards. "
   ]
  },
  {
   "cell_type": "code",
   "execution_count": 54,
   "metadata": {
    "ExecuteTime": {
     "end_time": "2019-02-13T09:50:21.724079Z",
     "start_time": "2019-02-13T09:50:21.719478Z"
    }
   },
   "outputs": [],
   "source": [
    "def get_reward(a, model, model_param):\n",
    "    if model == \"bernoulli\":\n",
    "        return float(np.random.random() < model_param[a])\n",
    "    elif model == \"normal\":\n",
    "        return np.random.normal(*model_param[a])"
   ]
  },
  {
   "cell_type": "code",
   "execution_count": 55,
   "metadata": {
    "ExecuteTime": {
     "end_time": "2019-02-13T09:50:22.671476Z",
     "start_time": "2019-02-13T09:50:22.662392Z"
    }
   },
   "outputs": [],
   "source": [
    "def simulate(model, model_param, time_horizon, algo, param = None):\n",
    "    k = len(model_param)\n",
    "    nb_tries = np.zeros(k, int)\n",
    "    cum_rewards = np.zeros(k, float)\n",
    "    action_seq = []\n",
    "    reward_seq = []\n",
    "    for t in range(time_horizon):\n",
    "        a = get_action(algo, nb_tries, cum_rewards, param)\n",
    "        r = get_reward(a, model, model_param)\n",
    "        nb_tries[a] += 1\n",
    "        cum_rewards[a] += r\n",
    "        action_seq.append(a)\n",
    "        reward_seq.append(r)\n",
    "    return action_seq, reward_seq"
   ]
  },
  {
   "cell_type": "code",
   "execution_count": 56,
   "metadata": {
    "ExecuteTime": {
     "end_time": "2019-02-13T09:50:23.729767Z",
     "start_time": "2019-02-13T09:50:23.722153Z"
    }
   },
   "outputs": [
    {
     "name": "stdout",
     "output_type": "stream",
     "text": [
      "[1, 0, 0, 1, 1, 1, 1, 1, 1, 1, 1, 1, 1, 1, 1, 1, 1, 1, 1, 1]\n",
      "[0.0, 0.0, 0.0, 1.0, 0.0, 1.0, 1.0, 1.0, 1.0, 0.0, 1.0, 1.0, 0.0, 1.0, 1.0, 0.0, 0.0, 0.0, 1.0, 0.0]\n"
     ]
    }
   ],
   "source": [
    "# Bernoulli rewards\n",
    "model = \"bernoulli\"\n",
    "model_param = [0.1, 0.6, 0.3]\n",
    "time_horizon = 20\n",
    "algo = algos[1]\n",
    "action_seq, reward_seq = simulate(model, model_param, time_horizon, algo)\n",
    "print(action_seq)\n",
    "print(reward_seq)"
   ]
  },
  {
   "cell_type": "code",
   "execution_count": 57,
   "metadata": {
    "ExecuteTime": {
     "end_time": "2019-02-13T09:50:24.522448Z",
     "start_time": "2019-02-13T09:50:24.514768Z"
    }
   },
   "outputs": [
    {
     "name": "stdout",
     "output_type": "stream",
     "text": [
      "[0, 1, 0, 0, 0, 0, 0, 0, 0, 0, 0, 0, 0, 0, 0, 0, 0, 0, 0, 0]\n",
      "[1.9035430183803717, 1.3649221216624587, 2.218584574093431, 1.4776802792147747, 1.0059810217757754, 3.2304762888776914, 2.6429826811746846, 1.948331110611631, 3.0734689106122315, 2.956686023495854, 2.080701777435061, 0.3908996455975209, 3.031281389834664, 2.2701170045591783, 1.4296014549153115, 0.49925140190937367, 1.352879399707883, 2.12263850981682, 2.5502592899655845, 1.2194475704612087]\n"
     ]
    }
   ],
   "source": [
    "# Normal rewards\n",
    "model = \"normal\"\n",
    "model_param = [(2,1), (2.5,1)]\n",
    "action_seq, reward_seq = simulate(model, model_param, time_horizon, algo)\n",
    "print(action_seq)\n",
    "print(reward_seq)"
   ]
  },
  {
   "cell_type": "markdown",
   "metadata": {},
   "source": [
    "***\n",
    "\n",
    "**To do:**\n",
    "* Write the function `get_metrics` that returns the regret and precision throughout the run of the algorithm.\n",
    "* Observe the behaviour of each algorithm over independent runs, for both models and different instances of the model.\n",
    "* How do you explain that the regret can be negative?\n",
    "* Test the impact of the prior used by Thompson sampling\n",
    "\n",
    "**Note:** The `get_best_action` function returns the list of best actions and the corresponding expected reward.\n",
    "\n",
    "***"
   ]
  },
  {
   "cell_type": "code",
   "execution_count": 173,
   "metadata": {
    "ExecuteTime": {
     "end_time": "2019-02-13T10:37:45.854733Z",
     "start_time": "2019-02-13T10:37:45.847831Z"
    }
   },
   "outputs": [],
   "source": [
    "def get_best_action(model, model_param):\n",
    "    if model == \"bernoulli\":\n",
    "        best_reward = np.max(model_param)\n",
    "        best_actions = list(np.where(model_param == best_reward)[0])\n",
    "    elif model == \"normal\":\n",
    "        means = [params[a][0] for a in range(len(model_param))]\n",
    "        best_reward = np.max(model_param)\n",
    "        best_actions = list(np.where(means == best_reward)[0])\n",
    "    return best_actions, best_reward"
   ]
  },
  {
   "cell_type": "code",
   "execution_count": 174,
   "metadata": {
    "ExecuteTime": {
     "end_time": "2019-02-13T10:37:46.044988Z",
     "start_time": "2019-02-13T10:37:46.036516Z"
    }
   },
   "outputs": [],
   "source": [
    "def get_metrics(action_seq, reward_seq, best_actions, best_reward):\n",
    "    time_horizon = len(action_seq)\n",
    "    regret = np.zeros(time_horizon, float)\n",
    "    precision = np.zeros(time_horizon, float)\n",
    "    # to be completed\n",
    "    for i in range(1,time_horizon) :\n",
    "        regret[i] = best_reward * i - np.sum(reward_seq[:i])\n",
    "        precision[i] = 1/i * np.sum(action_seq[:i] == best_actions)\n",
    "    return regret, precision"
   ]
  },
  {
   "cell_type": "code",
   "execution_count": 175,
   "metadata": {
    "ExecuteTime": {
     "end_time": "2019-02-13T10:37:46.245365Z",
     "start_time": "2019-02-13T10:37:46.231547Z"
    }
   },
   "outputs": [],
   "source": [
    "def show_metrics(metrics):\n",
    "    fig, (ax1, ax2) = plt.subplots(1,2,figsize=(12, 4))\n",
    "    ax1.set_xlabel('Time')\n",
    "    ax1.set_ylabel('Regret')\n",
    "    ax1.plot(range(time_horizon),metrics[0], color = 'b')\n",
    "    ax2.set_xlabel('Time')\n",
    "    ax2.set_ylabel('Precision')\n",
    "    ax2.set_ylim(-0.02,1.02)\n",
    "    ax2.plot(range(time_horizon),metrics[1], color = 'b')\n",
    "    plt.show()"
   ]
  },
  {
   "cell_type": "code",
   "execution_count": 177,
   "metadata": {
    "ExecuteTime": {
     "end_time": "2019-02-13T10:37:56.372496Z",
     "start_time": "2019-02-13T10:37:56.368068Z"
    }
   },
   "outputs": [],
   "source": [
    "time_horizon = 10000\n",
    "model = \"bernoulli\"\n",
    "model_param = [0.2, 0.5, 0.7, 0.9]"
   ]
  },
  {
   "cell_type": "code",
   "execution_count": 180,
   "metadata": {
    "ExecuteTime": {
     "end_time": "2019-02-13T10:46:52.703478Z",
     "start_time": "2019-02-13T10:46:47.816183Z"
    }
   },
   "outputs": [
    {
     "data": {
      "image/png": "[encoded data removed]",
      "text/plain": [
       "<Figure size 864x288 with 2 Axes>"
      ]
     },
     "metadata": {},
     "output_type": "display_data"
    }
   ],
   "source": [
    "algo = algos[3]\n",
    "results = simulate(model, model_param, time_horizon,  algo)\n",
    "metrics = get_metrics(*results, get_best_action(model, model_param)[0][0], get_best_action(model, model_param)[1])\n",
    "show_metrics(metrics)"
   ]
  },
  {
   "cell_type": "markdown",
   "metadata": {},
   "source": [
    "How do you explain that the regret can be negative?\n",
    "\n",
    "** Answer ** : There is an existing chance to be above the best parameter in the simulation."
   ]
  },
  {
   "cell_type": "markdown",
   "metadata": {},
   "source": [
    "## Statistics\n",
    "\n",
    "Finally, we provide some statistics on the performance of each algorithm for different time horizons.\n",
    "\n",
    "***\n",
    "\n",
    "**To do:**\n",
    "* Compare the performance of the algorithms.\n",
    "* What algorithm would you recommand for a time horizon $T = 1000$?\n",
    "\n",
    "***"
   ]
  },
  {
   "cell_type": "code",
   "execution_count": 181,
   "metadata": {
    "ExecuteTime": {
     "end_time": "2019-02-13T10:47:08.167826Z",
     "start_time": "2019-02-13T10:47:08.157655Z"
    }
   },
   "outputs": [],
   "source": [
    "def get_stats(nb_samples, time_periods, model, model_param, algo, param = None):\n",
    "    time_horizon = max(time_periods)\n",
    "    norm_regret_samples = [[] for t in time_periods]\n",
    "    precision_samples = [[] for t in time_periods]\n",
    "    for s in range(nb_samples):\n",
    "        results = simulate(model, model_param, time_horizon, algo, param)\n",
    "        regret, precision = get_metrics(*results, *get_best_action(model, model_param))\n",
    "        for i,t in enumerate(time_periods):\n",
    "            norm_regret_samples[i].append(regret[t - 1] / t)\n",
    "            precision_samples[i].append(precision[t - 1])\n",
    "    return norm_regret_samples, precision_samples"
   ]
  },
  {
   "cell_type": "code",
   "execution_count": 182,
   "metadata": {
    "ExecuteTime": {
     "end_time": "2019-02-13T10:47:08.360297Z",
     "start_time": "2019-02-13T10:47:08.340594Z"
    }
   },
   "outputs": [],
   "source": [
    "def show_stats(time_periods, stats):\n",
    "    meanprops = dict(marker='o', markeredgecolor='black', markerfacecolor='r')\n",
    "    medianprops = dict(linestyle='-', linewidth=2.5, color = 'b')\n",
    "    fig, (ax1, ax2) = plt.subplots(1,2,figsize=(12, 4))\n",
    "    ax1.boxplot(stats[0], positions = range(len(time_periods)), showfliers = False, showmeans = True, meanprops = meanprops, medianprops = medianprops)\n",
    "    ax1.axhline(linestyle = '--', color = 'r')\n",
    "    ax1.set_xticklabels(time_periods)\n",
    "    ax1.set_xlabel('Time horizon')\n",
    "    ax1.set_ylabel('Normalized regret')\n",
    "    ax2.boxplot(stats[1], positions = range(len(time_periods)), showfliers = False, showmeans = True, meanprops = meanprops, medianprops = medianprops)\n",
    "    ax2.set_ylim(-0.02,1.02)\n",
    "    ax2.axhline(y = 1, linestyle = '--', color = 'r')\n",
    "    ax2.set_xticklabels(time_periods)\n",
    "    ax2.set_xlabel('Time horizon')\n",
    "    ax2.set_ylabel('Precision')\n",
    "    plt.show()"
   ]
  },
  {
   "cell_type": "code",
   "execution_count": 183,
   "metadata": {
    "ExecuteTime": {
     "end_time": "2019-02-13T10:47:58.768821Z",
     "start_time": "2019-02-13T10:47:08.531322Z"
    }
   },
   "outputs": [],
   "source": [
    "time_periods = [100,1000,5000]\n",
    "nb_samples = 100\n",
    "model = \"bernoulli\"\n",
    "model_param = [0.1, 0.2]\n",
    "algo = algos[3]\n",
    "stats = get_stats(nb_samples, time_periods, model, model_param, algo)"
   ]
  },
  {
   "cell_type": "code",
   "execution_count": 184,
   "metadata": {
    "ExecuteTime": {
     "end_time": "2019-02-13T10:47:59.221391Z",
     "start_time": "2019-02-13T10:47:58.771347Z"
    }
   },
   "outputs": [
    {
     "data": {
      "image/png": "[encoded data removed]",
      "text/plain": [
       "<Figure size 864x288 with 2 Axes>"
      ]
     },
     "metadata": {},
     "output_type": "display_data"
    }
   ],
   "source": [
    "show_stats(time_periods, stats)"
   ]
  },
  {
   "cell_type": "code",
   "execution_count": null,
   "metadata": {
    "collapsed": true
   },
   "outputs": [],
   "source": []
  }
 ],
 "metadata": {
  "hide_input": false,
  "kernelspec": {
   "display_name": "Python 3",
   "language": "python",
   "name": "python3"
  },
  "language_info": {
   "codemirror_mode": {
    "name": "ipython",
    "version": 3
   },
   "file_extension": ".py",
   "mimetype": "text/x-python",
   "name": "python",
   "nbconvert_exporter": "python",
   "pygments_lexer": "ipython3",
   "version": "3.6.5"
  },
  "latex_envs": {
   "LaTeX_envs_menu_present": true,
   "autoclose": false,
   "autocomplete": true,
   "bibliofile": "biblio.bib",
   "cite_by": "apalike",
   "current_citInitial": 1,
   "eqLabelWithNumbers": true,
   "eqNumInitial": 1,
   "hotkeys": {
    "equation": "Ctrl-E",
    "itemize": "Ctrl-I"
   },
   "labels_anchors": false,
   "latex_user_defs": false,
   "report_style_numbering": false,
   "user_envs_cfg": false
  }
 },
 "nbformat": 4,
 "nbformat_minor": 2
}
