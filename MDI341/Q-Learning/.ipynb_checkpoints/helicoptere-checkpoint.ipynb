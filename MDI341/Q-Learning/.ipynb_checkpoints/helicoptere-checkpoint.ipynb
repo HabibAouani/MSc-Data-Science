{
 "cells": [
  {
   "cell_type": "markdown",
   "metadata": {},
   "source": [
    "## Vol d'hélicoptère"
   ]
  },
  {
   "cell_type": "markdown",
   "metadata": {},
   "source": [
    "Ce notebook montre quelques algorithmes d'apprentissage par renforcement appliqués à un vol d'hélicoptère en 2D (distance, altitude) :\n",
    "* Value Iteration\n",
    "* Policy Iteration\n",
    "* SARSA\n",
    "* Q-learning\n",
    "\n",
    "Une pénalisation peut être appliquée pour un vol à basse altitude.\n",
    "\n",
    "Votre mission est de tester les différents algorithmes et leurs paramètres, puis d'implémenter l'algorithme Q($\\lambda$) utilisant la trace des trajectoires, avec un paramètre de trace $\\lambda \\in [0,1]$."
   ]
  },
  {
   "cell_type": "markdown",
   "metadata": {},
   "source": [
    "## Init"
   ]
  },
  {
   "cell_type": "code",
   "execution_count": 1,
   "metadata": {
    "ExecuteTime": {
     "end_time": "2019-03-27T14:32:23.375809Z",
     "start_time": "2019-03-27T14:32:22.763635Z"
    }
   },
   "outputs": [],
   "source": [
    "import numpy as np\n",
    "import matplotlib.pyplot as plt"
   ]
  },
  {
   "cell_type": "code",
   "execution_count": 226,
   "metadata": {
    "ExecuteTime": {
     "end_time": "2019-03-27T15:26:27.256539Z",
     "start_time": "2019-03-27T15:26:27.251002Z"
    }
   },
   "outputs": [],
   "source": [
    "HEIGHT = 10\n",
    "WIDTH = 20"
   ]
  },
  {
   "cell_type": "code",
   "execution_count": 227,
   "metadata": {
    "ExecuteTime": {
     "end_time": "2019-03-27T15:26:27.449537Z",
     "start_time": "2019-03-27T15:26:27.445003Z"
    }
   },
   "outputs": [],
   "source": [
    "BEST_REWARD = 100\n",
    "WORST_REWARD = -100"
   ]
  },
  {
   "cell_type": "code",
   "execution_count": 228,
   "metadata": {
    "ExecuteTime": {
     "end_time": "2019-03-27T15:26:27.634708Z",
     "start_time": "2019-03-27T15:26:27.621904Z"
    }
   },
   "outputs": [],
   "source": [
    "def get_reward(state, high_altitude = 5, high_alt_cost = 1, low_alt_cost = 10):\n",
    "    reward = 0\n",
    "    if state[0] < 0:\n",
    "        if state[1] == WIDTH - 1:\n",
    "            # arrival\n",
    "            reward = BEST_REWARD\n",
    "        else: \n",
    "            # crash\n",
    "            reward = WORST_REWARD\n",
    "    elif state[0] < high_altitude:\n",
    "        # penalize low altitude\n",
    "        reward = -low_alt_cost\n",
    "    else:\n",
    "        reward = -high_alt_cost\n",
    "    return reward"
   ]
  },
  {
   "cell_type": "code",
   "execution_count": 229,
   "metadata": {
    "ExecuteTime": {
     "end_time": "2019-03-27T15:26:27.801321Z",
     "start_time": "2019-03-27T15:26:27.795196Z"
    }
   },
   "outputs": [],
   "source": [
    "#actions = [(1,0), (-1,0), (0,1), (0,-1)]\n",
    "actions = [(1,0), (-1,0), (0,1), (0,-1), (1,1), (-1,-1), (1,-1), (-1,1)]"
   ]
  },
  {
   "cell_type": "code",
   "execution_count": 230,
   "metadata": {
    "ExecuteTime": {
     "end_time": "2019-03-27T15:26:27.964279Z",
     "start_time": "2019-03-27T15:26:27.956755Z"
    }
   },
   "outputs": [],
   "source": [
    "states = [(i,j) for i in range(HEIGHT) for j in range(WIDTH)]"
   ]
  },
  {
   "cell_type": "code",
   "execution_count": 231,
   "metadata": {
    "ExecuteTime": {
     "end_time": "2019-03-27T15:26:28.171767Z",
     "start_time": "2019-03-27T15:26:28.167785Z"
    }
   },
   "outputs": [],
   "source": [
    "def valid_state(state):\n",
    "    return (state[0] >=0) and (state[0] < HEIGHT) and (state[1] >=0) and (state[1] < WIDTH) "
   ]
  },
  {
   "cell_type": "code",
   "execution_count": 232,
   "metadata": {
    "ExecuteTime": {
     "end_time": "2019-03-27T15:26:28.375267Z",
     "start_time": "2019-03-27T15:26:28.370218Z"
    }
   },
   "outputs": [],
   "source": [
    "def terminal_state(state):\n",
    "    return (state[0] < 0)"
   ]
  },
  {
   "cell_type": "code",
   "execution_count": 233,
   "metadata": {
    "ExecuteTime": {
     "end_time": "2019-03-27T15:26:28.582349Z",
     "start_time": "2019-03-27T15:26:28.578621Z"
    }
   },
   "outputs": [],
   "source": [
    "def move(state, action):\n",
    "    return tuple(np.array(state) + np.array(action))"
   ]
  },
  {
   "cell_type": "code",
   "execution_count": 234,
   "metadata": {
    "ExecuteTime": {
     "end_time": "2019-03-27T15:26:28.809288Z",
     "start_time": "2019-03-27T15:26:28.803890Z"
    }
   },
   "outputs": [],
   "source": [
    "def valid_action(state, action):\n",
    "    new_state = move(state, action)\n",
    "    return valid_state(new_state) or terminal_state(new_state)"
   ]
  },
  {
   "cell_type": "markdown",
   "metadata": {},
   "source": [
    "## Value iteration"
   ]
  },
  {
   "cell_type": "code",
   "execution_count": 302,
   "metadata": {
    "ExecuteTime": {
     "end_time": "2019-03-27T15:38:36.474536Z",
     "start_time": "2019-03-27T15:38:36.465049Z"
    }
   },
   "outputs": [],
   "source": [
    "def show_value(V, cmap = \"jet\", scale = 20):\n",
    "    max_dimension = max(HEIGHT, WIDTH)\n",
    "    plt.figure(figsize=(scale * HEIGHT / max_dimension,scale * WIDTH / max_dimension))\n",
    "    plt.imshow(np.flip(V, axis = 0), cmap, vmin = WORST_REWARD, vmax = BEST_REWARD)\n",
    "    plt.axis('off')\n",
    "    plt.show()"
   ]
  },
  {
   "cell_type": "code",
   "execution_count": 303,
   "metadata": {
    "ExecuteTime": {
     "end_time": "2019-03-27T15:38:37.055847Z",
     "start_time": "2019-03-27T15:38:37.029244Z"
    }
   },
   "outputs": [],
   "source": [
    "def value_iteration_synchronous(gamma, tol, max_iter):\n",
    "    '''\n",
    "    gamma: float\n",
    "        discount factor\n",
    "    tol: float\n",
    "        tolerance for convergence\n",
    "    max_iter: float\n",
    "        max number of iterations\n",
    "    '''\n",
    "    # Randomly initialize V\n",
    "    V = np.zeros((HEIGHT, WIDTH))\n",
    "    error = np.inf\n",
    "    iteration = 0\n",
    "    \n",
    "    while error > tol:\n",
    "\n",
    "        new_V = np.zeros((HEIGHT, WIDTH))\n",
    "        for state in states:\n",
    "            max_value = np.NINF\n",
    "            for action in actions:\n",
    "                \n",
    "                #Move with action\n",
    "                new_state = move(state, action)\n",
    "                \n",
    "                # Get reward\n",
    "                if valid_state(new_state):\n",
    "                    value = get_reward(new_state) + gamma * V[new_state]\n",
    "                \n",
    "                # Get reward\n",
    "                elif terminal_state(new_state):\n",
    "                    value = get_reward(new_state)\n",
    "                \n",
    "                \n",
    "                else:\n",
    "                    value = np.NINF\n",
    "                \n",
    "                if value > max_value:\n",
    "                    max_value = value\n",
    "            \n",
    "            new_V[state] = max_value\n",
    "        \n",
    "        error = np.max(np.abs(new_V - V))\n",
    "        V = new_V\n",
    "        iteration += 1\n",
    "        \n",
    "        if iteration >= max_iter:\n",
    "            break\n",
    "    \n",
    "    return V"
   ]
  },
  {
   "cell_type": "code",
   "execution_count": 304,
   "metadata": {
    "ExecuteTime": {
     "end_time": "2019-03-27T15:38:37.504727Z",
     "start_time": "2019-03-27T15:38:37.477956Z"
    }
   },
   "outputs": [],
   "source": [
    "def value_iteration_asynchronous(gamma, tol, max_iter):\n",
    "    '''\n",
    "    gamma: float\n",
    "        discount factor\n",
    "    tol: float\n",
    "        tolerance for convergence\n",
    "    max_iter: float\n",
    "        max number of iterations\n",
    "    '''\n",
    "    V = np.zeros((HEIGHT, WIDTH))\n",
    "    error = np.inf\n",
    "    iteration = 0\n",
    "    \n",
    "    while error > tol:\n",
    "        \n",
    "        error = 0\n",
    "        \n",
    "        for state in states:\n",
    "            max_value = np.NINF\n",
    "            \n",
    "            for action in actions:\n",
    "                new_state = move(state, action)\n",
    "                \n",
    "                if valid_state(new_state):\n",
    "                    value = get_reward(new_state) + gamma * V[new_state]\n",
    "                \n",
    "                elif terminal_state(new_state):\n",
    "                    value = get_reward(new_state)\n",
    "                \n",
    "                else:\n",
    "                    value = np.NINF\n",
    "                \n",
    "                if value > max_value:\n",
    "                    max_value = value\n",
    "            \n",
    "            error_ = np.abs(max_value - V[state])\n",
    "            \n",
    "            # if error_ < error:\n",
    "            if error_ > error:\n",
    "                error = error_\n",
    "            \n",
    "            # Update V directly\n",
    "            V[state] = max_value\n",
    "        \n",
    "        iteration += 1\n",
    "        \n",
    "        if iteration >= max_iter:\n",
    "            break\n",
    "    \n",
    "    return V"
   ]
  },
  {
   "cell_type": "code",
   "execution_count": 305,
   "metadata": {
    "ExecuteTime": {
     "end_time": "2019-03-27T15:38:38.070110Z",
     "start_time": "2019-03-27T15:38:38.063305Z"
    }
   },
   "outputs": [],
   "source": [
    "def value_iteration(asynchronous = True, gamma = 1, tol = 1e-10, max_iter = 50):\n",
    "    '''\n",
    "    asynchronous: bool\n",
    "        if True, asynchronous updates\n",
    "    gamma: float\n",
    "        discount factor\n",
    "    tol: float\n",
    "        tolerance for convergence\n",
    "    max_iter: float\n",
    "        max number of iterations\n",
    "    '''\n",
    "    if asynchronous:\n",
    "        return value_iteration_asynchronous(gamma, tol, max_iter)\n",
    "    else:\n",
    "        return value_iteration_synchronous(gamma, tol, max_iter)"
   ]
  },
  {
   "cell_type": "code",
   "execution_count": 306,
   "metadata": {
    "ExecuteTime": {
     "end_time": "2019-03-27T15:38:38.613129Z",
     "start_time": "2019-03-27T15:38:38.609403Z"
    }
   },
   "outputs": [],
   "source": [
    "V = np.zeros((HEIGHT, WIDTH))"
   ]
  },
  {
   "cell_type": "code",
   "execution_count": 307,
   "metadata": {
    "ExecuteTime": {
     "end_time": "2019-03-27T15:38:39.696561Z",
     "start_time": "2019-03-27T15:38:39.350620Z"
    }
   },
   "outputs": [
    {
     "data": {
      "image/png": "[encoded data removed]",
      "text/plain": [
       "<Figure size 720x1440 with 1 Axes>"
      ]
     },
     "metadata": {},
     "output_type": "display_data"
    }
   ],
   "source": [
    "show_value(V)"
   ]
  },
  {
   "cell_type": "markdown",
   "metadata": {},
   "source": [
    "### Asynchronous "
   ]
  },
  {
   "cell_type": "code",
   "execution_count": 310,
   "metadata": {
    "ExecuteTime": {
     "end_time": "2019-03-27T15:38:46.142298Z",
     "start_time": "2019-03-27T15:38:45.934551Z"
    },
    "scrolled": true
   },
   "outputs": [],
   "source": [
    "V = value_iteration(max_iter=300, asynchronous=True)"
   ]
  },
  {
   "cell_type": "code",
   "execution_count": 312,
   "metadata": {
    "ExecuteTime": {
     "end_time": "2019-03-27T15:38:54.147654Z",
     "start_time": "2019-03-27T15:38:53.759806Z"
    },
    "scrolled": true
   },
   "outputs": [
    {
     "data": {
      "image/png": "[encoded data removed]",
      "text/plain": [
       "<Figure size 720x1440 with 1 Axes>"
      ]
     },
     "metadata": {},
     "output_type": "display_data"
    }
   ],
   "source": [
    "show_value(V)"
   ]
  },
  {
   "cell_type": "markdown",
   "metadata": {},
   "source": [
    "### Synchronous "
   ]
  },
  {
   "cell_type": "code",
   "execution_count": 313,
   "metadata": {
    "ExecuteTime": {
     "end_time": "2019-03-27T15:38:54.966273Z",
     "start_time": "2019-03-27T15:38:54.733068Z"
    }
   },
   "outputs": [],
   "source": [
    "V = value_iteration(max_iter=30, asynchronous=False)"
   ]
  },
  {
   "cell_type": "code",
   "execution_count": 314,
   "metadata": {
    "ExecuteTime": {
     "end_time": "2019-03-27T15:38:55.672974Z",
     "start_time": "2019-03-27T15:38:55.241074Z"
    }
   },
   "outputs": [
    {
     "data": {
      "image/png": "[encoded data removed]",
      "text/plain": [
       "<Figure size 720x1440 with 1 Axes>"
      ]
     },
     "metadata": {},
     "output_type": "display_data"
    }
   ],
   "source": [
    "show_value(V)"
   ]
  },
  {
   "cell_type": "markdown",
   "metadata": {},
   "source": [
    "### Show path"
   ]
  },
  {
   "cell_type": "code",
   "execution_count": 315,
   "metadata": {
    "ExecuteTime": {
     "end_time": "2019-03-27T15:38:57.043169Z",
     "start_time": "2019-03-27T15:38:56.977275Z"
    }
   },
   "outputs": [],
   "source": [
    "def best_policy(V, gamma = 1):\n",
    "    \n",
    "    # Fill this matrix with best policy\n",
    "    policy = np.zeros((HEIGHT, WIDTH), dtype=tuple)\n",
    "    \n",
    "    # For each state\n",
    "    for state in states:\n",
    "        \n",
    "        max_value = np.NINF\n",
    "        \n",
    "        for action in actions:\n",
    "            new_state = move(state, action)\n",
    "            \n",
    "            if valid_state(new_state):\n",
    "                value = get_reward(new_state) + gamma * V[new_state]\n",
    "            \n",
    "            elif terminal_state(new_state):\n",
    "                value = get_reward(new_state)\n",
    "            \n",
    "            else:\n",
    "                value = np.NINF\n",
    "            \n",
    "            if value > max_value:\n",
    "                max_value = value\n",
    "                best_action = action\n",
    "        \n",
    "        # Update the policy state\n",
    "        policy[state] = best_action\n",
    "    \n",
    "    return policy"
   ]
  },
  {
   "cell_type": "code",
   "execution_count": 317,
   "metadata": {
    "ExecuteTime": {
     "end_time": "2019-03-27T15:42:14.488117Z",
     "start_time": "2019-03-27T15:42:14.467527Z"
    }
   },
   "outputs": [],
   "source": [
    "policy = best_policy(V)"
   ]
  },
  {
   "cell_type": "code",
   "execution_count": 319,
   "metadata": {
    "ExecuteTime": {
     "end_time": "2019-03-27T15:46:38.475138Z",
     "start_time": "2019-03-27T15:46:38.464637Z"
    }
   },
   "outputs": [],
   "source": [
    "def get_path(policy, state = (0, 0)):\n",
    "    path = []\n",
    "    while not(terminal_state(state)) and state not in path:\n",
    "        path.append(state)\n",
    "        action = policy[state]\n",
    "        state = move(state, action)\n",
    "    return path"
   ]
  },
  {
   "cell_type": "code",
   "execution_count": 320,
   "metadata": {
    "ExecuteTime": {
     "end_time": "2019-03-27T15:46:39.558982Z",
     "start_time": "2019-03-27T15:46:39.553572Z"
    }
   },
   "outputs": [],
   "source": [
    "path = get_path(policy)"
   ]
  },
  {
   "cell_type": "code",
   "execution_count": 321,
   "metadata": {
    "ExecuteTime": {
     "end_time": "2019-03-27T15:47:53.372944Z",
     "start_time": "2019-03-27T15:47:53.363759Z"
    }
   },
   "outputs": [],
   "source": [
    "def show_path(path, scale = 20, cmap = \"Greys\"):\n",
    "    max_dimension = max(HEIGHT, WIDTH)\n",
    "    plt.figure(figsize=(scale * HEIGHT / max_dimension,scale * WIDTH / max_dimension))\n",
    "    P = np.zeros((HEIGHT, WIDTH))\n",
    "    for i,j in path:\n",
    "        P[i,j] = 1\n",
    "    plt.imshow(np.flip(P, axis = 0),cmap, vmin = 0, vmax = 1)\n",
    "    plt.xticks([], [])\n",
    "    plt.yticks([], [])\n",
    "    plt.show()"
   ]
  },
  {
   "cell_type": "code",
   "execution_count": 322,
   "metadata": {
    "ExecuteTime": {
     "end_time": "2019-03-27T15:47:55.127902Z",
     "start_time": "2019-03-27T15:47:54.763133Z"
    }
   },
   "outputs": [
    {
     "data": {
      "image/png": "[encoded data removed]",
      "text/plain": [
       "<Figure size 720x1440 with 1 Axes>"
      ]
     },
     "metadata": {},
     "output_type": "display_data"
    }
   ],
   "source": [
    "show_path(path)"
   ]
  },
  {
   "cell_type": "markdown",
   "metadata": {},
   "source": [
    "## Policy iteration"
   ]
  },
  {
   "cell_type": "code",
   "execution_count": 358,
   "metadata": {
    "ExecuteTime": {
     "end_time": "2019-03-27T16:08:07.622103Z",
     "start_time": "2019-03-27T16:08:07.616376Z"
    }
   },
   "outputs": [],
   "source": [
    "def init_random_policy():\n",
    "    policy = np.zeros((HEIGHT, WIDTH), dtype=tuple)\n",
    "    for state in states:\n",
    "        valid_actions = [action for action in actions if valid_action(state, action)]\n",
    "        policy[state] = valid_actions[np.random.choice(len(valid_actions))]\n",
    "    return policy"
   ]
  },
  {
   "cell_type": "code",
   "execution_count": 359,
   "metadata": {
    "ExecuteTime": {
     "end_time": "2019-03-27T16:08:08.463663Z",
     "start_time": "2019-03-27T16:08:08.445493Z"
    }
   },
   "outputs": [],
   "source": [
    "def policy_evaluation_synchronous(policy, gamma, tol, max_iter):\n",
    "    '''\n",
    "    gamma: float\n",
    "        discount factor\n",
    "    tol: float\n",
    "        tolerance for convergence\n",
    "    max_iter: float\n",
    "        max number of iterations\n",
    "    '''\n",
    "    V = np.zeros((HEIGHT, WIDTH))\n",
    "    error = np.inf\n",
    "    iteration = 0\n",
    "    while error > tol:\n",
    "        new_V = np.zeros((HEIGHT, WIDTH))\n",
    "        for state in states:\n",
    "            action = policy[state]\n",
    "            new_state = move(state, action)\n",
    "            if valid_state(new_state):\n",
    "                value = get_reward(new_state) + gamma * V[new_state]\n",
    "            elif terminal_state(new_state):\n",
    "                value = get_reward(new_state)\n",
    "            new_V[state] = value\n",
    "        error = np.max(np.abs(new_V - V))\n",
    "        V = new_V\n",
    "        iteration += 1\n",
    "        if iteration >= max_iter:\n",
    "            break\n",
    "    return V"
   ]
  },
  {
   "cell_type": "code",
   "execution_count": 360,
   "metadata": {
    "ExecuteTime": {
     "end_time": "2019-03-27T16:08:08.851303Z",
     "start_time": "2019-03-27T16:08:08.835764Z"
    }
   },
   "outputs": [],
   "source": [
    "def policy_evaluation_asynchronous(policy, gamma, tol, max_iter):\n",
    "    '''\n",
    "    gamma: float\n",
    "        discount factor\n",
    "    tol: float\n",
    "        tolerance for convergence\n",
    "    max_iter: float\n",
    "        max number of iterations\n",
    "    '''\n",
    "    V = np.zeros((HEIGHT, WIDTH))\n",
    "    error = np.inf\n",
    "    iteration = 0\n",
    "    while error > tol:\n",
    "        for state in states:\n",
    "            action = policy[state]\n",
    "            new_state = move(state, action)\n",
    "            if valid_state(new_state):\n",
    "                value = get_reward(new_state) + gamma * V[new_state]\n",
    "            elif terminal_state(new_state):\n",
    "                value = get_reward(new_state)\n",
    "            error_ = np.abs(value - V[state])\n",
    "            if error_ > error:\n",
    "                error = error_\n",
    "            V[state] = value\n",
    "        iteration += 1\n",
    "        if iteration >= max_iter:\n",
    "            break\n",
    "    return V"
   ]
  },
  {
   "cell_type": "code",
   "execution_count": 361,
   "metadata": {
    "ExecuteTime": {
     "end_time": "2019-03-27T16:08:09.178245Z",
     "start_time": "2019-03-27T16:08:09.171531Z"
    }
   },
   "outputs": [],
   "source": [
    "def policy_evaluation(policy, asynchronous = True, gamma = 1, tol = 1e-2, max_iter = 100):\n",
    "    '''\n",
    "    asynchronous: bool\n",
    "        if True, asynchronous updates\n",
    "    gamma: float\n",
    "        discount factor\n",
    "    tol: float\n",
    "        tolerance for convergence\n",
    "    max_iter: float\n",
    "        max number of iterations\n",
    "    '''\n",
    "    if asynchronous:\n",
    "        return policy_evaluation_asynchronous(policy, gamma, tol, max_iter)\n",
    "    else:\n",
    "        return policy_evaluation_synchronous(policy, gamma, tol, max_iter)"
   ]
  },
  {
   "cell_type": "code",
   "execution_count": 362,
   "metadata": {
    "ExecuteTime": {
     "end_time": "2019-03-27T16:08:10.008552Z",
     "start_time": "2019-03-27T16:08:09.994057Z"
    },
    "scrolled": true
   },
   "outputs": [],
   "source": [
    "policy = init_random_policy()"
   ]
  },
  {
   "cell_type": "code",
   "execution_count": 363,
   "metadata": {
    "ExecuteTime": {
     "end_time": "2019-03-27T16:08:10.600551Z",
     "start_time": "2019-03-27T16:08:10.282208Z"
    },
    "scrolled": true
   },
   "outputs": [
    {
     "data": {
      "image/png": "[encoded data removed]",
      "text/plain": [
       "<Figure size 720x1440 with 1 Axes>"
      ]
     },
     "metadata": {},
     "output_type": "display_data"
    }
   ],
   "source": [
    "show_path(get_path(policy))"
   ]
  },
  {
   "cell_type": "code",
   "execution_count": 364,
   "metadata": {
    "ExecuteTime": {
     "end_time": "2019-03-27T16:08:11.337977Z",
     "start_time": "2019-03-27T16:08:10.668626Z"
    },
    "scrolled": false
   },
   "outputs": [
    {
     "data": {
      "image/png": "[encoded data removed]",
      "text/plain": [
       "<Figure size 720x1440 with 1 Axes>"
      ]
     },
     "metadata": {},
     "output_type": "display_data"
    }
   ],
   "source": [
    "V = policy_evaluation(policy)\n",
    "show_value(V)"
   ]
  },
  {
   "cell_type": "code",
   "execution_count": 365,
   "metadata": {
    "ExecuteTime": {
     "end_time": "2019-03-27T16:08:11.359503Z",
     "start_time": "2019-03-27T16:08:11.341646Z"
    },
    "scrolled": true
   },
   "outputs": [],
   "source": [
    "policy = best_policy(V)"
   ]
  },
  {
   "cell_type": "code",
   "execution_count": 366,
   "metadata": {
    "ExecuteTime": {
     "end_time": "2019-03-27T16:08:11.851700Z",
     "start_time": "2019-03-27T16:08:11.522234Z"
    },
    "scrolled": true
   },
   "outputs": [
    {
     "data": {
      "image/png": "[encoded data removed]",
      "text/plain": [
       "<Figure size 720x1440 with 1 Axes>"
      ]
     },
     "metadata": {},
     "output_type": "display_data"
    }
   ],
   "source": [
    "show_path(get_path(policy, state = (0,15)))"
   ]
  },
  {
   "cell_type": "code",
   "execution_count": 367,
   "metadata": {
    "ExecuteTime": {
     "end_time": "2019-03-27T16:08:15.720760Z",
     "start_time": "2019-03-27T16:08:12.043440Z"
    }
   },
   "outputs": [
    {
     "data": {
      "image/png": "[encoded data removed]",
      "text/plain": [
       "<Figure size 720x1440 with 1 Axes>"
      ]
     },
     "metadata": {},
     "output_type": "display_data"
    }
   ],
   "source": [
    "# Policy iteration\n",
    "for i in range(20):\n",
    "    V = policy_evaluation(policy)\n",
    "    policy = best_policy(V)\n",
    "    \n",
    "show_path(get_path(policy))"
   ]
  },
  {
   "cell_type": "markdown",
   "metadata": {},
   "source": [
    "## SARSA"
   ]
  },
  {
   "cell_type": "markdown",
   "metadata": {},
   "source": [
    "Online learning. On-policy (behaviour = target)."
   ]
  },
  {
   "cell_type": "code",
   "execution_count": 368,
   "metadata": {
    "ExecuteTime": {
     "end_time": "2019-03-27T16:08:15.738173Z",
     "start_time": "2019-03-27T16:08:15.723872Z"
    }
   },
   "outputs": [],
   "source": [
    "state_actions = [(state, action) for state in states for action in actions\n",
    "                 if valid_action(state, action)]"
   ]
  },
  {
   "cell_type": "code",
   "execution_count": 369,
   "metadata": {
    "ExecuteTime": {
     "end_time": "2019-03-27T16:08:15.745951Z",
     "start_time": "2019-03-27T16:08:15.741525Z"
    }
   },
   "outputs": [],
   "source": [
    "Q = {(state, action): 0 for (state, action) in state_actions}"
   ]
  },
  {
   "cell_type": "code",
   "execution_count": 370,
   "metadata": {
    "ExecuteTime": {
     "end_time": "2019-03-27T16:08:15.756258Z",
     "start_time": "2019-03-27T16:08:15.749551Z"
    }
   },
   "outputs": [],
   "source": [
    "def get_action(state, policy, eps = 0.1):\n",
    "    '''\n",
    "    eps: float\n",
    "        Parameter of the epsilon-greedy policy\n",
    "        Controls the exploration (eps = 0 means no exploration)\n",
    "    '''\n",
    "    if np.random.random() < eps:\n",
    "        valid_actions = [action for action in actions if valid_action(state, action)]\n",
    "        return valid_actions[np.random.choice(len(valid_actions))]\n",
    "    else:\n",
    "        return policy[state]    "
   ]
  },
  {
   "cell_type": "code",
   "execution_count": 371,
   "metadata": {
    "ExecuteTime": {
     "end_time": "2019-03-27T16:08:15.814804Z",
     "start_time": "2019-03-27T16:08:15.779027Z"
    }
   },
   "outputs": [],
   "source": [
    "def sarsa(alpha = 0.9, gamma = 1, max_sequence = 200, steps = 10000, \n",
    "          verbose = True, batch = 10**3):\n",
    "    policy = init_random_policy()\n",
    "    Q = {(state, action): 0 for (state, action) in state_actions}\n",
    "    for t in range(steps):\n",
    "        if verbose:\n",
    "            if t%batch == 0:\n",
    "                print('Batch ',str(t // batch + 1),' over ',str(steps // batch))\n",
    "        # start an episode\n",
    "        state = states[np.random.choice(len(states))]\n",
    "        action = get_action(state, policy)\n",
    "        sequence = []\n",
    "        while not(terminal_state(state)) and len(sequence) < max_sequence:\n",
    "            sequence.append(state)\n",
    "            new_state = move(state, action)\n",
    "            reward = get_reward(new_state)\n",
    "            new_action = get_action(new_state, policy)\n",
    "            if terminal_state(new_state):\n",
    "                Q[(state, action)] += alpha * (reward - Q[(state, action)])\n",
    "            else:\n",
    "                Q[(state, action)] += alpha * (reward + gamma * Q[(new_state, new_action)] \n",
    "                                               - Q[(state, action)])\n",
    "            state = new_state\n",
    "            action = new_action\n",
    "        # update policy\n",
    "        for state in sequence:\n",
    "            qvalues = {a: Q[(state, a)] for a in actions if valid_action(state, a)}\n",
    "            policy[state] = max(qvalues, key = qvalues.get)\n",
    "    return policy"
   ]
  },
  {
   "cell_type": "code",
   "execution_count": 372,
   "metadata": {
    "ExecuteTime": {
     "end_time": "2019-03-27T16:08:16.887256Z",
     "start_time": "2019-03-27T16:08:16.492225Z"
    },
    "scrolled": true
   },
   "outputs": [
    {
     "name": "stdout",
     "output_type": "stream",
     "text": [
      "Batch  1  over  10\n"
     ]
    },
    {
     "ename": "IndexError",
     "evalue": "index 20 is out of bounds for axis 1 with size 20",
     "output_type": "error",
     "traceback": [
      "\u001b[0;31m---------------------------------------------------------------------------\u001b[0m",
      "\u001b[0;31mIndexError\u001b[0m                                Traceback (most recent call last)",
      "\u001b[0;32m<ipython-input-372-0508fd4bdd56>\u001b[0m in \u001b[0;36m<module>\u001b[0;34m()\u001b[0m\n\u001b[0;32m----> 1\u001b[0;31m \u001b[0msarsa_policy\u001b[0m \u001b[0;34m=\u001b[0m \u001b[0msarsa\u001b[0m\u001b[0;34m(\u001b[0m\u001b[0mgamma\u001b[0m \u001b[0;34m=\u001b[0m \u001b[0;36m1\u001b[0m\u001b[0;34m)\u001b[0m\u001b[0;34m\u001b[0m\u001b[0m\n\u001b[0m",
      "\u001b[0;32m<ipython-input-371-c1085ef92c10>\u001b[0m in \u001b[0;36msarsa\u001b[0;34m(alpha, gamma, max_sequence, steps, verbose, batch)\u001b[0m\n\u001b[1;32m     15\u001b[0m             \u001b[0mnew_state\u001b[0m \u001b[0;34m=\u001b[0m \u001b[0mmove\u001b[0m\u001b[0;34m(\u001b[0m\u001b[0mstate\u001b[0m\u001b[0;34m,\u001b[0m \u001b[0maction\u001b[0m\u001b[0;34m)\u001b[0m\u001b[0;34m\u001b[0m\u001b[0m\n\u001b[1;32m     16\u001b[0m             \u001b[0mreward\u001b[0m \u001b[0;34m=\u001b[0m \u001b[0mget_reward\u001b[0m\u001b[0;34m(\u001b[0m\u001b[0mnew_state\u001b[0m\u001b[0;34m)\u001b[0m\u001b[0;34m\u001b[0m\u001b[0m\n\u001b[0;32m---> 17\u001b[0;31m             \u001b[0mnew_action\u001b[0m \u001b[0;34m=\u001b[0m \u001b[0mget_action\u001b[0m\u001b[0;34m(\u001b[0m\u001b[0mnew_state\u001b[0m\u001b[0;34m,\u001b[0m \u001b[0mpolicy\u001b[0m\u001b[0;34m)\u001b[0m\u001b[0;34m\u001b[0m\u001b[0m\n\u001b[0m\u001b[1;32m     18\u001b[0m             \u001b[0;32mif\u001b[0m \u001b[0mterminal_state\u001b[0m\u001b[0;34m(\u001b[0m\u001b[0mnew_state\u001b[0m\u001b[0;34m)\u001b[0m\u001b[0;34m:\u001b[0m\u001b[0;34m\u001b[0m\u001b[0m\n\u001b[1;32m     19\u001b[0m                 \u001b[0mQ\u001b[0m\u001b[0;34m[\u001b[0m\u001b[0;34m(\u001b[0m\u001b[0mstate\u001b[0m\u001b[0;34m,\u001b[0m \u001b[0maction\u001b[0m\u001b[0;34m)\u001b[0m\u001b[0;34m]\u001b[0m \u001b[0;34m+=\u001b[0m \u001b[0malpha\u001b[0m \u001b[0;34m*\u001b[0m \u001b[0;34m(\u001b[0m\u001b[0mreward\u001b[0m \u001b[0;34m-\u001b[0m \u001b[0mQ\u001b[0m\u001b[0;34m[\u001b[0m\u001b[0;34m(\u001b[0m\u001b[0mstate\u001b[0m\u001b[0;34m,\u001b[0m \u001b[0maction\u001b[0m\u001b[0;34m)\u001b[0m\u001b[0;34m]\u001b[0m\u001b[0;34m)\u001b[0m\u001b[0;34m\u001b[0m\u001b[0m\n",
      "\u001b[0;32m<ipython-input-370-921e5e7765f7>\u001b[0m in \u001b[0;36mget_action\u001b[0;34m(state, policy, eps)\u001b[0m\n\u001b[1;32m      9\u001b[0m         \u001b[0;32mreturn\u001b[0m \u001b[0mvalid_actions\u001b[0m\u001b[0;34m[\u001b[0m\u001b[0mnp\u001b[0m\u001b[0;34m.\u001b[0m\u001b[0mrandom\u001b[0m\u001b[0;34m.\u001b[0m\u001b[0mchoice\u001b[0m\u001b[0;34m(\u001b[0m\u001b[0mlen\u001b[0m\u001b[0;34m(\u001b[0m\u001b[0mvalid_actions\u001b[0m\u001b[0;34m)\u001b[0m\u001b[0;34m)\u001b[0m\u001b[0;34m]\u001b[0m\u001b[0;34m\u001b[0m\u001b[0m\n\u001b[1;32m     10\u001b[0m     \u001b[0;32melse\u001b[0m\u001b[0;34m:\u001b[0m\u001b[0;34m\u001b[0m\u001b[0m\n\u001b[0;32m---> 11\u001b[0;31m         \u001b[0;32mreturn\u001b[0m \u001b[0mpolicy\u001b[0m\u001b[0;34m[\u001b[0m\u001b[0mstate\u001b[0m\u001b[0;34m]\u001b[0m\u001b[0;34m\u001b[0m\u001b[0m\n\u001b[0m",
      "\u001b[0;31mIndexError\u001b[0m: index 20 is out of bounds for axis 1 with size 20"
     ]
    }
   ],
   "source": [
    "sarsa_policy = sarsa(gamma = 1)"
   ]
  },
  {
   "cell_type": "code",
   "execution_count": 373,
   "metadata": {
    "ExecuteTime": {
     "end_time": "2019-03-27T16:15:30.258770Z",
     "start_time": "2019-03-27T16:15:30.245968Z"
    }
   },
   "outputs": [
    {
     "ename": "NameError",
     "evalue": "name 'sarsa_policy' is not defined",
     "output_type": "error",
     "traceback": [
      "\u001b[0;31m---------------------------------------------------------------------------\u001b[0m",
      "\u001b[0;31mNameError\u001b[0m                                 Traceback (most recent call last)",
      "\u001b[0;32m<ipython-input-373-8ac0a21cdc79>\u001b[0m in \u001b[0;36m<module>\u001b[0;34m()\u001b[0m\n\u001b[0;32m----> 1\u001b[0;31m \u001b[0mV\u001b[0m \u001b[0;34m=\u001b[0m \u001b[0mpolicy_evaluation\u001b[0m\u001b[0;34m(\u001b[0m\u001b[0msarsa_policy\u001b[0m\u001b[0;34m,\u001b[0m \u001b[0mgamma\u001b[0m\u001b[0;34m=\u001b[0m\u001b[0;36m0.9\u001b[0m\u001b[0;34m)\u001b[0m\u001b[0;34m\u001b[0m\u001b[0m\n\u001b[0m\u001b[1;32m      2\u001b[0m \u001b[0mshow_value\u001b[0m\u001b[0;34m(\u001b[0m\u001b[0mV\u001b[0m\u001b[0;34m)\u001b[0m\u001b[0;34m\u001b[0m\u001b[0m\n",
      "\u001b[0;31mNameError\u001b[0m: name 'sarsa_policy' is not defined"
     ]
    }
   ],
   "source": [
    "V = policy_evaluation(sarsa_policy, gamma=0.9)\n",
    "show_value(V)"
   ]
  },
  {
   "cell_type": "code",
   "execution_count": 374,
   "metadata": {
    "ExecuteTime": {
     "end_time": "2019-03-27T16:15:30.752518Z",
     "start_time": "2019-03-27T16:15:30.741822Z"
    }
   },
   "outputs": [
    {
     "ename": "NameError",
     "evalue": "name 'sarsa_policy' is not defined",
     "output_type": "error",
     "traceback": [
      "\u001b[0;31m---------------------------------------------------------------------------\u001b[0m",
      "\u001b[0;31mNameError\u001b[0m                                 Traceback (most recent call last)",
      "\u001b[0;32m<ipython-input-374-910504286951>\u001b[0m in \u001b[0;36m<module>\u001b[0;34m()\u001b[0m\n\u001b[0;32m----> 1\u001b[0;31m \u001b[0mshow_path\u001b[0m\u001b[0;34m(\u001b[0m\u001b[0mget_path\u001b[0m\u001b[0;34m(\u001b[0m\u001b[0msarsa_policy\u001b[0m\u001b[0;34m)\u001b[0m\u001b[0;34m)\u001b[0m\u001b[0;34m\u001b[0m\u001b[0m\n\u001b[0m",
      "\u001b[0;31mNameError\u001b[0m: name 'sarsa_policy' is not defined"
     ]
    }
   ],
   "source": [
    "show_path(get_path(sarsa_policy))"
   ]
  },
  {
   "cell_type": "markdown",
   "metadata": {},
   "source": [
    "## Q-learning"
   ]
  },
  {
   "cell_type": "markdown",
   "metadata": {},
   "source": [
    "Online learning. Off-policy (behaviour $\\ne$ target)."
   ]
  },
  {
   "cell_type": "code",
   "execution_count": 351,
   "metadata": {
    "ExecuteTime": {
     "end_time": "2019-03-27T16:05:48.248706Z",
     "start_time": "2019-03-27T16:05:48.221804Z"
    }
   },
   "outputs": [],
   "source": [
    "def qlearning(alpha = 0.9, gamma = 1, max_sequence = 100, steps = 10**4, \n",
    "              verbose = True, batch = 10**3):\n",
    "    policy = init_random_policy()\n",
    "    Q = {(state, action): 0 for (state, action) in state_actions}\n",
    "    for t in range(steps):\n",
    "        if verbose:\n",
    "            if t%batch == 0:\n",
    "                print('Batch ',str(t // batch + 1),' over ',str(steps // batch))\n",
    "        # start an episode\n",
    "        state = states[np.random.choice(len(states))]\n",
    "        sequence = []\n",
    "        while not(terminal_state(state)) and len(sequence) < max_sequence:\n",
    "            sequence.append(state)\n",
    "            action = get_action(state, policy)\n",
    "            new_state = move(state, action)\n",
    "            reward = get_reward(new_state)\n",
    "            if terminal_state(new_state):\n",
    "                Q[(state, action)] += alpha * (reward - Q[(state, action)])\n",
    "            else:\n",
    "                qvalues = [Q[(new_state, a)] for a in actions if valid_action(new_state, a)]\n",
    "                Q[(state, action)] += alpha * (reward + gamma * np.max(np.array(qvalues))\n",
    "                                               - Q[(state, action)]) \n",
    "            state = new_state\n",
    "        # update policy\n",
    "        for state in sequence:\n",
    "            qvalues = {a: Q[(state, a)] for a in actions if valid_action(state, a)}\n",
    "            policy[state] = max(qvalues, key = qvalues.get)\n",
    "    return policy"
   ]
  },
  {
   "cell_type": "code",
   "execution_count": 352,
   "metadata": {
    "ExecuteTime": {
     "end_time": "2019-03-27T16:06:04.132178Z",
     "start_time": "2019-03-27T16:05:48.808637Z"
    },
    "scrolled": false
   },
   "outputs": [
    {
     "name": "stdout",
     "output_type": "stream",
     "text": [
      "Batch  1  over  10\n",
      "Batch  2  over  10\n",
      "Batch  3  over  10\n",
      "Batch  4  over  10\n",
      "Batch  5  over  10\n",
      "Batch  6  over  10\n",
      "Batch  7  over  10\n",
      "Batch  8  over  10\n",
      "Batch  9  over  10\n",
      "Batch  10  over  10\n"
     ]
    }
   ],
   "source": [
    "qlearning_policy = qlearning(gamma = 0.9)"
   ]
  },
  {
   "cell_type": "code",
   "execution_count": 353,
   "metadata": {
    "ExecuteTime": {
     "end_time": "2019-03-27T16:06:04.666731Z",
     "start_time": "2019-03-27T16:06:04.134483Z"
    }
   },
   "outputs": [
    {
     "data": {
      "image/png": "[encoded data removed]",
      "text/plain": [
       "<Figure size 720x1440 with 1 Axes>"
      ]
     },
     "metadata": {},
     "output_type": "display_data"
    }
   ],
   "source": [
    "V = policy_evaluation(qlearning_policy)\n",
    "show_value(V)"
   ]
  },
  {
   "cell_type": "code",
   "execution_count": 354,
   "metadata": {
    "ExecuteTime": {
     "end_time": "2019-03-27T16:06:04.959335Z",
     "start_time": "2019-03-27T16:06:04.669756Z"
    },
    "scrolled": true
   },
   "outputs": [
    {
     "data": {
      "image/png": "[encoded data removed]",
      "text/plain": [
       "<Figure size 720x1440 with 1 Axes>"
      ]
     },
     "metadata": {},
     "output_type": "display_data"
    }
   ],
   "source": [
    "show_path(get_path(qlearning_policy))"
   ]
  },
  {
   "cell_type": "code",
   "execution_count": null,
   "metadata": {},
   "outputs": [],
   "source": []
  }
 ],
 "metadata": {
  "hide_input": false,
  "kernelspec": {
   "display_name": "Python 3",
   "language": "python",
   "name": "python3"
  },
  "language_info": {
   "codemirror_mode": {
    "name": "ipython",
    "version": 3
   },
   "file_extension": ".py",
   "mimetype": "text/x-python",
   "name": "python",
   "nbconvert_exporter": "python",
   "pygments_lexer": "ipython3",
   "version": "3.6.5"
  },
  "latex_envs": {
   "LaTeX_envs_menu_present": true,
   "autoclose": false,
   "autocomplete": true,
   "bibliofile": "biblio.bib",
   "cite_by": "apalike",
   "current_citInitial": 1,
   "eqLabelWithNumbers": true,
   "eqNumInitial": 1,
   "hotkeys": {
    "equation": "Ctrl-E",
    "itemize": "Ctrl-I"
   },
   "labels_anchors": false,
   "latex_user_defs": false,
   "report_style_numbering": false,
   "user_envs_cfg": false
  }
 },
 "nbformat": 4,
 "nbformat_minor": 2
}
