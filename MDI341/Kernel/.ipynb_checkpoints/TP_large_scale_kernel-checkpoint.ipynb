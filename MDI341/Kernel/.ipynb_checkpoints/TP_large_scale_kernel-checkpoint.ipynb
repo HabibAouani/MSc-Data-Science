{
 "cells": [
  {
   "cell_type": "markdown",
   "metadata": {},
   "source": [
    "# TP Large Scale Kernel Methods"
   ]
  },
  {
   "cell_type": "code",
   "execution_count": 18,
   "metadata": {
    "ExecuteTime": {
     "end_time": "2019-03-05T10:21:38.472015Z",
     "start_time": "2019-03-05T10:21:38.461620Z"
    }
   },
   "outputs": [],
   "source": [
    "import numpy as np\n",
    "from scipy import linalg\n",
    "import matplotlib.pyplot as plt\n",
    "plt.style.use('ggplot')\n",
    "\n",
    "from sklearn.metrics import accuracy_score\n",
    "from sklearn.model_selection import train_test_split\n",
    "from sklearn.preprocessing import StandardScaler\n",
    "from sklearn.datasets import load_svmlight_file\n",
    "\n",
    "from sklearn.svm import SVC, LinearSVC\n",
    "from time import time\n",
    "\n",
    "from scipy.sparse.linalg import svds\n",
    "from scipy.linalg import svd\n",
    "from scipy.sparse import csc_matrix\n",
    "from numpy.linalg import multi_dot\n",
    "from numpy.linalg import norm"
   ]
  },
  {
   "cell_type": "markdown",
   "metadata": {},
   "source": [
    "## Chargement et partitionnement des données"
   ]
  },
  {
   "cell_type": "code",
   "execution_count": 9,
   "metadata": {
    "ExecuteTime": {
     "end_time": "2019-03-05T10:02:36.239373Z",
     "start_time": "2019-03-05T10:02:35.360553Z"
    }
   },
   "outputs": [
    {
     "name": "stdout",
     "output_type": "stream",
     "text": [
      "Nombre d'exemples d'apprentissage: 20000\n",
      "Nombre d'exemples de test: 40000\n",
      "Nombre de features: 22\n"
     ]
    },
    {
     "name": "stderr",
     "output_type": "stream",
     "text": [
      "/anaconda3/lib/python3.6/site-packages/sklearn/model_selection/_split.py:2179: FutureWarning: From version 0.21, test_size will always complement train_size unless both are specified.\n",
      "  FutureWarning)\n"
     ]
    }
   ],
   "source": [
    "###############################################################################\n",
    "# Requires file ijcnn1.dat.gz to be present in the directory\n",
    "\n",
    "dataset_path = 'ijcnn1.dat'\n",
    "ijcnn1 = load_svmlight_file(dataset_path)\n",
    "X = ijcnn1[0].todense()\n",
    "y = ijcnn1[1]\n",
    "\n",
    "###############################################################################\n",
    "# Extract features\n",
    "\n",
    "X_train, X_test, y_train, y_test = train_test_split(X[:60000, :], y[:60000],\n",
    "                     train_size=20000, random_state=42)\n",
    "\n",
    "scaler = StandardScaler()\n",
    "X_train = scaler.fit_transform(X_train)\n",
    "X_test = scaler.transform(X_test)\n",
    "\n",
    "n1, p = X_train.shape\n",
    "n2 = X_test.shape[0]\n",
    "\n",
    "print(\"Nombre d'exemples d'apprentissage:\", n1)\n",
    "print(\"Nombre d'exemples de test:\", n2)\n",
    "print(\"Nombre de features:\", p)"
   ]
  },
  {
   "cell_type": "markdown",
   "metadata": {},
   "source": [
    "## Question 1"
   ]
  },
  {
   "cell_type": "markdown",
   "metadata": {},
   "source": [
    "On va fitter nos données d'apprentissage avec un SVM linéaire et un SVM non-linéaire (noyau Gaussien) pour comparer leur score de prédiction ainsi que le temps de calcul nécessaire à l'apprentissage et à la prédiction."
   ]
  },
  {
   "cell_type": "code",
   "execution_count": 11,
   "metadata": {
    "ExecuteTime": {
     "end_time": "2019-03-05T10:05:20.527576Z",
     "start_time": "2019-03-05T10:05:14.256920Z"
    }
   },
   "outputs": [
    {
     "name": "stdout",
     "output_type": "stream",
     "text": [
      "Fitting SVC rbf on 20000 samples...\n",
      "done in 2.896s\n",
      "Predicting with SVC rbf on 40000 samples...\n",
      "done in 3.180s\n",
      "classification accuracy: 0.980\n"
     ]
    }
   ],
   "source": [
    "# RBF SVM\n",
    "print(\"Fitting SVC rbf on %d samples...\" % X_train.shape[0])\n",
    "t0 = time()\n",
    "\n",
    "# TODO\n",
    "clf = svm.SVC(kernel='rbf')\n",
    "clf.fit(X_train, y_train)\n",
    "print(\"done in %0.3fs\" % (time() - t0))\n",
    "\n",
    "print(\"Predicting with SVC rbf on %d samples...\" % X_test.shape[0])\n",
    "t1 = time()\n",
    "\n",
    "# TODO\n",
    "timing_kernel = time() - t0\n",
    "\n",
    "y_pred = clf.predict(X_test)\n",
    "print(\"done in %0.3fs\" % (time() - t1))\n",
    "\n",
    "accuracy_kernel = accuracy_score(y_pred, y_test)\n",
    "print(\"classification accuracy: %0.3f\" % accuracy_kernel)"
   ]
  },
  {
   "cell_type": "code",
   "execution_count": 12,
   "metadata": {
    "ExecuteTime": {
     "end_time": "2019-03-05T10:05:22.935122Z",
     "start_time": "2019-03-05T10:05:22.792842Z"
    }
   },
   "outputs": [
    {
     "name": "stdout",
     "output_type": "stream",
     "text": [
      "Fitting SVC rbf on 20000 samples...\n",
      "done in 0.115s\n",
      "Predicting with SVC rbf on 40000 samples...\n",
      "done in 0.011s\n",
      "classification accuracy: 0.917\n"
     ]
    }
   ],
   "source": [
    "# Linear SVM\n",
    "print(\"Fitting SVC rbf on %d samples...\" % X_train.shape[0])\n",
    "t0 = time()\n",
    "\n",
    "# TODO\n",
    "clf_lin = svm.LinearSVC(dual=False)\n",
    "clf_lin.fit(X_train, y_train)\n",
    "print(\"done in %0.3fs\" % (time() - t0))\n",
    "\n",
    "print(\"Predicting with SVC rbf on %d samples...\" % X_test.shape[0])\n",
    "t1 = time()\n",
    "\n",
    "# TODO\n",
    "timing_linear = time() - t1\n",
    "\n",
    "y_pred = clf_lin.predict(X_test)\n",
    "print(\"done in %0.3fs\" % (time() - t1))\n",
    "\n",
    "accuracy_linear = accuracy_score(y_pred, y_test)\n",
    "print(\"classification accuracy: %0.3f\" % accuracy_linear)"
   ]
  },
  {
   "cell_type": "markdown",
   "metadata": {},
   "source": [
    "**Comment** :\n",
    "The linear SVM is much faster (about 30 times), but it comes at a cost in terms of accuracy (7% lost)."
   ]
  },
  {
   "cell_type": "markdown",
   "metadata": {},
   "source": [
    "## Question 2"
   ]
  },
  {
   "cell_type": "markdown",
   "metadata": {},
   "source": [
    "On code une fonction qui calcule la meilleure approximation de rang $k$."
   ]
  },
  {
   "cell_type": "code",
   "execution_count": 86,
   "metadata": {
    "ExecuteTime": {
     "end_time": "2019-03-05T11:21:05.168611Z",
     "start_time": "2019-03-05T11:21:05.159611Z"
    }
   },
   "outputs": [],
   "source": [
    "def rank_trunc(gram_mat, k, fast=True):\n",
    "    \"\"\"\n",
    "    k-th order approximation of the Gram Matrix G.\n",
    "\n",
    "    Parameters\n",
    "    ----------\n",
    "    gram_mat : array, shape (n_samples, n_samples)\n",
    "        the Gram matrix\n",
    "    k : int\n",
    "        the order approximation\n",
    "    fast : bool\n",
    "        use svd (if False) or svds (if True).\n",
    "\n",
    "    Return\n",
    "    ------\n",
    "    gram_mat_k : array, shape (n_samples, n_samples)\n",
    "        The rank k Gram matrix.\n",
    "    \"\"\"\n",
    "    if fast:\n",
    "        A = csc_matrix(gram_mat)\n",
    "        u, s, vt = svds(A, k=k)\n",
    "        #gram_mat_k = multi_dot([u,s,vt])\n",
    "        \n",
    "        #smat = np.diag(s)\n",
    "        \n",
    "        gram_mat_k = np.dot(u, np.dot(s, vt))\n",
    "    else:\n",
    "        u, s, vt = linalg.svd(gram_mat, full_matrices=False)\n",
    "        gram_mat_k = np.dot(u, np.dot(s, vt))\n",
    "        #gram_mat_k = multi_dot([u,s,vt])[:k, :k]\n",
    "\n",
    "    return gram_mat_k\n"
   ]
  },
  {
   "cell_type": "code",
   "execution_count": null,
   "metadata": {},
   "outputs": [],
   "source": []
  },
  {
   "cell_type": "markdown",
   "metadata": {},
   "source": [
    "## Question 3"
   ]
  },
  {
   "cell_type": "markdown",
   "metadata": {},
   "source": [
    "On applique cette fonction sur la matrice décrite dans le sujet de TP."
   ]
  },
  {
   "cell_type": "code",
   "execution_count": 87,
   "metadata": {
    "ExecuteTime": {
     "end_time": "2019-03-05T11:21:06.542205Z",
     "start_time": "2019-03-05T11:21:06.511960Z"
    }
   },
   "outputs": [
    {
     "ename": "ValueError",
     "evalue": "cannot reshape array of size 200 into shape (200,2)",
     "output_type": "error",
     "traceback": [
      "\u001b[0;31m---------------------------------------------------------------------------\u001b[0m",
      "\u001b[0;31mValueError\u001b[0m                                Traceback (most recent call last)",
      "\u001b[0;32m<ipython-input-87-1015e5cd42f7>\u001b[0m in \u001b[0;36m<module>\u001b[0;34m()\u001b[0m\n\u001b[0;32m----> 1\u001b[0;31m \u001b[0mgram_mat_k\u001b[0m \u001b[0;34m=\u001b[0m \u001b[0mrank_trunc\u001b[0m\u001b[0;34m(\u001b[0m\u001b[0mgram_signal\u001b[0m\u001b[0;34m,\u001b[0m \u001b[0;36m2\u001b[0m\u001b[0;34m,\u001b[0m \u001b[0mfast\u001b[0m\u001b[0;34m=\u001b[0m\u001b[0;32mTrue\u001b[0m\u001b[0;34m)\u001b[0m\u001b[0;34m\u001b[0m\u001b[0m\n\u001b[0m",
      "\u001b[0;32m<ipython-input-86-829f4ae7e360>\u001b[0m in \u001b[0;36mrank_trunc\u001b[0;34m(gram_mat, k, fast)\u001b[0m\n\u001b[1;32m     24\u001b[0m         \u001b[0;31m#smat = np.diag(s)\u001b[0m\u001b[0;34m\u001b[0m\u001b[0;34m\u001b[0m\u001b[0m\n\u001b[1;32m     25\u001b[0m \u001b[0;34m\u001b[0m\u001b[0m\n\u001b[0;32m---> 26\u001b[0;31m         \u001b[0mgram_mat_k\u001b[0m \u001b[0;34m=\u001b[0m \u001b[0mnp\u001b[0m\u001b[0;34m.\u001b[0m\u001b[0mdot\u001b[0m\u001b[0;34m(\u001b[0m\u001b[0mu\u001b[0m\u001b[0;34m,\u001b[0m \u001b[0mnp\u001b[0m\u001b[0;34m.\u001b[0m\u001b[0mdot\u001b[0m\u001b[0;34m(\u001b[0m\u001b[0ms\u001b[0m\u001b[0;34m,\u001b[0m \u001b[0mvt\u001b[0m\u001b[0;34m)\u001b[0m\u001b[0;34m.\u001b[0m\u001b[0mreshape\u001b[0m\u001b[0;34m(\u001b[0m\u001b[0;36m200\u001b[0m\u001b[0;34m,\u001b[0m\u001b[0;36m2\u001b[0m\u001b[0;34m)\u001b[0m\u001b[0;34m)\u001b[0m\u001b[0;34m\u001b[0m\u001b[0m\n\u001b[0m\u001b[1;32m     27\u001b[0m     \u001b[0;32melse\u001b[0m\u001b[0;34m:\u001b[0m\u001b[0;34m\u001b[0m\u001b[0m\n\u001b[1;32m     28\u001b[0m         \u001b[0mu\u001b[0m\u001b[0;34m,\u001b[0m \u001b[0ms\u001b[0m\u001b[0;34m,\u001b[0m \u001b[0mvt\u001b[0m \u001b[0;34m=\u001b[0m \u001b[0mlinalg\u001b[0m\u001b[0;34m.\u001b[0m\u001b[0msvd\u001b[0m\u001b[0;34m(\u001b[0m\u001b[0mgram_mat\u001b[0m\u001b[0;34m,\u001b[0m \u001b[0mfull_matrices\u001b[0m\u001b[0;34m=\u001b[0m\u001b[0;32mFalse\u001b[0m\u001b[0;34m)\u001b[0m\u001b[0;34m\u001b[0m\u001b[0m\n",
      "\u001b[0;31mValueError\u001b[0m: cannot reshape array of size 200 into shape (200,2)"
     ]
    }
   ],
   "source": [
    "gram_mat_k = rank_trunc(gram_signal, 2, fast=True)"
   ]
  },
  {
   "cell_type": "code",
   "execution_count": 37,
   "metadata": {
    "ExecuteTime": {
     "end_time": "2019-03-05T10:26:47.345463Z",
     "start_time": "2019-03-05T10:26:47.288550Z"
    }
   },
   "outputs": [
    {
     "name": "stdout",
     "output_type": "stream",
     "text": [
      "0 1\n",
      "1\n",
      "[[-5.10848771e-02]\n",
      " [ 5.21658673e-02]\n",
      " [ 6.05102570e-02]\n",
      " [-5.24257619e-02]\n",
      " [-1.09795798e-01]\n",
      " [-4.98054493e-02]\n",
      " [-3.51798483e-02]\n",
      " [ 7.62879293e-02]\n",
      " [ 7.38361719e-02]\n",
      " [ 1.10075704e-01]\n",
      " [ 1.00795616e-01]\n",
      " [ 1.43150646e-02]\n",
      " [-9.97028255e-03]\n",
      " [-9.77500858e-02]\n",
      " [-7.11230428e-03]\n",
      " [ 3.07039135e-02]\n",
      " [ 1.32902599e-02]\n",
      " [-2.11392987e-02]\n",
      " [-2.71205611e-02]\n",
      " [-2.44073716e-02]\n",
      " [-3.90145229e-02]\n",
      " [ 6.38060405e-03]\n",
      " [ 9.02246372e-02]\n",
      " [-8.81564362e-03]\n",
      " [ 3.57325842e-02]\n",
      " [ 1.23492283e-01]\n",
      " [ 1.22277032e-01]\n",
      " [-7.82768218e-02]\n",
      " [ 3.99905836e-02]\n",
      " [-7.69779102e-02]\n",
      " [-8.52113783e-02]\n",
      " [ 7.66032045e-02]\n",
      " [-5.49234272e-02]\n",
      " [ 1.35913653e-02]\n",
      " [ 1.70898884e-02]\n",
      " [-6.56879480e-02]\n",
      " [-4.20389727e-02]\n",
      " [-1.40921101e-01]\n",
      " [ 6.03462621e-02]\n",
      " [-1.04860115e-01]\n",
      " [ 1.63938895e-02]\n",
      " [ 6.86579485e-02]\n",
      " [-1.29419773e-01]\n",
      " [-3.22996053e-02]\n",
      " [-4.16340772e-02]\n",
      " [ 1.09775928e-02]\n",
      " [ 4.85698176e-02]\n",
      " [-3.47570856e-02]\n",
      " [ 4.99115976e-02]\n",
      " [-6.58047225e-02]\n",
      " [-1.18693148e-01]\n",
      " [-4.62494353e-02]\n",
      " [-1.13332958e-01]\n",
      " [-8.83960355e-02]\n",
      " [ 1.03847921e-01]\n",
      " [ 8.58404388e-02]\n",
      " [-2.41714302e-02]\n",
      " [-1.91897837e-02]\n",
      " [-4.25177219e-02]\n",
      " [-1.22600674e-01]\n",
      " [ 4.67578139e-02]\n",
      " [-1.00078492e-01]\n",
      " [-4.09381335e-02]\n",
      " [ 1.03992457e-01]\n",
      " [-1.11566859e-01]\n",
      " [-1.19950214e-01]\n",
      " [ 1.29076813e-02]\n",
      " [ 8.48706382e-03]\n",
      " [-3.63778941e-02]\n",
      " [-1.96774870e-04]\n",
      " [-1.11100764e-02]\n",
      " [-2.32334487e-02]\n",
      " [-3.27677041e-02]\n",
      " [-8.30410134e-02]\n",
      " [ 3.41692236e-05]\n",
      " [ 1.02274102e-02]\n",
      " [ 1.19370830e-02]\n",
      " [ 4.37692721e-02]\n",
      " [-6.42943823e-02]\n",
      " [-3.13673843e-02]\n",
      " [-2.74911520e-03]\n",
      " [-5.20316572e-02]\n",
      " [-9.24705295e-02]\n",
      " [ 3.68125027e-02]\n",
      " [ 1.17856483e-02]\n",
      " [ 2.83395180e-02]\n",
      " [-1.00633529e-01]\n",
      " [ 3.93786034e-02]\n",
      " [ 3.79063495e-03]\n",
      " [ 1.51671190e-01]\n",
      " [ 8.39621334e-02]\n",
      " [-1.76141029e-02]\n",
      " [-1.69651941e-01]\n",
      " [ 1.10102465e-02]\n",
      " [ 6.78605603e-02]\n",
      " [-4.60990879e-02]\n",
      " [ 3.41180331e-04]\n",
      " [ 1.10995620e-02]\n",
      " [-1.04853957e-01]\n",
      " [ 9.88192249e-03]\n",
      " [-1.26324325e-01]\n",
      " [ 1.03114321e-02]\n",
      " [ 1.05176289e-01]\n",
      " [ 5.33559432e-02]\n",
      " [-1.29189111e-01]\n",
      " [ 2.38233576e-02]\n",
      " [ 6.05781648e-03]\n",
      " [ 1.23483600e-01]\n",
      " [ 3.97491536e-02]\n",
      " [-1.20815735e-01]\n",
      " [ 5.26211167e-02]\n",
      " [ 6.14997704e-02]\n",
      " [-4.41215799e-02]\n",
      " [-6.45313837e-02]\n",
      " [-3.10016759e-02]\n",
      " [ 1.24548562e-02]\n",
      " [ 1.05395228e-01]\n",
      " [-6.69873795e-02]\n",
      " [ 5.24641307e-02]\n",
      " [-1.30794746e-01]\n",
      " [-8.33377402e-02]\n",
      " [ 2.52760828e-02]\n",
      " [ 8.60167243e-02]\n",
      " [ 1.28417358e-01]\n",
      " [ 5.31852075e-02]\n",
      " [ 9.55449200e-02]\n",
      " [ 1.41723155e-01]\n",
      " [-8.72516998e-03]\n",
      " [ 2.68354307e-02]\n",
      " [ 4.18595581e-02]\n",
      " [ 8.46739545e-03]\n",
      " [ 5.82714220e-02]\n",
      " [-5.85377386e-02]\n",
      " [-5.22686985e-02]\n",
      " [-1.34944895e-02]\n",
      " [-2.55263311e-02]\n",
      " [ 4.54376383e-02]\n",
      " [ 4.27326965e-02]\n",
      " [-4.61916240e-02]\n",
      " [-5.05852680e-02]\n",
      " [ 1.07332764e-01]\n",
      " [-6.66536387e-02]\n",
      " [-5.62728025e-02]\n",
      " [-3.65405370e-02]\n",
      " [-1.39613291e-02]\n",
      " [ 1.72707085e-01]\n",
      " [ 6.25110674e-03]\n",
      " [ 9.17699982e-03]\n",
      " [-2.86707318e-02]\n",
      " [-1.06860892e-01]\n",
      " [ 1.71419902e-02]\n",
      " [-6.01418183e-02]\n",
      " [ 8.88501441e-02]\n",
      " [-3.26847806e-02]\n",
      " [ 4.07239979e-02]\n",
      " [ 1.03271703e-01]\n",
      " [ 3.47218051e-02]\n",
      " [-2.74488903e-02]\n",
      " [-1.58576336e-01]\n",
      " [ 5.35623281e-02]\n",
      " [ 8.72386725e-02]\n",
      " [-3.53325971e-02]\n",
      " [-6.71537635e-02]\n",
      " [-5.85083597e-02]\n",
      " [ 5.50255819e-02]\n",
      " [-5.82475171e-02]\n",
      " [-2.45535616e-02]\n",
      " [-9.82861247e-02]\n",
      " [-2.59618733e-02]\n",
      " [-1.46947812e-02]\n",
      " [-1.12849116e-02]\n",
      " [-1.22573893e-02]\n",
      " [-1.60288062e-01]\n",
      " [ 5.81586792e-02]\n",
      " [-1.34142691e-02]\n",
      " [ 2.77073213e-02]\n",
      " [ 8.21892851e-03]\n",
      " [ 7.97654233e-02]\n",
      " [ 7.48787652e-03]\n",
      " [-5.34749701e-02]\n",
      " [-7.37976228e-02]\n",
      " [ 6.62076891e-02]\n",
      " [ 1.31093211e-01]\n",
      " [-4.73400361e-02]\n",
      " [-7.09234659e-02]\n",
      " [ 5.21154755e-02]\n",
      " [-1.16114684e-01]\n",
      " [ 1.56378230e-02]\n",
      " [ 2.87195424e-02]\n",
      " [-8.43317003e-02]\n",
      " [-6.82255054e-02]\n",
      " [-6.32125992e-02]\n",
      " [-4.50329660e-02]\n",
      " [-8.61064074e-02]\n",
      " [ 9.32948179e-02]\n",
      " [-7.53336548e-02]\n",
      " [ 9.89663351e-03]\n",
      " [ 1.30538907e-01]\n",
      " [-1.19811311e-01]\n",
      " [-8.36697225e-02]] [15144.95135039] [[-5.10848771e-02  5.21658673e-02  6.05102570e-02 -5.24257619e-02\n",
      "  -1.09795798e-01 -4.98054493e-02 -3.51798483e-02  7.62879293e-02\n",
      "   7.38361719e-02  1.10075704e-01  1.00795616e-01  1.43150646e-02\n",
      "  -9.97028255e-03 -9.77500858e-02 -7.11230428e-03  3.07039135e-02\n",
      "   1.32902599e-02 -2.11392987e-02 -2.71205611e-02 -2.44073716e-02\n",
      "  -3.90145229e-02  6.38060405e-03  9.02246372e-02 -8.81564362e-03\n",
      "   3.57325842e-02  1.23492283e-01  1.22277032e-01 -7.82768218e-02\n",
      "   3.99905836e-02 -7.69779102e-02 -8.52113783e-02  7.66032045e-02\n",
      "  -5.49234272e-02  1.35913653e-02  1.70898884e-02 -6.56879480e-02\n",
      "  -4.20389727e-02 -1.40921101e-01  6.03462621e-02 -1.04860115e-01\n",
      "   1.63938895e-02  6.86579485e-02 -1.29419773e-01 -3.22996053e-02\n",
      "  -4.16340772e-02  1.09775928e-02  4.85698176e-02 -3.47570856e-02\n",
      "   4.99115976e-02 -6.58047225e-02 -1.18693148e-01 -4.62494353e-02\n",
      "  -1.13332958e-01 -8.83960355e-02  1.03847921e-01  8.58404388e-02\n",
      "  -2.41714302e-02 -1.91897837e-02 -4.25177219e-02 -1.22600674e-01\n",
      "   4.67578139e-02 -1.00078492e-01 -4.09381335e-02  1.03992457e-01\n",
      "  -1.11566859e-01 -1.19950214e-01  1.29076813e-02  8.48706382e-03\n",
      "  -3.63778941e-02 -1.96774870e-04 -1.11100764e-02 -2.32334487e-02\n",
      "  -3.27677041e-02 -8.30410134e-02  3.41692236e-05  1.02274102e-02\n",
      "   1.19370830e-02  4.37692721e-02 -6.42943823e-02 -3.13673843e-02\n",
      "  -2.74911520e-03 -5.20316572e-02 -9.24705295e-02  3.68125027e-02\n",
      "   1.17856483e-02  2.83395180e-02 -1.00633529e-01  3.93786034e-02\n",
      "   3.79063495e-03  1.51671190e-01  8.39621334e-02 -1.76141029e-02\n",
      "  -1.69651941e-01  1.10102465e-02  6.78605603e-02 -4.60990879e-02\n",
      "   3.41180331e-04  1.10995620e-02 -1.04853957e-01  9.88192249e-03\n",
      "  -1.26324325e-01  1.03114321e-02  1.05176289e-01  5.33559432e-02\n",
      "  -1.29189111e-01  2.38233576e-02  6.05781648e-03  1.23483600e-01\n",
      "   3.97491536e-02 -1.20815735e-01  5.26211167e-02  6.14997704e-02\n",
      "  -4.41215799e-02 -6.45313837e-02 -3.10016759e-02  1.24548562e-02\n",
      "   1.05395228e-01 -6.69873795e-02  5.24641307e-02 -1.30794746e-01\n",
      "  -8.33377402e-02  2.52760828e-02  8.60167243e-02  1.28417358e-01\n",
      "   5.31852075e-02  9.55449200e-02  1.41723155e-01 -8.72516998e-03\n",
      "   2.68354307e-02  4.18595581e-02  8.46739545e-03  5.82714220e-02\n",
      "  -5.85377386e-02 -5.22686985e-02 -1.34944895e-02 -2.55263311e-02\n",
      "   4.54376383e-02  4.27326965e-02 -4.61916240e-02 -5.05852680e-02\n",
      "   1.07332764e-01 -6.66536387e-02 -5.62728025e-02 -3.65405370e-02\n",
      "  -1.39613291e-02  1.72707085e-01  6.25110674e-03  9.17699982e-03\n",
      "  -2.86707318e-02 -1.06860892e-01  1.71419902e-02 -6.01418183e-02\n",
      "   8.88501441e-02 -3.26847806e-02  4.07239979e-02  1.03271703e-01\n",
      "   3.47218051e-02 -2.74488903e-02 -1.58576336e-01  5.35623281e-02\n",
      "   8.72386725e-02 -3.53325971e-02 -6.71537635e-02 -5.85083597e-02\n",
      "   5.50255819e-02 -5.82475171e-02 -2.45535616e-02 -9.82861247e-02\n",
      "  -2.59618733e-02 -1.46947812e-02 -1.12849116e-02 -1.22573893e-02\n",
      "  -1.60288062e-01  5.81586792e-02 -1.34142691e-02  2.77073213e-02\n",
      "   8.21892851e-03  7.97654233e-02  7.48787652e-03 -5.34749701e-02\n",
      "  -7.37976228e-02  6.62076891e-02  1.31093211e-01 -4.73400361e-02\n",
      "  -7.09234659e-02  5.21154755e-02 -1.16114684e-01  1.56378230e-02\n",
      "   2.87195424e-02 -8.43317003e-02 -6.82255054e-02 -6.32125992e-02\n",
      "  -4.50329660e-02 -8.61064074e-02  9.32948179e-02 -7.53336548e-02\n",
      "   9.89663351e-03  1.30538907e-01 -1.19811311e-01 -8.36697225e-02]]\n"
     ]
    },
    {
     "ename": "ValueError",
     "evalue": "shapes (200,) and (1,200) not aligned: 200 (dim 0) != 1 (dim 0)",
     "output_type": "error",
     "traceback": [
      "\u001b[0;31m---------------------------------------------------------------------------\u001b[0m",
      "\u001b[0;31mValueError\u001b[0m                                Traceback (most recent call last)",
      "\u001b[0;32m<ipython-input-37-634872443fbb>\u001b[0m in \u001b[0;36m<module>\u001b[0;34m()\u001b[0m\n\u001b[1;32m     21\u001b[0m     \u001b[0mprint\u001b[0m\u001b[0;34m(\u001b[0m\u001b[0mrank\u001b[0m\u001b[0;34m)\u001b[0m\u001b[0;34m\u001b[0m\u001b[0m\n\u001b[1;32m     22\u001b[0m     \u001b[0mt0\u001b[0m \u001b[0;34m=\u001b[0m \u001b[0mtime\u001b[0m\u001b[0;34m(\u001b[0m\u001b[0;34m)\u001b[0m\u001b[0;34m\u001b[0m\u001b[0m\n\u001b[0;32m---> 23\u001b[0;31m     \u001b[0mgram_mat_k\u001b[0m \u001b[0;34m=\u001b[0m \u001b[0mrank_trunc\u001b[0m\u001b[0;34m(\u001b[0m\u001b[0mgram_signal\u001b[0m\u001b[0;34m,\u001b[0m \u001b[0mrank\u001b[0m\u001b[0;34m,\u001b[0m \u001b[0mfast\u001b[0m\u001b[0;34m=\u001b[0m\u001b[0;32mTrue\u001b[0m\u001b[0;34m)\u001b[0m\u001b[0;34m\u001b[0m\u001b[0m\n\u001b[0m\u001b[1;32m     24\u001b[0m     \u001b[0mtiming_fast\u001b[0m\u001b[0;34m[\u001b[0m\u001b[0mk\u001b[0m\u001b[0;34m]\u001b[0m \u001b[0;34m=\u001b[0m \u001b[0mtime\u001b[0m\u001b[0;34m(\u001b[0m\u001b[0;34m)\u001b[0m \u001b[0;34m-\u001b[0m \u001b[0mt0\u001b[0m\u001b[0;34m\u001b[0m\u001b[0m\n\u001b[1;32m     25\u001b[0m \u001b[0;34m\u001b[0m\u001b[0m\n",
      "\u001b[0;32m<ipython-input-35-399e99f61db9>\u001b[0m in \u001b[0;36mrank_trunc\u001b[0;34m(gram_mat, k, fast)\u001b[0m\n\u001b[1;32m     22\u001b[0m         \u001b[0;31m#gram_mat_k = multi_dot([u,s,vt])\u001b[0m\u001b[0;34m\u001b[0m\u001b[0;34m\u001b[0m\u001b[0m\n\u001b[1;32m     23\u001b[0m         \u001b[0mprint\u001b[0m\u001b[0;34m(\u001b[0m\u001b[0mu\u001b[0m\u001b[0;34m,\u001b[0m\u001b[0ms\u001b[0m\u001b[0;34m,\u001b[0m\u001b[0mvt\u001b[0m\u001b[0;34m)\u001b[0m\u001b[0;34m\u001b[0m\u001b[0m\n\u001b[0;32m---> 24\u001b[0;31m         \u001b[0mgram_mat_k\u001b[0m \u001b[0;34m=\u001b[0m \u001b[0mnp\u001b[0m\u001b[0;34m.\u001b[0m\u001b[0mdot\u001b[0m\u001b[0;34m(\u001b[0m\u001b[0mnp\u001b[0m\u001b[0;34m.\u001b[0m\u001b[0mdot\u001b[0m\u001b[0;34m(\u001b[0m\u001b[0mu\u001b[0m\u001b[0;34m,\u001b[0m\u001b[0ms\u001b[0m\u001b[0;34m)\u001b[0m\u001b[0;34m,\u001b[0m \u001b[0mvt\u001b[0m\u001b[0;34m)\u001b[0m\u001b[0;34m\u001b[0m\u001b[0m\n\u001b[0m\u001b[1;32m     25\u001b[0m     \u001b[0;32melse\u001b[0m\u001b[0;34m:\u001b[0m\u001b[0;34m\u001b[0m\u001b[0m\n\u001b[1;32m     26\u001b[0m         \u001b[0mu\u001b[0m\u001b[0;34m,\u001b[0m \u001b[0ms\u001b[0m\u001b[0;34m,\u001b[0m \u001b[0mvt\u001b[0m \u001b[0;34m=\u001b[0m \u001b[0mlinalg\u001b[0m\u001b[0;34m.\u001b[0m\u001b[0msvd\u001b[0m\u001b[0;34m(\u001b[0m\u001b[0mgram_mat\u001b[0m\u001b[0;34m,\u001b[0m \u001b[0mfull_matrices\u001b[0m\u001b[0;34m=\u001b[0m\u001b[0;32mFalse\u001b[0m\u001b[0;34m)\u001b[0m\u001b[0;34m\u001b[0m\u001b[0m\n",
      "\u001b[0;31mValueError\u001b[0m: shapes (200,) and (1,200) not aligned: 200 (dim 0) != 1 (dim 0)"
     ]
    }
   ],
   "source": [
    "p = 200\n",
    "r_noise = 100\n",
    "r_signal = 20\n",
    "\n",
    "intensity = 50\n",
    "\n",
    "rng = np.random.RandomState(42)\n",
    "X_noise = rng.randn(r_noise, p)\n",
    "X_signal = rng.randn(r_signal, p)\n",
    "\n",
    "gram_signal = np.dot(X_noise.T, X_noise) + intensity * np.dot(X_signal.T,\n",
    "                                                              X_signal)\n",
    "n_ranks = 100\n",
    "ranks = np.arange(1, n_ranks + 1)\n",
    "timing_fast = np.zeros(n_ranks)\n",
    "timing_slow = np.zeros(n_ranks)\n",
    "rel_error = np.zeros(n_ranks)\n",
    "\n",
    "for k, rank in enumerate(ranks):\n",
    "    print(k, rank)\n",
    "    print(rank)\n",
    "    t0 = time()\n",
    "    gram_mat_k = rank_trunc(gram_signal, rank, fast=True)\n",
    "    timing_fast[k] = time() - t0\n",
    "\n",
    "    t0 = time()\n",
    "    gram_mat_k = rank_trunc(gram_signal, rank, fast=False)\n",
    "    timing_slow[k] = time() - t0\n",
    "\n",
    "    # TODO: compute relative error with Frobenius norm\n",
    "    rel_error[k] = norm(gram_mat_k - gram_signal, 'fro') / norm(gram_signal, 'fro')\n",
    "    print(rel_error[k])"
   ]
  },
  {
   "cell_type": "code",
   "execution_count": null,
   "metadata": {
    "collapsed": true
   },
   "outputs": [],
   "source": [
    "###############################################################################\n",
    "# Display\n",
    "\n",
    "f, axes = plt.subplots(ncols=1, nrows=2, figsize=(10,6))\n",
    "ax1, ax2 = axes.ravel()\n",
    "\n",
    "ax1.plot(ranks, timing_fast, '-', label='fast')\n",
    "ax1.plot(ranks, timing_slow, '-', label='slow')\n",
    "ax1.legend()\n",
    "\n",
    "ax1.set_xlabel('Rank')\n",
    "ax1.set_ylabel('Time')\n",
    "ax2.plot(ranks, rel_error, '-')\n",
    "ax2.set_xlabel('Rank')\n",
    "ax2.set_ylabel('Relative Error')\n",
    "plt.tight_layout()\n",
    "plt.show()"
   ]
  },
  {
   "cell_type": "markdown",
   "metadata": {},
   "source": [
    "## Question 4"
   ]
  },
  {
   "cell_type": "markdown",
   "metadata": {},
   "source": [
    "On va implémenter l'algorithme de Random Kernel Features pour le noyau Gaussien."
   ]
  },
  {
   "cell_type": "code",
   "execution_count": null,
   "metadata": {
    "collapsed": true
   },
   "outputs": [],
   "source": [
    "def random_features(X_train, X_test, gamma, c=300, seed=44):\n",
    "    \"\"\"Compute random kernel features\n",
    "\n",
    "    Parameters\n",
    "    ----------\n",
    "    X_train : array, shape (n_samples1, n_features)\n",
    "        The train samples.\n",
    "    X_test : array, shape (n_samples2, n_features)\n",
    "        The test samples.\n",
    "    gamma : float\n",
    "        The Gaussian kernel parameter\n",
    "    c : int\n",
    "        The number of components\n",
    "    seed : int\n",
    "        The seed for random number generation\n",
    "\n",
    "    Return\n",
    "    ------\n",
    "    X_new_train : array, shape (n_samples1, c)\n",
    "        The new train samples.\n",
    "    X_new_test : array, shape (n_samples2, c)\n",
    "        The new test samples.\n",
    "    \"\"\"\n",
    "    rng = np.random.RandomState(seed)\n",
    "    n_samples, n_features = X_train.shape\n",
    "    \n",
    "    # TODO\n",
    "    \n",
    "    return X_new_train, X_new_test"
   ]
  },
  {
   "cell_type": "markdown",
   "metadata": {},
   "source": [
    "## Question 5"
   ]
  },
  {
   "cell_type": "markdown",
   "metadata": {},
   "source": [
    "On va maintenant appliquer cette méthode avec $c=300$."
   ]
  },
  {
   "cell_type": "code",
   "execution_count": null,
   "metadata": {
    "collapsed": true
   },
   "outputs": [],
   "source": [
    "n_samples, n_features = X_train.shape\n",
    "n_samples_test, _ = X_test.shape\n",
    "gamma = 1. / n_features\n",
    "\n",
    "Z_train, Z_test = random_features(X_train, X_test, gamma, c=300, seed=44)\n",
    "\n",
    "print(\"Fitting SVC linear on %d samples...\" % n_samples)\n",
    "t0 = time()\n",
    "clf = LinearSVC(dual=False)\n",
    "clf.fit(Z_train, y_train)\n",
    "print(\"done in %0.3fs\" % (time() - t0))\n",
    "\n",
    "print(\"Predicting with SVC linear on %d samples...\" % n_samples_test)\n",
    "t0 = time()\n",
    "accuracy = clf.score(Z_test, y_test)\n",
    "print(\"done in %0.3fs\" % (time() - t0))\n",
    "print(\"classification accuracy: %0.3f\" % accuracy)"
   ]
  },
  {
   "cell_type": "markdown",
   "metadata": {},
   "source": [
    "## Question 6"
   ]
  },
  {
   "cell_type": "markdown",
   "metadata": {},
   "source": [
    "On implémente la méthode de Nystrom."
   ]
  },
  {
   "cell_type": "code",
   "execution_count": null,
   "metadata": {
    "collapsed": true
   },
   "outputs": [],
   "source": [
    "from sklearn.metrics.pairwise import rbf_kernel\n",
    "\n",
    "def nystrom(X_train, X_test, gamma, c=500, k=200, seed=44):\n",
    "    \"\"\"Compute nystrom kernel approximation\n",
    "\n",
    "    Parameters\n",
    "    ----------\n",
    "    X_train : array, shape (n_samples1, n_features)\n",
    "        The train samples.\n",
    "    X_test : array, shape (n_samples2, n_features)\n",
    "        The test samples.\n",
    "    gamma : float\n",
    "        The Gaussian kernel parameter\n",
    "    c : int\n",
    "        The number of points to sample for the approximation\n",
    "    k : int\n",
    "        The number of components\n",
    "    seed : int\n",
    "        The seed for random number generation\n",
    "\n",
    "    Return\n",
    "    ------\n",
    "    X_new_train : array, shape (n_samples1, c)\n",
    "        The new train samples.\n",
    "    X_new_test : array, shape (n_samples2, c)\n",
    "        The new test samples.\n",
    "    \"\"\"\n",
    "    rng = np.random.RandomState(seed)\n",
    "    n_samples = X_train.shape[0]\n",
    "    idx = rng.choice(n_samples, c)\n",
    "\n",
    "    X_train_idx = X_train[idx, :]\n",
    "    W = rbf_kernel(X_train_idx, X_train_idx, gamma=gamma)\n",
    "    \n",
    "    # TODO\n",
    "\n",
    "    return X_new_train, X_new_test"
   ]
  },
  {
   "cell_type": "markdown",
   "metadata": {},
   "source": [
    "## Question 7"
   ]
  },
  {
   "cell_type": "markdown",
   "metadata": {},
   "source": [
    "On va maintenant appliquer cette méthode également avec $c=500$ et $k=300$"
   ]
  },
  {
   "cell_type": "code",
   "execution_count": null,
   "metadata": {
    "collapsed": true
   },
   "outputs": [],
   "source": [
    "Z_train, Z_test = nystrom(X_train, X_test, gamma, c=500, k=300, seed=44)\n",
    "\n",
    "print(\"Fitting SVC linear on %d samples...\" % n_samples)\n",
    "t0 = time()\n",
    "clf = LinearSVC(dual=False)\n",
    "clf.fit(Z_train, y_train)\n",
    "print(\"done in %0.3fs\" % (time() - t0))\n",
    "\n",
    "print(\"Predicting with SVC linear on %d samples...\" % n_samples_test)\n",
    "t0 = time()\n",
    "accuracy = clf.score(Z_test, y_test)\n",
    "print(\"done in %0.3fs\" % (time() - t0))\n",
    "print(\"classification accuracy: %0.3f\" % accuracy)\n"
   ]
  },
  {
   "cell_type": "markdown",
   "metadata": {},
   "source": [
    "## Question 8"
   ]
  },
  {
   "cell_type": "markdown",
   "metadata": {},
   "source": [
    "On va maintenant réaliser une synthèse des performances des RKF et de Nystrom pour un ensemble de paramètres."
   ]
  },
  {
   "cell_type": "code",
   "execution_count": null,
   "metadata": {
    "collapsed": true
   },
   "outputs": [],
   "source": [
    "ranks = np.arange(20, 600, 50)\n",
    "n_ranks = len(ranks)\n",
    "timing_rkf = np.zeros(n_ranks)\n",
    "timing_nystrom = np.zeros(n_ranks)\n",
    "\n",
    "accuracy_nystrom = np.zeros(n_ranks)\n",
    "accuracy_rkf = np.zeros(n_ranks)\n",
    "\n",
    "print(\"Training SVMs for various values of c...\")\n",
    "\n",
    "for i, c in enumerate(ranks):\n",
    "    print(i, c)\n",
    "    # TODO: compute time and prediction scores for RKF and Nystrom with respect to c\n",
    "    # put results in timing_rkf, timing_nystrom, accuracy_rkf, accuracy_nystrom\n"
   ]
  },
  {
   "cell_type": "code",
   "execution_count": null,
   "metadata": {
    "collapsed": true
   },
   "outputs": [],
   "source": [
    "###############################################################################\n",
    "# Display bis\n",
    "\n",
    "f, axes = plt.subplots(ncols=1, nrows=2, figsize=(10,6))\n",
    "ax1, ax2 = axes.ravel()\n",
    "\n",
    "ax1.plot(ranks-10, timing_nystrom, '-', label='Nystrom')\n",
    "ax1.plot(ranks, timing_rkf, '-', label='RKF')\n",
    "ax1.plot(ranks, timing_linear * np.ones(n_ranks), '-', label='LinearSVC')\n",
    "ax1.plot(ranks, timing_kernel * np.ones(n_ranks), '-', label='RBF')\n",
    "\n",
    "ax1.set_xlabel('Number of features')\n",
    "ax1.set_ylabel('Time')\n",
    "ax1.legend(loc='lower right')\n",
    "\n",
    "ax2.plot(ranks-10, accuracy_nystrom, '-', label='Nystrom')\n",
    "ax2.plot(ranks, accuracy_rkf, '-', label='RKF')\n",
    "ax2.plot(ranks, accuracy_linear * np.ones(n_ranks), '-', label='LinearSVC')\n",
    "ax2.plot(ranks, accuracy_kernel * np.ones(n_ranks), '-', label='RBF')\n",
    "ax2.set_xlabel('Number of features')\n",
    "ax2.set_ylabel('Accuracy')\n",
    "ax2.legend(loc='lower right')\n",
    "plt.tight_layout()\n",
    "plt.show()"
   ]
  },
  {
   "cell_type": "code",
   "execution_count": null,
   "metadata": {
    "collapsed": true
   },
   "outputs": [],
   "source": []
  }
 ],
 "metadata": {
  "kernelspec": {
   "display_name": "Python 3",
   "language": "python",
   "name": "python3"
  },
  "language_info": {
   "codemirror_mode": {
    "name": "ipython",
    "version": 3
   },
   "file_extension": ".py",
   "mimetype": "text/x-python",
   "name": "python",
   "nbconvert_exporter": "python",
   "pygments_lexer": "ipython3",
   "version": "3.6.5"
  },
  "latex_envs": {
   "LaTeX_envs_menu_present": true,
   "autoclose": false,
   "autocomplete": true,
   "bibliofile": "biblio.bib",
   "cite_by": "apalike",
   "current_citInitial": 1,
   "eqLabelWithNumbers": true,
   "eqNumInitial": 1,
   "hotkeys": {
    "equation": "Ctrl-E",
    "itemize": "Ctrl-I"
   },
   "labels_anchors": false,
   "latex_user_defs": false,
   "report_style_numbering": false,
   "user_envs_cfg": false
  }
 },
 "nbformat": 4,
 "nbformat_minor": 2
}
