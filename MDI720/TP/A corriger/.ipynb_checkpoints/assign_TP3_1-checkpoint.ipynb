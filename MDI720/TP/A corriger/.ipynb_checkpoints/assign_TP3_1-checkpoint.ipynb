{
 "cells": [
  {
   "cell_type": "markdown",
   "metadata": {},
   "source": [
    "#  <div class=\"text-center\">TP3 </div>"
   ]
  },
  {
   "cell_type": "markdown",
   "metadata": {},
   "source": [
    "Exercice 1. (Le jeu de données contaminé par le robot)\n",
    "Nous travaillons sur la base de données diabetes de python. La base initiale comporte n “ 442\n",
    "patients et p “ 10 covariables. La variable Y à expliquer est un score correspondant à l’évolution de la maladie. Pour s’amuser, un robot malicieux a contaminé le jeu de données en y ajoutant 200 variables explicatives inappropriées. Ensuite, non-content d’avoir déjà perverti notre jeu de données, il a volon- tairement mélangé les variables entre elle de façon aléatoire. Bien entendu le robot a ensuite pris soin d’effacer toute trace de son acte crapuleux si bien que nous ne connaissons pas les variables pertinentes. La nouvelle base de données comporte n “ 442 patients et p “ 210 covariables, notés X. Saurez-vous déjouer les plans de ce robot farceur et retrouver les variables pertinentes ?"
   ]
  },
  {
   "cell_type": "markdown",
   "metadata": {},
   "source": [
    "### 1) Import des données"
   ]
  },
  {
   "cell_type": "markdown",
   "metadata": {},
   "source": [
    " Importer la base de données data_dm3.csv disponible depuis le lien https://bitbucket.org/portierf/shared_files/downloads/data_dm3.csv. La dernière colonne est la variable à expli- quer. Les autres colonnes sont les variables explicatives. Préciser le nombre de variables explicatives et le nombre d’observations."
   ]
  },
  {
   "cell_type": "code",
   "execution_count": 1,
   "metadata": {
    "scrolled": true
   },
   "outputs": [],
   "source": [
    "#%matplotlib notebook\n",
    "import pandas as pd\n",
    "import matplotlib.pyplot as plt\n",
    "import numpy as np\n",
    "from sklearn.linear_model import LinearRegression\n",
    "from mpl_toolkits.mplot3d import Axes3D\n",
    "from scipy.stats import t\n",
    "from sklearn.model_selection import train_test_split\n",
    "from sklearn.metrics import mean_squared_error\n",
    "from pandas.plotting import scatter_matrix\n",
    "import seaborn as sns\n",
    "import statsmodels.api as sm\n",
    "from sklearn.preprocessing import StandardScaler\n",
    "from scipy.stats import norm\n",
    "from sklearn.model_selection import KFold\n",
    "from sklearn.linear_model import Ridge\n",
    "from sklearn.linear_model import LassoCV\n",
    "from sklearn.model_selection import KFold\n",
    "from numpy.linalg import matrix_rank\n"
   ]
  },
  {
   "cell_type": "code",
   "execution_count": 2,
   "metadata": {},
   "outputs": [],
   "source": [
    "#Il s'agit du dictionnaire des coefficients de déterminations pour chacune des méthodes employées durant ce TP\n",
    "scoresTP=dict()"
   ]
  },
  {
   "cell_type": "code",
   "execution_count": 3,
   "metadata": {},
   "outputs": [
    {
     "data": {
      "text/html": [
       "<div>\n",
       "<style scoped>\n",
       "    .dataframe tbody tr th:only-of-type {\n",
       "        vertical-align: middle;\n",
       "    }\n",
       "\n",
       "    .dataframe tbody tr th {\n",
       "        vertical-align: top;\n",
       "    }\n",
       "\n",
       "    .dataframe thead th {\n",
       "        text-align: right;\n",
       "    }\n",
       "</style>\n",
       "<table border=\"1\" class=\"dataframe\">\n",
       "  <thead>\n",
       "    <tr style=\"text-align: right;\">\n",
       "      <th></th>\n",
       "      <th>0</th>\n",
       "      <th>1</th>\n",
       "      <th>2</th>\n",
       "      <th>3</th>\n",
       "      <th>4</th>\n",
       "      <th>5</th>\n",
       "      <th>6</th>\n",
       "      <th>7</th>\n",
       "      <th>8</th>\n",
       "      <th>9</th>\n",
       "      <th>...</th>\n",
       "      <th>201</th>\n",
       "      <th>202</th>\n",
       "      <th>203</th>\n",
       "      <th>204</th>\n",
       "      <th>205</th>\n",
       "      <th>206</th>\n",
       "      <th>207</th>\n",
       "      <th>208</th>\n",
       "      <th>209</th>\n",
       "      <th>210</th>\n",
       "    </tr>\n",
       "  </thead>\n",
       "  <tbody>\n",
       "    <tr>\n",
       "      <th>0</th>\n",
       "      <td>-1.298173</td>\n",
       "      <td>-0.162249</td>\n",
       "      <td>1.223379</td>\n",
       "      <td>1.355554</td>\n",
       "      <td>1.080171</td>\n",
       "      <td>0.634979</td>\n",
       "      <td>0.298741</td>\n",
       "      <td>0.548270</td>\n",
       "      <td>0.731773</td>\n",
       "      <td>1.018645</td>\n",
       "      <td>...</td>\n",
       "      <td>0.588278</td>\n",
       "      <td>0.210106</td>\n",
       "      <td>1.861458</td>\n",
       "      <td>-0.436399</td>\n",
       "      <td>0.279299</td>\n",
       "      <td>-1.416020</td>\n",
       "      <td>-2.332363</td>\n",
       "      <td>0.215096</td>\n",
       "      <td>-0.693319</td>\n",
       "      <td>151.0</td>\n",
       "    </tr>\n",
       "    <tr>\n",
       "      <th>1</th>\n",
       "      <td>0.166951</td>\n",
       "      <td>-0.338060</td>\n",
       "      <td>-0.618867</td>\n",
       "      <td>0.759366</td>\n",
       "      <td>1.134281</td>\n",
       "      <td>-0.536844</td>\n",
       "      <td>-0.075120</td>\n",
       "      <td>0.970251</td>\n",
       "      <td>-0.327487</td>\n",
       "      <td>0.717310</td>\n",
       "      <td>...</td>\n",
       "      <td>-0.251054</td>\n",
       "      <td>-0.825716</td>\n",
       "      <td>0.339139</td>\n",
       "      <td>1.119430</td>\n",
       "      <td>0.225958</td>\n",
       "      <td>-0.822288</td>\n",
       "      <td>0.382838</td>\n",
       "      <td>-0.718829</td>\n",
       "      <td>-0.188993</td>\n",
       "      <td>75.0</td>\n",
       "    </tr>\n",
       "    <tr>\n",
       "      <th>2</th>\n",
       "      <td>-0.416177</td>\n",
       "      <td>-0.205659</td>\n",
       "      <td>-1.282226</td>\n",
       "      <td>1.675500</td>\n",
       "      <td>1.523746</td>\n",
       "      <td>0.192029</td>\n",
       "      <td>-0.235840</td>\n",
       "      <td>-1.954626</td>\n",
       "      <td>-0.853309</td>\n",
       "      <td>0.892791</td>\n",
       "      <td>...</td>\n",
       "      <td>1.283837</td>\n",
       "      <td>0.372516</td>\n",
       "      <td>-0.652557</td>\n",
       "      <td>-2.579347</td>\n",
       "      <td>0.139267</td>\n",
       "      <td>-1.901196</td>\n",
       "      <td>0.048210</td>\n",
       "      <td>0.220205</td>\n",
       "      <td>0.471588</td>\n",
       "      <td>141.0</td>\n",
       "    </tr>\n",
       "    <tr>\n",
       "      <th>3</th>\n",
       "      <td>0.867184</td>\n",
       "      <td>-0.398667</td>\n",
       "      <td>0.093501</td>\n",
       "      <td>0.025971</td>\n",
       "      <td>1.852099</td>\n",
       "      <td>0.789774</td>\n",
       "      <td>0.801775</td>\n",
       "      <td>0.376711</td>\n",
       "      <td>0.853689</td>\n",
       "      <td>0.247953</td>\n",
       "      <td>...</td>\n",
       "      <td>0.446582</td>\n",
       "      <td>0.334733</td>\n",
       "      <td>0.399074</td>\n",
       "      <td>-0.884172</td>\n",
       "      <td>0.723819</td>\n",
       "      <td>1.316367</td>\n",
       "      <td>0.088218</td>\n",
       "      <td>0.619496</td>\n",
       "      <td>1.061662</td>\n",
       "      <td>206.0</td>\n",
       "    </tr>\n",
       "    <tr>\n",
       "      <th>4</th>\n",
       "      <td>1.193282</td>\n",
       "      <td>-0.936980</td>\n",
       "      <td>-0.725039</td>\n",
       "      <td>0.766078</td>\n",
       "      <td>0.223489</td>\n",
       "      <td>-1.584622</td>\n",
       "      <td>1.146866</td>\n",
       "      <td>0.086136</td>\n",
       "      <td>-0.088780</td>\n",
       "      <td>-0.945066</td>\n",
       "      <td>...</td>\n",
       "      <td>0.786157</td>\n",
       "      <td>-1.058179</td>\n",
       "      <td>-0.155788</td>\n",
       "      <td>-0.642504</td>\n",
       "      <td>2.040010</td>\n",
       "      <td>-1.703110</td>\n",
       "      <td>-1.901502</td>\n",
       "      <td>1.778811</td>\n",
       "      <td>-0.489853</td>\n",
       "      <td>135.0</td>\n",
       "    </tr>\n",
       "  </tbody>\n",
       "</table>\n",
       "<p>5 rows × 211 columns</p>\n",
       "</div>"
      ],
      "text/plain": [
       "        0         1         2         3         4         5         6    \\\n",
       "0 -1.298173 -0.162249  1.223379  1.355554  1.080171  0.634979  0.298741   \n",
       "1  0.166951 -0.338060 -0.618867  0.759366  1.134281 -0.536844 -0.075120   \n",
       "2 -0.416177 -0.205659 -1.282226  1.675500  1.523746  0.192029 -0.235840   \n",
       "3  0.867184 -0.398667  0.093501  0.025971  1.852099  0.789774  0.801775   \n",
       "4  1.193282 -0.936980 -0.725039  0.766078  0.223489 -1.584622  1.146866   \n",
       "\n",
       "        7         8         9    ...         201       202       203  \\\n",
       "0  0.548270  0.731773  1.018645  ...    0.588278  0.210106  1.861458   \n",
       "1  0.970251 -0.327487  0.717310  ...   -0.251054 -0.825716  0.339139   \n",
       "2 -1.954626 -0.853309  0.892791  ...    1.283837  0.372516 -0.652557   \n",
       "3  0.376711  0.853689  0.247953  ...    0.446582  0.334733  0.399074   \n",
       "4  0.086136 -0.088780 -0.945066  ...    0.786157 -1.058179 -0.155788   \n",
       "\n",
       "        204       205       206       207       208       209    210  \n",
       "0 -0.436399  0.279299 -1.416020 -2.332363  0.215096 -0.693319  151.0  \n",
       "1  1.119430  0.225958 -0.822288  0.382838 -0.718829 -0.188993   75.0  \n",
       "2 -2.579347  0.139267 -1.901196  0.048210  0.220205  0.471588  141.0  \n",
       "3 -0.884172  0.723819  1.316367  0.088218  0.619496  1.061662  206.0  \n",
       "4 -0.642504  2.040010 -1.703110 -1.901502  1.778811 -0.489853  135.0  \n",
       "\n",
       "[5 rows x 211 columns]"
      ]
     },
     "execution_count": 3,
     "metadata": {},
     "output_type": "execute_result"
    }
   ],
   "source": [
    "df= pd.read_csv(\"https://bitbucket.org/portierf/shared_files/downloads/data_dm3.csv\", \",\", header=None)\n",
    "df.head(5)"
   ]
  },
  {
   "cell_type": "markdown",
   "metadata": {},
   "source": [
    "Il y a 211 colonnes dans le dataset dont une de label, ce qui fait 210 variables explicatives avec 442 observations."
   ]
  },
  {
   "cell_type": "code",
   "execution_count": 4,
   "metadata": {
    "scrolled": true
   },
   "outputs": [
    {
     "name": "stdout",
     "output_type": "stream",
     "text": [
      "(442, 211)\n"
     ]
    }
   ],
   "source": [
    "print(df.shape)"
   ]
  },
  {
   "cell_type": "markdown",
   "metadata": {},
   "source": [
    "## 2) \n",
    "Les variables explicatives sont-elles centrées ? Normalisées ? Qu’en est-il de la variable à expliquer ? Tracer un scatter plot de la base de données avec 4 covariables prises au hasard et la variable à expliquer (un scatterplot regroupe les graphes de chacune des variables en fonction de chacune des autres). Commenter les graphiques obtenus."
   ]
  },
  {
   "cell_type": "code",
   "execution_count": 5,
   "metadata": {
    "scrolled": false
   },
   "outputs": [
    {
     "data": {
      "text/html": [
       "<div>\n",
       "<style scoped>\n",
       "    .dataframe tbody tr th:only-of-type {\n",
       "        vertical-align: middle;\n",
       "    }\n",
       "\n",
       "    .dataframe tbody tr th {\n",
       "        vertical-align: top;\n",
       "    }\n",
       "\n",
       "    .dataframe thead th {\n",
       "        text-align: right;\n",
       "    }\n",
       "</style>\n",
       "<table border=\"1\" class=\"dataframe\">\n",
       "  <thead>\n",
       "    <tr style=\"text-align: right;\">\n",
       "      <th></th>\n",
       "      <th>0</th>\n",
       "      <th>1</th>\n",
       "      <th>2</th>\n",
       "      <th>3</th>\n",
       "      <th>4</th>\n",
       "      <th>5</th>\n",
       "      <th>6</th>\n",
       "      <th>7</th>\n",
       "      <th>8</th>\n",
       "      <th>9</th>\n",
       "      <th>...</th>\n",
       "      <th>201</th>\n",
       "      <th>202</th>\n",
       "      <th>203</th>\n",
       "      <th>204</th>\n",
       "      <th>205</th>\n",
       "      <th>206</th>\n",
       "      <th>207</th>\n",
       "      <th>208</th>\n",
       "      <th>209</th>\n",
       "      <th>210</th>\n",
       "    </tr>\n",
       "  </thead>\n",
       "  <tbody>\n",
       "    <tr>\n",
       "      <th>count</th>\n",
       "      <td>4.420000e+02</td>\n",
       "      <td>4.420000e+02</td>\n",
       "      <td>4.420000e+02</td>\n",
       "      <td>4.420000e+02</td>\n",
       "      <td>4.420000e+02</td>\n",
       "      <td>4.420000e+02</td>\n",
       "      <td>4.420000e+02</td>\n",
       "      <td>4.420000e+02</td>\n",
       "      <td>4.420000e+02</td>\n",
       "      <td>4.420000e+02</td>\n",
       "      <td>...</td>\n",
       "      <td>4.420000e+02</td>\n",
       "      <td>4.420000e+02</td>\n",
       "      <td>4.420000e+02</td>\n",
       "      <td>4.420000e+02</td>\n",
       "      <td>4.420000e+02</td>\n",
       "      <td>4.420000e+02</td>\n",
       "      <td>4.420000e+02</td>\n",
       "      <td>4.420000e+02</td>\n",
       "      <td>4.420000e+02</td>\n",
       "      <td>442.000000</td>\n",
       "    </tr>\n",
       "    <tr>\n",
       "      <th>mean</th>\n",
       "      <td>7.535450e-19</td>\n",
       "      <td>-1.507090e-17</td>\n",
       "      <td>5.494599e-20</td>\n",
       "      <td>-7.284269e-18</td>\n",
       "      <td>8.288995e-18</td>\n",
       "      <td>-2.712762e-17</td>\n",
       "      <td>1.971776e-17</td>\n",
       "      <td>8.540177e-18</td>\n",
       "      <td>1.029845e-17</td>\n",
       "      <td>4.018907e-18</td>\n",
       "      <td>...</td>\n",
       "      <td>-2.260635e-18</td>\n",
       "      <td>-2.637408e-17</td>\n",
       "      <td>-5.023634e-19</td>\n",
       "      <td>-1.538488e-17</td>\n",
       "      <td>5.525997e-18</td>\n",
       "      <td>3.265362e-17</td>\n",
       "      <td>1.507090e-17</td>\n",
       "      <td>-4.034606e-18</td>\n",
       "      <td>1.205672e-17</td>\n",
       "      <td>152.133484</td>\n",
       "    </tr>\n",
       "    <tr>\n",
       "      <th>std</th>\n",
       "      <td>1.001133e+00</td>\n",
       "      <td>1.001133e+00</td>\n",
       "      <td>1.001133e+00</td>\n",
       "      <td>1.001133e+00</td>\n",
       "      <td>1.001133e+00</td>\n",
       "      <td>1.001133e+00</td>\n",
       "      <td>1.001133e+00</td>\n",
       "      <td>1.001133e+00</td>\n",
       "      <td>1.001133e+00</td>\n",
       "      <td>1.001133e+00</td>\n",
       "      <td>...</td>\n",
       "      <td>1.001133e+00</td>\n",
       "      <td>1.001133e+00</td>\n",
       "      <td>1.001133e+00</td>\n",
       "      <td>1.001133e+00</td>\n",
       "      <td>1.001133e+00</td>\n",
       "      <td>1.001133e+00</td>\n",
       "      <td>1.001133e+00</td>\n",
       "      <td>1.001133e+00</td>\n",
       "      <td>1.001133e+00</td>\n",
       "      <td>77.093005</td>\n",
       "    </tr>\n",
       "    <tr>\n",
       "      <th>min</th>\n",
       "      <td>-3.149247e+00</td>\n",
       "      <td>-2.862871e+00</td>\n",
       "      <td>-3.057543e+00</td>\n",
       "      <td>-2.856903e+00</td>\n",
       "      <td>-3.102347e+00</td>\n",
       "      <td>-2.782344e+00</td>\n",
       "      <td>-2.825318e+00</td>\n",
       "      <td>-3.626525e+00</td>\n",
       "      <td>-2.834007e+00</td>\n",
       "      <td>-2.695861e+00</td>\n",
       "      <td>...</td>\n",
       "      <td>-3.059475e+00</td>\n",
       "      <td>-3.206539e+00</td>\n",
       "      <td>-2.585325e+00</td>\n",
       "      <td>-3.561763e+00</td>\n",
       "      <td>-3.167962e+00</td>\n",
       "      <td>-2.751207e+00</td>\n",
       "      <td>-3.028940e+00</td>\n",
       "      <td>-2.675447e+00</td>\n",
       "      <td>-2.918321e+00</td>\n",
       "      <td>25.000000</td>\n",
       "    </tr>\n",
       "    <tr>\n",
       "      <th>25%</th>\n",
       "      <td>-6.707870e-01</td>\n",
       "      <td>-7.128394e-01</td>\n",
       "      <td>-7.160981e-01</td>\n",
       "      <td>-6.715474e-01</td>\n",
       "      <td>-6.732232e-01</td>\n",
       "      <td>-6.951004e-01</td>\n",
       "      <td>-6.986587e-01</td>\n",
       "      <td>-6.387691e-01</td>\n",
       "      <td>-6.666746e-01</td>\n",
       "      <td>-6.930021e-01</td>\n",
       "      <td>...</td>\n",
       "      <td>-6.885118e-01</td>\n",
       "      <td>-5.793321e-01</td>\n",
       "      <td>-6.282190e-01</td>\n",
       "      <td>-6.190946e-01</td>\n",
       "      <td>-7.359866e-01</td>\n",
       "      <td>-6.374872e-01</td>\n",
       "      <td>-6.472739e-01</td>\n",
       "      <td>-7.025578e-01</td>\n",
       "      <td>-6.378171e-01</td>\n",
       "      <td>87.000000</td>\n",
       "    </tr>\n",
       "    <tr>\n",
       "      <th>50%</th>\n",
       "      <td>3.819503e-02</td>\n",
       "      <td>6.217421e-02</td>\n",
       "      <td>4.739406e-02</td>\n",
       "      <td>6.565749e-05</td>\n",
       "      <td>-6.111315e-03</td>\n",
       "      <td>-1.345167e-02</td>\n",
       "      <td>-4.823057e-02</td>\n",
       "      <td>4.016636e-02</td>\n",
       "      <td>6.047571e-04</td>\n",
       "      <td>3.602406e-02</td>\n",
       "      <td>...</td>\n",
       "      <td>-2.994795e-02</td>\n",
       "      <td>2.540540e-02</td>\n",
       "      <td>-2.229024e-02</td>\n",
       "      <td>-6.087758e-03</td>\n",
       "      <td>7.677091e-03</td>\n",
       "      <td>-3.123603e-03</td>\n",
       "      <td>2.444578e-02</td>\n",
       "      <td>-4.187834e-02</td>\n",
       "      <td>-8.099075e-02</td>\n",
       "      <td>140.500000</td>\n",
       "    </tr>\n",
       "    <tr>\n",
       "      <th>75%</th>\n",
       "      <td>6.748497e-01</td>\n",
       "      <td>6.244547e-01</td>\n",
       "      <td>6.975121e-01</td>\n",
       "      <td>6.881971e-01</td>\n",
       "      <td>7.026457e-01</td>\n",
       "      <td>7.155790e-01</td>\n",
       "      <td>7.200217e-01</td>\n",
       "      <td>5.788436e-01</td>\n",
       "      <td>6.298078e-01</td>\n",
       "      <td>6.629150e-01</td>\n",
       "      <td>...</td>\n",
       "      <td>6.672697e-01</td>\n",
       "      <td>6.676636e-01</td>\n",
       "      <td>5.985077e-01</td>\n",
       "      <td>7.406183e-01</td>\n",
       "      <td>7.000447e-01</td>\n",
       "      <td>6.440062e-01</td>\n",
       "      <td>6.313916e-01</td>\n",
       "      <td>6.929876e-01</td>\n",
       "      <td>7.249269e-01</td>\n",
       "      <td>211.500000</td>\n",
       "    </tr>\n",
       "    <tr>\n",
       "      <th>max</th>\n",
       "      <td>2.547051e+00</td>\n",
       "      <td>2.567177e+00</td>\n",
       "      <td>2.965824e+00</td>\n",
       "      <td>3.057612e+00</td>\n",
       "      <td>3.173713e+00</td>\n",
       "      <td>3.137950e+00</td>\n",
       "      <td>3.199205e+00</td>\n",
       "      <td>3.616718e+00</td>\n",
       "      <td>3.099090e+00</td>\n",
       "      <td>3.032505e+00</td>\n",
       "      <td>...</td>\n",
       "      <td>2.677458e+00</td>\n",
       "      <td>2.806877e+00</td>\n",
       "      <td>3.255462e+00</td>\n",
       "      <td>2.811911e+00</td>\n",
       "      <td>2.838960e+00</td>\n",
       "      <td>3.351254e+00</td>\n",
       "      <td>2.734481e+00</td>\n",
       "      <td>3.637684e+00</td>\n",
       "      <td>2.710260e+00</td>\n",
       "      <td>346.000000</td>\n",
       "    </tr>\n",
       "  </tbody>\n",
       "</table>\n",
       "<p>8 rows × 211 columns</p>\n",
       "</div>"
      ],
      "text/plain": [
       "                0             1             2             3             4    \\\n",
       "count  4.420000e+02  4.420000e+02  4.420000e+02  4.420000e+02  4.420000e+02   \n",
       "mean   7.535450e-19 -1.507090e-17  5.494599e-20 -7.284269e-18  8.288995e-18   \n",
       "std    1.001133e+00  1.001133e+00  1.001133e+00  1.001133e+00  1.001133e+00   \n",
       "min   -3.149247e+00 -2.862871e+00 -3.057543e+00 -2.856903e+00 -3.102347e+00   \n",
       "25%   -6.707870e-01 -7.128394e-01 -7.160981e-01 -6.715474e-01 -6.732232e-01   \n",
       "50%    3.819503e-02  6.217421e-02  4.739406e-02  6.565749e-05 -6.111315e-03   \n",
       "75%    6.748497e-01  6.244547e-01  6.975121e-01  6.881971e-01  7.026457e-01   \n",
       "max    2.547051e+00  2.567177e+00  2.965824e+00  3.057612e+00  3.173713e+00   \n",
       "\n",
       "                5             6             7             8             9    \\\n",
       "count  4.420000e+02  4.420000e+02  4.420000e+02  4.420000e+02  4.420000e+02   \n",
       "mean  -2.712762e-17  1.971776e-17  8.540177e-18  1.029845e-17  4.018907e-18   \n",
       "std    1.001133e+00  1.001133e+00  1.001133e+00  1.001133e+00  1.001133e+00   \n",
       "min   -2.782344e+00 -2.825318e+00 -3.626525e+00 -2.834007e+00 -2.695861e+00   \n",
       "25%   -6.951004e-01 -6.986587e-01 -6.387691e-01 -6.666746e-01 -6.930021e-01   \n",
       "50%   -1.345167e-02 -4.823057e-02  4.016636e-02  6.047571e-04  3.602406e-02   \n",
       "75%    7.155790e-01  7.200217e-01  5.788436e-01  6.298078e-01  6.629150e-01   \n",
       "max    3.137950e+00  3.199205e+00  3.616718e+00  3.099090e+00  3.032505e+00   \n",
       "\n",
       "          ...               201           202           203           204  \\\n",
       "count     ...      4.420000e+02  4.420000e+02  4.420000e+02  4.420000e+02   \n",
       "mean      ...     -2.260635e-18 -2.637408e-17 -5.023634e-19 -1.538488e-17   \n",
       "std       ...      1.001133e+00  1.001133e+00  1.001133e+00  1.001133e+00   \n",
       "min       ...     -3.059475e+00 -3.206539e+00 -2.585325e+00 -3.561763e+00   \n",
       "25%       ...     -6.885118e-01 -5.793321e-01 -6.282190e-01 -6.190946e-01   \n",
       "50%       ...     -2.994795e-02  2.540540e-02 -2.229024e-02 -6.087758e-03   \n",
       "75%       ...      6.672697e-01  6.676636e-01  5.985077e-01  7.406183e-01   \n",
       "max       ...      2.677458e+00  2.806877e+00  3.255462e+00  2.811911e+00   \n",
       "\n",
       "                205           206           207           208           209  \\\n",
       "count  4.420000e+02  4.420000e+02  4.420000e+02  4.420000e+02  4.420000e+02   \n",
       "mean   5.525997e-18  3.265362e-17  1.507090e-17 -4.034606e-18  1.205672e-17   \n",
       "std    1.001133e+00  1.001133e+00  1.001133e+00  1.001133e+00  1.001133e+00   \n",
       "min   -3.167962e+00 -2.751207e+00 -3.028940e+00 -2.675447e+00 -2.918321e+00   \n",
       "25%   -7.359866e-01 -6.374872e-01 -6.472739e-01 -7.025578e-01 -6.378171e-01   \n",
       "50%    7.677091e-03 -3.123603e-03  2.444578e-02 -4.187834e-02 -8.099075e-02   \n",
       "75%    7.000447e-01  6.440062e-01  6.313916e-01  6.929876e-01  7.249269e-01   \n",
       "max    2.838960e+00  3.351254e+00  2.734481e+00  3.637684e+00  2.710260e+00   \n",
       "\n",
       "              210  \n",
       "count  442.000000  \n",
       "mean   152.133484  \n",
       "std     77.093005  \n",
       "min     25.000000  \n",
       "25%     87.000000  \n",
       "50%    140.500000  \n",
       "75%    211.500000  \n",
       "max    346.000000  \n",
       "\n",
       "[8 rows x 211 columns]"
      ]
     },
     "execution_count": 5,
     "metadata": {},
     "output_type": "execute_result"
    }
   ],
   "source": [
    "df.describe()"
   ]
  },
  {
   "cell_type": "code",
   "execution_count": 6,
   "metadata": {
    "scrolled": true
   },
   "outputs": [
    {
     "name": "stdout",
     "output_type": "stream",
     "text": [
      "              0\n",
      "210  152.133484\n"
     ]
    }
   ],
   "source": [
    "meandf=pd.DataFrame(np.abs(df.mean()))\n",
    "meandfnonzero=meandf.loc[meandf[0]>10**-10]\n",
    "print(meandfnonzero)"
   ]
  },
  {
   "cell_type": "code",
   "execution_count": 7,
   "metadata": {},
   "outputs": [
    {
     "name": "stdout",
     "output_type": "stream",
     "text": [
      "             0\n",
      "210  77.093005\n"
     ]
    }
   ],
   "source": [
    "stddf=pd.DataFrame(df.std())\n",
    "stddfnon1=stddf.loc[np.abs(stddf[0]-1)>10**-2]\n",
    "print(stddfnon1)"
   ]
  },
  {
   "cell_type": "markdown",
   "metadata": {},
   "source": [
    "Les variables explicatives sont centrées et normalisées.La variance peut être quelque peu différente de 1 en raison de l'estimateur biaisé. La variable y à expliquer ne l'est pas, ni normalisée ni centrée."
   ]
  },
  {
   "cell_type": "code",
   "execution_count": 8,
   "metadata": {},
   "outputs": [],
   "source": [
    "Xdf = df.drop([210], 1)\n",
    "ydf = df[210]"
   ]
  },
  {
   "cell_type": "code",
   "execution_count": 9,
   "metadata": {},
   "outputs": [],
   "source": [
    "randomX= df.sample(4, axis=1)\n",
    "randomX[\"y\"]=ydf\n"
   ]
  },
  {
   "cell_type": "code",
   "execution_count": 10,
   "metadata": {},
   "outputs": [
    {
     "data": {
      "image/png": "[encoded data removed]",
      "text/plain": [
       "<Figure size 432x432 with 25 Axes>"
      ]
     },
     "metadata": {},
     "output_type": "display_data"
    }
   ],
   "source": [
    "scatter_matrix(randomX, alpha=0.2, figsize=(6, 6), diagonal='kde')\n",
    "plt.show()"
   ]
  },
  {
   "cell_type": "markdown",
   "metadata": {},
   "source": [
    "Les variables semblent avoir une distribution normale. Ce graph peut également montrer la corrélation entre les variables. (en fonction des variables sélectionnées aléatoirement)"
   ]
  },
  {
   "cell_type": "markdown",
   "metadata": {},
   "source": [
    "## 3)\n",
    "Donner la matrix des correlations. Tracer le graphes de la décroissance des valeurs propres de la matrice de corrélation. Expliquer pourquoi il est légitime de ne garder que les premières variables de l’ACP. On gardera 60 variables dans la suite."
   ]
  },
  {
   "cell_type": "code",
   "execution_count": 11,
   "metadata": {},
   "outputs": [
    {
     "data": {
      "image/png": "[encoded data removed]",
      "text/plain": [
       "<Figure size 288x288 with 1 Axes>"
      ]
     },
     "metadata": {},
     "output_type": "display_data"
    }
   ],
   "source": [
    "plt.matshow(Xdf.corr(),)\n",
    "plt.show()"
   ]
  },
  {
   "cell_type": "markdown",
   "metadata": {},
   "source": [
    "La matrice de corrélation peut par contre nous montrer certainement des corrélations entre les variables"
   ]
  },
  {
   "cell_type": "code",
   "execution_count": 12,
   "metadata": {
    "scrolled": true
   },
   "outputs": [
    {
     "data": {
      "image/png": "[encoded data removed]",
      "text/plain": [
       "<Figure size 432x288 with 1 Axes>"
      ]
     },
     "metadata": {},
     "output_type": "display_data"
    }
   ],
   "source": [
    "coveigenvalues, coveigenvectors= np.linalg.eigh(Xdf.cov())\n",
    "eig_vals_sorted = np.sort(coveigenvalues)[::-1]\n",
    "plt.scatter(np.arange(len(eig_vals_sorted)),eig_vals_sorted)\n",
    "plt.xlabel(\"Number of eigenvalue\")\n",
    "plt.ylabel(\"eigenvalue\")\n",
    "plt.title(\"Scree plot\")\n",
    "plt.show()"
   ]
  },
  {
   "cell_type": "markdown",
   "metadata": {},
   "source": [
    "Apres les 60 premières valeurs propres on a des valeurs propres négligeables, presque égale à 0.\n",
    "Cela veut dire l'on peut exprimer très précisement les dernières composantes avec les 60 premières, principales. Le nouvel espace peut donc exprimer presque toute l'information contenue dans l'espace des 210 variables."
   ]
  },
  {
   "cell_type": "code",
   "execution_count": 13,
   "metadata": {},
   "outputs": [
    {
     "name": "stdout",
     "output_type": "stream",
     "text": [
      "60\n"
     ]
    }
   ],
   "source": [
    "rangXdf=np.linalg.matrix_rank(Xdf)\n",
    "print(rangXdf)"
   ]
  },
  {
   "cell_type": "markdown",
   "metadata": {},
   "source": [
    "On voit ici que la matrice n'est pas de rang plein, de rang 60. Cela a donc un sens de ne garder que les 60 premieres composantes."
   ]
  },
  {
   "cell_type": "markdown",
   "metadata": {},
   "source": [
    "## 4)\n",
    "Echantillon d’apprentissage et de test. Créer 2 échantillons : un pour apprendre le modèle, un pour tester le modèle. On mettra 20% de la base dans l’échantillon ’test’. Donner les tailles de chacun des 2 échantillons."
   ]
  },
  {
   "cell_type": "code",
   "execution_count": 14,
   "metadata": {
    "scrolled": true
   },
   "outputs": [
    {
     "name": "stdout",
     "output_type": "stream",
     "text": [
      "(353, 210)\n",
      "(89, 210)\n",
      "(353,)\n",
      "(89,)\n"
     ]
    }
   ],
   "source": [
    "X_train, X_test, y_train, y_test = train_test_split(np.array(Xdf), np.array(ydf), test_size=0.2)\n",
    "print(X_train.shape)\n",
    "print(X_test.shape)\n",
    "print(y_train.shape)\n",
    "print(y_test.shape)"
   ]
  },
  {
   "cell_type": "code",
   "execution_count": 15,
   "metadata": {},
   "outputs": [],
   "source": [
    "X_train_I = sm.add_constant(X_train)\n",
    "X_test_I = sm.add_constant(X_test)"
   ]
  },
  {
   "cell_type": "code",
   "execution_count": 16,
   "metadata": {},
   "outputs": [],
   "source": [
    "stc= StandardScaler()\n",
    "X_train_cr = stc.fit_transform(X_train)\n",
    "y_train_cr=(y_train-y_train.mean())/np.std(y_train)\n",
    "X_test_cr = stc.fit_transform(X_test)\n",
    "y_test_cr=(y_test-y_test.mean())/np.std(y_test)"
   ]
  },
  {
   "cell_type": "markdown",
   "metadata": {},
   "source": [
    "Ci dessus les dimensions de nos matrices de train et de test (X puis y)"
   ]
  },
  {
   "cell_type": "code",
   "execution_count": 17,
   "metadata": {},
   "outputs": [],
   "source": [
    "U, S, V = np.linalg.svd(X_train) \n",
    "#Je reconstruis les valeurs propres de la matrice de de gram grâce aux valeurs singulières\n",
    "eigvals = S**2 / np.cumsum(S)[-1]"
   ]
  },
  {
   "cell_type": "markdown",
   "metadata": {},
   "source": [
    "Ici nul besoin d'ordonner les valeurs propres car les valeurs singulières (S) le sont déjà "
   ]
  },
  {
   "cell_type": "code",
   "execution_count": 18,
   "metadata": {
    "scrolled": true
   },
   "outputs": [
    {
     "data": {
      "image/png": "[encoded data removed]",
      "text/plain": [
       "<Figure size 432x288 with 1 Axes>"
      ]
     },
     "metadata": {},
     "output_type": "display_data"
    }
   ],
   "source": [
    "\n",
    "plt.figure()\n",
    "plt.scatter(np.arange(len(eigvals)),eigvals)\n",
    "plt.xlabel(\"Number of eigenvalue\")\n",
    "plt.ylabel(\"eigenvalue\")\n",
    "plt.title(\"Scree plot\")\n",
    "plt.show()\n"
   ]
  },
  {
   "cell_type": "markdown",
   "metadata": {},
   "source": [
    "<div>Vérification<div>\n",
    "On retrouve bien la même valeur 60 à partir de laquelle les valeurs propres sont négligeables"
   ]
  },
  {
   "cell_type": "markdown",
   "metadata": {},
   "source": [
    "## 5) PCA before OLS\n",
    "Suivant les observations de la question (Q3), appliquer la méthode de \"PCA before OLS\" qui consiste à faire une ACP avant la régression. On tracera les valeurs des coefficients de régression calculés (sans l’intercept). Sur un autre graphique, faire de même avec la méthode des moindres carrées classique.\n",
    "\n",
    "Ici je vais utiliser la svd pour faire la PCA. \n",
    "La PCA sert à réduire les dimensions de X (train) pour enlever l'information redondante et ne pas  travailler avec des matrices énormes et non inversibles (XtX^-1)"
   ]
  },
  {
   "cell_type": "code",
   "execution_count": 19,
   "metadata": {
    "scrolled": true
   },
   "outputs": [],
   "source": [
    "#Je prends d'abord les matrices complètes que je vais réduire moi même\n",
    "U_train, S_train, V_train = np.linalg.svd(X_train)\n",
    "eigvals = S_train**2 / np.cumsum(S_train)[-1]\n"
   ]
  },
  {
   "cell_type": "markdown",
   "metadata": {},
   "source": [
    "Comme vu dans la question 3, on peut ne garder que les 60 premiers vecteurs et valeurs propres"
   ]
  },
  {
   "cell_type": "code",
   "execution_count": 20,
   "metadata": {},
   "outputs": [
    {
     "name": "stdout",
     "output_type": "stream",
     "text": [
      "(353, 60)\n",
      "1.461742985225771e-13\n"
     ]
    }
   ],
   "source": [
    "#on réduit U S V\n",
    "Ureduced = U_train[:,:60]\n",
    "Sreduced = np.diag(S_train)[:60,:60]\n",
    "Vreduced = V_train.T[:,:60]\n",
    "Xreduced=Ureduced@Sreduced\n",
    "#On projette XTrain sur le nouvel espace formé par les PCs de la PCA\n",
    "Xpca = X_train@Vreduced\n",
    "print(Xpca.shape)\n",
    "print(np.sum(Xreduced-Xpca))"
   ]
  },
  {
   "cell_type": "markdown",
   "metadata": {},
   "source": [
    "J'ai réduit mon X_train qui comportait 210 colonnes à 60 colonnes. Ici on vérifie que XV=US"
   ]
  },
  {
   "cell_type": "code",
   "execution_count": 21,
   "metadata": {},
   "outputs": [
    {
     "data": {
      "image/png": "[encoded data removed]",
      "text/plain": [
       "<Figure size 288x288 with 1 Axes>"
      ]
     },
     "metadata": {},
     "output_type": "display_data"
    }
   ],
   "source": [
    "plt.matshow(pd.DataFrame(Xpca).corr())\n",
    "plt.show()"
   ]
  },
  {
   "cell_type": "markdown",
   "metadata": {},
   "source": [
    "Ici on vérifie que la matrice de corrélation n'indique plus de corrélation. En effet on a enlevé l'information redondante."
   ]
  },
  {
   "cell_type": "markdown",
   "metadata": {},
   "source": [
    "#### Maintenant on peut réaliser la regression linéaire avec notre nouvelle matrice Xpca issue de la PCA"
   ]
  },
  {
   "cell_type": "code",
   "execution_count": 22,
   "metadata": {},
   "outputs": [
    {
     "name": "stdout",
     "output_type": "stream",
     "text": [
      "(89, 60)\n"
     ]
    }
   ],
   "source": [
    "#Ajout de l'intercept à Xpca\n",
    "Xpca_I = sm.add_constant(Xpca)\n",
    "gramPca=Xpca_I.T@Xpca_I\n",
    "# Pour calculer Theta, on peut utiliser inv car il n'y a plus de corrélation maintenant\n",
    "thetapca=np.linalg.inv(gramPca)@Xpca_I.T@y_train\n",
    "#On projette Xtest sur l'espace PCA \n",
    "XtestPca= X_test@Vreduced\n",
    "print(XtestPca.shape)\n",
    "XtestPca_I= sm.add_constant(XtestPca)\n",
    "ypredpca= XtestPca_I@thetapca"
   ]
  },
  {
   "cell_type": "markdown",
   "metadata": {},
   "source": [
    "On calcule le coefficient de détermination"
   ]
  },
  {
   "cell_type": "code",
   "execution_count": 23,
   "metadata": {},
   "outputs": [
    {
     "name": "stdout",
     "output_type": "stream",
     "text": [
      "0.5283314323799991\n"
     ]
    }
   ],
   "source": [
    "R2pca=1-np.sum((ypredpca-y_test)**2)/np.sum((y_test-y_test.mean())**2)\n",
    "scoresTP[\"PCA+OLS\"]=R2pca\n",
    "print(R2pca)"
   ]
  },
  {
   "cell_type": "markdown",
   "metadata": {},
   "source": [
    "On peut vérifier avec scikit learn le R2"
   ]
  },
  {
   "cell_type": "code",
   "execution_count": 24,
   "metadata": {
    "scrolled": true
   },
   "outputs": [
    {
     "name": "stdout",
     "output_type": "stream",
     "text": [
      "0.528331432379999\n"
     ]
    }
   ],
   "source": [
    "# Choix de sklearn\n",
    "regpca = LinearRegression()\n",
    "regrpca = regpca.fit(Xpca, y_train)\n",
    "print(regpca.score(XtestPca,y_test))"
   ]
  },
  {
   "cell_type": "code",
   "execution_count": 25,
   "metadata": {},
   "outputs": [
    {
     "data": {
      "image/png": "[encoded data removed]",
      "text/plain": [
       "<Figure size 432x288 with 1 Axes>"
      ]
     },
     "metadata": {},
     "output_type": "display_data"
    }
   ],
   "source": [
    "\n",
    "plt.figure()\n",
    "plt.xlabel(\"Feature\")\n",
    "plt.ylabel(\"Coefficient\")\n",
    "plt.title(\"Coefficient plot\")\n",
    "plt.scatter(np.arange(0,regrpca.coef_.shape[0]),np.abs(regrpca.coef_))\n",
    "plt.show()"
   ]
  },
  {
   "cell_type": "markdown",
   "metadata": {},
   "source": [
    "On fait l'OLS maintenant sur X_train (sans pca) pour comparer"
   ]
  },
  {
   "cell_type": "code",
   "execution_count": 26,
   "metadata": {},
   "outputs": [
    {
     "name": "stdout",
     "output_type": "stream",
     "text": [
      "60\n"
     ]
    }
   ],
   "source": [
    "rangXtrain=np.linalg.matrix_rank(X_train)\n",
    "print(rangXtrain)"
   ]
  },
  {
   "cell_type": "markdown",
   "metadata": {},
   "source": [
    "Comme montré auparavant, la matrice n'est pas de rang plein, ie on ne peut pas l'inverser, car comme le montre la matrice de corrélation elle contient de l'information redondante"
   ]
  },
  {
   "cell_type": "markdown",
   "metadata": {},
   "source": [
    "X_train non inversible on prend la pseudoinverse"
   ]
  },
  {
   "cell_type": "markdown",
   "metadata": {},
   "source": [
    "Je vais utiliser ici la fonction pinv de numpy."
   ]
  },
  {
   "cell_type": "code",
   "execution_count": 27,
   "metadata": {},
   "outputs": [
    {
     "name": "stdout",
     "output_type": "stream",
     "text": [
      "0.5283314323799988\n"
     ]
    }
   ],
   "source": [
    "thetaLR=np.linalg.pinv(X_train_I)@y_train\n",
    "#thetaLR=np.linalg.inv(X_train_I.T@X_train_I)@X_train_I.T@y_train\n",
    "ypredLR= X_test_I@thetaLR\n",
    "RLR=1-np.sum((ypredLR-y_test)**2)/np.sum((y_test-y_test.mean())**2)\n",
    "scoresTP[\"OLS\"]=RLR\n",
    "print(RLR)"
   ]
  },
  {
   "cell_type": "markdown",
   "metadata": {},
   "source": [
    "On trace également les coefficients obtenus"
   ]
  },
  {
   "cell_type": "code",
   "execution_count": 28,
   "metadata": {},
   "outputs": [
    {
     "name": "stdout",
     "output_type": "stream",
     "text": [
      "[ 23  34  58  79 112 123 129 133 135 167 174 208]\n"
     ]
    }
   ],
   "source": [
    "#on peut afficher les coefficients \"non négligeables\"\n",
    "coefsplus2= np.where(np.abs(thetaLR[1:])>2)[0]\n",
    "print(coefsplus2)"
   ]
  },
  {
   "cell_type": "code",
   "execution_count": 29,
   "metadata": {
    "scrolled": false
   },
   "outputs": [
    {
     "data": {
      "image/png": "[encoded data removed]",
      "text/plain": [
       "<Figure size 2160x720 with 1 Axes>"
      ]
     },
     "metadata": {},
     "output_type": "display_data"
    }
   ],
   "source": [
    "plt.figure(figsize=(30,10))\n",
    "plt.xlabel(\"Feature\")\n",
    "plt.ylabel(\"Coefficient\")\n",
    "plt.title(\"Coefficient plot\")\n",
    "plt.scatter(np.arange(0,210),np.abs(thetaLR[1:]))\n",
    "#plt.scatter(coefsplus2,np.abs(thetaLR[coefsplus2+1]), marker=\"o\")\n",
    "for coef in coefsplus2:\n",
    "    plt.annotate(\"Feature \"+str(coef),(coef,np.abs(thetaLR[coef+1])) )\n",
    "plt.axhline(y=2, color=\"red\")\n",
    "\n",
    "plt.show()"
   ]
  },
  {
   "cell_type": "markdown",
   "metadata": {},
   "source": [
    "Dans le doute, j'utilise également la fonction LinearRegression de Scikit learn, mais je trouve des résultats beaucoup moins bons ou complètement abberants (R2). La corrélation donc les valeurs propres qui explosent doivent jouer sur le résultat. "
   ]
  },
  {
   "cell_type": "code",
   "execution_count": 30,
   "metadata": {
    "scrolled": true
   },
   "outputs": [
    {
     "name": "stdout",
     "output_type": "stream",
     "text": [
      "0.35350643947486593\n"
     ]
    }
   ],
   "source": [
    "lrtrain= LinearRegression()\n",
    "lrtrain.fit(X_train, y_train)\n",
    "ypredlr= lrtrain.predict(X_test)\n",
    "print(lrtrain.score(X_test, y_test))"
   ]
  },
  {
   "cell_type": "markdown",
   "metadata": {},
   "source": [
    "Je fais également un ols sur Xtrain en prenant l'inverse, le résultat n'est pas bon."
   ]
  },
  {
   "cell_type": "code",
   "execution_count": 31,
   "metadata": {},
   "outputs": [
    {
     "name": "stdout",
     "output_type": "stream",
     "text": [
      "-11777.469882537465\n"
     ]
    }
   ],
   "source": [
    "thetalrols=np.linalg.inv(X_train_I.T@X_train_I)@X_train_I.T@y_train\n",
    "ypredlrols= X_test_I@thetalrols\n",
    "Rlrols=1-np.sum((ypredlrols-y_test)**2)/np.sum((y_test-y_test.mean())**2)\n",
    "print(Rlrols)"
   ]
  },
  {
   "cell_type": "markdown",
   "metadata": {},
   "source": [
    "## 6) Intercepts\n",
    "Donner les valeurs des intercepts pour les 2 régressions précédentes. Donner la valeur moyenne de la variable Y (sur le train set). Les intercepts des 2 questions sont-ils égaux ? Commenter. Centrer et réduire les variables après ACP (de petite dimension). Faire une régression avec ces variables et vérifier que l’intercept est bien égal à la moyenne de Y sut le train."
   ]
  },
  {
   "cell_type": "markdown",
   "metadata": {},
   "source": [
    "On affiche les intercepts des coefficients obtenus par OLS et PCA + OLS"
   ]
  },
  {
   "cell_type": "code",
   "execution_count": 32,
   "metadata": {},
   "outputs": [
    {
     "name": "stdout",
     "output_type": "stream",
     "text": [
      "151.33138934377496\n",
      "151.33138934377467\n",
      "149.74787535410766\n"
     ]
    }
   ],
   "source": [
    "print(thetapca[0])\n",
    "print(thetaLR[0])\n",
    "print(y_train.mean())"
   ]
  },
  {
   "cell_type": "markdown",
   "metadata": {},
   "source": [
    "On en conclut que les coefficient des OLS et PCA OLS sont sensiblement les mêmes et presque égaux à la moyenne de y_train. Cela est du au fait que les variables de X_train ne sont plus centrées ni normalisées car on a pris un échantillon de X. D'où le petit écart."
   ]
  },
  {
   "cell_type": "markdown",
   "metadata": {},
   "source": [
    "On standardise Xpca (centrage+ normalisation)"
   ]
  },
  {
   "cell_type": "code",
   "execution_count": 33,
   "metadata": {},
   "outputs": [
    {
     "name": "stdout",
     "output_type": "stream",
     "text": [
      "149.74787535410766\n",
      "149.74787535410766\n"
     ]
    }
   ],
   "source": [
    "scaler = StandardScaler()\n",
    "std = scaler.fit(Xpca)\n",
    "XpcaStd = scaler.transform(Xpca)\n",
    "thetapcaStd=np.linalg.inv(XpcaStd.T@XpcaStd)@XpcaStd.T@y_train\n",
    "regpcaStd = LinearRegression()\n",
    "regrpcaStd = regpcaStd.fit(XpcaStd, y_train)\n",
    "print(regrpcaStd.intercept_)\n",
    "print(y_train.mean())"
   ]
  },
  {
   "cell_type": "markdown",
   "metadata": {},
   "source": [
    "Ici on vérifie bien que l'intercept est égal à la moyenne de y."
   ]
  },
  {
   "cell_type": "markdown",
   "metadata": {},
   "source": [
    "## 7)\n",
    "Pour les 2 méthodes (OLS et PCA before OLS) : Tracer les résidus de la prédiction sur l’échantillon test. Tracer leur densité (on pourra par exemple utiliser un histogramme). Calculer le coefficient de détermination sur l’échantillon test. Calculer le risque de prédiction sur l’échantillon test."
   ]
  },
  {
   "cell_type": "markdown",
   "metadata": {},
   "source": [
    "Ici je trace la valeur des résidus. Les prédictions avec pca before ols et ols sont les mêmes, donc les résidus également."
   ]
  },
  {
   "cell_type": "code",
   "execution_count": 34,
   "metadata": {},
   "outputs": [
    {
     "data": {
      "image/png": "[encoded data removed]",
      "text/plain": [
       "<Figure size 2160x720 with 1 Axes>"
      ]
     },
     "metadata": {},
     "output_type": "display_data"
    }
   ],
   "source": [
    "plt.figure(figsize=(30,10))\n",
    "\n",
    "#plot des résidus issus de la pca\n",
    "plt.scatter(np.arange(0,y_test.shape[0]) ,y_test-ypredpca,marker='^',c=\"red\",label='pca')\n",
    "#plot des résidus de l'OLS avec la pseudoinverse\n",
    "plt.scatter(np.arange(0,y_test.shape[0]) ,y_test-ypredLR ,marker='x',c=\"yellow\",label='ols' )\n",
    "\n",
    "#plot des résidus scikit-learn LinearRegression\n",
    "plt.scatter(np.arange(0,y_test.shape[0]) ,y_test-ypredlr,label='LinearRegression')\n",
    "plt.legend()\n",
    "plt.show()"
   ]
  },
  {
   "cell_type": "code",
   "execution_count": 35,
   "metadata": {},
   "outputs": [
    {
     "data": {
      "image/png": "[encoded data removed]",
      "text/plain": [
       "<Figure size 1440x1440 with 3 Axes>"
      ]
     },
     "metadata": {},
     "output_type": "display_data"
    }
   ],
   "source": [
    "plt.figure(figsize=(20,20))\n",
    "plt.subplot(321)\n",
    "plt.title(\"PCA+OLS\")\n",
    "plt.hist(y_test-ypredpca, bins=15, density=True)\n",
    "plt.subplot(322)\n",
    "plt.title(\"OLS pseudo inverse\")\n",
    "plt.hist(y_test-ypredLR, bins=20)\n",
    "plt.subplot(323)\n",
    "plt.hist(y_test-ypredlr, bins=20)\n",
    "plt.title(\"LinearRegression\")\n",
    "\n",
    "plt.show()"
   ]
  },
  {
   "cell_type": "code",
   "execution_count": 36,
   "metadata": {
    "scrolled": true
   },
   "outputs": [
    {
     "name": "stdout",
     "output_type": "stream",
     "text": [
      "MSE score avec PCA 3196.086832625374\n",
      "MSE score avec OLS 3196.0868326253767\n",
      "MSE score avec LinearRegression() 4380.723452905913\n"
     ]
    }
   ],
   "source": [
    "msepcaols= mean_squared_error(y_test,ypredpca)\n",
    "mseols= mean_squared_error(y_test,ypredLR)\n",
    "print(\"MSE score avec PCA {}\".format(str(msepcaols)))\n",
    "print(\"MSE score avec OLS {}\".format(str(mseols)))\n",
    "print(\"MSE score avec LinearRegression() {}\".format(str(mean_squared_error(y_test,ypredlr))))"
   ]
  },
  {
   "cell_type": "code",
   "execution_count": 37,
   "metadata": {},
   "outputs": [
    {
     "name": "stdout",
     "output_type": "stream",
     "text": [
      "Rpred  avec PCA 6962.903456790995\n",
      "Rpred  avec OLS 6612.593446811125\n",
      "Rpred avec LinearRegression() 9063.565764632927\n"
     ]
    }
   ],
   "source": [
    "rpredpcaols= matrix_rank(XtestPca_I)/(len(y_test)*(len(y_test)-matrix_rank(XtestPca_I)))*np.linalg.norm(y_test-ypredpca)**2\n",
    "rpredols= matrix_rank(X_test)/(len(y_test)*(len(y_test)-matrix_rank(X_test)))*np.linalg.norm(y_test-ypredLR)**2\n",
    "rpredlrsk= matrix_rank(X_test)/(len(y_test)*(len(y_test)-matrix_rank(X_test)))*np.linalg.norm(y_test-ypredlr)**2\n",
    "\n",
    "print(\"Rpred  avec PCA {}\".format(str(rpredpcaols)))\n",
    "print(\"Rpred  avec OLS {}\".format(str(rpredols)))\n",
    "print(\"Rpred avec LinearRegression() {}\".format(str(rpredlrsk)))"
   ]
  },
  {
   "cell_type": "code",
   "execution_count": 38,
   "metadata": {},
   "outputs": [
    {
     "name": "stdout",
     "output_type": "stream",
     "text": [
      "R2 score avec OLS 0.5283314323799988\n",
      "R2 score avec PCA +OLS 0.5283314323799991\n"
     ]
    }
   ],
   "source": [
    "print(\"R2 score avec OLS \"+str(RLR))\n",
    "print(\"R2 score avec PCA +OLS \"+str(R2pca))"
   ]
  },
  {
   "cell_type": "markdown",
   "metadata": {},
   "source": [
    "Les coefficients de détermination respectivement de l'ols et PCA+OLS ci dessus sont à peu près les mêmes"
   ]
  },
  {
   "cell_type": "markdown",
   "metadata": {},
   "source": [
    "## 8) Forward selection\n",
    "Appliquer la méthode de forward variable sélection. On pourra utiliser la statistique du test de nullité du coefficient (comme vu en cours). Pour l’instant, on ne met pas de critère d’arret sur la méthode. C’est à dire que l’on ajoute une variable à chaque étape jusqu’à retrouver la totalité des variables. Afficher l’ordre de séléction des variables."
   ]
  },
  {
   "cell_type": "markdown",
   "metadata": {},
   "source": [
    "On définit la fonction de forward selection avec un seuil en paramètre pour répondre à la question 9 également"
   ]
  },
  {
   "cell_type": "code",
   "execution_count": 39,
   "metadata": {},
   "outputs": [],
   "source": [
    "\n",
    "def forward_selection(Xfwd, threshold=1):\n",
    "\n",
    "    p=Xfwd.shape[1]\n",
    "    n=Xfwd.shape[0]\n",
    "    r= y_train\n",
    "    test = np.zeros((p,p))\n",
    "    pval_mem = np.zeros(p)\n",
    "    pval = np.zeros((p,p))\n",
    "    resids = y_train\n",
    "    var_sel = []\n",
    "    var_remain = list(range(p))\n",
    "    in_test = []\n",
    "    #regr = LinearRegression(fit_intercept = False)\n",
    "    \n",
    "    for k in range(p): \n",
    "        resids_mem = np.zeros((p,n))\n",
    "        #pour chaque variable explicative on fait une OLS en ajoutant l'intercept\n",
    "        for i in var_remain:\n",
    "            Xtemp=Xfwd [:,i]\n",
    "            gramtemp=Xtemp.T@Xtemp\n",
    "            rg=np.linalg.matrix_rank(gramtemp)\n",
    "            thetatemp=Xtemp.T@resids/gramtemp\n",
    "            ypredtemp=Xtemp*thetatemp\n",
    "            resids_mem [i,:] =resids-ypredtemp\n",
    "            sigma2_tmp= 1/(n)*np.sum((resids-ypredtemp)**2)\n",
    "            stdtheta=np.sqrt(sigma2_tmp/gramtemp)\n",
    "            #on calcule notre statistique de test : theta / std(theta)\n",
    "            test[k,i] =  np.abs(thetatemp) / stdtheta \n",
    "            #On calcule notre pvalue selon la loi de student\n",
    "            pval[k,i] =   (1-t.cdf(np.abs(test[k,i]), n-rg))*2\n",
    "\n",
    "        best_var = np.argmax(test[k,:])\n",
    "        var_sel.append(best_var)\n",
    "        resids = resids_mem[best_var,:]\n",
    "        if pval[k,best_var] > threshold:\n",
    "            break\n",
    "        pval_mem [k] = pval[k,best_var]\n",
    "        var_remain = np.setdiff1d(var_remain,var_sel)\n",
    "        \n",
    "    return var_sel, test, pval_mem"
   ]
  },
  {
   "cell_type": "markdown",
   "metadata": {},
   "source": [
    "On run la fonction ci dessus et on affiche les résultats dans un dataframe"
   ]
  },
  {
   "cell_type": "code",
   "execution_count": 40,
   "metadata": {},
   "outputs": [
    {
     "data": {
      "text/html": [
       "<div>\n",
       "<style scoped>\n",
       "    .dataframe tbody tr th:only-of-type {\n",
       "        vertical-align: middle;\n",
       "    }\n",
       "\n",
       "    .dataframe tbody tr th {\n",
       "        vertical-align: top;\n",
       "    }\n",
       "\n",
       "    .dataframe thead th {\n",
       "        text-align: right;\n",
       "    }\n",
       "</style>\n",
       "<table border=\"1\" class=\"dataframe\">\n",
       "  <thead>\n",
       "    <tr style=\"text-align: right;\">\n",
       "      <th></th>\n",
       "      <th>0</th>\n",
       "    </tr>\n",
       "  </thead>\n",
       "  <tbody>\n",
       "    <tr>\n",
       "      <th>0</th>\n",
       "      <td>intercept</td>\n",
       "    </tr>\n",
       "    <tr>\n",
       "      <th>1</th>\n",
       "      <td>123</td>\n",
       "    </tr>\n",
       "    <tr>\n",
       "      <th>2</th>\n",
       "      <td>58</td>\n",
       "    </tr>\n",
       "    <tr>\n",
       "      <th>3</th>\n",
       "      <td>133</td>\n",
       "    </tr>\n",
       "    <tr>\n",
       "      <th>4</th>\n",
       "      <td>167</td>\n",
       "    </tr>\n",
       "    <tr>\n",
       "      <th>5</th>\n",
       "      <td>129</td>\n",
       "    </tr>\n",
       "    <tr>\n",
       "      <th>6</th>\n",
       "      <td>159</td>\n",
       "    </tr>\n",
       "    <tr>\n",
       "      <th>7</th>\n",
       "      <td>59</td>\n",
       "    </tr>\n",
       "    <tr>\n",
       "      <th>8</th>\n",
       "      <td>208</td>\n",
       "    </tr>\n",
       "    <tr>\n",
       "      <th>9</th>\n",
       "      <td>117</td>\n",
       "    </tr>\n",
       "    <tr>\n",
       "      <th>10</th>\n",
       "      <td>135</td>\n",
       "    </tr>\n",
       "    <tr>\n",
       "      <th>11</th>\n",
       "      <td>126</td>\n",
       "    </tr>\n",
       "    <tr>\n",
       "      <th>12</th>\n",
       "      <td>156</td>\n",
       "    </tr>\n",
       "    <tr>\n",
       "      <th>13</th>\n",
       "      <td>154</td>\n",
       "    </tr>\n",
       "    <tr>\n",
       "      <th>14</th>\n",
       "      <td>53</td>\n",
       "    </tr>\n",
       "    <tr>\n",
       "      <th>15</th>\n",
       "      <td>87</td>\n",
       "    </tr>\n",
       "    <tr>\n",
       "      <th>16</th>\n",
       "      <td>174</td>\n",
       "    </tr>\n",
       "    <tr>\n",
       "      <th>17</th>\n",
       "      <td>1</td>\n",
       "    </tr>\n",
       "    <tr>\n",
       "      <th>18</th>\n",
       "      <td>143</td>\n",
       "    </tr>\n",
       "    <tr>\n",
       "      <th>19</th>\n",
       "      <td>69</td>\n",
       "    </tr>\n",
       "    <tr>\n",
       "      <th>20</th>\n",
       "      <td>54</td>\n",
       "    </tr>\n",
       "    <tr>\n",
       "      <th>21</th>\n",
       "      <td>171</td>\n",
       "    </tr>\n",
       "    <tr>\n",
       "      <th>22</th>\n",
       "      <td>202</td>\n",
       "    </tr>\n",
       "    <tr>\n",
       "      <th>23</th>\n",
       "      <td>79</td>\n",
       "    </tr>\n",
       "    <tr>\n",
       "      <th>24</th>\n",
       "      <td>81</td>\n",
       "    </tr>\n",
       "    <tr>\n",
       "      <th>25</th>\n",
       "      <td>203</td>\n",
       "    </tr>\n",
       "    <tr>\n",
       "      <th>26</th>\n",
       "      <td>99</td>\n",
       "    </tr>\n",
       "    <tr>\n",
       "      <th>27</th>\n",
       "      <td>16</td>\n",
       "    </tr>\n",
       "    <tr>\n",
       "      <th>28</th>\n",
       "      <td>95</td>\n",
       "    </tr>\n",
       "    <tr>\n",
       "      <th>29</th>\n",
       "      <td>131</td>\n",
       "    </tr>\n",
       "    <tr>\n",
       "      <th>...</th>\n",
       "      <td>...</td>\n",
       "    </tr>\n",
       "    <tr>\n",
       "      <th>181</th>\n",
       "      <td>98</td>\n",
       "    </tr>\n",
       "    <tr>\n",
       "      <th>182</th>\n",
       "      <td>180</td>\n",
       "    </tr>\n",
       "    <tr>\n",
       "      <th>183</th>\n",
       "      <td>110</td>\n",
       "    </tr>\n",
       "    <tr>\n",
       "      <th>184</th>\n",
       "      <td>78</td>\n",
       "    </tr>\n",
       "    <tr>\n",
       "      <th>185</th>\n",
       "      <td>33</td>\n",
       "    </tr>\n",
       "    <tr>\n",
       "      <th>186</th>\n",
       "      <td>20</td>\n",
       "    </tr>\n",
       "    <tr>\n",
       "      <th>187</th>\n",
       "      <td>50</td>\n",
       "    </tr>\n",
       "    <tr>\n",
       "      <th>188</th>\n",
       "      <td>91</td>\n",
       "    </tr>\n",
       "    <tr>\n",
       "      <th>189</th>\n",
       "      <td>4</td>\n",
       "    </tr>\n",
       "    <tr>\n",
       "      <th>190</th>\n",
       "      <td>43</td>\n",
       "    </tr>\n",
       "    <tr>\n",
       "      <th>191</th>\n",
       "      <td>161</td>\n",
       "    </tr>\n",
       "    <tr>\n",
       "      <th>192</th>\n",
       "      <td>173</td>\n",
       "    </tr>\n",
       "    <tr>\n",
       "      <th>193</th>\n",
       "      <td>165</td>\n",
       "    </tr>\n",
       "    <tr>\n",
       "      <th>194</th>\n",
       "      <td>153</td>\n",
       "    </tr>\n",
       "    <tr>\n",
       "      <th>195</th>\n",
       "      <td>44</td>\n",
       "    </tr>\n",
       "    <tr>\n",
       "      <th>196</th>\n",
       "      <td>194</td>\n",
       "    </tr>\n",
       "    <tr>\n",
       "      <th>197</th>\n",
       "      <td>201</td>\n",
       "    </tr>\n",
       "    <tr>\n",
       "      <th>198</th>\n",
       "      <td>67</td>\n",
       "    </tr>\n",
       "    <tr>\n",
       "      <th>199</th>\n",
       "      <td>114</td>\n",
       "    </tr>\n",
       "    <tr>\n",
       "      <th>200</th>\n",
       "      <td>152</td>\n",
       "    </tr>\n",
       "    <tr>\n",
       "      <th>201</th>\n",
       "      <td>18</td>\n",
       "    </tr>\n",
       "    <tr>\n",
       "      <th>202</th>\n",
       "      <td>11</td>\n",
       "    </tr>\n",
       "    <tr>\n",
       "      <th>203</th>\n",
       "      <td>30</td>\n",
       "    </tr>\n",
       "    <tr>\n",
       "      <th>204</th>\n",
       "      <td>51</td>\n",
       "    </tr>\n",
       "    <tr>\n",
       "      <th>205</th>\n",
       "      <td>164</td>\n",
       "    </tr>\n",
       "    <tr>\n",
       "      <th>206</th>\n",
       "      <td>103</td>\n",
       "    </tr>\n",
       "    <tr>\n",
       "      <th>207</th>\n",
       "      <td>26</td>\n",
       "    </tr>\n",
       "    <tr>\n",
       "      <th>208</th>\n",
       "      <td>36</td>\n",
       "    </tr>\n",
       "    <tr>\n",
       "      <th>209</th>\n",
       "      <td>187</td>\n",
       "    </tr>\n",
       "    <tr>\n",
       "      <th>210</th>\n",
       "      <td>177</td>\n",
       "    </tr>\n",
       "  </tbody>\n",
       "</table>\n",
       "<p>211 rows × 1 columns</p>\n",
       "</div>"
      ],
      "text/plain": [
       "             0\n",
       "0    intercept\n",
       "1          123\n",
       "2           58\n",
       "3          133\n",
       "4          167\n",
       "5          129\n",
       "6          159\n",
       "7           59\n",
       "8          208\n",
       "9          117\n",
       "10         135\n",
       "11         126\n",
       "12         156\n",
       "13         154\n",
       "14          53\n",
       "15          87\n",
       "16         174\n",
       "17           1\n",
       "18         143\n",
       "19          69\n",
       "20          54\n",
       "21         171\n",
       "22         202\n",
       "23          79\n",
       "24          81\n",
       "25         203\n",
       "26          99\n",
       "27          16\n",
       "28          95\n",
       "29         131\n",
       "..         ...\n",
       "181         98\n",
       "182        180\n",
       "183        110\n",
       "184         78\n",
       "185         33\n",
       "186         20\n",
       "187         50\n",
       "188         91\n",
       "189          4\n",
       "190         43\n",
       "191        161\n",
       "192        173\n",
       "193        165\n",
       "194        153\n",
       "195         44\n",
       "196        194\n",
       "197        201\n",
       "198         67\n",
       "199        114\n",
       "200        152\n",
       "201         18\n",
       "202         11\n",
       "203         30\n",
       "204         51\n",
       "205        164\n",
       "206        103\n",
       "207         26\n",
       "208         36\n",
       "209        187\n",
       "210        177\n",
       "\n",
       "[211 rows x 1 columns]"
      ]
     },
     "metadata": {},
     "output_type": "display_data"
    }
   ],
   "source": [
    "#Definition des dataframe avec les colonnes correspondantes pour X_train et X_test\n",
    "#X_trainfwd= np.append(np.ones((X_train.shape[0],1)), X_train, axis=1)\n",
    "columns= np.append(\"intercept\",range(0,210))\n",
    "df_X_train=pd.DataFrame(X_train_I, columns=columns)\n",
    "\n",
    "X_testfwd= np.append(np.ones((X_test.shape[0],1)), X_test, axis=1)\n",
    "columns= np.append(\"intercept\",range(0,210))\n",
    "df_X_test=pd.DataFrame(X_test_I, columns=columns)\n",
    "\n",
    "vfwd,tfwd,pfwd= forward_selection(X_train_I)\n",
    "featureSelected= df_X_train.columns[vfwd]\n",
    "display(pd.DataFrame(featureSelected  ))"
   ]
  },
  {
   "cell_type": "markdown",
   "metadata": {},
   "source": [
    "## 9) Forward selection avec un seuil de 0.1 sur la pvalue\n",
    "Critère d’arrêt : On décide d’arrêter lorsque la p-valeur dépasse 0.1. Illustrer la méthode en donnant (i) les 3 graphes des statistiques obtenues lors de la sélection de la 1er, 2eme et 3eme variables (en abscisse : l’index des variables, en ordonné : la valeur des stats) , (ii) le graphe des 50 premières p-valeurs (dont chacune est associée à la variable sélectionnée). Sur ce même graphe, on tracera la ligne horizontale d’ordonnée 0.1. Enfin on donnera la liste des variables sélectionnées"
   ]
  },
  {
   "cell_type": "markdown",
   "metadata": {},
   "source": [
    "Cette fois on run la fonction avec le paramètre de seuil 0.1"
   ]
  },
  {
   "cell_type": "code",
   "execution_count": 41,
   "metadata": {},
   "outputs": [],
   "source": [
    "varfwd_selected,stats,pvalues = forward_selection(X_train_I, 0.1)\n",
    "indexOfVarSelected= df_X_train.columns[varfwd_selected]"
   ]
  },
  {
   "cell_type": "markdown",
   "metadata": {},
   "source": [
    "On plot les 3 premières itérations pour les variables sélectionnées"
   ]
  },
  {
   "cell_type": "code",
   "execution_count": 42,
   "metadata": {},
   "outputs": [
    {
     "data": {
      "image/png": "[encoded data removed]",
      "text/plain": [
       "<Figure size 432x288 with 1 Axes>"
      ]
     },
     "metadata": {},
     "output_type": "display_data"
    }
   ],
   "source": [
    "plt.plot(stats[0], label=\"n°1\")\n",
    "plt.plot(stats[1],label=\"n°2\")\n",
    "plt.plot(stats[2],label=\"n°3\")\n",
    "plt.legend()\n",
    "plt.show()"
   ]
  },
  {
   "cell_type": "code",
   "execution_count": 43,
   "metadata": {},
   "outputs": [
    {
     "data": {
      "image/png": "[encoded data removed]",
      "text/plain": [
       "<Figure size 432x288 with 1 Axes>"
      ]
     },
     "metadata": {},
     "output_type": "display_data"
    }
   ],
   "source": [
    "plt.scatter(range(0,50),pfwd[0:50], label=\"n°1\")\n",
    "plt.axhline(y=0.1, color='r', linestyle='-')\n",
    "plt.show()"
   ]
  },
  {
   "cell_type": "code",
   "execution_count": 44,
   "metadata": {},
   "outputs": [
    {
     "name": "stdout",
     "output_type": "stream",
     "text": [
      "Index(['intercept', '123', '58', '133', '167', '129', '159', '59', '208',\n",
      "       '117', '135', '126', '156', '154', '53', '87'],\n",
      "      dtype='object')\n"
     ]
    }
   ],
   "source": [
    "print(indexOfVarSelected)"
   ]
  },
  {
   "cell_type": "markdown",
   "metadata": {},
   "source": [
    "## 10) OLS sur les variables sélectionnées par forward selection\n",
    "Appliquer OLS sur les variables sélectionnées. Donner le risque de prédiction obtenu l’échantillon test et le comparer à ceux de OLS et PCA before OLS."
   ]
  },
  {
   "cell_type": "code",
   "execution_count": 45,
   "metadata": {},
   "outputs": [
    {
     "data": {
      "text/html": [
       "<div>\n",
       "<style scoped>\n",
       "    .dataframe tbody tr th:only-of-type {\n",
       "        vertical-align: middle;\n",
       "    }\n",
       "\n",
       "    .dataframe tbody tr th {\n",
       "        vertical-align: top;\n",
       "    }\n",
       "\n",
       "    .dataframe thead th {\n",
       "        text-align: right;\n",
       "    }\n",
       "</style>\n",
       "<table border=\"1\" class=\"dataframe\">\n",
       "  <thead>\n",
       "    <tr style=\"text-align: right;\">\n",
       "      <th></th>\n",
       "      <th>intercept</th>\n",
       "      <th>123</th>\n",
       "      <th>58</th>\n",
       "      <th>133</th>\n",
       "      <th>167</th>\n",
       "      <th>129</th>\n",
       "      <th>159</th>\n",
       "      <th>59</th>\n",
       "      <th>208</th>\n",
       "      <th>117</th>\n",
       "      <th>135</th>\n",
       "      <th>126</th>\n",
       "      <th>156</th>\n",
       "      <th>154</th>\n",
       "      <th>53</th>\n",
       "      <th>87</th>\n",
       "    </tr>\n",
       "  </thead>\n",
       "  <tbody>\n",
       "    <tr>\n",
       "      <th>0</th>\n",
       "      <td>1.0</td>\n",
       "      <td>1.632136</td>\n",
       "      <td>1.455706</td>\n",
       "      <td>0.458786</td>\n",
       "      <td>0.797624</td>\n",
       "      <td>-0.620659</td>\n",
       "      <td>0.655002</td>\n",
       "      <td>0.600882</td>\n",
       "      <td>1.121689</td>\n",
       "      <td>-1.161668</td>\n",
       "      <td>-0.938537</td>\n",
       "      <td>0.259638</td>\n",
       "      <td>-0.677096</td>\n",
       "      <td>0.972452</td>\n",
       "      <td>-0.460778</td>\n",
       "      <td>1.206665</td>\n",
       "    </tr>\n",
       "    <tr>\n",
       "      <th>1</th>\n",
       "      <td>1.0</td>\n",
       "      <td>-0.865768</td>\n",
       "      <td>1.501026</td>\n",
       "      <td>-0.206552</td>\n",
       "      <td>0.025547</td>\n",
       "      <td>-0.987847</td>\n",
       "      <td>-0.095567</td>\n",
       "      <td>1.157007</td>\n",
       "      <td>0.703624</td>\n",
       "      <td>0.555604</td>\n",
       "      <td>-0.938537</td>\n",
       "      <td>1.278282</td>\n",
       "      <td>-1.104810</td>\n",
       "      <td>-1.411888</td>\n",
       "      <td>-0.320013</td>\n",
       "      <td>0.652756</td>\n",
       "    </tr>\n",
       "    <tr>\n",
       "      <th>2</th>\n",
       "      <td>1.0</td>\n",
       "      <td>1.559809</td>\n",
       "      <td>0.957193</td>\n",
       "      <td>2.310162</td>\n",
       "      <td>0.459840</td>\n",
       "      <td>0.212976</td>\n",
       "      <td>-1.648328</td>\n",
       "      <td>-0.056330</td>\n",
       "      <td>0.175176</td>\n",
       "      <td>1.233007</td>\n",
       "      <td>1.065488</td>\n",
       "      <td>0.200087</td>\n",
       "      <td>-0.181089</td>\n",
       "      <td>0.377291</td>\n",
       "      <td>-0.562522</td>\n",
       "      <td>-0.482563</td>\n",
       "    </tr>\n",
       "    <tr>\n",
       "      <th>3</th>\n",
       "      <td>1.0</td>\n",
       "      <td>0.901830</td>\n",
       "      <td>-1.218138</td>\n",
       "      <td>-1.421518</td>\n",
       "      <td>-0.481129</td>\n",
       "      <td>-0.412662</td>\n",
       "      <td>-0.310638</td>\n",
       "      <td>0.679351</td>\n",
       "      <td>-1.070155</td>\n",
       "      <td>0.205484</td>\n",
       "      <td>-0.938537</td>\n",
       "      <td>0.273671</td>\n",
       "      <td>0.801794</td>\n",
       "      <td>-0.052053</td>\n",
       "      <td>-0.137237</td>\n",
       "      <td>0.178240</td>\n",
       "    </tr>\n",
       "    <tr>\n",
       "      <th>4</th>\n",
       "      <td>1.0</td>\n",
       "      <td>0.561635</td>\n",
       "      <td>0.028145</td>\n",
       "      <td>1.673752</td>\n",
       "      <td>-0.046836</td>\n",
       "      <td>-0.652830</td>\n",
       "      <td>-1.334055</td>\n",
       "      <td>1.324517</td>\n",
       "      <td>0.768497</td>\n",
       "      <td>0.356470</td>\n",
       "      <td>1.065488</td>\n",
       "      <td>0.642060</td>\n",
       "      <td>2.229344</td>\n",
       "      <td>0.275289</td>\n",
       "      <td>-2.377299</td>\n",
       "      <td>-1.432996</td>\n",
       "    </tr>\n",
       "  </tbody>\n",
       "</table>\n",
       "</div>"
      ],
      "text/plain": [
       "   intercept       123        58       133       167       129       159  \\\n",
       "0        1.0  1.632136  1.455706  0.458786  0.797624 -0.620659  0.655002   \n",
       "1        1.0 -0.865768  1.501026 -0.206552  0.025547 -0.987847 -0.095567   \n",
       "2        1.0  1.559809  0.957193  2.310162  0.459840  0.212976 -1.648328   \n",
       "3        1.0  0.901830 -1.218138 -1.421518 -0.481129 -0.412662 -0.310638   \n",
       "4        1.0  0.561635  0.028145  1.673752 -0.046836 -0.652830 -1.334055   \n",
       "\n",
       "         59       208       117       135       126       156       154  \\\n",
       "0  0.600882  1.121689 -1.161668 -0.938537  0.259638 -0.677096  0.972452   \n",
       "1  1.157007  0.703624  0.555604 -0.938537  1.278282 -1.104810 -1.411888   \n",
       "2 -0.056330  0.175176  1.233007  1.065488  0.200087 -0.181089  0.377291   \n",
       "3  0.679351 -1.070155  0.205484 -0.938537  0.273671  0.801794 -0.052053   \n",
       "4  1.324517  0.768497  0.356470  1.065488  0.642060  2.229344  0.275289   \n",
       "\n",
       "         53        87  \n",
       "0 -0.460778  1.206665  \n",
       "1 -0.320013  0.652756  \n",
       "2 -0.562522 -0.482563  \n",
       "3 -0.137237  0.178240  \n",
       "4 -2.377299 -1.432996  "
      ]
     },
     "execution_count": 45,
     "metadata": {},
     "output_type": "execute_result"
    }
   ],
   "source": [
    "#On construit notre nouvel X avec les colonnes sélectionnées\n",
    "Xfwd=df_X_train[ indexOfVarSelected]\n",
    "pdXfwd= pd.DataFrame(Xfwd)\n",
    "pdXfwd.head()"
   ]
  },
  {
   "cell_type": "code",
   "execution_count": 46,
   "metadata": {},
   "outputs": [
    {
     "data": {
      "text/html": [
       "<div>\n",
       "<style scoped>\n",
       "    .dataframe tbody tr th:only-of-type {\n",
       "        vertical-align: middle;\n",
       "    }\n",
       "\n",
       "    .dataframe tbody tr th {\n",
       "        vertical-align: top;\n",
       "    }\n",
       "\n",
       "    .dataframe thead th {\n",
       "        text-align: right;\n",
       "    }\n",
       "</style>\n",
       "<table border=\"1\" class=\"dataframe\">\n",
       "  <thead>\n",
       "    <tr style=\"text-align: right;\">\n",
       "      <th></th>\n",
       "      <th>intercept</th>\n",
       "      <th>123</th>\n",
       "      <th>58</th>\n",
       "      <th>133</th>\n",
       "      <th>167</th>\n",
       "      <th>129</th>\n",
       "      <th>159</th>\n",
       "      <th>59</th>\n",
       "      <th>208</th>\n",
       "      <th>117</th>\n",
       "      <th>135</th>\n",
       "      <th>126</th>\n",
       "      <th>156</th>\n",
       "      <th>154</th>\n",
       "      <th>53</th>\n",
       "      <th>87</th>\n",
       "    </tr>\n",
       "  </thead>\n",
       "  <tbody>\n",
       "    <tr>\n",
       "      <th>0</th>\n",
       "      <td>1.0</td>\n",
       "      <td>-0.497098</td>\n",
       "      <td>1.523685</td>\n",
       "      <td>-0.177624</td>\n",
       "      <td>1.617955</td>\n",
       "      <td>0.992586</td>\n",
       "      <td>0.475881</td>\n",
       "      <td>-0.479088</td>\n",
       "      <td>-0.973321</td>\n",
       "      <td>-1.510052</td>\n",
       "      <td>1.065488</td>\n",
       "      <td>0.459183</td>\n",
       "      <td>1.223638</td>\n",
       "      <td>-1.076692</td>\n",
       "      <td>1.297715</td>\n",
       "      <td>0.383434</td>\n",
       "    </tr>\n",
       "    <tr>\n",
       "      <th>1</th>\n",
       "      <td>1.0</td>\n",
       "      <td>-0.646507</td>\n",
       "      <td>-0.855583</td>\n",
       "      <td>-0.177624</td>\n",
       "      <td>-0.336364</td>\n",
       "      <td>-0.400211</td>\n",
       "      <td>-1.406369</td>\n",
       "      <td>1.881174</td>\n",
       "      <td>0.745939</td>\n",
       "      <td>-1.207046</td>\n",
       "      <td>-0.938537</td>\n",
       "      <td>0.930016</td>\n",
       "      <td>0.762037</td>\n",
       "      <td>-0.863881</td>\n",
       "      <td>-0.208107</td>\n",
       "      <td>-1.086521</td>\n",
       "    </tr>\n",
       "    <tr>\n",
       "      <th>2</th>\n",
       "      <td>1.0</td>\n",
       "      <td>-2.194145</td>\n",
       "      <td>0.322721</td>\n",
       "      <td>-1.045457</td>\n",
       "      <td>-1.566862</td>\n",
       "      <td>1.917425</td>\n",
       "      <td>1.588948</td>\n",
       "      <td>0.031158</td>\n",
       "      <td>-0.920799</td>\n",
       "      <td>1.474399</td>\n",
       "      <td>-0.938537</td>\n",
       "      <td>1.203926</td>\n",
       "      <td>2.394203</td>\n",
       "      <td>-0.006782</td>\n",
       "      <td>-0.865705</td>\n",
       "      <td>0.455061</td>\n",
       "    </tr>\n",
       "    <tr>\n",
       "      <th>3</th>\n",
       "      <td>1.0</td>\n",
       "      <td>-0.865768</td>\n",
       "      <td>-0.855583</td>\n",
       "      <td>-1.450445</td>\n",
       "      <td>-0.408747</td>\n",
       "      <td>0.827290</td>\n",
       "      <td>-0.227174</td>\n",
       "      <td>1.089057</td>\n",
       "      <td>1.200057</td>\n",
       "      <td>-0.989891</td>\n",
       "      <td>-0.938537</td>\n",
       "      <td>0.007745</td>\n",
       "      <td>-1.105763</td>\n",
       "      <td>-1.328509</td>\n",
       "      <td>0.075661</td>\n",
       "      <td>0.640598</td>\n",
       "    </tr>\n",
       "    <tr>\n",
       "      <th>4</th>\n",
       "      <td>1.0</td>\n",
       "      <td>-0.088717</td>\n",
       "      <td>-1.535374</td>\n",
       "      <td>1.760535</td>\n",
       "      <td>-1.711626</td>\n",
       "      <td>1.005119</td>\n",
       "      <td>0.922861</td>\n",
       "      <td>2.255950</td>\n",
       "      <td>-0.047552</td>\n",
       "      <td>-0.188950</td>\n",
       "      <td>-0.938537</td>\n",
       "      <td>0.281968</td>\n",
       "      <td>0.708566</td>\n",
       "      <td>0.120189</td>\n",
       "      <td>-1.215255</td>\n",
       "      <td>1.498176</td>\n",
       "    </tr>\n",
       "  </tbody>\n",
       "</table>\n",
       "</div>"
      ],
      "text/plain": [
       "   intercept       123        58       133       167       129       159  \\\n",
       "0        1.0 -0.497098  1.523685 -0.177624  1.617955  0.992586  0.475881   \n",
       "1        1.0 -0.646507 -0.855583 -0.177624 -0.336364 -0.400211 -1.406369   \n",
       "2        1.0 -2.194145  0.322721 -1.045457 -1.566862  1.917425  1.588948   \n",
       "3        1.0 -0.865768 -0.855583 -1.450445 -0.408747  0.827290 -0.227174   \n",
       "4        1.0 -0.088717 -1.535374  1.760535 -1.711626  1.005119  0.922861   \n",
       "\n",
       "         59       208       117       135       126       156       154  \\\n",
       "0 -0.479088 -0.973321 -1.510052  1.065488  0.459183  1.223638 -1.076692   \n",
       "1  1.881174  0.745939 -1.207046 -0.938537  0.930016  0.762037 -0.863881   \n",
       "2  0.031158 -0.920799  1.474399 -0.938537  1.203926  2.394203 -0.006782   \n",
       "3  1.089057  1.200057 -0.989891 -0.938537  0.007745 -1.105763 -1.328509   \n",
       "4  2.255950 -0.047552 -0.188950 -0.938537  0.281968  0.708566  0.120189   \n",
       "\n",
       "         53        87  \n",
       "0  1.297715  0.383434  \n",
       "1 -0.208107 -1.086521  \n",
       "2 -0.865705  0.455061  \n",
       "3  0.075661  0.640598  \n",
       "4 -1.215255  1.498176  "
      ]
     },
     "execution_count": 46,
     "metadata": {},
     "output_type": "execute_result"
    }
   ],
   "source": [
    "# Pareil pour Xtest\n",
    "Xtestfwd=df_X_test[indexOfVarSelected]\n",
    "Xtestfwd.head()"
   ]
  },
  {
   "cell_type": "markdown",
   "metadata": {},
   "source": [
    "On fait notre prédiction sur ces nouveaux X_train et X_test"
   ]
  },
  {
   "cell_type": "code",
   "execution_count": 47,
   "metadata": {},
   "outputs": [
    {
     "name": "stdout",
     "output_type": "stream",
     "text": [
      "R2=0.5304990233291371\n",
      "mse=3181.3989577771204\n",
      "Rpred=6582.204740228527\n"
     ]
    }
   ],
   "source": [
    "gram= Xfwd.T@Xfwd\n",
    "B= np.linalg.inv(gram).dot(Xfwd.transpose().dot(y_train))\n",
    "ypredFwd= Xtestfwd@B \n",
    "mse=np.sum((y_test-ypredFwd)**2)/len(y_test)\n",
    "R2fwd= 1-np.sum((y_test-ypredFwd)**2)/np.sum((y_test-y_test.mean())**2)\n",
    "rpredfwdols= matrix_rank(X_test)/(len(y_test)*(len(y_test)-matrix_rank(X_test)))*np.linalg.norm(y_test-ypredFwd)**2\n",
    "\n",
    "print(\"R2={}\".format(R2fwd))\n",
    "print(\"mse={}\".format(str(mse)))\n",
    "print(\"Rpred={}\".format(str(rpredfwdols)))"
   ]
  },
  {
   "cell_type": "code",
   "execution_count": null,
   "metadata": {},
   "outputs": [],
   "source": []
  },
  {
   "cell_type": "markdown",
   "metadata": {},
   "source": [
    "Vérification avec les packages"
   ]
  },
  {
   "cell_type": "code",
   "execution_count": 48,
   "metadata": {
    "scrolled": true
   },
   "outputs": [
    {
     "name": "stdout",
     "output_type": "stream",
     "text": [
      "R2 avec forward selection= 0.5304990233291369\n"
     ]
    }
   ],
   "source": [
    "regSelected= LinearRegression()\n",
    "regSelected.fit(Xfwd, y_train)\n",
    "\n",
    "pd.DataFrame(Xtestfwd).head()\n",
    "scoreSelected= regSelected.score(Xtestfwd, y_test)\n",
    "scoresTP[\"Fwd\"]=scoreSelected\n",
    "print(\"R2 avec forward selection= {}\".format(str(scoreSelected)))\n",
    "#print(regSelected.coef_)"
   ]
  },
  {
   "cell_type": "markdown",
   "metadata": {},
   "source": [
    "## 11) Validation croisée Kfold\n",
    "Afin de préparer la validation croisée, séparer l’échantillon train en 4 parties (appelées ”folds”) de façon aléatoire. On affichera les numéros d’échantillon sélectionnés dans chaque fold."
   ]
  },
  {
   "cell_type": "code",
   "execution_count": 49,
   "metadata": {},
   "outputs": [
    {
     "name": "stdout",
     "output_type": "stream",
     "text": [
      "TRAIN: [  0   2   3   4   5   6   7   8   9  10  11  13  14  15  17  18  19  20\n",
      "  22  23  24  25  26  27  29  30  32  33  34  35  36  39  40  42  43  46\n",
      "  48  51  52  53  54  55  57  58  59  60  63  65  66  67  68  71  72  74\n",
      "  75  76  78  79  80  81  82  83  84  86  87  88  89  90  92  93  94  96\n",
      "  97  98  99 100 101 102 103 104 105 106 107 109 110 111 112 116 117 118\n",
      " 119 120 121 123 125 126 127 128 129 131 133 135 137 138 139 140 141 142\n",
      " 143 144 145 146 148 149 150 151 152 153 154 155 156 158 159 161 162 163\n",
      " 164 165 166 167 169 170 172 173 174 176 177 178 180 181 182 183 184 185\n",
      " 187 189 191 193 194 196 197 198 199 201 207 208 209 210 212 213 214 215\n",
      " 216 217 218 219 220 221 222 223 224 225 226 230 231 233 234 235 236 237\n",
      " 238 239 240 241 243 244 245 247 248 249 250 251 252 253 254 256 257 258\n",
      " 259 260 261 262 263 265 266 268 269 270 271 272 273 275 276 277 278 279\n",
      " 281 282 285 286 290 291 292 293 295 296 297 298 299 300 301 302 303 305\n",
      " 306 308 311 312 313 314 315 319 320 322 323 324 325 326 327 328 329 330\n",
      " 331 332 334 335 339 341 345 346 348 349 350 352] TEST: [  1  12  16  21  28  31  37  38  41  44  45  47  49  50  56  61  62  64\n",
      "  69  70  73  77  85  91  95 108 113 114 115 122 124 130 132 134 136 147\n",
      " 157 160 168 171 175 179 186 188 190 192 195 200 202 203 204 205 206 211\n",
      " 227 228 229 232 242 246 255 264 267 274 280 283 284 287 288 289 294 304\n",
      " 307 309 310 316 317 318 321 333 336 337 338 340 342 343 344 347 351]\n",
      "TRAIN: [  1   3   4   5   6   8   9  10  11  12  13  16  18  19  21  22  23  24\n",
      "  25  28  29  31  32  33  34  35  36  37  38  39  40  41  42  43  44  45\n",
      "  46  47  49  50  51  56  57  58  61  62  63  64  67  68  69  70  71  72\n",
      "  73  74  77  78  79  80  84  85  86  87  88  90  91  92  93  94  95  97\n",
      "  98  99 101 103 104 105 106 107 108 109 110 111 113 114 115 116 118 119\n",
      " 121 122 124 125 126 127 128 130 132 133 134 136 137 138 139 140 142 144\n",
      " 147 148 149 150 151 152 153 154 155 156 157 159 160 161 162 164 165 166\n",
      " 168 169 171 172 173 175 176 179 181 182 183 185 186 188 190 191 192 193\n",
      " 194 195 196 197 199 200 201 202 203 204 205 206 208 210 211 212 213 214\n",
      " 215 217 218 219 220 221 222 223 224 225 227 228 229 230 232 234 236 237\n",
      " 239 240 241 242 245 246 247 248 249 250 252 253 254 255 256 257 259 262\n",
      " 264 266 267 268 270 271 272 273 274 276 277 279 280 283 284 287 288 289\n",
      " 290 292 293 294 295 296 297 298 299 301 302 304 305 307 308 309 310 311\n",
      " 312 313 314 315 316 317 318 319 320 321 322 326 327 330 331 332 333 334\n",
      " 336 337 338 340 341 342 343 344 346 347 350 351 352] TEST: [  0   2   7  14  15  17  20  26  27  30  48  52  53  54  55  59  60  65\n",
      "  66  75  76  81  82  83  89  96 100 102 112 117 120 123 129 131 135 141\n",
      " 143 145 146 158 163 167 170 174 177 178 180 184 187 189 198 207 209 216\n",
      " 226 231 233 235 238 243 244 251 258 260 261 263 265 269 275 278 281 282\n",
      " 285 286 291 300 303 306 323 324 325 328 329 335 339 345 348 349]\n",
      "TRAIN: [  0   1   2   4   6   7   9  10  11  12  14  15  16  17  19  20  21  23\n",
      "  26  27  28  29  30  31  32  34  35  36  37  38  39  41  42  44  45  46\n",
      "  47  48  49  50  51  52  53  54  55  56  59  60  61  62  63  64  65  66\n",
      "  68  69  70  72  73  74  75  76  77  79  80  81  82  83  85  86  89  90\n",
      "  91  93  94  95  96 100 101 102 103 105 108 109 110 111 112 113 114 115\n",
      " 116 117 118 120 121 122 123 124 125 126 127 128 129 130 131 132 134 135\n",
      " 136 138 139 140 141 143 145 146 147 148 149 150 151 157 158 159 160 161\n",
      " 163 164 165 167 168 170 171 174 175 177 178 179 180 181 182 184 186 187\n",
      " 188 189 190 191 192 195 196 198 200 201 202 203 204 205 206 207 209 211\n",
      " 213 214 216 217 218 220 223 226 227 228 229 231 232 233 234 235 236 237\n",
      " 238 241 242 243 244 246 249 251 252 255 257 258 259 260 261 263 264 265\n",
      " 266 267 268 269 272 274 275 277 278 280 281 282 283 284 285 286 287 288\n",
      " 289 291 292 293 294 295 296 297 300 303 304 306 307 309 310 312 313 314\n",
      " 316 317 318 321 322 323 324 325 327 328 329 330 332 333 335 336 337 338\n",
      " 339 340 341 342 343 344 345 346 347 348 349 350 351] TEST: [  3   5   8  13  18  22  24  25  33  40  43  57  58  67  71  78  84  87\n",
      "  88  92  97  98  99 104 106 107 119 133 137 142 144 152 153 154 155 156\n",
      " 162 166 169 172 173 176 183 185 193 194 197 199 208 210 212 215 219 221\n",
      " 222 224 225 230 239 240 245 247 248 250 253 254 256 262 270 271 273 276\n",
      " 279 290 298 299 301 302 305 308 311 315 319 320 326 331 334 352]\n",
      "TRAIN: [  0   1   2   3   5   7   8  12  13  14  15  16  17  18  20  21  22  24\n",
      "  25  26  27  28  30  31  33  37  38  40  41  43  44  45  47  48  49  50\n",
      "  52  53  54  55  56  57  58  59  60  61  62  64  65  66  67  69  70  71\n",
      "  73  75  76  77  78  81  82  83  84  85  87  88  89  91  92  95  96  97\n",
      "  98  99 100 102 104 106 107 108 112 113 114 115 117 119 120 122 123 124\n",
      " 129 130 131 132 133 134 135 136 137 141 142 143 144 145 146 147 152 153\n",
      " 154 155 156 157 158 160 162 163 166 167 168 169 170 171 172 173 174 175\n",
      " 176 177 178 179 180 183 184 185 186 187 188 189 190 192 193 194 195 197\n",
      " 198 199 200 202 203 204 205 206 207 208 209 210 211 212 215 216 219 221\n",
      " 222 224 225 226 227 228 229 230 231 232 233 235 238 239 240 242 243 244\n",
      " 245 246 247 248 250 251 253 254 255 256 258 260 261 262 263 264 265 267\n",
      " 269 270 271 273 274 275 276 278 279 280 281 282 283 284 285 286 287 288\n",
      " 289 290 291 294 298 299 300 301 302 303 304 305 306 307 308 309 310 311\n",
      " 315 316 317 318 319 320 321 323 324 325 326 328 329 331 333 334 335 336\n",
      " 337 338 339 340 342 343 344 345 347 348 349 351 352] TEST: [  4   6   9  10  11  19  23  29  32  34  35  36  39  42  46  51  63  68\n",
      "  72  74  79  80  86  90  93  94 101 103 105 109 110 111 116 118 121 125\n",
      " 126 127 128 138 139 140 148 149 150 151 159 161 164 165 181 182 191 196\n",
      " 201 213 214 217 218 220 223 234 236 237 241 249 252 257 259 266 268 272\n",
      " 277 292 293 295 296 297 312 313 314 322 327 330 332 341 346 350]\n"
     ]
    }
   ],
   "source": [
    "kf = KFold(n_splits=4, shuffle=True)\n",
    "foldsTrain= []\n",
    "foldsTest= []\n",
    "for train_index, test_index in kf.split(X_train):\n",
    "    foldsTrain.append(train_index)\n",
    "    foldsTest.append(test_index)\n",
    "    \n",
    "    print(\"TRAIN:\", train_index, \"TEST:\", test_index)"
   ]
  },
  {
   "cell_type": "code",
   "execution_count": 50,
   "metadata": {},
   "outputs": [
    {
     "data": {
      "text/html": [
       "<div>\n",
       "<style scoped>\n",
       "    .dataframe tbody tr th:only-of-type {\n",
       "        vertical-align: middle;\n",
       "    }\n",
       "\n",
       "    .dataframe tbody tr th {\n",
       "        vertical-align: top;\n",
       "    }\n",
       "\n",
       "    .dataframe thead th {\n",
       "        text-align: right;\n",
       "    }\n",
       "</style>\n",
       "<table border=\"1\" class=\"dataframe\">\n",
       "  <thead>\n",
       "    <tr style=\"text-align: right;\">\n",
       "      <th></th>\n",
       "      <th>0</th>\n",
       "      <th>1</th>\n",
       "      <th>2</th>\n",
       "      <th>3</th>\n",
       "      <th>4</th>\n",
       "      <th>5</th>\n",
       "      <th>6</th>\n",
       "      <th>7</th>\n",
       "      <th>8</th>\n",
       "      <th>9</th>\n",
       "      <th>...</th>\n",
       "      <th>79</th>\n",
       "      <th>80</th>\n",
       "      <th>81</th>\n",
       "      <th>82</th>\n",
       "      <th>83</th>\n",
       "      <th>84</th>\n",
       "      <th>85</th>\n",
       "      <th>86</th>\n",
       "      <th>87</th>\n",
       "      <th>88</th>\n",
       "    </tr>\n",
       "  </thead>\n",
       "  <tbody>\n",
       "    <tr>\n",
       "      <th>0</th>\n",
       "      <td>1</td>\n",
       "      <td>12</td>\n",
       "      <td>16</td>\n",
       "      <td>21</td>\n",
       "      <td>28</td>\n",
       "      <td>31</td>\n",
       "      <td>37</td>\n",
       "      <td>38</td>\n",
       "      <td>41</td>\n",
       "      <td>44</td>\n",
       "      <td>...</td>\n",
       "      <td>333</td>\n",
       "      <td>336</td>\n",
       "      <td>337</td>\n",
       "      <td>338</td>\n",
       "      <td>340</td>\n",
       "      <td>342</td>\n",
       "      <td>343</td>\n",
       "      <td>344</td>\n",
       "      <td>347</td>\n",
       "      <td>351.0</td>\n",
       "    </tr>\n",
       "    <tr>\n",
       "      <th>1</th>\n",
       "      <td>0</td>\n",
       "      <td>2</td>\n",
       "      <td>7</td>\n",
       "      <td>14</td>\n",
       "      <td>15</td>\n",
       "      <td>17</td>\n",
       "      <td>20</td>\n",
       "      <td>26</td>\n",
       "      <td>27</td>\n",
       "      <td>30</td>\n",
       "      <td>...</td>\n",
       "      <td>324</td>\n",
       "      <td>325</td>\n",
       "      <td>328</td>\n",
       "      <td>329</td>\n",
       "      <td>335</td>\n",
       "      <td>339</td>\n",
       "      <td>345</td>\n",
       "      <td>348</td>\n",
       "      <td>349</td>\n",
       "      <td>NaN</td>\n",
       "    </tr>\n",
       "    <tr>\n",
       "      <th>2</th>\n",
       "      <td>3</td>\n",
       "      <td>5</td>\n",
       "      <td>8</td>\n",
       "      <td>13</td>\n",
       "      <td>18</td>\n",
       "      <td>22</td>\n",
       "      <td>24</td>\n",
       "      <td>25</td>\n",
       "      <td>33</td>\n",
       "      <td>40</td>\n",
       "      <td>...</td>\n",
       "      <td>308</td>\n",
       "      <td>311</td>\n",
       "      <td>315</td>\n",
       "      <td>319</td>\n",
       "      <td>320</td>\n",
       "      <td>326</td>\n",
       "      <td>331</td>\n",
       "      <td>334</td>\n",
       "      <td>352</td>\n",
       "      <td>NaN</td>\n",
       "    </tr>\n",
       "    <tr>\n",
       "      <th>3</th>\n",
       "      <td>4</td>\n",
       "      <td>6</td>\n",
       "      <td>9</td>\n",
       "      <td>10</td>\n",
       "      <td>11</td>\n",
       "      <td>19</td>\n",
       "      <td>23</td>\n",
       "      <td>29</td>\n",
       "      <td>32</td>\n",
       "      <td>34</td>\n",
       "      <td>...</td>\n",
       "      <td>313</td>\n",
       "      <td>314</td>\n",
       "      <td>322</td>\n",
       "      <td>327</td>\n",
       "      <td>330</td>\n",
       "      <td>332</td>\n",
       "      <td>341</td>\n",
       "      <td>346</td>\n",
       "      <td>350</td>\n",
       "      <td>NaN</td>\n",
       "    </tr>\n",
       "  </tbody>\n",
       "</table>\n",
       "<p>4 rows × 89 columns</p>\n",
       "</div>"
      ],
      "text/plain": [
       "   0   1   2   3   4   5   6   7   8   9   ...     79   80   81   82   83  \\\n",
       "0   1  12  16  21  28  31  37  38  41  44  ...    333  336  337  338  340   \n",
       "1   0   2   7  14  15  17  20  26  27  30  ...    324  325  328  329  335   \n",
       "2   3   5   8  13  18  22  24  25  33  40  ...    308  311  315  319  320   \n",
       "3   4   6   9  10  11  19  23  29  32  34  ...    313  314  322  327  330   \n",
       "\n",
       "    84   85   86   87     88  \n",
       "0  342  343  344  347  351.0  \n",
       "1  339  345  348  349    NaN  \n",
       "2  326  331  334  352    NaN  \n",
       "3  332  341  346  350    NaN  \n",
       "\n",
       "[4 rows x 89 columns]"
      ]
     },
     "execution_count": 50,
     "metadata": {},
     "output_type": "execute_result"
    }
   ],
   "source": [
    "pd.DataFrame(foldsTest).head()"
   ]
  },
  {
   "cell_type": "markdown",
   "metadata": {},
   "source": [
    "## 12) Ridge\n",
    "Appliquer la méthode de la régression ridge. Pour le choix du paramètre de régularisation, on fera une validation croisée sur les ”folds” définies lors de la question précédente. A tour de rôle chacune des ”folds” servira pour calculer le risque de prédiction alors que les autres seront utilisées pour estimer le modèle. On moyennera ensuite les 4 risques de prédictions. On donnera la courbe du risque de validation croisée en fonction du paramètre de régularisation (on veillera à bien choisir l’espace de définition pour le graphe). Donner le paramètre de régularisation optimal et la valeur du risque sur le test.\n"
   ]
  },
  {
   "cell_type": "markdown",
   "metadata": {},
   "source": [
    "Définition de la fonction de cv pour lambda avec Ridge"
   ]
  },
  {
   "cell_type": "code",
   "execution_count": 51,
   "metadata": {},
   "outputs": [],
   "source": [
    "\n",
    "\n",
    "def kFoldRidge(X, Y, lambdas):\n",
    "    #kf = KFold(n_splits=4, shuffle=True, random_state=2)\n",
    "    r2 = []\n",
    "    mse_kfold_ridge=[]\n",
    "    dfX= pd.DataFrame(X)\n",
    "    dfY=pd.DataFrame(Y)\n",
    "    for lmbd in lambdas:\n",
    "        ridgeReg =  Ridge(alpha=lmbd)\n",
    "        scores = []\n",
    "        mses=[]\n",
    "        for train_index, test_index in kf.split(X):\n",
    "            X_traink, X_testk = dfX.take(train_index), dfX.take(test_index)\n",
    "            Y_traink, Y_testk = dfY.take(train_index), dfY.take(test_index)\n",
    "            ridgeReg.fit(X_traink, Y_traink)\n",
    "            scores.append(ridgeReg.score(X_testk, Y_testk))\n",
    "            mses.append(mean_squared_error(ridgeReg.predict(X_testk),Y_testk))\n",
    "        r2.append(np.array(scores).mean())\n",
    "        mse_kfold_ridge.append(np.array(mses).mean())\n",
    "    return r2,mse_kfold_ridge"
   ]
  },
  {
   "cell_type": "code",
   "execution_count": 52,
   "metadata": {
    "scrolled": true
   },
   "outputs": [
    {
     "name": "stdout",
     "output_type": "stream",
     "text": [
      "[0.32142841628551566, 0.267797723940171, 0.31645115381511923, 0.3509293053504289, 0.3487687004766569, 0.29050608440827885, 0.3807497046976467, 0.3144781814764785, 0.24864106469015457, 0.052475296523979004]\n"
     ]
    }
   ],
   "source": [
    "lambdas=[10**x for x in range(-5,5)]\n",
    "r2_ridges, mse_ridges=kFoldRidge(X_train,y_train, lambdas)\n",
    "print(r2_ridges)"
   ]
  },
  {
   "cell_type": "code",
   "execution_count": 53,
   "metadata": {
    "scrolled": true
   },
   "outputs": [
    {
     "name": "stdout",
     "output_type": "stream",
     "text": [
      "10\n"
     ]
    }
   ],
   "source": [
    "idx_best_lmbd=mse_ridges.index(np.array(mse_ridges).min())\n",
    "bestLmbd= lambdas[idx_best_lmbd]\n",
    "print(bestLmbd)"
   ]
  },
  {
   "cell_type": "code",
   "execution_count": 54,
   "metadata": {},
   "outputs": [
    {
     "name": "stdout",
     "output_type": "stream",
     "text": [
      "51\n"
     ]
    }
   ],
   "source": [
    "lambdas2=range(100)\n",
    "r2_ridges2, mse_ridges2=kFoldRidge(X_train,y_train,lambdas2)\n",
    "idx_best_lmbd2=mse_ridges2.index(np.array(mse_ridges2).min())\n",
    "bestLmbd2= lambdas2[idx_best_lmbd2]\n",
    "print(bestLmbd2)"
   ]
  },
  {
   "cell_type": "code",
   "execution_count": 55,
   "metadata": {},
   "outputs": [
    {
     "data": {
      "image/png": "[encoded data removed]",
      "text/plain": [
       "<Figure size 432x288 with 1 Axes>"
      ]
     },
     "metadata": {},
     "output_type": "display_data"
    }
   ],
   "source": [
    "\n",
    "plt.scatter(np.log10(lambdas),mse_ridges )\n",
    "plt.xlabel(\"log10(lambda)\")\n",
    "plt.ylabel(\"Risque\")\n",
    "plt.show()"
   ]
  },
  {
   "cell_type": "code",
   "execution_count": 56,
   "metadata": {},
   "outputs": [
    {
     "name": "stderr",
     "output_type": "stream",
     "text": [
      "/anaconda3/lib/python3.6/site-packages/ipykernel_launcher.py:1: RuntimeWarning: divide by zero encountered in log10\n",
      "  \"\"\"Entry point for launching an IPython kernel.\n"
     ]
    },
    {
     "data": {
      "image/png": "[encoded data removed]",
      "text/plain": [
       "<Figure size 432x288 with 1 Axes>"
      ]
     },
     "metadata": {},
     "output_type": "display_data"
    }
   ],
   "source": [
    "plt.scatter(np.log10(lambdas2),mse_ridges2 )\n",
    "plt.xlabel(\"log10(lambda)\")\n",
    "plt.ylabel(\"Risque\")\n",
    "plt.show()"
   ]
  },
  {
   "cell_type": "code",
   "execution_count": 57,
   "metadata": {},
   "outputs": [
    {
     "name": "stdout",
     "output_type": "stream",
     "text": [
      "R2 score avec Ridge pour le best lambda 0.5173706664612441\n"
     ]
    }
   ],
   "source": [
    "rr =  Ridge(alpha=bestLmbd2)\n",
    "rr.fit(X_train, y_train)\n",
    "R2rr=rr.score(X_test, y_test)\n",
    "scoresTP[\"Ridge\"]=R2rr\n",
    "print(\"R2 score avec Ridge pour le best lambda \"+str(R2rr))"
   ]
  },
  {
   "cell_type": "markdown",
   "metadata": {},
   "source": [
    "## 13) Lasso\n",
    "A l’aide de la fonction lassoCV de sklearn, choisir le paramètre de régularisation du LASSO. Donner le risque de prédiction associé."
   ]
  },
  {
   "cell_type": "markdown",
   "metadata": {},
   "source": [
    "On commence par chercher le bon paramètre alpha par cross validation"
   ]
  },
  {
   "cell_type": "code",
   "execution_count": 58,
   "metadata": {},
   "outputs": [
    {
     "name": "stdout",
     "output_type": "stream",
     "text": [
      "0.09107819305312381\n"
     ]
    }
   ],
   "source": [
    "#alphasLasso = np.array([10**x for x in range(-2,5)])\n",
    "#lassoCV = LassoCV(alphas=alphasLasso)\n",
    "\n",
    "lassoCV = LassoCV(fit_intercept=False)\n",
    "lassoCV.fit(X_train_cr,y_train_cr)\n",
    "print(lassoCV.alpha_)"
   ]
  },
  {
   "cell_type": "markdown",
   "metadata": {},
   "source": [
    "On récupère les moyennes des MSE pour chacun des alphas "
   ]
  },
  {
   "cell_type": "code",
   "execution_count": 59,
   "metadata": {
    "scrolled": true
   },
   "outputs": [
    {
     "name": "stdout",
     "output_type": "stream",
     "text": [
      "[0.98353723 0.95268008 0.90590105 0.86281654 0.82538575 0.7927006\n",
      " 0.76397456 0.73901578 0.717332   0.69759608 0.68000766 0.66472689\n",
      " 0.65047238 0.63724098 0.62578536 0.61587074 0.60693135 0.59907529\n",
      " 0.59237862 0.58669926 0.58208343 0.57825779 0.57516402 0.57253007\n",
      " 0.57057071 0.56866106 0.56746054 0.56788778 0.5688189  0.57030027\n",
      " 0.57214909 0.57453437 0.57808912 0.58160861 0.58471174 0.58796424\n",
      " 0.59161866 0.59530751 0.59923306 0.60359675 0.60802642 0.61236358\n",
      " 0.61620996 0.6198995  0.62364592 0.6274914  0.63146937 0.63545703\n",
      " 0.63941605 0.64345528 0.64762555 0.6518136  0.65595417 0.65994637\n",
      " 0.66388272 0.66767739 0.67139377 0.67499169 0.6784602  0.68181714\n",
      " 0.68506263 0.68815633 0.69115206 0.69400712 0.69671625 0.69923764\n",
      " 0.70161392 0.70392587 0.70613964 0.70819404 0.71007518 0.71178268\n",
      " 0.71338504 0.71478845 0.71608948 0.71732027 0.71845285 0.71939478\n",
      " 0.72031647 0.7212245  0.72211038 0.72320456 0.72424064 0.72517114\n",
      " 0.72590658 0.72662439 0.72737401 0.72806002 0.72856902 0.72901657\n",
      " 0.72945385 0.72987212 0.73025881 0.73059249 0.73091553 0.73122157\n",
      " 0.73151237 0.73179206 0.73205992 0.73231396]\n"
     ]
    }
   ],
   "source": [
    "avg_mse = np.mean(lassoCV.mse_path_,axis=1)\n",
    "print(avg_mse)"
   ]
  },
  {
   "cell_type": "code",
   "execution_count": 60,
   "metadata": {},
   "outputs": [],
   "source": [
    "#print(lcv.score(X_test,y_test))"
   ]
  },
  {
   "cell_type": "code",
   "execution_count": 61,
   "metadata": {
    "scrolled": true
   },
   "outputs": [
    {
     "name": "stdout",
     "output_type": "stream",
     "text": [
      "(array([ 58, 112, 123, 129, 159, 167, 174]),)\n"
     ]
    }
   ],
   "source": [
    "print(np.nonzero(lassoCV.coef_))"
   ]
  },
  {
   "cell_type": "markdown",
   "metadata": {},
   "source": [
    "On trace les moyennes des MSE pour chaque alpha"
   ]
  },
  {
   "cell_type": "code",
   "execution_count": 62,
   "metadata": {},
   "outputs": [
    {
     "data": {
      "image/png": "[encoded data removed]",
      "text/plain": [
       "<Figure size 432x288 with 1 Axes>"
      ]
     },
     "metadata": {},
     "output_type": "display_data"
    }
   ],
   "source": [
    "plt.plot(np.log10(lassoCV.alphas_),avg_mse)\n",
    "plt.xlabel('Alpha')\n",
    "plt.ylabel('MSE')\n",
    "plt.title('MSE vs. Alpha')\n",
    "plt.show()"
   ]
  },
  {
   "cell_type": "markdown",
   "metadata": {},
   "source": [
    "On récupère le meilleur lambda"
   ]
  },
  {
   "cell_type": "code",
   "execution_count": 63,
   "metadata": {},
   "outputs": [
    {
     "name": "stdout",
     "output_type": "stream",
     "text": [
      "0.09107819305312381\n"
     ]
    }
   ],
   "source": [
    "print(lassoCV.alpha_)"
   ]
  },
  {
   "cell_type": "markdown",
   "metadata": {},
   "source": [
    "## 14) Least Square Lasso \n",
    "Donner les variables selectionées par le lasso. Combien y-en a t-il ? Appliquer la méthode OLS aux variables sélectionnées. Cette méthode est appelé Least-square LASSO."
   ]
  },
  {
   "cell_type": "code",
   "execution_count": 64,
   "metadata": {
    "scrolled": true
   },
   "outputs": [
    {
     "name": "stdout",
     "output_type": "stream",
     "text": [
      "Le R2 lasso 0.5590346740600698\n"
     ]
    }
   ],
   "source": [
    "scoresTP[\"lasso\"]=lassoCV.score(X_test_cr,y_test_cr)\n",
    "print(\"Le R2 lasso \"+str(scoresTP[\"lasso\"]))"
   ]
  },
  {
   "cell_type": "code",
   "execution_count": 65,
   "metadata": {
    "scrolled": true
   },
   "outputs": [
    {
     "name": "stdout",
     "output_type": "stream",
     "text": [
      "(array([ 58, 112, 123, 129, 159, 167, 174]),)\n",
      "Il y a 7 coefficients non nuls\n"
     ]
    }
   ],
   "source": [
    "indexCoeffLassoSelected= np.nonzero(lassoCV.coef_)\n",
    "print(indexCoeffLassoSelected)\n",
    "print(\"Il y a \"+str(len(indexCoeffLassoSelected[0]))+\" coefficients non nuls\")"
   ]
  },
  {
   "cell_type": "markdown",
   "metadata": {},
   "source": [
    "On reconstruit notre XLasso avec uniquement les variables sélectionnées par le lasso:"
   ]
  },
  {
   "cell_type": "code",
   "execution_count": 66,
   "metadata": {},
   "outputs": [],
   "source": [
    "X_train_lasso=pd.DataFrame(X_train)[ indexCoeffLassoSelected[0]]\n",
    "X_test_lasso=pd.DataFrame(X_test)[ indexCoeffLassoSelected[0]]"
   ]
  },
  {
   "cell_type": "code",
   "execution_count": 67,
   "metadata": {},
   "outputs": [
    {
     "data": {
      "text/html": [
       "<div>\n",
       "<style scoped>\n",
       "    .dataframe tbody tr th:only-of-type {\n",
       "        vertical-align: middle;\n",
       "    }\n",
       "\n",
       "    .dataframe tbody tr th {\n",
       "        vertical-align: top;\n",
       "    }\n",
       "\n",
       "    .dataframe thead th {\n",
       "        text-align: right;\n",
       "    }\n",
       "</style>\n",
       "<table border=\"1\" class=\"dataframe\">\n",
       "  <thead>\n",
       "    <tr style=\"text-align: right;\">\n",
       "      <th></th>\n",
       "      <th>58</th>\n",
       "      <th>112</th>\n",
       "      <th>123</th>\n",
       "      <th>129</th>\n",
       "      <th>159</th>\n",
       "      <th>167</th>\n",
       "      <th>174</th>\n",
       "    </tr>\n",
       "  </thead>\n",
       "  <tbody>\n",
       "    <tr>\n",
       "      <th>0</th>\n",
       "      <td>1.455706</td>\n",
       "      <td>-0.582634</td>\n",
       "      <td>1.632136</td>\n",
       "      <td>-0.620659</td>\n",
       "      <td>0.655002</td>\n",
       "      <td>0.797624</td>\n",
       "      <td>-0.757647</td>\n",
       "    </tr>\n",
       "    <tr>\n",
       "      <th>1</th>\n",
       "      <td>1.501026</td>\n",
       "      <td>1.076793</td>\n",
       "      <td>-0.865768</td>\n",
       "      <td>-0.987847</td>\n",
       "      <td>-0.095567</td>\n",
       "      <td>0.025547</td>\n",
       "      <td>0.325982</td>\n",
       "    </tr>\n",
       "    <tr>\n",
       "      <th>2</th>\n",
       "      <td>0.957193</td>\n",
       "      <td>1.275830</td>\n",
       "      <td>1.559809</td>\n",
       "      <td>0.212976</td>\n",
       "      <td>-1.648328</td>\n",
       "      <td>0.459840</td>\n",
       "      <td>0.016374</td>\n",
       "    </tr>\n",
       "    <tr>\n",
       "      <th>3</th>\n",
       "      <td>-1.218138</td>\n",
       "      <td>-1.584188</td>\n",
       "      <td>0.901830</td>\n",
       "      <td>-0.412662</td>\n",
       "      <td>-0.310638</td>\n",
       "      <td>-0.481129</td>\n",
       "      <td>-1.144657</td>\n",
       "    </tr>\n",
       "    <tr>\n",
       "      <th>4</th>\n",
       "      <td>0.028145</td>\n",
       "      <td>0.753703</td>\n",
       "      <td>0.561635</td>\n",
       "      <td>-0.652830</td>\n",
       "      <td>-1.334055</td>\n",
       "      <td>-0.046836</td>\n",
       "      <td>0.712992</td>\n",
       "    </tr>\n",
       "  </tbody>\n",
       "</table>\n",
       "</div>"
      ],
      "text/plain": [
       "        58        112       123       129       159       167       174\n",
       "0  1.455706 -0.582634  1.632136 -0.620659  0.655002  0.797624 -0.757647\n",
       "1  1.501026  1.076793 -0.865768 -0.987847 -0.095567  0.025547  0.325982\n",
       "2  0.957193  1.275830  1.559809  0.212976 -1.648328  0.459840  0.016374\n",
       "3 -1.218138 -1.584188  0.901830 -0.412662 -0.310638 -0.481129 -1.144657\n",
       "4  0.028145  0.753703  0.561635 -0.652830 -1.334055 -0.046836  0.712992"
      ]
     },
     "execution_count": 67,
     "metadata": {},
     "output_type": "execute_result"
    }
   ],
   "source": [
    "X_train_lasso.head()"
   ]
  },
  {
   "cell_type": "markdown",
   "metadata": {},
   "source": [
    "On applique l'OLS sur ce nouveau Xlasso"
   ]
  },
  {
   "cell_type": "code",
   "execution_count": 68,
   "metadata": {},
   "outputs": [],
   "source": [
    "X_train_lasso_I= sm.add_constant(X_train_lasso)\n",
    "X_test_lasso_I= sm.add_constant(X_test_lasso)\n",
    "\n",
    "\n",
    "thetaLasso=np.linalg.inv(X_train_lasso_I.T@X_train_lasso_I)@X_train_lasso_I.T@y_train\n",
    "#On projette Xtest sur l'espace PCA \n",
    "ypredLasso= X_test_lasso_I@thetaLasso\n"
   ]
  },
  {
   "cell_type": "code",
   "execution_count": 69,
   "metadata": {
    "scrolled": true
   },
   "outputs": [
    {
     "name": "stdout",
     "output_type": "stream",
     "text": [
      "R2 pour Lasso 0.5316911471252108\n"
     ]
    }
   ],
   "source": [
    "R2Lasso=1-np.sum((ypredLasso-y_test)**2)/np.sum((y_test-y_test.mean())**2)\n",
    "scoresTP[\"LRlasso\"]=R2Lasso\n",
    "print(\"R2 pour Lasso \"+str(R2Lasso))"
   ]
  },
  {
   "cell_type": "code",
   "execution_count": 70,
   "metadata": {},
   "outputs": [
    {
     "name": "stdout",
     "output_type": "stream",
     "text": [
      "0.531691147125211\n"
     ]
    }
   ],
   "source": [
    "lrLasso= LinearRegression()\n",
    "lrLasso.fit(X_train_lasso,y_train)\n",
    "scoreLasso=lrLasso.score(X_test_lasso, y_test)\n",
    "predLasso=lrLasso.predict(X_test_lasso)\n",
    "print(scoreLasso)"
   ]
  },
  {
   "cell_type": "code",
   "execution_count": 71,
   "metadata": {},
   "outputs": [
    {
     "data": {
      "text/html": [
       "<div>\n",
       "<style scoped>\n",
       "    .dataframe tbody tr th:only-of-type {\n",
       "        vertical-align: middle;\n",
       "    }\n",
       "\n",
       "    .dataframe tbody tr th {\n",
       "        vertical-align: top;\n",
       "    }\n",
       "\n",
       "    .dataframe thead th {\n",
       "        text-align: right;\n",
       "    }\n",
       "</style>\n",
       "<table border=\"1\" class=\"dataframe\">\n",
       "  <thead>\n",
       "    <tr style=\"text-align: right;\">\n",
       "      <th></th>\n",
       "      <th>0</th>\n",
       "      <th>1</th>\n",
       "    </tr>\n",
       "  </thead>\n",
       "  <tbody>\n",
       "    <tr>\n",
       "      <th>0</th>\n",
       "      <td>185.198237</td>\n",
       "      <td>131.0</td>\n",
       "    </tr>\n",
       "    <tr>\n",
       "      <th>1</th>\n",
       "      <td>110.287915</td>\n",
       "      <td>72.0</td>\n",
       "    </tr>\n",
       "    <tr>\n",
       "      <th>2</th>\n",
       "      <td>59.364437</td>\n",
       "      <td>201.0</td>\n",
       "    </tr>\n",
       "    <tr>\n",
       "      <th>3</th>\n",
       "      <td>86.045749</td>\n",
       "      <td>97.0</td>\n",
       "    </tr>\n",
       "    <tr>\n",
       "      <th>4</th>\n",
       "      <td>26.276368</td>\n",
       "      <td>57.0</td>\n",
       "    </tr>\n",
       "  </tbody>\n",
       "</table>\n",
       "</div>"
      ],
      "text/plain": [
       "            0      1\n",
       "0  185.198237  131.0\n",
       "1  110.287915   72.0\n",
       "2   59.364437  201.0\n",
       "3   86.045749   97.0\n",
       "4   26.276368   57.0"
      ]
     },
     "execution_count": 71,
     "metadata": {},
     "output_type": "execute_result"
    }
   ],
   "source": [
    "arra=np.append(predLasso.reshape(len(y_test),1),y_test.reshape(len(y_test),1), axis=1)\n",
    "dfpredictlasso=pd.DataFrame(arra)\n",
    "dfpredictlasso.head()"
   ]
  },
  {
   "cell_type": "code",
   "execution_count": 72,
   "metadata": {},
   "outputs": [
    {
     "name": "stdout",
     "output_type": "stream",
     "text": [
      "{'PCA+OLS': 0.5283314323799991, 'OLS': 0.5283314323799988, 'Fwd': 0.5304990233291369, 'Ridge': 0.5173706664612441, 'lasso': 0.5590346740600698, 'LRlasso': 0.5316911471252108}\n"
     ]
    }
   ],
   "source": [
    "print(scoresTP)"
   ]
  },
  {
   "cell_type": "code",
   "execution_count": 73,
   "metadata": {},
   "outputs": [
    {
     "data": {
      "text/html": [
       "<div>\n",
       "<style scoped>\n",
       "    .dataframe tbody tr th:only-of-type {\n",
       "        vertical-align: middle;\n",
       "    }\n",
       "\n",
       "    .dataframe tbody tr th {\n",
       "        vertical-align: top;\n",
       "    }\n",
       "\n",
       "    .dataframe thead th {\n",
       "        text-align: right;\n",
       "    }\n",
       "</style>\n",
       "<table border=\"1\" class=\"dataframe\">\n",
       "  <thead>\n",
       "    <tr style=\"text-align: right;\">\n",
       "      <th></th>\n",
       "      <th>0</th>\n",
       "    </tr>\n",
       "  </thead>\n",
       "  <tbody>\n",
       "    <tr>\n",
       "      <th>PCA+OLS</th>\n",
       "      <td>0.528331</td>\n",
       "    </tr>\n",
       "    <tr>\n",
       "      <th>OLS</th>\n",
       "      <td>0.528331</td>\n",
       "    </tr>\n",
       "    <tr>\n",
       "      <th>Fwd</th>\n",
       "      <td>0.530499</td>\n",
       "    </tr>\n",
       "    <tr>\n",
       "      <th>Ridge</th>\n",
       "      <td>0.517371</td>\n",
       "    </tr>\n",
       "    <tr>\n",
       "      <th>lasso</th>\n",
       "      <td>0.559035</td>\n",
       "    </tr>\n",
       "    <tr>\n",
       "      <th>LRlasso</th>\n",
       "      <td>0.531691</td>\n",
       "    </tr>\n",
       "  </tbody>\n",
       "</table>\n",
       "</div>"
      ],
      "text/plain": [
       "                0\n",
       "PCA+OLS  0.528331\n",
       "OLS      0.528331\n",
       "Fwd      0.530499\n",
       "Ridge    0.517371\n",
       "lasso    0.559035\n",
       "LRlasso  0.531691"
      ]
     },
     "execution_count": 73,
     "metadata": {},
     "output_type": "execute_result"
    }
   ],
   "source": [
    "pd.DataFrame.from_dict(scoresTP, orient='index')"
   ]
  },
  {
   "cell_type": "markdown",
   "metadata": {},
   "source": [
    "## 15) Ouverture\n",
    "Cette dernière question est un question d’ouverture vers une approche non-linéaire. En utilisant les variables séléctionées par le LASSO (Q13) ou par la méthode forward (Q9), mettre au point une méthode de regression non-linéaire. On apprendra les différents paramètres par validation croisée et l’on donnera la valeur du risque de prédiction calculé sur l’échantillon test. Des performances moindres par rapport à OLS peuvent se produire. Commenter."
   ]
  },
  {
   "cell_type": "markdown",
   "metadata": {},
   "source": [
    "Ici nous allons essayer plusieurs modèles non linéaires avec des paramètres différents et comparer le R2"
   ]
  },
  {
   "cell_type": "code",
   "execution_count": 74,
   "metadata": {},
   "outputs": [
    {
     "name": "stdout",
     "output_type": "stream",
     "text": [
      "0.11318125967560279\n"
     ]
    }
   ],
   "source": [
    "from sklearn import svm\n",
    "#print(y_train)\n",
    "clf = svm.SVR()\n",
    "clf.fit(X_train_lasso, y_train)\n",
    "R2SVM=clf.score(X_test_lasso,y_test)\n",
    "print(R2SVM)"
   ]
  },
  {
   "cell_type": "code",
   "execution_count": 75,
   "metadata": {},
   "outputs": [],
   "source": [
    "from sklearn.linear_model import ElasticNet\n",
    "\n",
    "regrEN = ElasticNet(random_state=0)\n",
    "regrEN.fit(X_train_lasso, y_train)\n",
    "R2EN=regrEN.score(X_test_lasso, y_test)\n",
    "scoresTP[\"ElasticNet\"]=R2EN"
   ]
  },
  {
   "cell_type": "code",
   "execution_count": 76,
   "metadata": {},
   "outputs": [
    {
     "data": {
      "text/html": [
       "<div>\n",
       "<style scoped>\n",
       "    .dataframe tbody tr th:only-of-type {\n",
       "        vertical-align: middle;\n",
       "    }\n",
       "\n",
       "    .dataframe tbody tr th {\n",
       "        vertical-align: top;\n",
       "    }\n",
       "\n",
       "    .dataframe thead th {\n",
       "        text-align: right;\n",
       "    }\n",
       "</style>\n",
       "<table border=\"1\" class=\"dataframe\">\n",
       "  <thead>\n",
       "    <tr style=\"text-align: right;\">\n",
       "      <th></th>\n",
       "      <th>0</th>\n",
       "    </tr>\n",
       "  </thead>\n",
       "  <tbody>\n",
       "    <tr>\n",
       "      <th>PCA+OLS</th>\n",
       "      <td>0.528331</td>\n",
       "    </tr>\n",
       "    <tr>\n",
       "      <th>OLS</th>\n",
       "      <td>0.528331</td>\n",
       "    </tr>\n",
       "    <tr>\n",
       "      <th>Fwd</th>\n",
       "      <td>0.530499</td>\n",
       "    </tr>\n",
       "    <tr>\n",
       "      <th>Ridge</th>\n",
       "      <td>0.517371</td>\n",
       "    </tr>\n",
       "    <tr>\n",
       "      <th>lasso</th>\n",
       "      <td>0.559035</td>\n",
       "    </tr>\n",
       "    <tr>\n",
       "      <th>LRlasso</th>\n",
       "      <td>0.531691</td>\n",
       "    </tr>\n",
       "    <tr>\n",
       "      <th>ElasticNet</th>\n",
       "      <td>0.492821</td>\n",
       "    </tr>\n",
       "  </tbody>\n",
       "</table>\n",
       "</div>"
      ],
      "text/plain": [
       "                   0\n",
       "PCA+OLS     0.528331\n",
       "OLS         0.528331\n",
       "Fwd         0.530499\n",
       "Ridge       0.517371\n",
       "lasso       0.559035\n",
       "LRlasso     0.531691\n",
       "ElasticNet  0.492821"
      ]
     },
     "execution_count": 76,
     "metadata": {},
     "output_type": "execute_result"
    }
   ],
   "source": [
    "pd.DataFrame.from_dict(scoresTP, orient='index')"
   ]
  },
  {
   "cell_type": "code",
   "execution_count": 77,
   "metadata": {},
   "outputs": [
    {
     "data": {
      "text/plain": [
       "0.5377696569493864"
      ]
     },
     "execution_count": 77,
     "metadata": {},
     "output_type": "execute_result"
    }
   ],
   "source": [
    "from sklearn.neural_network import MLPRegressor\n",
    "nn = MLPRegressor(solver='lbfgs', alpha=100, hidden_layer_sizes=(1, 10))\n",
    "nn.fit(X_train_lasso, y_train)\n",
    "nn.score(X_test_lasso,y_test)"
   ]
  },
  {
   "cell_type": "code",
   "execution_count": 78,
   "metadata": {},
   "outputs": [
    {
     "name": "stdout",
     "output_type": "stream",
     "text": [
      "Fitting 3 folds for each of 152 candidates, totalling 456 fits\n"
     ]
    },
    {
     "name": "stderr",
     "output_type": "stream",
     "text": [
      "[Parallel(n_jobs=1)]: Done 456 out of 456 | elapsed:   19.3s finished\n"
     ]
    },
    {
     "data": {
      "text/plain": [
       "MLPRegressor(activation='relu', alpha=1000, batch_size='auto', beta_1=0.9,\n",
       "       beta_2=0.999, early_stopping=False, epsilon=1e-08,\n",
       "       hidden_layer_sizes=(7,), learning_rate='constant',\n",
       "       learning_rate_init=0.001, max_iter=200, momentum=0.9,\n",
       "       nesterovs_momentum=True, power_t=0.5, random_state=None,\n",
       "       shuffle=True, solver='lbfgs', tol=0.0001, validation_fraction=0.1,\n",
       "       verbose=False, warm_start=False)"
      ]
     },
     "execution_count": 78,
     "metadata": {},
     "output_type": "execute_result"
    }
   ],
   "source": [
    "from sklearn.model_selection import GridSearchCV\n",
    "\n",
    "mlp=MLPRegressor(solver='lbfgs')\n",
    "param_grid = {\n",
    "    'hidden_layer_sizes': [(i,) for i in range(1,20)]\n",
    "     ,\n",
    "    'alpha': [10**x for x in range(-3,5)],\n",
    "             }\n",
    "GS = GridSearchCV(mlp, param_grid=param_grid, verbose=True)\n",
    "GS.fit(X_train_lasso, y_train)\n",
    "GS.best_estimator_"
   ]
  },
  {
   "cell_type": "code",
   "execution_count": 79,
   "metadata": {},
   "outputs": [],
   "source": [
    "R2MLP=GS.score(X_test_lasso,y_test)"
   ]
  },
  {
   "cell_type": "code",
   "execution_count": 80,
   "metadata": {},
   "outputs": [
    {
     "name": "stdout",
     "output_type": "stream",
     "text": [
      "R2 pour MLP 0.5302377541850625\n"
     ]
    }
   ],
   "source": [
    "scoresTP[\"MLP\"]=R2MLP\n",
    "print(\"R2 pour MLP \"+str(R2MLP))"
   ]
  },
  {
   "cell_type": "code",
   "execution_count": 81,
   "metadata": {},
   "outputs": [
    {
     "data": {
      "text/html": [
       "<div>\n",
       "<style scoped>\n",
       "    .dataframe tbody tr th:only-of-type {\n",
       "        vertical-align: middle;\n",
       "    }\n",
       "\n",
       "    .dataframe tbody tr th {\n",
       "        vertical-align: top;\n",
       "    }\n",
       "\n",
       "    .dataframe thead th {\n",
       "        text-align: right;\n",
       "    }\n",
       "</style>\n",
       "<table border=\"1\" class=\"dataframe\">\n",
       "  <thead>\n",
       "    <tr style=\"text-align: right;\">\n",
       "      <th></th>\n",
       "      <th>0</th>\n",
       "    </tr>\n",
       "  </thead>\n",
       "  <tbody>\n",
       "    <tr>\n",
       "      <th>PCA+OLS</th>\n",
       "      <td>0.528331</td>\n",
       "    </tr>\n",
       "    <tr>\n",
       "      <th>OLS</th>\n",
       "      <td>0.528331</td>\n",
       "    </tr>\n",
       "    <tr>\n",
       "      <th>Fwd</th>\n",
       "      <td>0.530499</td>\n",
       "    </tr>\n",
       "    <tr>\n",
       "      <th>Ridge</th>\n",
       "      <td>0.517371</td>\n",
       "    </tr>\n",
       "    <tr>\n",
       "      <th>lasso</th>\n",
       "      <td>0.559035</td>\n",
       "    </tr>\n",
       "    <tr>\n",
       "      <th>LRlasso</th>\n",
       "      <td>0.531691</td>\n",
       "    </tr>\n",
       "    <tr>\n",
       "      <th>ElasticNet</th>\n",
       "      <td>0.492821</td>\n",
       "    </tr>\n",
       "    <tr>\n",
       "      <th>MLP</th>\n",
       "      <td>0.530238</td>\n",
       "    </tr>\n",
       "  </tbody>\n",
       "</table>\n",
       "</div>"
      ],
      "text/plain": [
       "                   0\n",
       "PCA+OLS     0.528331\n",
       "OLS         0.528331\n",
       "Fwd         0.530499\n",
       "Ridge       0.517371\n",
       "lasso       0.559035\n",
       "LRlasso     0.531691\n",
       "ElasticNet  0.492821\n",
       "MLP         0.530238"
      ]
     },
     "execution_count": 81,
     "metadata": {},
     "output_type": "execute_result"
    }
   ],
   "source": [
    "pd.DataFrame.from_dict(scoresTP, orient='index')"
   ]
  },
  {
   "cell_type": "code",
   "execution_count": null,
   "metadata": {},
   "outputs": [],
   "source": []
  },
  {
   "cell_type": "code",
   "execution_count": null,
   "metadata": {},
   "outputs": [],
   "source": []
  }
 ],
 "metadata": {
  "kernelspec": {
   "display_name": "Python 3",
   "language": "python",
   "name": "python3"
  },
  "language_info": {
   "codemirror_mode": {
    "name": "ipython",
    "version": 3
   },
   "file_extension": ".py",
   "mimetype": "text/x-python",
   "name": "python",
   "nbconvert_exporter": "python",
   "pygments_lexer": "ipython3",
   "version": "3.6.5"
  }
 },
 "nbformat": 4,
 "nbformat_minor": 2
}
