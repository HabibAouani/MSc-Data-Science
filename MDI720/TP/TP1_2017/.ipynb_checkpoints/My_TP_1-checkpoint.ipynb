{
 "cells": [
  {
   "cell_type": "code",
   "execution_count": 72,
   "metadata": {},
   "outputs": [],
   "source": [
    "import numpy as np\n",
    "import pandas as pd\n",
    "import matplotlib.pyplot as plt\n",
    "import seaborn as sns\n",
    "from statsmodels.nonparametric.kde import KDEUnivariate\n",
    "from sklearn import linear_model"
   ]
  },
  {
   "cell_type": "code",
   "execution_count": 73,
   "metadata": {},
   "outputs": [],
   "source": [
    "df = pd.read_csv(\"http://josephsalmon.eu/enseignement/TELECOM/MDI720/datasets/Galton.txt\", delimiter = '\\t')"
   ]
  },
  {
   "cell_type": "code",
   "execution_count": 74,
   "metadata": {},
   "outputs": [
    {
     "data": {
      "text/html": [
       "<div>\n",
       "<style scoped>\n",
       "    .dataframe tbody tr th:only-of-type {\n",
       "        vertical-align: middle;\n",
       "    }\n",
       "\n",
       "    .dataframe tbody tr th {\n",
       "        vertical-align: top;\n",
       "    }\n",
       "\n",
       "    .dataframe thead th {\n",
       "        text-align: right;\n",
       "    }\n",
       "</style>\n",
       "<table border=\"1\" class=\"dataframe\">\n",
       "  <thead>\n",
       "    <tr style=\"text-align: right;\">\n",
       "      <th></th>\n",
       "      <th>Family</th>\n",
       "      <th>Father</th>\n",
       "      <th>Mother</th>\n",
       "      <th>Gender</th>\n",
       "      <th>Height</th>\n",
       "      <th>Kids</th>\n",
       "    </tr>\n",
       "  </thead>\n",
       "  <tbody>\n",
       "    <tr>\n",
       "      <th>0</th>\n",
       "      <td>1</td>\n",
       "      <td>78.5</td>\n",
       "      <td>67.0</td>\n",
       "      <td>M</td>\n",
       "      <td>73.2</td>\n",
       "      <td>4</td>\n",
       "    </tr>\n",
       "    <tr>\n",
       "      <th>1</th>\n",
       "      <td>1</td>\n",
       "      <td>78.5</td>\n",
       "      <td>67.0</td>\n",
       "      <td>F</td>\n",
       "      <td>69.2</td>\n",
       "      <td>4</td>\n",
       "    </tr>\n",
       "    <tr>\n",
       "      <th>2</th>\n",
       "      <td>1</td>\n",
       "      <td>78.5</td>\n",
       "      <td>67.0</td>\n",
       "      <td>F</td>\n",
       "      <td>69.0</td>\n",
       "      <td>4</td>\n",
       "    </tr>\n",
       "    <tr>\n",
       "      <th>3</th>\n",
       "      <td>1</td>\n",
       "      <td>78.5</td>\n",
       "      <td>67.0</td>\n",
       "      <td>F</td>\n",
       "      <td>69.0</td>\n",
       "      <td>4</td>\n",
       "    </tr>\n",
       "    <tr>\n",
       "      <th>4</th>\n",
       "      <td>2</td>\n",
       "      <td>75.5</td>\n",
       "      <td>66.5</td>\n",
       "      <td>M</td>\n",
       "      <td>73.5</td>\n",
       "      <td>4</td>\n",
       "    </tr>\n",
       "  </tbody>\n",
       "</table>\n",
       "</div>"
      ],
      "text/plain": [
       "  Family  Father  Mother Gender  Height  Kids\n",
       "0      1    78.5    67.0      M    73.2     4\n",
       "1      1    78.5    67.0      F    69.2     4\n",
       "2      1    78.5    67.0      F    69.0     4\n",
       "3      1    78.5    67.0      F    69.0     4\n",
       "4      2    75.5    66.5      M    73.5     4"
      ]
     },
     "execution_count": 74,
     "metadata": {},
     "output_type": "execute_result"
    }
   ],
   "source": [
    "df.head()"
   ]
  },
  {
   "cell_type": "code",
   "execution_count": 75,
   "metadata": {},
   "outputs": [],
   "source": [
    "df['Height'] = df['Height'] * 2.54\n",
    "df['Father'] = df['Father'] * 2.54\n",
    "df['Mother'] = df['Mother'] * 2.54"
   ]
  },
  {
   "cell_type": "code",
   "execution_count": 76,
   "metadata": {},
   "outputs": [
    {
     "data": {
      "text/html": [
       "<div>\n",
       "<style scoped>\n",
       "    .dataframe tbody tr th:only-of-type {\n",
       "        vertical-align: middle;\n",
       "    }\n",
       "\n",
       "    .dataframe tbody tr th {\n",
       "        vertical-align: top;\n",
       "    }\n",
       "\n",
       "    .dataframe thead th {\n",
       "        text-align: right;\n",
       "    }\n",
       "</style>\n",
       "<table border=\"1\" class=\"dataframe\">\n",
       "  <thead>\n",
       "    <tr style=\"text-align: right;\">\n",
       "      <th></th>\n",
       "      <th>Family</th>\n",
       "      <th>Father</th>\n",
       "      <th>Mother</th>\n",
       "      <th>Gender</th>\n",
       "      <th>Height</th>\n",
       "      <th>Kids</th>\n",
       "    </tr>\n",
       "  </thead>\n",
       "  <tbody>\n",
       "    <tr>\n",
       "      <th>0</th>\n",
       "      <td>1</td>\n",
       "      <td>199.39</td>\n",
       "      <td>170.18</td>\n",
       "      <td>M</td>\n",
       "      <td>185.928</td>\n",
       "      <td>4</td>\n",
       "    </tr>\n",
       "    <tr>\n",
       "      <th>1</th>\n",
       "      <td>1</td>\n",
       "      <td>199.39</td>\n",
       "      <td>170.18</td>\n",
       "      <td>F</td>\n",
       "      <td>175.768</td>\n",
       "      <td>4</td>\n",
       "    </tr>\n",
       "    <tr>\n",
       "      <th>2</th>\n",
       "      <td>1</td>\n",
       "      <td>199.39</td>\n",
       "      <td>170.18</td>\n",
       "      <td>F</td>\n",
       "      <td>175.260</td>\n",
       "      <td>4</td>\n",
       "    </tr>\n",
       "    <tr>\n",
       "      <th>3</th>\n",
       "      <td>1</td>\n",
       "      <td>199.39</td>\n",
       "      <td>170.18</td>\n",
       "      <td>F</td>\n",
       "      <td>175.260</td>\n",
       "      <td>4</td>\n",
       "    </tr>\n",
       "    <tr>\n",
       "      <th>4</th>\n",
       "      <td>2</td>\n",
       "      <td>191.77</td>\n",
       "      <td>168.91</td>\n",
       "      <td>M</td>\n",
       "      <td>186.690</td>\n",
       "      <td>4</td>\n",
       "    </tr>\n",
       "  </tbody>\n",
       "</table>\n",
       "</div>"
      ],
      "text/plain": [
       "  Family  Father  Mother Gender   Height  Kids\n",
       "0      1  199.39  170.18      M  185.928     4\n",
       "1      1  199.39  170.18      F  175.768     4\n",
       "2      1  199.39  170.18      F  175.260     4\n",
       "3      1  199.39  170.18      F  175.260     4\n",
       "4      2  191.77  168.91      M  186.690     4"
      ]
     },
     "execution_count": 76,
     "metadata": {},
     "output_type": "execute_result"
    }
   ],
   "source": [
    "df.head()"
   ]
  },
  {
   "cell_type": "code",
   "execution_count": 77,
   "metadata": {},
   "outputs": [
    {
     "name": "stdout",
     "output_type": "stream",
     "text": [
      "There are 0 missing values.\n"
     ]
    }
   ],
   "source": [
    "print(\"There are \" + str(df.isnull().sum(axis=0).sum()) + \" missing values.\")"
   ]
  },
  {
   "cell_type": "code",
   "execution_count": 78,
   "metadata": {},
   "outputs": [
    {
     "data": {
      "image/png": "[encoded data removed]",
      "text/plain": [
       "<Figure size 432x288 with 1 Axes>"
      ]
     },
     "metadata": {},
     "output_type": "display_data"
    },
    {
     "data": {
      "image/png": "[encoded data removed]",
      "text/plain": [
       "<Figure size 432x288 with 1 Axes>"
      ]
     },
     "metadata": {},
     "output_type": "display_data"
    }
   ],
   "source": [
    "#Histogram\n",
    "plt.hist(df['Father'], bins = 30, label=\"Father\")\n",
    "plt.hist(df['Mother'], bins = 30, label=\"Mother\")\n",
    "plt.ylabel(\"Density\", fontsize=18)\n",
    "plt.xlabel('Height (in cm.)', fontsize=18)\n",
    "plt.title(\"Distribution of parents height (by gender)\")\n",
    "plt.legend()\n",
    "plt.show()\n",
    "\n",
    "#Gaussian kernel\n",
    "plt.figure()\n",
    "kde_father = KDEUnivariate(df['Father'])\n",
    "kde_father.fit(bw=2, kernel='gau')\n",
    "x_grid = np.linspace(140, 210)\n",
    "pdf_est_father = kde_father.evaluate(x_grid)\n",
    "\n",
    "kde_mother = KDEUnivariate(df['Mother'])\n",
    "kde_mother.fit(bw=2, kernel='gau')\n",
    "x_grid = np.linspace(140, 210)\n",
    "pdf_est_mother = kde_mother.evaluate(x_grid)\n",
    "\n",
    "plt.plot(x_grid, pdf_est_father, label='Father')\n",
    "plt.fill_between(x_grid, 0, pdf_est_father, alpha=0.5)\n",
    "plt.plot(x_grid, pdf_est_mother, label='Mother')\n",
    "plt.fill_between(x_grid, 0, pdf_est_mother, alpha=0.5)\n",
    "\n",
    "plt.ylabel('Density', fontsize=18)\n",
    "plt.xlabel('Height (in cm.)', fontsize=18)\n",
    "plt.title(\"Distribution of parents height (by gender)\")\n",
    "plt.legend()\n",
    "plt.show()"
   ]
  },
  {
   "cell_type": "code",
   "execution_count": 79,
   "metadata": {},
   "outputs": [
    {
     "data": {
      "image/png": "[encoded data removed]",
      "text/plain": [
       "<Figure size 432x288 with 1 Axes>"
      ]
     },
     "metadata": {},
     "output_type": "display_data"
    }
   ],
   "source": [
    "plt.figure()\n",
    "y = df['Father']\n",
    "X = df[['Mother']]\n",
    "plt.plot(X,y,\"o\", label=\"/\")\n",
    "plt.ylabel('Father height', fontsize=18)\n",
    "plt.xlabel('Mother height', fontsize=18)\n",
    "plt.title(\"Father height in terms of mother.\")\n",
    "plt.ylim([df['Father'].min()-1, df['Father'].max()+1])\n",
    "plt.xlim([df['Mother'].min()-1, df['Mother'].max()+1])\n",
    "\n",
    "skl_lm = linear_model.LinearRegression(fit_intercept=True)\n",
    "skl_lm.fit(X, y)\n",
    "plt.plot(x_grid, skl_lm.predict(x_grid.reshape(x_grid.shape[0], 1)), '-', label='Model prediction')\n",
    "plt.legend()\n",
    "plt.show()"
   ]
  },
  {
   "cell_type": "code",
   "execution_count": 80,
   "metadata": {
    "scrolled": true
   },
   "outputs": [
    {
     "name": "stdout",
     "output_type": "stream",
     "text": [
      "0.005426474934620118\n"
     ]
    }
   ],
   "source": [
    "print(skl_lm.score(X, y))"
   ]
  },
  {
   "cell_type": "code",
   "execution_count": 81,
   "metadata": {},
   "outputs": [
    {
     "data": {
      "image/png": "[encoded data removed]",
      "text/plain": [
       "<Figure size 432x288 with 1 Axes>"
      ]
     },
     "metadata": {},
     "output_type": "display_data"
    }
   ],
   "source": [
    "plt.hist(df['Kids'], bins = 30)\n",
    "plt.xlabel(\"Nombre d'enfants\", fontsize=18)\n",
    "plt.ylabel(\"Densité\",fontsize=18)\n",
    "plt.title(\"Nombre d'enfants par famille\")\n",
    "plt.show()"
   ]
  },
  {
   "cell_type": "code",
   "execution_count": 82,
   "metadata": {},
   "outputs": [],
   "source": [
    "df['MidParent'] = (df['Father'] * 1.08 + df['Mother'])/ 2"
   ]
  },
  {
   "cell_type": "code",
   "execution_count": 83,
   "metadata": {},
   "outputs": [
    {
     "data": {
      "text/html": [
       "<div>\n",
       "<style scoped>\n",
       "    .dataframe tbody tr th:only-of-type {\n",
       "        vertical-align: middle;\n",
       "    }\n",
       "\n",
       "    .dataframe tbody tr th {\n",
       "        vertical-align: top;\n",
       "    }\n",
       "\n",
       "    .dataframe thead th {\n",
       "        text-align: right;\n",
       "    }\n",
       "</style>\n",
       "<table border=\"1\" class=\"dataframe\">\n",
       "  <thead>\n",
       "    <tr style=\"text-align: right;\">\n",
       "      <th></th>\n",
       "      <th>Family</th>\n",
       "      <th>Father</th>\n",
       "      <th>Mother</th>\n",
       "      <th>Gender</th>\n",
       "      <th>Height</th>\n",
       "      <th>Kids</th>\n",
       "      <th>MidParent</th>\n",
       "    </tr>\n",
       "  </thead>\n",
       "  <tbody>\n",
       "    <tr>\n",
       "      <th>0</th>\n",
       "      <td>1</td>\n",
       "      <td>199.39</td>\n",
       "      <td>170.18</td>\n",
       "      <td>M</td>\n",
       "      <td>185.928</td>\n",
       "      <td>4</td>\n",
       "      <td>192.7606</td>\n",
       "    </tr>\n",
       "    <tr>\n",
       "      <th>1</th>\n",
       "      <td>1</td>\n",
       "      <td>199.39</td>\n",
       "      <td>170.18</td>\n",
       "      <td>F</td>\n",
       "      <td>175.768</td>\n",
       "      <td>4</td>\n",
       "      <td>192.7606</td>\n",
       "    </tr>\n",
       "    <tr>\n",
       "      <th>2</th>\n",
       "      <td>1</td>\n",
       "      <td>199.39</td>\n",
       "      <td>170.18</td>\n",
       "      <td>F</td>\n",
       "      <td>175.260</td>\n",
       "      <td>4</td>\n",
       "      <td>192.7606</td>\n",
       "    </tr>\n",
       "    <tr>\n",
       "      <th>3</th>\n",
       "      <td>1</td>\n",
       "      <td>199.39</td>\n",
       "      <td>170.18</td>\n",
       "      <td>F</td>\n",
       "      <td>175.260</td>\n",
       "      <td>4</td>\n",
       "      <td>192.7606</td>\n",
       "    </tr>\n",
       "    <tr>\n",
       "      <th>4</th>\n",
       "      <td>2</td>\n",
       "      <td>191.77</td>\n",
       "      <td>168.91</td>\n",
       "      <td>M</td>\n",
       "      <td>186.690</td>\n",
       "      <td>4</td>\n",
       "      <td>188.0108</td>\n",
       "    </tr>\n",
       "  </tbody>\n",
       "</table>\n",
       "</div>"
      ],
      "text/plain": [
       "  Family  Father  Mother Gender   Height  Kids  MidParent\n",
       "0      1  199.39  170.18      M  185.928     4   192.7606\n",
       "1      1  199.39  170.18      F  175.768     4   192.7606\n",
       "2      1  199.39  170.18      F  175.260     4   192.7606\n",
       "3      1  199.39  170.18      F  175.260     4   192.7606\n",
       "4      2  191.77  168.91      M  186.690     4   188.0108"
      ]
     },
     "execution_count": 83,
     "metadata": {},
     "output_type": "execute_result"
    }
   ],
   "source": [
    "df.head()"
   ]
  },
  {
   "cell_type": "code",
   "execution_count": 91,
   "metadata": {},
   "outputs": [
    {
     "name": "stdout",
     "output_type": "stream",
     "text": [
      "Are the two computations of theta1 the same? This is True and theta1=0.6441901863727933\n",
      "Are the two computations of theta0 the same? This is False and theta0=55.971160680575835\n"
     ]
    }
   ],
   "source": [
    "X0 = df[['MidParent']]\n",
    "y = df['Height']\n",
    "skl_lm = linear_model.LinearRegression()\n",
    "skl_lm.fit(X0, y)\n",
    "theta0 = skl_lm.intercept_\n",
    "theta1 = skl_lm.coef_[0]\n",
    "y_mean=y.mean()\n",
    "X0_mean = (X0.mean(axis=0)).squeeze()\n",
    "X0_var = X0.var(ddof=0).squeeze()\n",
    "y_var = y.var(ddof=0)\n",
    "theta1_manual = ((X0.squeeze() - X0_mean) * (y - y_mean)).mean() / X0_var\n",
    "theta0_manual = y_mean - theta1_manual * X0_mean\n",
    "print('Are the two computations of theta1 the same? This is {} and theta1={}'.format(np.isclose(theta1, theta1_manual),theta1))\n",
    "print('Are the two computations of theta0 the same? This is {} and theta0={}'.format(np.isclose(theta0, theta1_manual),theta0))"
   ]
  },
  {
   "cell_type": "code",
   "execution_count": null,
   "metadata": {},
   "outputs": [],
   "source": []
  },
  {
   "cell_type": "code",
   "execution_count": null,
   "metadata": {},
   "outputs": [],
   "source": []
  }
 ],
 "metadata": {
  "kernelspec": {
   "display_name": "Python 3",
   "language": "python",
   "name": "python3"
  },
  "language_info": {
   "codemirror_mode": {
    "name": "ipython",
    "version": 3
   },
   "file_extension": ".py",
   "mimetype": "text/x-python",
   "name": "python",
   "nbconvert_exporter": "python",
   "pygments_lexer": "ipython3",
   "version": "3.6.5"
  }
 },
 "nbformat": 4,
 "nbformat_minor": 2
}
