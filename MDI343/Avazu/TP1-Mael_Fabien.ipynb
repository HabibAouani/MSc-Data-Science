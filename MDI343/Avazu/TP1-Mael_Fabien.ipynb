{
 "cells": [
  {
   "cell_type": "markdown",
   "metadata": {},
   "source": [
    "<h1><center>MDI343 / MDI724 - TP1 Avazu<center></h1>"
   ]
  },
  {
   "cell_type": "markdown",
   "metadata": {},
   "source": [
    "#### For any remark or suggestion, please feel free to contact us at: \n",
    "#### pascal.bianchi@telecom-paristech.fr\n",
    "#### nidham.gazagnadou@telecom-paristech.fr\n",
    "#### kevin.elgui@gmail.com\n",
    "\n"
   ]
  },
  {
   "cell_type": "markdown",
   "metadata": {},
   "source": [
    "## First name : Maël\n",
    "## Last name : FABIEN\n",
    "## Email : mael.fabien@telecom-paristech.fr"
   ]
  },
  {
   "cell_type": "markdown",
   "metadata": {},
   "source": [
    "<font color=\"red\">**Question 0:**\n",
    "    Import the needed packages: numpy, pandas etc..\n",
    "</font>"
   ]
  },
  {
   "cell_type": "code",
   "execution_count": 61,
   "metadata": {},
   "outputs": [],
   "source": [
    "import numpy as np\n",
    "import pandas as pd\n",
    "import matplotlib.pyplot as plt\n",
    "import seaborn as sns\n",
    "import datetime\n",
    "%matplotlib inline"
   ]
  },
  {
   "cell_type": "markdown",
   "metadata": {},
   "source": [
    "# The dataset"
   ]
  },
  {
   "cell_type": "markdown",
   "metadata": {},
   "source": [
    "<font color=\"red\">**Question 1:**\n",
    "    Load the data into a pandas DataFrame and display the first lines with the \".head()\" method.\n",
    "    <br>\n",
    "</font>\n",
    "**Remark**: the features meaning is available at https://www.kaggle.com/c/avazu-ctr-prediction/data"
   ]
  },
  {
   "cell_type": "code",
   "execution_count": 62,
   "metadata": {},
   "outputs": [
    {
     "name": "stdout",
     "output_type": "stream",
     "text": [
      "/home/ubuntu/notebooks\r\n"
     ]
    }
   ],
   "source": [
    "!pwd"
   ]
  },
  {
   "cell_type": "code",
   "execution_count": 63,
   "metadata": {
    "scrolled": true
   },
   "outputs": [],
   "source": [
    "df = pd.read_csv('/home/ubuntu/data/train-1000000')"
   ]
  },
  {
   "cell_type": "code",
   "execution_count": 64,
   "metadata": {},
   "outputs": [
    {
     "data": {
      "text/html": [
       "<div>\n",
       "<style scoped>\n",
       "    .dataframe tbody tr th:only-of-type {\n",
       "        vertical-align: middle;\n",
       "    }\n",
       "\n",
       "    .dataframe tbody tr th {\n",
       "        vertical-align: top;\n",
       "    }\n",
       "\n",
       "    .dataframe thead th {\n",
       "        text-align: right;\n",
       "    }\n",
       "</style>\n",
       "<table border=\"1\" class=\"dataframe\">\n",
       "  <thead>\n",
       "    <tr style=\"text-align: right;\">\n",
       "      <th></th>\n",
       "      <th>id</th>\n",
       "      <th>click</th>\n",
       "      <th>hour</th>\n",
       "      <th>C1</th>\n",
       "      <th>banner_pos</th>\n",
       "      <th>site_id</th>\n",
       "      <th>site_domain</th>\n",
       "      <th>site_category</th>\n",
       "      <th>app_id</th>\n",
       "      <th>app_domain</th>\n",
       "      <th>...</th>\n",
       "      <th>device_type</th>\n",
       "      <th>device_conn_type</th>\n",
       "      <th>C14</th>\n",
       "      <th>C15</th>\n",
       "      <th>C16</th>\n",
       "      <th>C17</th>\n",
       "      <th>C18</th>\n",
       "      <th>C19</th>\n",
       "      <th>C20</th>\n",
       "      <th>C21</th>\n",
       "    </tr>\n",
       "  </thead>\n",
       "  <tbody>\n",
       "    <tr>\n",
       "      <th>0</th>\n",
       "      <td>3.983206e+18</td>\n",
       "      <td>0</td>\n",
       "      <td>14102915</td>\n",
       "      <td>1005</td>\n",
       "      <td>1</td>\n",
       "      <td>e151e245</td>\n",
       "      <td>7e091613</td>\n",
       "      <td>f028772b</td>\n",
       "      <td>ecad2386</td>\n",
       "      <td>7801e8d9</td>\n",
       "      <td>...</td>\n",
       "      <td>1</td>\n",
       "      <td>2</td>\n",
       "      <td>4687</td>\n",
       "      <td>320</td>\n",
       "      <td>50</td>\n",
       "      <td>423</td>\n",
       "      <td>2</td>\n",
       "      <td>39</td>\n",
       "      <td>100148</td>\n",
       "      <td>32</td>\n",
       "    </tr>\n",
       "    <tr>\n",
       "      <th>1</th>\n",
       "      <td>7.756884e+18</td>\n",
       "      <td>0</td>\n",
       "      <td>14103007</td>\n",
       "      <td>1002</td>\n",
       "      <td>0</td>\n",
       "      <td>cb809abf</td>\n",
       "      <td>74acf31a</td>\n",
       "      <td>50e219e0</td>\n",
       "      <td>ecad2386</td>\n",
       "      <td>7801e8d9</td>\n",
       "      <td>...</td>\n",
       "      <td>0</td>\n",
       "      <td>0</td>\n",
       "      <td>17894</td>\n",
       "      <td>320</td>\n",
       "      <td>50</td>\n",
       "      <td>2039</td>\n",
       "      <td>2</td>\n",
       "      <td>39</td>\n",
       "      <td>100077</td>\n",
       "      <td>32</td>\n",
       "    </tr>\n",
       "    <tr>\n",
       "      <th>2</th>\n",
       "      <td>6.941774e+17</td>\n",
       "      <td>0</td>\n",
       "      <td>14102711</td>\n",
       "      <td>1005</td>\n",
       "      <td>0</td>\n",
       "      <td>85f751fd</td>\n",
       "      <td>c4e18dd6</td>\n",
       "      <td>50e219e0</td>\n",
       "      <td>e9739828</td>\n",
       "      <td>df32afa9</td>\n",
       "      <td>...</td>\n",
       "      <td>1</td>\n",
       "      <td>0</td>\n",
       "      <td>22684</td>\n",
       "      <td>320</td>\n",
       "      <td>50</td>\n",
       "      <td>2619</td>\n",
       "      <td>1</td>\n",
       "      <td>163</td>\n",
       "      <td>100055</td>\n",
       "      <td>71</td>\n",
       "    </tr>\n",
       "    <tr>\n",
       "      <th>3</th>\n",
       "      <td>2.664154e+18</td>\n",
       "      <td>1</td>\n",
       "      <td>14102903</td>\n",
       "      <td>1005</td>\n",
       "      <td>0</td>\n",
       "      <td>85f751fd</td>\n",
       "      <td>c4e18dd6</td>\n",
       "      <td>50e219e0</td>\n",
       "      <td>a5184c22</td>\n",
       "      <td>b8d325c3</td>\n",
       "      <td>...</td>\n",
       "      <td>1</td>\n",
       "      <td>0</td>\n",
       "      <td>23222</td>\n",
       "      <td>320</td>\n",
       "      <td>50</td>\n",
       "      <td>2676</td>\n",
       "      <td>0</td>\n",
       "      <td>35</td>\n",
       "      <td>100176</td>\n",
       "      <td>221</td>\n",
       "    </tr>\n",
       "    <tr>\n",
       "      <th>4</th>\n",
       "      <td>1.480510e+19</td>\n",
       "      <td>0</td>\n",
       "      <td>14102902</td>\n",
       "      <td>1005</td>\n",
       "      <td>1</td>\n",
       "      <td>791b5571</td>\n",
       "      <td>fd13bc73</td>\n",
       "      <td>f028772b</td>\n",
       "      <td>ecad2386</td>\n",
       "      <td>7801e8d9</td>\n",
       "      <td>...</td>\n",
       "      <td>1</td>\n",
       "      <td>0</td>\n",
       "      <td>8330</td>\n",
       "      <td>320</td>\n",
       "      <td>50</td>\n",
       "      <td>761</td>\n",
       "      <td>3</td>\n",
       "      <td>175</td>\n",
       "      <td>100081</td>\n",
       "      <td>23</td>\n",
       "    </tr>\n",
       "  </tbody>\n",
       "</table>\n",
       "<p>5 rows × 24 columns</p>\n",
       "</div>"
      ],
      "text/plain": [
       "             id  click      hour    C1  banner_pos   site_id site_domain  \\\n",
       "0  3.983206e+18      0  14102915  1005           1  e151e245    7e091613   \n",
       "1  7.756884e+18      0  14103007  1002           0  cb809abf    74acf31a   \n",
       "2  6.941774e+17      0  14102711  1005           0  85f751fd    c4e18dd6   \n",
       "3  2.664154e+18      1  14102903  1005           0  85f751fd    c4e18dd6   \n",
       "4  1.480510e+19      0  14102902  1005           1  791b5571    fd13bc73   \n",
       "\n",
       "  site_category    app_id app_domain ...  device_type device_conn_type    C14  \\\n",
       "0      f028772b  ecad2386   7801e8d9 ...            1                2   4687   \n",
       "1      50e219e0  ecad2386   7801e8d9 ...            0                0  17894   \n",
       "2      50e219e0  e9739828   df32afa9 ...            1                0  22684   \n",
       "3      50e219e0  a5184c22   b8d325c3 ...            1                0  23222   \n",
       "4      f028772b  ecad2386   7801e8d9 ...            1                0   8330   \n",
       "\n",
       "   C15  C16   C17  C18  C19     C20  C21  \n",
       "0  320   50   423    2   39  100148   32  \n",
       "1  320   50  2039    2   39  100077   32  \n",
       "2  320   50  2619    1  163  100055   71  \n",
       "3  320   50  2676    0   35  100176  221  \n",
       "4  320   50   761    3  175  100081   23  \n",
       "\n",
       "[5 rows x 24 columns]"
      ]
     },
     "execution_count": 64,
     "metadata": {},
     "output_type": "execute_result"
    }
   ],
   "source": [
    "df.head()"
   ]
  },
  {
   "cell_type": "markdown",
   "metadata": {},
   "source": [
    "<font color=\"red\">**Question 2:**\n",
    "    What is the 'click' frequency in the dataset?\n",
    "    <br>\n",
    "</font>"
   ]
  },
  {
   "cell_type": "code",
   "execution_count": 65,
   "metadata": {
    "scrolled": true
   },
   "outputs": [
    {
     "data": {
      "text/plain": [
       "0.169971"
      ]
     },
     "execution_count": 65,
     "metadata": {},
     "output_type": "execute_result"
    }
   ],
   "source": [
    "np.mean(df['click'])"
   ]
  },
  {
   "cell_type": "markdown",
   "metadata": {},
   "source": [
    "The average click frequency is 17%."
   ]
  },
  {
   "cell_type": "markdown",
   "metadata": {},
   "source": [
    "We note that the Avazu dataset is very unbalanced. The 'click' class represents less than a fifth of the whole database. We already know that a classifier always predicting 'click'=0 will have good preformances in terms of error rate (around 0.17). The ROC and lift curves will be better performance metrics."
   ]
  },
  {
   "cell_type": "markdown",
   "metadata": {},
   "source": [
    "<font color=\"red\">**Question 3:**\n",
    "    What are the categorical features? Using the 'df.dtypes' method, compute the number of distincts values for each of these features.\n",
    "</font>"
   ]
  },
  {
   "cell_type": "code",
   "execution_count": 66,
   "metadata": {},
   "outputs": [
    {
     "data": {
      "text/plain": [
       "id                  float64\n",
       "click                 int64\n",
       "hour                  int64\n",
       "C1                    int64\n",
       "banner_pos            int64\n",
       "site_id              object\n",
       "site_domain          object\n",
       "site_category        object\n",
       "app_id               object\n",
       "app_domain           object\n",
       "app_category         object\n",
       "device_id            object\n",
       "device_ip            object\n",
       "device_model         object\n",
       "device_type           int64\n",
       "device_conn_type      int64\n",
       "C14                   int64\n",
       "C15                   int64\n",
       "C16                   int64\n",
       "C17                   int64\n",
       "C18                   int64\n",
       "C19                   int64\n",
       "C20                   int64\n",
       "C21                   int64\n",
       "dtype: object"
      ]
     },
     "execution_count": 66,
     "metadata": {},
     "output_type": "execute_result"
    }
   ],
   "source": [
    "df.dtypes"
   ]
  },
  {
   "cell_type": "markdown",
   "metadata": {},
   "source": [
    "The only non-categorical variables are the id, the device id and the device ip."
   ]
  },
  {
   "cell_type": "code",
   "execution_count": 67,
   "metadata": {},
   "outputs": [
    {
     "data": {
      "text/plain": [
       "id                  1000000\n",
       "click                     2\n",
       "hour                    240\n",
       "C1                        7\n",
       "banner_pos                7\n",
       "site_id                2651\n",
       "site_domain            2871\n",
       "site_category            22\n",
       "app_id                 3157\n",
       "app_domain              198\n",
       "app_category             26\n",
       "device_id            150501\n",
       "device_ip            555248\n",
       "device_model           5168\n",
       "device_type               5\n",
       "device_conn_type          4\n",
       "C14                    2243\n",
       "C15                       8\n",
       "C16                       9\n",
       "C17                     420\n",
       "C18                       4\n",
       "C19                      66\n",
       "C20                     163\n",
       "C21                      60\n",
       "dtype: int64"
      ]
     },
     "execution_count": 67,
     "metadata": {},
     "output_type": "execute_result"
    }
   ],
   "source": [
    "df.nunique()"
   ]
  },
  {
   "cell_type": "markdown",
   "metadata": {},
   "source": [
    "<font color=\"red\">**Question 4:**\n",
    "    If one does a dummy encoding of all categorical variables, what would be the dimension of the model?\n",
    "    In other words: what would be the dimension of our big feature vector encoded with dummies. \n",
    "    <br>\n",
    "</font>"
   ]
  },
  {
   "cell_type": "markdown",
   "metadata": {},
   "source": [
    "The number of columns would be the sum of all unique values of columns appart from the id : 723080"
   ]
  },
  {
   "cell_type": "code",
   "execution_count": 68,
   "metadata": {},
   "outputs": [
    {
     "data": {
      "text/plain": [
       "723080"
      ]
     },
     "execution_count": 68,
     "metadata": {},
     "output_type": "execute_result"
    }
   ],
   "source": [
    "df.nunique().sum() - df['id'].nunique()"
   ]
  },
  {
   "cell_type": "markdown",
   "metadata": {},
   "source": [
    "The total number of columns is given by the total number of unique column values minus the number of unique id's."
   ]
  },
  {
   "cell_type": "markdown",
   "metadata": {},
   "source": [
    "<font color=\"red\">**Question 5:**\n",
    "    Analyze the 'hour' column: which format is used? How can we transform/simply this feature?\n",
    "</font>"
   ]
  },
  {
   "cell_type": "code",
   "execution_count": 69,
   "metadata": {},
   "outputs": [
    {
     "name": "stdout",
     "output_type": "stream",
     "text": [
      "0    14102915\n",
      "1    14103007\n",
      "2    14102711\n",
      "3    14102903\n",
      "4    14102902\n",
      "Name: hour, dtype: int64\n",
      "999995    14102602\n",
      "999996    14102101\n",
      "999997    14102318\n",
      "999998    14102908\n",
      "999999    14102600\n",
      "Name: hour, dtype: int64\n"
     ]
    }
   ],
   "source": [
    "print(df['hour'].head()) # Fill here\n",
    "print(df['hour'].tail()) # Fill here"
   ]
  },
  {
   "cell_type": "code",
   "execution_count": 70,
   "metadata": {},
   "outputs": [
    {
     "data": {
      "text/plain": [
       "count    1.000000e+06\n",
       "mean     1.410256e+07\n",
       "std      2.966148e+02\n",
       "min      1.410210e+07\n",
       "25%      1.410230e+07\n",
       "50%      1.410260e+07\n",
       "75%      1.410281e+07\n",
       "max      1.410302e+07\n",
       "Name: hour, dtype: float64"
      ]
     },
     "execution_count": 70,
     "metadata": {},
     "output_type": "execute_result"
    }
   ],
   "source": [
    "df['hour'].describe()"
   ]
  },
  {
   "cell_type": "code",
   "execution_count": 71,
   "metadata": {},
   "outputs": [
    {
     "data": {
      "text/plain": [
       "240"
      ]
     },
     "execution_count": 71,
     "metadata": {},
     "output_type": "execute_result"
    }
   ],
   "source": [
    "df['hour'].nunique()"
   ]
  },
  {
   "cell_type": "markdown",
   "metadata": {},
   "source": [
    "The hour format corresponds to an integer format. There are only 240 unique values. We could transform it into humanly interpretable values. The 1410 seems to be in front of every value. The two first digits look like a year, and the 2 last look like a month. The 2 next numbers correspond apparently to the day, and the last two numbers to the hour."
   ]
  },
  {
   "cell_type": "markdown",
   "metadata": {},
   "source": [
    "<font color=\"red\">**Question 6:**\n",
    "    Run and understand the following script.\n",
    "</font>"
   ]
  },
  {
   "cell_type": "code",
   "execution_count": 72,
   "metadata": {},
   "outputs": [
    {
     "data": {
      "text/plain": [
       "(2, 15)"
      ]
     },
     "execution_count": 72,
     "metadata": {},
     "output_type": "execute_result"
    }
   ],
   "source": [
    "import datetime\n",
    "def datesplit(originalDate):\n",
    "    originalDate = str(originalDate)\n",
    "    \n",
    "    year = int(\"20\" + originalDate[0:2])\n",
    "    month = int(originalDate[2:4])\n",
    "    day = int(originalDate[4:6])\n",
    "    hour = int(originalDate[6:8])\n",
    "    \n",
    "    return datetime.datetime(year, month, day, hour)\n",
    "\n",
    "# Exemple :\n",
    "datesplit(14102915).weekday(), datesplit(14102915).hour"
   ]
  },
  {
   "cell_type": "markdown",
   "metadata": {},
   "source": [
    "This transforms the hour format of the column into several values : year, month, day and hour as described above.\n",
    "The function weekday() returns the day of the week of a date in the format given above."
   ]
  },
  {
   "cell_type": "markdown",
   "metadata": {},
   "source": [
    "<font color=\"red\">**Question 7:**\n",
    "    Using the \".apply( ... )\" method, create a 'weekday' for the day of the week. Then, replace the 'hour' column by the hour.\n",
    "</font>"
   ]
  },
  {
   "cell_type": "markdown",
   "metadata": {},
   "source": [
    "To answer this question you have to understand that applies takes a function as argument\n",
    "<br>\n",
    "\"lambda x: ... \" is used to create local unamed function of x\n",
    "<br>\n",
    "Check the documentation: https://docs.python.org/3/tutorial/controlflow.html#lambda-expressions"
   ]
  },
  {
   "cell_type": "code",
   "execution_count": 73,
   "metadata": {},
   "outputs": [],
   "source": [
    "df['weekday'] = df['hour'].apply(lambda x : datesplit(x).weekday()) # Fill here\n",
    "df['hour'] = df['hour'].apply(lambda x : datesplit(x).hour) # Fill here"
   ]
  },
  {
   "cell_type": "markdown",
   "metadata": {},
   "source": [
    "<font color=\"red\">**Question 8:**\n",
    "    Using the \".groupby( ... )\" method, visualize the influence of the hour and of the day on the 'click' frequency. To do so, plot 'click' vs 'hour' and 'click' vs 'weekday' curves.\n",
    "</font>"
   ]
  },
  {
   "cell_type": "code",
   "execution_count": 74,
   "metadata": {},
   "outputs": [
    {
     "name": "stdout",
     "output_type": "stream",
     "text": [
      "hour\n",
      "0     0.182707\n",
      "1     0.185734\n",
      "2     0.175552\n",
      "3     0.175367\n",
      "4     0.159664\n",
      "5     0.162126\n",
      "6     0.169315\n",
      "7     0.177490\n",
      "8     0.163418\n",
      "9     0.159042\n",
      "10    0.162613\n",
      "11    0.171025\n",
      "12    0.171659\n",
      "13    0.168032\n",
      "14    0.178075\n",
      "15    0.183737\n",
      "16    0.180076\n",
      "17    0.173271\n",
      "18    0.164072\n",
      "19    0.165725\n",
      "20    0.158402\n",
      "21    0.162384\n",
      "22    0.166847\n",
      "23    0.170733\n",
      "Name: click, dtype: float64\n",
      "weekday\n",
      "0    0.183143\n",
      "1    0.161577\n",
      "2    0.158675\n",
      "3    0.173795\n",
      "4    0.173392\n",
      "5    0.183995\n",
      "6    0.183105\n",
      "Name: click, dtype: float64\n"
     ]
    }
   ],
   "source": [
    "print(df.groupby(df['hour'])['click'].mean()) # Fill here for the influence of the hour\n",
    "print(df.groupby(df['weekday'])['click'].mean()) # Fill here for the influence of the day"
   ]
  },
  {
   "cell_type": "code",
   "execution_count": 75,
   "metadata": {},
   "outputs": [
    {
     "data": {
      "image/png": "[encoded data removed]",
      "text/plain": [
       "<Figure size 864x432 with 1 Axes>"
      ]
     },
     "metadata": {},
     "output_type": "display_data"
    }
   ],
   "source": [
    "plt.figure(figsize=(12,6))\n",
    "plt.plot(df.groupby(df['hour'])['click'].mean())\n",
    "plt.xlabel(\"Hour\")\n",
    "plt.ylabel(\"Click rate\")\n",
    "plt.title(\"Average click rate per hour\")\n",
    "plt.show()\n",
    "#Fill here for the influence of the hour"
   ]
  },
  {
   "cell_type": "code",
   "execution_count": 76,
   "metadata": {},
   "outputs": [
    {
     "data": {
      "image/png": "[encoded data removed]",
      "text/plain": [
       "<Figure size 864x432 with 1 Axes>"
      ]
     },
     "metadata": {},
     "output_type": "display_data"
    }
   ],
   "source": [
    "plt.figure(figsize=(12,6))\n",
    "plt.plot(df.groupby(df['weekday'])['click'].mean())\n",
    "plt.xlabel(\"Weekday\")\n",
    "plt.ylabel(\"Click rate\")\n",
    "plt.title(\"Average click rate per week day\")\n",
    "plt.show()\n",
    "# Fill here for the influence of the day"
   ]
  },
  {
   "cell_type": "markdown",
   "metadata": {},
   "source": [
    "<font color=\"red\">**Question 9:**\n",
    "    Explain what the axes stand for and try to interpret the shape of the obtained curves.\n",
    "</font>"
   ]
  },
  {
   "cell_type": "markdown",
   "metadata": {},
   "source": [
    "- The hours at which people click the most on ads is around 7 in the morning, around 3-4PM and finally around midnight.\n",
    "- Ads also work best on Saturday and Sunday, which seems logic as people essentially have more time available at those times."
   ]
  },
  {
   "cell_type": "markdown",
   "metadata": {},
   "source": [
    "# Preliminary work and first model"
   ]
  },
  {
   "cell_type": "markdown",
   "metadata": {},
   "source": [
    "Start by understanding the features with few modalities:\n",
    "'hour', 'weekday', 'C1', 'banner_pos', 'site_category', 'app_category', 'device_type', 'device_conn_type', 'C15', 'C16', 'C18', 'C21'."
   ]
  },
  {
   "cell_type": "markdown",
   "metadata": {},
   "source": [
    "<font color=\"red\">**Question 10:**\n",
    "    For instance, inspect the columns 'C15' (dimension of the advert) and 'site_category': visualize the clicks mean.\n",
    "</font>"
   ]
  },
  {
   "cell_type": "code",
   "execution_count": 77,
   "metadata": {},
   "outputs": [
    {
     "data": {
      "text/plain": [
       "C15\n",
       "120     0.033708\n",
       "216     0.129612\n",
       "300     0.360537\n",
       "320     0.158767\n",
       "480     0.285714\n",
       "728     0.054144\n",
       "768     0.375000\n",
       "1024    0.166667\n",
       "Name: click, dtype: float64"
      ]
     },
     "execution_count": 77,
     "metadata": {},
     "output_type": "execute_result"
    }
   ],
   "source": [
    "df.groupby(df['C15'])['click'].mean() # Fill here: inspect 'C15' using '.groupby'"
   ]
  },
  {
   "cell_type": "code",
   "execution_count": 78,
   "metadata": {},
   "outputs": [
    {
     "data": {
      "text/plain": [
       "site_category\n",
       "0569f928    0.053613\n",
       "28905ebd    0.208076\n",
       "335d28a8    0.089824\n",
       "3e814130    0.284245\n",
       "42a36e14    0.225806\n",
       "50e219e0    0.128597\n",
       "5378d028    0.000000\n",
       "70fb0e29    0.144737\n",
       "72722551    0.059172\n",
       "75fa27f6    0.111305\n",
       "76b2941d    0.035756\n",
       "8fd0aea4    0.015873\n",
       "9ccfa2ea    0.000000\n",
       "a818d37a    0.000000\n",
       "bcf865d9    0.000000\n",
       "c0dd3be3    0.128655\n",
       "c706e647    0.000000\n",
       "da34532e    0.000000\n",
       "dedf689d    0.530449\n",
       "e787de0e    0.000000\n",
       "f028772b    0.179719\n",
       "f66779e6    0.034564\n",
       "Name: click, dtype: float64"
      ]
     },
     "execution_count": 78,
     "metadata": {},
     "output_type": "execute_result"
    }
   ],
   "source": [
    "df.groupby(df['site_category'])['click'].mean() # Fill here: inspect 'site_category' using '.groupby'"
   ]
  },
  {
   "cell_type": "markdown",
   "metadata": {},
   "source": [
    "The click rate varies a lot depending on the site category or on the C15 column category."
   ]
  },
  {
   "cell_type": "markdown",
   "metadata": {},
   "source": [
    "<font color=\"red\">**Question 11:**\n",
    "    Some site categories have a null click rate. Why? Display the 'count()' of each modality.\n",
    "    <br><br>\n",
    "    Hint: you can use the method \".value_counts()\"\n",
    "</font>"
   ]
  },
  {
   "cell_type": "code",
   "execution_count": 79,
   "metadata": {},
   "outputs": [
    {
     "data": {
      "text/plain": [
       "50e219e0    408921\n",
       "f028772b    313339\n",
       "28905ebd    182020\n",
       "3e814130     75667\n",
       "f66779e6      6365\n",
       "75fa27f6      4007\n",
       "335d28a8      3351\n",
       "76b2941d      2573\n",
       "c0dd3be3      1026\n",
       "72722551       676\n",
       "dedf689d       624\n",
       "70fb0e29       608\n",
       "0569f928       429\n",
       "8fd0aea4       189\n",
       "a818d37a        81\n",
       "42a36e14        62\n",
       "e787de0e        28\n",
       "bcf865d9        16\n",
       "5378d028        11\n",
       "9ccfa2ea         5\n",
       "da34532e         1\n",
       "c706e647         1\n",
       "Name: site_category, dtype: int64"
      ]
     },
     "execution_count": 79,
     "metadata": {},
     "output_type": "execute_result"
    }
   ],
   "source": [
    "df['site_category'].value_counts() # Fill here"
   ]
  },
  {
   "cell_type": "markdown",
   "metadata": {},
   "source": [
    "There is really few examples in each site category whose click rate is 0. We do simply not have enough samples."
   ]
  },
  {
   "cell_type": "markdown",
   "metadata": {},
   "source": [
    "It is practical to visualize both columns in parallel:"
   ]
  },
  {
   "cell_type": "code",
   "execution_count": 80,
   "metadata": {},
   "outputs": [
    {
     "data": {
      "text/html": [
       "<div>\n",
       "<style scoped>\n",
       "    .dataframe tbody tr th:only-of-type {\n",
       "        vertical-align: middle;\n",
       "    }\n",
       "\n",
       "    .dataframe tbody tr th {\n",
       "        vertical-align: top;\n",
       "    }\n",
       "\n",
       "    .dataframe thead th {\n",
       "        text-align: right;\n",
       "    }\n",
       "</style>\n",
       "<table border=\"1\" class=\"dataframe\">\n",
       "  <thead>\n",
       "    <tr style=\"text-align: right;\">\n",
       "      <th></th>\n",
       "      <th>mean</th>\n",
       "      <th>count</th>\n",
       "    </tr>\n",
       "    <tr>\n",
       "      <th>C1</th>\n",
       "      <th></th>\n",
       "      <th></th>\n",
       "    </tr>\n",
       "  </thead>\n",
       "  <tbody>\n",
       "    <tr>\n",
       "      <th>1005</th>\n",
       "      <td>0.169474</td>\n",
       "      <td>918606.0</td>\n",
       "    </tr>\n",
       "    <tr>\n",
       "      <th>1002</th>\n",
       "      <td>0.211157</td>\n",
       "      <td>54907.0</td>\n",
       "    </tr>\n",
       "    <tr>\n",
       "      <th>1010</th>\n",
       "      <td>0.095497</td>\n",
       "      <td>22409.0</td>\n",
       "    </tr>\n",
       "    <tr>\n",
       "      <th>1012</th>\n",
       "      <td>0.177295</td>\n",
       "      <td>2854.0</td>\n",
       "    </tr>\n",
       "    <tr>\n",
       "      <th>1007</th>\n",
       "      <td>0.035591</td>\n",
       "      <td>871.0</td>\n",
       "    </tr>\n",
       "    <tr>\n",
       "      <th>1001</th>\n",
       "      <td>0.027027</td>\n",
       "      <td>222.0</td>\n",
       "    </tr>\n",
       "    <tr>\n",
       "      <th>1008</th>\n",
       "      <td>0.106870</td>\n",
       "      <td>131.0</td>\n",
       "    </tr>\n",
       "  </tbody>\n",
       "</table>\n",
       "</div>"
      ],
      "text/plain": [
       "          mean     count\n",
       "C1                      \n",
       "1005  0.169474  918606.0\n",
       "1002  0.211157   54907.0\n",
       "1010  0.095497   22409.0\n",
       "1012  0.177295    2854.0\n",
       "1007  0.035591     871.0\n",
       "1001  0.027027     222.0\n",
       "1008  0.106870     131.0"
      ]
     },
     "execution_count": 80,
     "metadata": {},
     "output_type": "execute_result"
    }
   ],
   "source": [
    "col = 'C1'\n",
    "a = pd.DataFrame([df.groupby(col).mean()['click'], df.groupby(col).count()['click']]).transpose()\n",
    "a.columns = ['mean', 'count']\n",
    "a.sort_values(by='count', ascending=False)"
   ]
  },
  {
   "cell_type": "markdown",
   "metadata": {},
   "source": [
    "<font color=\"red\">**Question 12:**\n",
    "    Divide the dataset into a training (90%) and test set (10%) with sklearn (use the following option: random_state=100).\n",
    "</font>"
   ]
  },
  {
   "cell_type": "code",
   "execution_count": 81,
   "metadata": {},
   "outputs": [],
   "source": [
    "from sklearn.model_selection import train_test_split\n",
    "X = df.drop(['click'], axis=1)\n",
    "y = df['click']\n",
    "Xtrain, Xtest, ytrain, ytest = train_test_split(X, y, test_size=0.10, random_state=100)"
   ]
  },
  {
   "cell_type": "markdown",
   "metadata": {},
   "source": [
    "# First work on a reduced number of features"
   ]
  },
  {
   "cell_type": "markdown",
   "metadata": {},
   "source": [
    "<font color=\"red\">**Question 13:**\n",
    "    Put in a list the selected columns: 'hour', 'weekday', 'C1', 'banner_pos', 'site_category', 'app_category', 'device_type', 'device_conn_type', 'C15', 'C16', 'C18', 'C21'.\n",
    "</font>"
   ]
  },
  {
   "cell_type": "code",
   "execution_count": 82,
   "metadata": {},
   "outputs": [],
   "source": [
    "some_columns = ['hour', 'weekday', 'C1', 'banner_pos', 'site_category', 'app_category', \n",
    "                'device_type', 'device_conn_type', 'C15', 'C16', 'C18', 'C21']"
   ]
  },
  {
   "cell_type": "markdown",
   "metadata": {},
   "source": [
    "<font color=\"red\">**Question 14:**\n",
    "    <br>\n",
    "    - Import OneHotEncoder from sklearn.preprocessing\n",
    "    <br>\n",
    "    - Transform the training and the test data restricted to the selected columns\n",
    "    <br>\n",
    "    - Give the type of the outputs.\n",
    "</font>"
   ]
  },
  {
   "cell_type": "code",
   "execution_count": 83,
   "metadata": {},
   "outputs": [],
   "source": [
    "from sklearn.preprocessing import OneHotEncoder\n",
    "ohe = OneHotEncoder(handle_unknown = 'ignore')\n",
    "Xtrain_oh = ohe.fit_transform(Xtrain[some_columns]) # fit the transformation of Xtrain restricted to selected columns\n",
    "Xtest_oh = ohe.transform(Xtest[some_columns]) # and transform Xtest restricted to selected columns"
   ]
  },
  {
   "cell_type": "code",
   "execution_count": 84,
   "metadata": {},
   "outputs": [
    {
     "data": {
      "text/plain": [
       "<900000x183 sparse matrix of type '<class 'numpy.float64'>'\n",
       "\twith 10800000 stored elements in Compressed Sparse Row format>"
      ]
     },
     "execution_count": 84,
     "metadata": {},
     "output_type": "execute_result"
    }
   ],
   "source": [
    "Xtrain_oh"
   ]
  },
  {
   "cell_type": "markdown",
   "metadata": {},
   "source": [
    "The output is a sparse matrix type."
   ]
  },
  {
   "cell_type": "markdown",
   "metadata": {},
   "source": [
    "There is an issue if we do not handle unknown errors in the One Hot Encoder. In fact, if we fit the one hot encoder, we need to apply it to the train, and in the test, there might be additional categories we have not fitted on. Therefore, we apply the handle_unknown : ignore method."
   ]
  },
  {
   "cell_type": "markdown",
   "metadata": {},
   "source": [
    "<font color=\"red\">**Question 15:**\n",
    "    What is the new number of features?\n",
    "</font>"
   ]
  },
  {
   "cell_type": "code",
   "execution_count": 85,
   "metadata": {},
   "outputs": [
    {
     "data": {
      "text/plain": [
       "(100000, 183)"
      ]
     },
     "execution_count": 85,
     "metadata": {},
     "output_type": "execute_result"
    }
   ],
   "source": [
    "Xtest_oh.shape # Fill here"
   ]
  },
  {
   "cell_type": "markdown",
   "metadata": {},
   "source": [
    "We now have 183 features."
   ]
  },
  {
   "cell_type": "markdown",
   "metadata": {},
   "source": [
    "<font color=\"red\">**Question 16:**\n",
    "    Visualize the first row of the design matrix you have got.\n",
    "</font>"
   ]
  },
  {
   "cell_type": "code",
   "execution_count": 86,
   "metadata": {},
   "outputs": [
    {
     "name": "stdout",
     "output_type": "stream",
     "text": [
      "[[0. 0. 0. 0. 0. 0. 0. 0. 0. 0. 1. 0. 0. 0. 0. 0. 0. 0. 0. 0. 0. 0. 0. 0.\n",
      "  1. 0. 0. 0. 0. 0. 0. 0. 0. 0. 0. 0. 1. 0. 0. 1. 0. 0. 0. 0. 0. 0. 0. 0.\n",
      "  0. 0. 1. 0. 0. 0. 0. 0. 0. 0. 0. 0. 0. 0. 0. 0. 0. 0. 0. 0. 0. 0. 1. 0.\n",
      "  0. 0. 0. 0. 0. 0. 0. 0. 0. 0. 0. 0. 0. 0. 0. 0. 0. 0. 0. 0. 0. 0. 0. 0.\n",
      "  1. 0. 0. 0. 1. 0. 0. 0. 0. 1. 0. 0. 0. 0. 0. 0. 1. 0. 0. 0. 0. 0. 0. 1.\n",
      "  0. 0. 0. 0. 0. 0. 0. 0. 0. 0. 0. 0. 0. 0. 0. 0. 0. 0. 0. 0. 0. 0. 0. 0.\n",
      "  0. 1. 0. 0. 0. 0. 0. 0. 0. 0. 0. 0. 0. 0. 0. 0. 0. 0. 0. 0. 0. 0. 0. 0.\n",
      "  0. 0. 0. 0. 0. 0. 0. 0. 0. 0. 0. 0. 0. 0. 0.]]\n"
     ]
    }
   ],
   "source": [
    "print(Xtrain_oh.todense()[0]) # Fill here"
   ]
  },
  {
   "cell_type": "markdown",
   "metadata": {},
   "source": [
    "<font color=\"red\">**Question 17:**\n",
    "    Import and fit a logistic regression model on your the encoded data\n",
    "</font>"
   ]
  },
  {
   "cell_type": "code",
   "execution_count": 87,
   "metadata": {},
   "outputs": [
    {
     "name": "stderr",
     "output_type": "stream",
     "text": [
      "/home/ubuntu/scikit-learn/sklearn/linear_model/logistic.py:432: FutureWarning: Default solver will be changed to 'lbfgs' in 0.22. Specify a solver to silence this warning.\n",
      "  FutureWarning)\n"
     ]
    },
    {
     "data": {
      "text/plain": [
       "LogisticRegression(C=1.0, class_weight=None, dual=False, fit_intercept=True,\n",
       "          intercept_scaling=1, max_iter=100, multi_class='warn',\n",
       "          n_jobs=None, penalty='l2', random_state=None, solver='warn',\n",
       "          tol=0.0001, verbose=0, warm_start=False)"
      ]
     },
     "execution_count": 87,
     "metadata": {},
     "output_type": "execute_result"
    }
   ],
   "source": [
    "from sklearn.linear_model import LogisticRegression\n",
    "lr = LogisticRegression()\n",
    "lr.fit(Xtrain_oh, ytrain)"
   ]
  },
  {
   "cell_type": "markdown",
   "metadata": {},
   "source": [
    "<font color=\"red\">**Question 18:**\n",
    "    With '.predict' and 'predict_proba', display the hard and soft decision you get on test data.\n",
    "</font>"
   ]
  },
  {
   "cell_type": "code",
   "execution_count": 88,
   "metadata": {},
   "outputs": [],
   "source": [
    "hard = lr.predict(Xtest_oh)\n",
    "soft = lr.predict_proba(Xtest_oh)"
   ]
  },
  {
   "cell_type": "code",
   "execution_count": 89,
   "metadata": {},
   "outputs": [
    {
     "data": {
      "text/plain": [
       "array([0, 0, 0, ..., 0, 0, 0])"
      ]
     },
     "execution_count": 89,
     "metadata": {},
     "output_type": "execute_result"
    }
   ],
   "source": [
    "hard"
   ]
  },
  {
   "cell_type": "code",
   "execution_count": 90,
   "metadata": {},
   "outputs": [
    {
     "data": {
      "text/plain": [
       "array([[0.75809672, 0.24190328],\n",
       "       [0.73399737, 0.26600263],\n",
       "       [0.79688723, 0.20311277],\n",
       "       ...,\n",
       "       [0.79253193, 0.20746807],\n",
       "       [0.7856205 , 0.2143795 ],\n",
       "       [0.87849724, 0.12150276]])"
      ]
     },
     "execution_count": 90,
     "metadata": {},
     "output_type": "execute_result"
    }
   ],
   "source": [
    "soft"
   ]
  },
  {
   "cell_type": "markdown",
   "metadata": {},
   "source": [
    "<font color=\"red\">**Question 19:**\n",
    "    Compute the probability of **error** using sklearn.metrics 'accuracy_score' function. Comment.\n",
    "    \n",
    "</font>"
   ]
  },
  {
   "cell_type": "code",
   "execution_count": 91,
   "metadata": {},
   "outputs": [
    {
     "data": {
      "text/plain": [
       "0.83043"
      ]
     },
     "execution_count": 91,
     "metadata": {},
     "output_type": "execute_result"
    }
   ],
   "source": [
    "from sklearn.metrics import accuracy_score\n",
    "accuracy_score(hard, ytest) # Fill here"
   ]
  },
  {
   "cell_type": "markdown",
   "metadata": {},
   "source": [
    "We have reached an accuracy score of 83% with a logistic regression. The error probability is 17%."
   ]
  },
  {
   "cell_type": "code",
   "execution_count": 92,
   "metadata": {},
   "outputs": [
    {
     "data": {
      "text/plain": [
       "0.16957"
      ]
     },
     "execution_count": 92,
     "metadata": {},
     "output_type": "execute_result"
    }
   ],
   "source": [
    "1- accuracy_score(hard, ytest)"
   ]
  },
  {
   "cell_type": "markdown",
   "metadata": {},
   "source": [
    "<font color=\"red\">**Question 20:**\n",
    "    Which sklearn.metrics could you also use?\n",
    "</font>"
   ]
  },
  {
   "cell_type": "markdown",
   "metadata": {},
   "source": [
    "The balanced_accuracy_score function computes the balanced accuracy, which avoids inflated performance estimates on imbalanced datasets."
   ]
  },
  {
   "cell_type": "code",
   "execution_count": 93,
   "metadata": {},
   "outputs": [
    {
     "data": {
      "text/plain": [
       "0.4966713881538294"
      ]
     },
     "execution_count": 93,
     "metadata": {},
     "output_type": "execute_result"
    }
   ],
   "source": [
    "from sklearn.metrics import balanced_accuracy_score\n",
    "1- balanced_accuracy_score(ytest, hard) # Fill here"
   ]
  },
  {
   "cell_type": "markdown",
   "metadata": {},
   "source": [
    "<font color=\"red\">**Question 21:**\n",
    "    Plot the ROC curve. Then compute the log loss and the Area Under the Curve ROC.\n",
    "</font>"
   ]
  },
  {
   "cell_type": "code",
   "execution_count": 94,
   "metadata": {},
   "outputs": [],
   "source": [
    "from sklearn.metrics import roc_curve\n",
    "fpr, tpr, thresholds = roc_curve(ytest, soft[:,1]) # Fill here."
   ]
  },
  {
   "cell_type": "code",
   "execution_count": 95,
   "metadata": {},
   "outputs": [
    {
     "data": {
      "image/png": "[encoded data removed]",
      "text/plain": [
       "<Figure size 864x432 with 1 Axes>"
      ]
     },
     "metadata": {},
     "output_type": "display_data"
    }
   ],
   "source": [
    "plt.figure(figsize=(12,6))\n",
    "plt.plot(fpr, tpr, color='darkorange', lw=1)\n",
    "plt.plot([0, 1], [0, 1], color='navy', lw=1, linestyle='--')\n",
    "plt.xlim([0.0, 1.0])\n",
    "plt.ylim([0.0, 1.05])\n",
    "plt.xlabel('False Positive Rate')\n",
    "plt.ylabel('True Positive Rate')\n",
    "plt.title('Receiver operating characteristic')\n",
    "#plt.legend(loc=\"lower right\")\n",
    "plt.show()"
   ]
  },
  {
   "cell_type": "code",
   "execution_count": 96,
   "metadata": {},
   "outputs": [
    {
     "name": "stdout",
     "output_type": "stream",
     "text": [
      "The log loss is : 0.4251220418138432\n",
      "The ROC AUC is : 0.6762795302815598\n"
     ]
    }
   ],
   "source": [
    "from sklearn.metrics import log_loss, roc_auc_score\n",
    "\n",
    "print(\"The log loss is : \" + str(log_loss(ytest, soft[:,1])))\n",
    "print(\"The ROC AUC is : \" + str(roc_auc_score(ytest, soft[:,1])))"
   ]
  },
  {
   "cell_type": "markdown",
   "metadata": {},
   "source": [
    "<font color=\"red\">**Question 22:**\n",
    "    <br>\n",
    "    - Import the 'plot_lift' function from 'utils.py' and plot the lift curve. What is the lift of the first fifth of the population identified by the test?\n",
    "    <br>\n",
    "    -  Interpret it. \n",
    "</font>"
   ]
  },
  {
   "cell_type": "code",
   "execution_count": 97,
   "metadata": {},
   "outputs": [
    {
     "data": {
      "image/png": "[encoded data removed]",
      "text/plain": [
       "<Figure size 864x432 with 1 Axes>"
      ]
     },
     "metadata": {},
     "output_type": "display_data"
    }
   ],
   "source": [
    "from utils import plotlift\n",
    "plt.figure(figsize=(12,6))\n",
    "plotlift(soft[:,1],ytest)\n",
    "# The following line just plots a vertical line for you to answer the second part of the question\n",
    "plt.axvline(x= 0.2 , linestyle='--', color='r') # Fill here\n",
    "plt.title(\"Lift plot\")\n",
    "plt.show()"
   ]
  },
  {
   "cell_type": "markdown",
   "metadata": {},
   "source": [
    "The lift for the first fifth of the population is around 1.5. A lift curve shows how likely we are to perform better on the highest predicted probabilities than on the whole sample."
   ]
  },
  {
   "cell_type": "markdown",
   "metadata": {},
   "source": [
    "# Complete model"
   ]
  },
  {
   "cell_type": "markdown",
   "metadata": {},
   "source": [
    "As an example, we now work on the 'site_id' column.\n",
    "<font color=\"red\">**Question 23:**\n",
    "    <br>\n",
    "    - For each modality, compute the number of occurrences in the dataset and the average of clicks for this modality \n",
    "    <br>\n",
    "    - With 'sns.joiplot', represent the set of points (count, mean) for each modality\n",
    "</font>"
   ]
  },
  {
   "cell_type": "code",
   "execution_count": 98,
   "metadata": {},
   "outputs": [],
   "source": [
    "import seaborn as sns"
   ]
  },
  {
   "cell_type": "code",
   "execution_count": 99,
   "metadata": {},
   "outputs": [
    {
     "name": "stderr",
     "output_type": "stream",
     "text": [
      "/home/ubuntu/anaconda3/lib/python3.6/site-packages/matplotlib/axes/_axes.py:6462: UserWarning: The 'normed' kwarg is deprecated, and has been replaced by the 'density' kwarg.\n",
      "  warnings.warn(\"The 'normed' kwarg is deprecated, and has been \"\n",
      "/home/ubuntu/anaconda3/lib/python3.6/site-packages/matplotlib/axes/_axes.py:6462: UserWarning: The 'normed' kwarg is deprecated, and has been replaced by the 'density' kwarg.\n",
      "  warnings.warn(\"The 'normed' kwarg is deprecated, and has been \"\n",
      "/home/ubuntu/anaconda3/lib/python3.6/site-packages/matplotlib/axes/_axes.py:6462: UserWarning: The 'normed' kwarg is deprecated, and has been replaced by the 'density' kwarg.\n",
      "  warnings.warn(\"The 'normed' kwarg is deprecated, and has been \"\n",
      "/home/ubuntu/anaconda3/lib/python3.6/site-packages/matplotlib/axes/_axes.py:6462: UserWarning: The 'normed' kwarg is deprecated, and has been replaced by the 'density' kwarg.\n",
      "  warnings.warn(\"The 'normed' kwarg is deprecated, and has been \"\n"
     ]
    },
    {
     "data": {
      "image/png": "[encoded data removed]",
      "text/plain": [
       "<Figure size 432x432 with 3 Axes>"
      ]
     },
     "metadata": {},
     "output_type": "display_data"
    },
    {
     "data": {
      "image/png": "[encoded data removed]",
      "text/plain": [
       "<Figure size 432x432 with 3 Axes>"
      ]
     },
     "metadata": {},
     "output_type": "display_data"
    }
   ],
   "source": [
    "col = 'site_id'\n",
    "a = pd.DataFrame([df.groupby(col).mean()['click'], df.groupby(col).count()['click']]).transpose()\n",
    "a.columns = ['mean', 'n_val']\n",
    "sns.jointplot(a['n_val'], a['mean'], alpha=0.25);\n",
    "thres = 10000\n",
    "sns.jointplot(a[a['n_val']<thres]['n_val'], a[a['n_val']<thres]['mean'], alpha=0.25);"
   ]
  },
  {
   "cell_type": "code",
   "execution_count": 100,
   "metadata": {},
   "outputs": [
    {
     "data": {
      "text/html": [
       "<div>\n",
       "<style scoped>\n",
       "    .dataframe tbody tr th:only-of-type {\n",
       "        vertical-align: middle;\n",
       "    }\n",
       "\n",
       "    .dataframe tbody tr th {\n",
       "        vertical-align: top;\n",
       "    }\n",
       "\n",
       "    .dataframe thead th {\n",
       "        text-align: right;\n",
       "    }\n",
       "</style>\n",
       "<table border=\"1\" class=\"dataframe\">\n",
       "  <thead>\n",
       "    <tr style=\"text-align: right;\">\n",
       "      <th></th>\n",
       "      <th>mean</th>\n",
       "      <th>n_val</th>\n",
       "    </tr>\n",
       "    <tr>\n",
       "      <th>site_id</th>\n",
       "      <th></th>\n",
       "      <th></th>\n",
       "    </tr>\n",
       "  </thead>\n",
       "  <tbody>\n",
       "    <tr>\n",
       "      <th>00255fb4</th>\n",
       "      <td>0.00000</td>\n",
       "      <td>6.0</td>\n",
       "    </tr>\n",
       "    <tr>\n",
       "      <th>006ab81e</th>\n",
       "      <td>0.00000</td>\n",
       "      <td>5.0</td>\n",
       "    </tr>\n",
       "    <tr>\n",
       "      <th>00b73968</th>\n",
       "      <td>1.00000</td>\n",
       "      <td>1.0</td>\n",
       "    </tr>\n",
       "    <tr>\n",
       "      <th>00f5367d</th>\n",
       "      <td>0.00000</td>\n",
       "      <td>2.0</td>\n",
       "    </tr>\n",
       "    <tr>\n",
       "      <th>00f648b7</th>\n",
       "      <td>0.26087</td>\n",
       "      <td>23.0</td>\n",
       "    </tr>\n",
       "  </tbody>\n",
       "</table>\n",
       "</div>"
      ],
      "text/plain": [
       "             mean  n_val\n",
       "site_id                 \n",
       "00255fb4  0.00000    6.0\n",
       "006ab81e  0.00000    5.0\n",
       "00b73968  1.00000    1.0\n",
       "00f5367d  0.00000    2.0\n",
       "00f648b7  0.26087   23.0"
      ]
     },
     "execution_count": 100,
     "metadata": {},
     "output_type": "execute_result"
    }
   ],
   "source": [
    "a.head()"
   ]
  },
  {
   "cell_type": "markdown",
   "metadata": {},
   "source": [
    "<font color=\"red\">**Question 24:**\n",
    "    In the above commands, what does the alpha parameter stand for?\n",
    "</font>"
   ]
  },
  {
   "cell_type": "markdown",
   "metadata": {},
   "source": [
    "The alpha is the transparency of the points on the graph. "
   ]
  },
  {
   "cell_type": "markdown",
   "metadata": {},
   "source": [
    "Several sites with a lot of occurrences in the dataset have a click frequency very different from the mean. It is relevant to keep the column 'site_id' at least for the modalities for which 'count' is very high.\n",
    "<font color=\"red\">**Question 25:**\n",
    "    Do the same work on the 'device_id' column. What do you notice? What could be the isolated point?\n",
    "</font>"
   ]
  },
  {
   "cell_type": "code",
   "execution_count": 101,
   "metadata": {},
   "outputs": [
    {
     "name": "stderr",
     "output_type": "stream",
     "text": [
      "/home/ubuntu/anaconda3/lib/python3.6/site-packages/matplotlib/axes/_axes.py:6462: UserWarning: The 'normed' kwarg is deprecated, and has been replaced by the 'density' kwarg.\n",
      "  warnings.warn(\"The 'normed' kwarg is deprecated, and has been \"\n",
      "/home/ubuntu/anaconda3/lib/python3.6/site-packages/matplotlib/axes/_axes.py:6462: UserWarning: The 'normed' kwarg is deprecated, and has been replaced by the 'density' kwarg.\n",
      "  warnings.warn(\"The 'normed' kwarg is deprecated, and has been \"\n",
      "/home/ubuntu/anaconda3/lib/python3.6/site-packages/matplotlib/axes/_axes.py:6462: UserWarning: The 'normed' kwarg is deprecated, and has been replaced by the 'density' kwarg.\n",
      "  warnings.warn(\"The 'normed' kwarg is deprecated, and has been \"\n",
      "/home/ubuntu/anaconda3/lib/python3.6/site-packages/matplotlib/axes/_axes.py:6462: UserWarning: The 'normed' kwarg is deprecated, and has been replaced by the 'density' kwarg.\n",
      "  warnings.warn(\"The 'normed' kwarg is deprecated, and has been \"\n"
     ]
    },
    {
     "data": {
      "image/png": "[encoded data removed]",
      "text/plain": [
       "<Figure size 432x432 with 3 Axes>"
      ]
     },
     "metadata": {},
     "output_type": "display_data"
    },
    {
     "data": {
      "image/png": "[encoded data removed]",
      "text/plain": [
       "<Figure size 432x432 with 3 Axes>"
      ]
     },
     "metadata": {},
     "output_type": "display_data"
    }
   ],
   "source": [
    "col = ['device_id'] # Fill here\n",
    "a = pd.DataFrame([df.groupby(col).mean()['click'], df.groupby(col).count()['click']]).transpose()\n",
    "a.columns = ['mean', 'n_val']\n",
    "sns.jointplot(a['n_val'], a['mean'], alpha=0.25);\n",
    "thres = 200000\n",
    "sns.jointplot(a[a['n_val']<thres]['n_val'], a[a['n_val']<thres]['mean'], alpha=0.25);"
   ]
  },
  {
   "cell_type": "markdown",
   "metadata": {},
   "source": [
    "We notice one outlier that has a huge number of clicks. Overall, this means that this massive site is driving the mean of the click rate. We are not able to draw a clear distribution if we don't drop it."
   ]
  },
  {
   "cell_type": "markdown",
   "metadata": {},
   "source": [
    "<font color=\"red\">**Question 26**:   \n",
    "    In the column df['device_id'], spot the value V corresponding to the largest number of 'count' (using '.value_counts' method). Create a new column df['user'] defined as follows:\n",
    "</font>\n",
    "$$\n",
    "\\text{user} = \\left\\{\\begin{array}[h]{ll} \\text{device_ip + device_model} & \\text{if device_id = V}\\\\ \\text{device_id} & \\text{else.}\\end{array}\\right.\n",
    "$$"
   ]
  },
  {
   "cell_type": "code",
   "execution_count": 102,
   "metadata": {},
   "outputs": [
    {
     "data": {
      "text/plain": [
       "'a99f214a'"
      ]
     },
     "execution_count": 102,
     "metadata": {},
     "output_type": "execute_result"
    }
   ],
   "source": [
    "df['device_id'].value_counts().idxmax()"
   ]
  },
  {
   "cell_type": "code",
   "execution_count": 103,
   "metadata": {},
   "outputs": [],
   "source": [
    "V = df['device_id'].value_counts().idxmax() # Fill here\n",
    "\n",
    "df['user'] = np.where(df['device_id'] == V, df['device_ip'] + df['device_model'], df['device_id']) \n",
    "# Fill here"
   ]
  },
  {
   "cell_type": "markdown",
   "metadata": {},
   "source": [
    "<font color=\"red\">**Question 27**:\n",
    "    Drop the following columns: 'device_id','device_model','device_ip'\n",
    "</font>"
   ]
  },
  {
   "cell_type": "code",
   "execution_count": 104,
   "metadata": {},
   "outputs": [],
   "source": [
    "df = df.drop(['device_id', 'device_model', 'device_ip'], axis=1) # Fill here"
   ]
  },
  {
   "cell_type": "code",
   "execution_count": 105,
   "metadata": {},
   "outputs": [
    {
     "data": {
      "text/plain": [
       "id                  1000000\n",
       "click                     2\n",
       "hour                     24\n",
       "C1                        7\n",
       "banner_pos                7\n",
       "site_id                2651\n",
       "site_domain            2871\n",
       "site_category            22\n",
       "app_id                 3157\n",
       "app_domain              198\n",
       "app_category             26\n",
       "device_type               5\n",
       "device_conn_type          4\n",
       "C14                    2243\n",
       "C15                       8\n",
       "C16                       9\n",
       "C17                     420\n",
       "C18                       4\n",
       "C19                      66\n",
       "C20                     163\n",
       "C21                      60\n",
       "weekday                   7\n",
       "user                 769843\n",
       "dtype: int64"
      ]
     },
     "execution_count": 105,
     "metadata": {},
     "output_type": "execute_result"
    }
   ],
   "source": [
    "df.nunique()"
   ]
  },
  {
   "cell_type": "markdown",
   "metadata": {},
   "source": [
    "<font color=\"red\">**Question 28**:\n",
    "    One could look at the similarity between 'site_id' and 'site_domain'. Merge those columns into a new 'site' column and delete the old 'site_id' and 'site_domain' columns.\n",
    "</font>"
   ]
  },
  {
   "cell_type": "code",
   "execution_count": 106,
   "metadata": {},
   "outputs": [],
   "source": [
    "df['site'] = df['site_id'] + df['site_domain'] # Fill here"
   ]
  },
  {
   "cell_type": "code",
   "execution_count": 107,
   "metadata": {},
   "outputs": [],
   "source": [
    "df = df.drop(['site_id', 'site_domain'], axis=1)"
   ]
  },
  {
   "cell_type": "code",
   "execution_count": 108,
   "metadata": {},
   "outputs": [
    {
     "data": {
      "text/plain": [
       "0    e151e2457e091613\n",
       "1    cb809abf74acf31a\n",
       "2    85f751fdc4e18dd6\n",
       "3    85f751fdc4e18dd6\n",
       "4    791b5571fd13bc73\n",
       "Name: site, dtype: object"
      ]
     },
     "execution_count": 108,
     "metadata": {},
     "output_type": "execute_result"
    }
   ],
   "source": [
    "df['site'].head()"
   ]
  },
  {
   "cell_type": "markdown",
   "metadata": {},
   "source": [
    "<font color=\"red\">**Question 29**:\n",
    "    Once again, split the modified DataFrame df into a train (90%) and a test set (10%) (with option: random_state = 100).\n",
    "</font>"
   ]
  },
  {
   "cell_type": "code",
   "execution_count": 109,
   "metadata": {},
   "outputs": [],
   "source": [
    "X = df.drop(['click', 'id'], axis=1)\n",
    "y = df['click']\n",
    "Xtrain, Xtest, ytrain, ytest = train_test_split(X, y, test_size=0.10, random_state=100)"
   ]
  },
  {
   "cell_type": "markdown",
   "metadata": {},
   "source": [
    "<font color=\"red\">**Question 30**:\n",
    "    Define a OneHotEncoder and then, 'fit_transform' the train set.\n",
    "</font>"
   ]
  },
  {
   "cell_type": "code",
   "execution_count": 110,
   "metadata": {},
   "outputs": [],
   "source": [
    "ohe = OneHotEncoder(handle_unknown = 'ignore')\n",
    "Xtrain_oh = ohe.fit_transform(Xtrain) # Fill here"
   ]
  },
  {
   "cell_type": "markdown",
   "metadata": {},
   "source": [
    "<font color=\"red\">**Question 31**:\n",
    "    Transform the test set. If an error occurs, analyze it and try to solve it. Which argument did you set ?\n",
    "</font>"
   ]
  },
  {
   "cell_type": "code",
   "execution_count": 111,
   "metadata": {},
   "outputs": [],
   "source": [
    "Xtest_oh = ohe.transform(Xtest) # Fill here"
   ]
  },
  {
   "cell_type": "markdown",
   "metadata": {},
   "source": [
    "As previously explained, I used the handle_unknown = 'ignore' argument."
   ]
  },
  {
   "cell_type": "markdown",
   "metadata": {},
   "source": [
    "<font color=\"red\">**Question 32**:\n",
    "    What is the new number of features?\n",
    "</font>"
   ]
  },
  {
   "cell_type": "code",
   "execution_count": 112,
   "metadata": {
    "scrolled": true
   },
   "outputs": [
    {
     "data": {
      "text/plain": [
       "(900000, 713334)"
      ]
     },
     "execution_count": 112,
     "metadata": {},
     "output_type": "execute_result"
    }
   ],
   "source": [
    "Xtrain_oh.shape"
   ]
  },
  {
   "cell_type": "markdown",
   "metadata": {},
   "source": [
    "We now have 713334 features."
   ]
  },
  {
   "cell_type": "markdown",
   "metadata": {},
   "source": [
    "<font color=\"red\">**Question 33**:\n",
    "    How many modalities have been seen more than a 100 times?\n",
    "</font>"
   ]
  },
  {
   "cell_type": "code",
   "execution_count": 113,
   "metadata": {},
   "outputs": [
    {
     "data": {
      "text/plain": [
       "18000000.0"
      ]
     },
     "execution_count": 113,
     "metadata": {},
     "output_type": "execute_result"
    }
   ],
   "source": [
    "# The following 'n_ones' vector below gives the number of '1' in each column/modality of the Xtrain_oh design matrix.\n",
    "n_ones = np.array(Xtrain_oh.sum(axis=0))\n",
    "sum(sum(n_ones)) # Fill here using 'n_ones'"
   ]
  },
  {
   "cell_type": "markdown",
   "metadata": {},
   "source": [
    "The list 'cols_to_keep' below is used to store the indices of the modalities seen more than a 100 times. You can notice the use of the 'enumerate' function."
   ]
  },
  {
   "cell_type": "code",
   "execution_count": 114,
   "metadata": {},
   "outputs": [],
   "source": [
    "useful = n_ones > 100 # Fill here.\n",
    "useful = useful[0]"
   ]
  },
  {
   "cell_type": "code",
   "execution_count": 115,
   "metadata": {},
   "outputs": [
    {
     "data": {
      "text/plain": [
       "Counter({True: 1971, False: 711363})"
      ]
     },
     "execution_count": 115,
     "metadata": {},
     "output_type": "execute_result"
    }
   ],
   "source": [
    "import collections\n",
    "collections.Counter(useful)"
   ]
  },
  {
   "cell_type": "markdown",
   "metadata": {},
   "source": [
    "There are only 1971 modalities that have been seen more than 100 times."
   ]
  },
  {
   "cell_type": "code",
   "execution_count": 116,
   "metadata": {},
   "outputs": [],
   "source": [
    "cols_to_keep = [i*b for i,b in enumerate(useful) if b == True]"
   ]
  },
  {
   "cell_type": "code",
   "execution_count": 117,
   "metadata": {},
   "outputs": [
    {
     "data": {
      "text/plain": [
       "1971"
      ]
     },
     "execution_count": 117,
     "metadata": {},
     "output_type": "execute_result"
    }
   ],
   "source": [
    "len(cols_to_keep)"
   ]
  },
  {
   "cell_type": "markdown",
   "metadata": {},
   "source": [
    "<font color=\"red\">**Question 34**:\n",
    "    Using only our restriction on the 'cols_to_keep' columns, retrain a logistic regression model and compare its performance in terms of 'log_loss' and 'roc_auc_curve'.\n",
    "</font>"
   ]
  },
  {
   "cell_type": "code",
   "execution_count": 118,
   "metadata": {},
   "outputs": [
    {
     "data": {
      "text/plain": [
       "<900000x713334 sparse matrix of type '<class 'numpy.float64'>'\n",
       "\twith 18000000 stored elements in Compressed Sparse Row format>"
      ]
     },
     "execution_count": 118,
     "metadata": {},
     "output_type": "execute_result"
    }
   ],
   "source": [
    "Xtrain_oh"
   ]
  },
  {
   "cell_type": "code",
   "execution_count": 119,
   "metadata": {},
   "outputs": [
    {
     "name": "stderr",
     "output_type": "stream",
     "text": [
      "/home/ubuntu/scikit-learn/sklearn/linear_model/logistic.py:432: FutureWarning: Default solver will be changed to 'lbfgs' in 0.22. Specify a solver to silence this warning.\n",
      "  FutureWarning)\n"
     ]
    },
    {
     "data": {
      "text/plain": [
       "LogisticRegression(C=1.0, class_weight=None, dual=False, fit_intercept=True,\n",
       "          intercept_scaling=1, max_iter=100, multi_class='warn',\n",
       "          n_jobs=None, penalty='l2', random_state=None, solver='warn',\n",
       "          tol=0.0001, verbose=0, warm_start=False)"
      ]
     },
     "execution_count": 119,
     "metadata": {},
     "output_type": "execute_result"
    }
   ],
   "source": [
    "lr = LogisticRegression()\n",
    "lr.fit(Xtrain_oh[:,cols_to_keep], ytrain)"
   ]
  },
  {
   "cell_type": "code",
   "execution_count": 120,
   "metadata": {},
   "outputs": [],
   "source": [
    "hard = lr.predict(Xtest_oh[:,cols_to_keep])\n",
    "soft = lr.predict_proba(Xtest_oh[:,cols_to_keep])"
   ]
  },
  {
   "cell_type": "code",
   "execution_count": 121,
   "metadata": {},
   "outputs": [
    {
     "name": "stdout",
     "output_type": "stream",
     "text": [
      "The log loss is : 0.401155619205022\n",
      "The ROC AUC is : 0.7385971905202147\n"
     ]
    }
   ],
   "source": [
    "print(\"The log loss is : \" + str(log_loss(ytest, soft)))\n",
    "print(\"The ROC AUC is : \" + str(roc_auc_score(ytest, soft[:,1])))"
   ]
  },
  {
   "cell_type": "markdown",
   "metadata": {},
   "source": [
    "The log loss decreased and the ROC AUC curve increased. The overall accuracy has therefore improved."
   ]
  },
  {
   "cell_type": "markdown",
   "metadata": {},
   "source": [
    "# Gradient Boosting Decision Trees"
   ]
  },
  {
   "cell_type": "markdown",
   "metadata": {},
   "source": [
    "<font color=\"red\">**Question 35**:\n",
    "    <br>\n",
    "    - Import GradientBoostingClassifier from scikit learn. \n",
    "    <br>\n",
    "    - Initialize it using 50 estimators and a learning rate of 0.8. Set 'verbose=True' to monitor the progress of the algorithm.\n",
    "    <br>\n",
    "    - Fit it on the same columns 'cols_to_keep' of Xtrain_oh than for the previous logistic regression.\n",
    "    <br>\n",
    "    - Evaluate its performance as in the previous step.\n",
    "</font>"
   ]
  },
  {
   "cell_type": "code",
   "execution_count": 122,
   "metadata": {},
   "outputs": [
    {
     "name": "stdout",
     "output_type": "stream",
     "text": [
      "      Iter       Train Loss   Remaining Time \n",
      "         1           0.8743            3.88m\n",
      "         2           0.8646            3.69m\n",
      "         3           0.8583            3.60m\n",
      "         4           0.8535            3.49m\n",
      "         5           0.8503            3.41m\n",
      "         6           0.8464            3.34m\n",
      "         7           0.8441            3.28m\n",
      "         8           0.8418            3.22m\n",
      "         9           0.8404            3.14m\n",
      "        10           0.8383            3.05m\n",
      "        20           0.8282            2.28m\n",
      "        30           0.8234            1.52m\n",
      "        40           0.8190           45.60s\n",
      "        50           0.8163            0.00s\n"
     ]
    },
    {
     "data": {
      "text/plain": [
       "GradientBoostingClassifier(criterion='friedman_mse', init=None,\n",
       "              learning_rate=0.8, loss='deviance', max_depth=3,\n",
       "              max_features=None, max_leaf_nodes=None,\n",
       "              min_impurity_decrease=0.0, min_impurity_split=None,\n",
       "              min_samples_leaf=1, min_samples_split=2,\n",
       "              min_weight_fraction_leaf=0.0, n_estimators=50,\n",
       "              n_iter_no_change=None, presort='auto', random_state=None,\n",
       "              subsample=1.0, tol=0.0001, validation_fraction=0.1,\n",
       "              verbose=True, warm_start=False)"
      ]
     },
     "execution_count": 122,
     "metadata": {},
     "output_type": "execute_result"
    }
   ],
   "source": [
    "from sklearn.ensemble import GradientBoostingClassifier\n",
    "gb = GradientBoostingClassifier(n_estimators=50, learning_rate = 0.8, verbose=True) # Fill here\n",
    "gb.fit(Xtrain_oh[:,cols_to_keep], ytrain)"
   ]
  },
  {
   "cell_type": "code",
   "execution_count": 123,
   "metadata": {},
   "outputs": [
    {
     "name": "stdout",
     "output_type": "stream",
     "text": [
      "The log loss is : 0.4091941969746683\n",
      "The ROC AUC is : 0.725178391886119\n"
     ]
    }
   ],
   "source": [
    "soft = gb.predict_proba(Xtest_oh[:,cols_to_keep])\n",
    "print(\"The log loss is : \" + str(log_loss(ytest, soft)))\n",
    "print(\"The ROC AUC is : \" + str(roc_auc_score(ytest, soft[:,1])))"
   ]
  },
  {
   "cell_type": "markdown",
   "metadata": {},
   "source": [
    "<font color=\"red\">**Question 36**:\n",
    "    What does the 'gb.estimators_' output?\n",
    "</font>"
   ]
  },
  {
   "cell_type": "code",
   "execution_count": 124,
   "metadata": {},
   "outputs": [
    {
     "data": {
      "text/plain": [
       "array([[DecisionTreeRegressor(criterion='friedman_mse', max_depth=3,\n",
       "           max_features=None, max_leaf_nodes=None,\n",
       "           min_impurity_decrease=0.0, min_impurity_split=None,\n",
       "           min_samples_leaf=1, min_samples_split=2,\n",
       "           min_weight_fraction_leaf=0.0, presort='auto',\n",
       "           random_state=<mtrand.RandomState object at 0x7f7b441948b8>,\n",
       "           splitter='best')],\n",
       "       [DecisionTreeRegressor(criterion='friedman_mse', max_depth=3,\n",
       "           max_features=None, max_leaf_nodes=None,\n",
       "           min_impurity_decrease=0.0, min_impurity_split=None,\n",
       "           min_samples_leaf=1, min_samples_split=2,\n",
       "           min_weight_fraction_leaf=0.0, presort='auto',\n",
       "           random_state=<mtrand.RandomState object at 0x7f7b441948b8>,\n",
       "           splitter='best')],\n",
       "       [DecisionTreeRegressor(criterion='friedman_mse', max_depth=3,\n",
       "           max_features=None, max_leaf_nodes=None,\n",
       "           min_impurity_decrease=0.0, min_impurity_split=None,\n",
       "           min_samples_leaf=1, min_samples_split=2,\n",
       "           min_weight_fraction_leaf=0.0, presort='auto',\n",
       "           random_state=<mtrand.RandomState object at 0x7f7b441948b8>,\n",
       "           splitter='best')],\n",
       "       [DecisionTreeRegressor(criterion='friedman_mse', max_depth=3,\n",
       "           max_features=None, max_leaf_nodes=None,\n",
       "           min_impurity_decrease=0.0, min_impurity_split=None,\n",
       "           min_samples_leaf=1, min_samples_split=2,\n",
       "           min_weight_fraction_leaf=0.0, presort='auto',\n",
       "           random_state=<mtrand.RandomState object at 0x7f7b441948b8>,\n",
       "           splitter='best')],\n",
       "       [DecisionTreeRegressor(criterion='friedman_mse', max_depth=3,\n",
       "           max_features=None, max_leaf_nodes=None,\n",
       "           min_impurity_decrease=0.0, min_impurity_split=None,\n",
       "           min_samples_leaf=1, min_samples_split=2,\n",
       "           min_weight_fraction_leaf=0.0, presort='auto',\n",
       "           random_state=<mtrand.RandomState object at 0x7f7b441948b8>,\n",
       "           splitter='best')],\n",
       "       [DecisionTreeRegressor(criterion='friedman_mse', max_depth=3,\n",
       "           max_features=None, max_leaf_nodes=None,\n",
       "           min_impurity_decrease=0.0, min_impurity_split=None,\n",
       "           min_samples_leaf=1, min_samples_split=2,\n",
       "           min_weight_fraction_leaf=0.0, presort='auto',\n",
       "           random_state=<mtrand.RandomState object at 0x7f7b441948b8>,\n",
       "           splitter='best')],\n",
       "       [DecisionTreeRegressor(criterion='friedman_mse', max_depth=3,\n",
       "           max_features=None, max_leaf_nodes=None,\n",
       "           min_impurity_decrease=0.0, min_impurity_split=None,\n",
       "           min_samples_leaf=1, min_samples_split=2,\n",
       "           min_weight_fraction_leaf=0.0, presort='auto',\n",
       "           random_state=<mtrand.RandomState object at 0x7f7b441948b8>,\n",
       "           splitter='best')],\n",
       "       [DecisionTreeRegressor(criterion='friedman_mse', max_depth=3,\n",
       "           max_features=None, max_leaf_nodes=None,\n",
       "           min_impurity_decrease=0.0, min_impurity_split=None,\n",
       "           min_samples_leaf=1, min_samples_split=2,\n",
       "           min_weight_fraction_leaf=0.0, presort='auto',\n",
       "           random_state=<mtrand.RandomState object at 0x7f7b441948b8>,\n",
       "           splitter='best')],\n",
       "       [DecisionTreeRegressor(criterion='friedman_mse', max_depth=3,\n",
       "           max_features=None, max_leaf_nodes=None,\n",
       "           min_impurity_decrease=0.0, min_impurity_split=None,\n",
       "           min_samples_leaf=1, min_samples_split=2,\n",
       "           min_weight_fraction_leaf=0.0, presort='auto',\n",
       "           random_state=<mtrand.RandomState object at 0x7f7b441948b8>,\n",
       "           splitter='best')],\n",
       "       [DecisionTreeRegressor(criterion='friedman_mse', max_depth=3,\n",
       "           max_features=None, max_leaf_nodes=None,\n",
       "           min_impurity_decrease=0.0, min_impurity_split=None,\n",
       "           min_samples_leaf=1, min_samples_split=2,\n",
       "           min_weight_fraction_leaf=0.0, presort='auto',\n",
       "           random_state=<mtrand.RandomState object at 0x7f7b441948b8>,\n",
       "           splitter='best')],\n",
       "       [DecisionTreeRegressor(criterion='friedman_mse', max_depth=3,\n",
       "           max_features=None, max_leaf_nodes=None,\n",
       "           min_impurity_decrease=0.0, min_impurity_split=None,\n",
       "           min_samples_leaf=1, min_samples_split=2,\n",
       "           min_weight_fraction_leaf=0.0, presort='auto',\n",
       "           random_state=<mtrand.RandomState object at 0x7f7b441948b8>,\n",
       "           splitter='best')],\n",
       "       [DecisionTreeRegressor(criterion='friedman_mse', max_depth=3,\n",
       "           max_features=None, max_leaf_nodes=None,\n",
       "           min_impurity_decrease=0.0, min_impurity_split=None,\n",
       "           min_samples_leaf=1, min_samples_split=2,\n",
       "           min_weight_fraction_leaf=0.0, presort='auto',\n",
       "           random_state=<mtrand.RandomState object at 0x7f7b441948b8>,\n",
       "           splitter='best')],\n",
       "       [DecisionTreeRegressor(criterion='friedman_mse', max_depth=3,\n",
       "           max_features=None, max_leaf_nodes=None,\n",
       "           min_impurity_decrease=0.0, min_impurity_split=None,\n",
       "           min_samples_leaf=1, min_samples_split=2,\n",
       "           min_weight_fraction_leaf=0.0, presort='auto',\n",
       "           random_state=<mtrand.RandomState object at 0x7f7b441948b8>,\n",
       "           splitter='best')],\n",
       "       [DecisionTreeRegressor(criterion='friedman_mse', max_depth=3,\n",
       "           max_features=None, max_leaf_nodes=None,\n",
       "           min_impurity_decrease=0.0, min_impurity_split=None,\n",
       "           min_samples_leaf=1, min_samples_split=2,\n",
       "           min_weight_fraction_leaf=0.0, presort='auto',\n",
       "           random_state=<mtrand.RandomState object at 0x7f7b441948b8>,\n",
       "           splitter='best')],\n",
       "       [DecisionTreeRegressor(criterion='friedman_mse', max_depth=3,\n",
       "           max_features=None, max_leaf_nodes=None,\n",
       "           min_impurity_decrease=0.0, min_impurity_split=None,\n",
       "           min_samples_leaf=1, min_samples_split=2,\n",
       "           min_weight_fraction_leaf=0.0, presort='auto',\n",
       "           random_state=<mtrand.RandomState object at 0x7f7b441948b8>,\n",
       "           splitter='best')],\n",
       "       [DecisionTreeRegressor(criterion='friedman_mse', max_depth=3,\n",
       "           max_features=None, max_leaf_nodes=None,\n",
       "           min_impurity_decrease=0.0, min_impurity_split=None,\n",
       "           min_samples_leaf=1, min_samples_split=2,\n",
       "           min_weight_fraction_leaf=0.0, presort='auto',\n",
       "           random_state=<mtrand.RandomState object at 0x7f7b441948b8>,\n",
       "           splitter='best')],\n",
       "       [DecisionTreeRegressor(criterion='friedman_mse', max_depth=3,\n",
       "           max_features=None, max_leaf_nodes=None,\n",
       "           min_impurity_decrease=0.0, min_impurity_split=None,\n",
       "           min_samples_leaf=1, min_samples_split=2,\n",
       "           min_weight_fraction_leaf=0.0, presort='auto',\n",
       "           random_state=<mtrand.RandomState object at 0x7f7b441948b8>,\n",
       "           splitter='best')],\n",
       "       [DecisionTreeRegressor(criterion='friedman_mse', max_depth=3,\n",
       "           max_features=None, max_leaf_nodes=None,\n",
       "           min_impurity_decrease=0.0, min_impurity_split=None,\n",
       "           min_samples_leaf=1, min_samples_split=2,\n",
       "           min_weight_fraction_leaf=0.0, presort='auto',\n",
       "           random_state=<mtrand.RandomState object at 0x7f7b441948b8>,\n",
       "           splitter='best')],\n",
       "       [DecisionTreeRegressor(criterion='friedman_mse', max_depth=3,\n",
       "           max_features=None, max_leaf_nodes=None,\n",
       "           min_impurity_decrease=0.0, min_impurity_split=None,\n",
       "           min_samples_leaf=1, min_samples_split=2,\n",
       "           min_weight_fraction_leaf=0.0, presort='auto',\n",
       "           random_state=<mtrand.RandomState object at 0x7f7b441948b8>,\n",
       "           splitter='best')],\n",
       "       [DecisionTreeRegressor(criterion='friedman_mse', max_depth=3,\n",
       "           max_features=None, max_leaf_nodes=None,\n",
       "           min_impurity_decrease=0.0, min_impurity_split=None,\n",
       "           min_samples_leaf=1, min_samples_split=2,\n",
       "           min_weight_fraction_leaf=0.0, presort='auto',\n",
       "           random_state=<mtrand.RandomState object at 0x7f7b441948b8>,\n",
       "           splitter='best')],\n",
       "       [DecisionTreeRegressor(criterion='friedman_mse', max_depth=3,\n",
       "           max_features=None, max_leaf_nodes=None,\n",
       "           min_impurity_decrease=0.0, min_impurity_split=None,\n",
       "           min_samples_leaf=1, min_samples_split=2,\n",
       "           min_weight_fraction_leaf=0.0, presort='auto',\n",
       "           random_state=<mtrand.RandomState object at 0x7f7b441948b8>,\n",
       "           splitter='best')],\n",
       "       [DecisionTreeRegressor(criterion='friedman_mse', max_depth=3,\n",
       "           max_features=None, max_leaf_nodes=None,\n",
       "           min_impurity_decrease=0.0, min_impurity_split=None,\n",
       "           min_samples_leaf=1, min_samples_split=2,\n",
       "           min_weight_fraction_leaf=0.0, presort='auto',\n",
       "           random_state=<mtrand.RandomState object at 0x7f7b441948b8>,\n",
       "           splitter='best')],\n",
       "       [DecisionTreeRegressor(criterion='friedman_mse', max_depth=3,\n",
       "           max_features=None, max_leaf_nodes=None,\n",
       "           min_impurity_decrease=0.0, min_impurity_split=None,\n",
       "           min_samples_leaf=1, min_samples_split=2,\n",
       "           min_weight_fraction_leaf=0.0, presort='auto',\n",
       "           random_state=<mtrand.RandomState object at 0x7f7b441948b8>,\n",
       "           splitter='best')],\n",
       "       [DecisionTreeRegressor(criterion='friedman_mse', max_depth=3,\n",
       "           max_features=None, max_leaf_nodes=None,\n",
       "           min_impurity_decrease=0.0, min_impurity_split=None,\n",
       "           min_samples_leaf=1, min_samples_split=2,\n",
       "           min_weight_fraction_leaf=0.0, presort='auto',\n",
       "           random_state=<mtrand.RandomState object at 0x7f7b441948b8>,\n",
       "           splitter='best')],\n",
       "       [DecisionTreeRegressor(criterion='friedman_mse', max_depth=3,\n",
       "           max_features=None, max_leaf_nodes=None,\n",
       "           min_impurity_decrease=0.0, min_impurity_split=None,\n",
       "           min_samples_leaf=1, min_samples_split=2,\n",
       "           min_weight_fraction_leaf=0.0, presort='auto',\n",
       "           random_state=<mtrand.RandomState object at 0x7f7b441948b8>,\n",
       "           splitter='best')],\n",
       "       [DecisionTreeRegressor(criterion='friedman_mse', max_depth=3,\n",
       "           max_features=None, max_leaf_nodes=None,\n",
       "           min_impurity_decrease=0.0, min_impurity_split=None,\n",
       "           min_samples_leaf=1, min_samples_split=2,\n",
       "           min_weight_fraction_leaf=0.0, presort='auto',\n",
       "           random_state=<mtrand.RandomState object at 0x7f7b441948b8>,\n",
       "           splitter='best')],\n",
       "       [DecisionTreeRegressor(criterion='friedman_mse', max_depth=3,\n",
       "           max_features=None, max_leaf_nodes=None,\n",
       "           min_impurity_decrease=0.0, min_impurity_split=None,\n",
       "           min_samples_leaf=1, min_samples_split=2,\n",
       "           min_weight_fraction_leaf=0.0, presort='auto',\n",
       "           random_state=<mtrand.RandomState object at 0x7f7b441948b8>,\n",
       "           splitter='best')],\n",
       "       [DecisionTreeRegressor(criterion='friedman_mse', max_depth=3,\n",
       "           max_features=None, max_leaf_nodes=None,\n",
       "           min_impurity_decrease=0.0, min_impurity_split=None,\n",
       "           min_samples_leaf=1, min_samples_split=2,\n",
       "           min_weight_fraction_leaf=0.0, presort='auto',\n",
       "           random_state=<mtrand.RandomState object at 0x7f7b441948b8>,\n",
       "           splitter='best')],\n",
       "       [DecisionTreeRegressor(criterion='friedman_mse', max_depth=3,\n",
       "           max_features=None, max_leaf_nodes=None,\n",
       "           min_impurity_decrease=0.0, min_impurity_split=None,\n",
       "           min_samples_leaf=1, min_samples_split=2,\n",
       "           min_weight_fraction_leaf=0.0, presort='auto',\n",
       "           random_state=<mtrand.RandomState object at 0x7f7b441948b8>,\n",
       "           splitter='best')],\n",
       "       [DecisionTreeRegressor(criterion='friedman_mse', max_depth=3,\n",
       "           max_features=None, max_leaf_nodes=None,\n",
       "           min_impurity_decrease=0.0, min_impurity_split=None,\n",
       "           min_samples_leaf=1, min_samples_split=2,\n",
       "           min_weight_fraction_leaf=0.0, presort='auto',\n",
       "           random_state=<mtrand.RandomState object at 0x7f7b441948b8>,\n",
       "           splitter='best')],\n",
       "       [DecisionTreeRegressor(criterion='friedman_mse', max_depth=3,\n",
       "           max_features=None, max_leaf_nodes=None,\n",
       "           min_impurity_decrease=0.0, min_impurity_split=None,\n",
       "           min_samples_leaf=1, min_samples_split=2,\n",
       "           min_weight_fraction_leaf=0.0, presort='auto',\n",
       "           random_state=<mtrand.RandomState object at 0x7f7b441948b8>,\n",
       "           splitter='best')],\n",
       "       [DecisionTreeRegressor(criterion='friedman_mse', max_depth=3,\n",
       "           max_features=None, max_leaf_nodes=None,\n",
       "           min_impurity_decrease=0.0, min_impurity_split=None,\n",
       "           min_samples_leaf=1, min_samples_split=2,\n",
       "           min_weight_fraction_leaf=0.0, presort='auto',\n",
       "           random_state=<mtrand.RandomState object at 0x7f7b441948b8>,\n",
       "           splitter='best')],\n",
       "       [DecisionTreeRegressor(criterion='friedman_mse', max_depth=3,\n",
       "           max_features=None, max_leaf_nodes=None,\n",
       "           min_impurity_decrease=0.0, min_impurity_split=None,\n",
       "           min_samples_leaf=1, min_samples_split=2,\n",
       "           min_weight_fraction_leaf=0.0, presort='auto',\n",
       "           random_state=<mtrand.RandomState object at 0x7f7b441948b8>,\n",
       "           splitter='best')],\n",
       "       [DecisionTreeRegressor(criterion='friedman_mse', max_depth=3,\n",
       "           max_features=None, max_leaf_nodes=None,\n",
       "           min_impurity_decrease=0.0, min_impurity_split=None,\n",
       "           min_samples_leaf=1, min_samples_split=2,\n",
       "           min_weight_fraction_leaf=0.0, presort='auto',\n",
       "           random_state=<mtrand.RandomState object at 0x7f7b441948b8>,\n",
       "           splitter='best')],\n",
       "       [DecisionTreeRegressor(criterion='friedman_mse', max_depth=3,\n",
       "           max_features=None, max_leaf_nodes=None,\n",
       "           min_impurity_decrease=0.0, min_impurity_split=None,\n",
       "           min_samples_leaf=1, min_samples_split=2,\n",
       "           min_weight_fraction_leaf=0.0, presort='auto',\n",
       "           random_state=<mtrand.RandomState object at 0x7f7b441948b8>,\n",
       "           splitter='best')],\n",
       "       [DecisionTreeRegressor(criterion='friedman_mse', max_depth=3,\n",
       "           max_features=None, max_leaf_nodes=None,\n",
       "           min_impurity_decrease=0.0, min_impurity_split=None,\n",
       "           min_samples_leaf=1, min_samples_split=2,\n",
       "           min_weight_fraction_leaf=0.0, presort='auto',\n",
       "           random_state=<mtrand.RandomState object at 0x7f7b441948b8>,\n",
       "           splitter='best')],\n",
       "       [DecisionTreeRegressor(criterion='friedman_mse', max_depth=3,\n",
       "           max_features=None, max_leaf_nodes=None,\n",
       "           min_impurity_decrease=0.0, min_impurity_split=None,\n",
       "           min_samples_leaf=1, min_samples_split=2,\n",
       "           min_weight_fraction_leaf=0.0, presort='auto',\n",
       "           random_state=<mtrand.RandomState object at 0x7f7b441948b8>,\n",
       "           splitter='best')],\n",
       "       [DecisionTreeRegressor(criterion='friedman_mse', max_depth=3,\n",
       "           max_features=None, max_leaf_nodes=None,\n",
       "           min_impurity_decrease=0.0, min_impurity_split=None,\n",
       "           min_samples_leaf=1, min_samples_split=2,\n",
       "           min_weight_fraction_leaf=0.0, presort='auto',\n",
       "           random_state=<mtrand.RandomState object at 0x7f7b441948b8>,\n",
       "           splitter='best')],\n",
       "       [DecisionTreeRegressor(criterion='friedman_mse', max_depth=3,\n",
       "           max_features=None, max_leaf_nodes=None,\n",
       "           min_impurity_decrease=0.0, min_impurity_split=None,\n",
       "           min_samples_leaf=1, min_samples_split=2,\n",
       "           min_weight_fraction_leaf=0.0, presort='auto',\n",
       "           random_state=<mtrand.RandomState object at 0x7f7b441948b8>,\n",
       "           splitter='best')],\n",
       "       [DecisionTreeRegressor(criterion='friedman_mse', max_depth=3,\n",
       "           max_features=None, max_leaf_nodes=None,\n",
       "           min_impurity_decrease=0.0, min_impurity_split=None,\n",
       "           min_samples_leaf=1, min_samples_split=2,\n",
       "           min_weight_fraction_leaf=0.0, presort='auto',\n",
       "           random_state=<mtrand.RandomState object at 0x7f7b441948b8>,\n",
       "           splitter='best')],\n",
       "       [DecisionTreeRegressor(criterion='friedman_mse', max_depth=3,\n",
       "           max_features=None, max_leaf_nodes=None,\n",
       "           min_impurity_decrease=0.0, min_impurity_split=None,\n",
       "           min_samples_leaf=1, min_samples_split=2,\n",
       "           min_weight_fraction_leaf=0.0, presort='auto',\n",
       "           random_state=<mtrand.RandomState object at 0x7f7b441948b8>,\n",
       "           splitter='best')],\n",
       "       [DecisionTreeRegressor(criterion='friedman_mse', max_depth=3,\n",
       "           max_features=None, max_leaf_nodes=None,\n",
       "           min_impurity_decrease=0.0, min_impurity_split=None,\n",
       "           min_samples_leaf=1, min_samples_split=2,\n",
       "           min_weight_fraction_leaf=0.0, presort='auto',\n",
       "           random_state=<mtrand.RandomState object at 0x7f7b441948b8>,\n",
       "           splitter='best')],\n",
       "       [DecisionTreeRegressor(criterion='friedman_mse', max_depth=3,\n",
       "           max_features=None, max_leaf_nodes=None,\n",
       "           min_impurity_decrease=0.0, min_impurity_split=None,\n",
       "           min_samples_leaf=1, min_samples_split=2,\n",
       "           min_weight_fraction_leaf=0.0, presort='auto',\n",
       "           random_state=<mtrand.RandomState object at 0x7f7b441948b8>,\n",
       "           splitter='best')],\n",
       "       [DecisionTreeRegressor(criterion='friedman_mse', max_depth=3,\n",
       "           max_features=None, max_leaf_nodes=None,\n",
       "           min_impurity_decrease=0.0, min_impurity_split=None,\n",
       "           min_samples_leaf=1, min_samples_split=2,\n",
       "           min_weight_fraction_leaf=0.0, presort='auto',\n",
       "           random_state=<mtrand.RandomState object at 0x7f7b441948b8>,\n",
       "           splitter='best')],\n",
       "       [DecisionTreeRegressor(criterion='friedman_mse', max_depth=3,\n",
       "           max_features=None, max_leaf_nodes=None,\n",
       "           min_impurity_decrease=0.0, min_impurity_split=None,\n",
       "           min_samples_leaf=1, min_samples_split=2,\n",
       "           min_weight_fraction_leaf=0.0, presort='auto',\n",
       "           random_state=<mtrand.RandomState object at 0x7f7b441948b8>,\n",
       "           splitter='best')],\n",
       "       [DecisionTreeRegressor(criterion='friedman_mse', max_depth=3,\n",
       "           max_features=None, max_leaf_nodes=None,\n",
       "           min_impurity_decrease=0.0, min_impurity_split=None,\n",
       "           min_samples_leaf=1, min_samples_split=2,\n",
       "           min_weight_fraction_leaf=0.0, presort='auto',\n",
       "           random_state=<mtrand.RandomState object at 0x7f7b441948b8>,\n",
       "           splitter='best')],\n",
       "       [DecisionTreeRegressor(criterion='friedman_mse', max_depth=3,\n",
       "           max_features=None, max_leaf_nodes=None,\n",
       "           min_impurity_decrease=0.0, min_impurity_split=None,\n",
       "           min_samples_leaf=1, min_samples_split=2,\n",
       "           min_weight_fraction_leaf=0.0, presort='auto',\n",
       "           random_state=<mtrand.RandomState object at 0x7f7b441948b8>,\n",
       "           splitter='best')],\n",
       "       [DecisionTreeRegressor(criterion='friedman_mse', max_depth=3,\n",
       "           max_features=None, max_leaf_nodes=None,\n",
       "           min_impurity_decrease=0.0, min_impurity_split=None,\n",
       "           min_samples_leaf=1, min_samples_split=2,\n",
       "           min_weight_fraction_leaf=0.0, presort='auto',\n",
       "           random_state=<mtrand.RandomState object at 0x7f7b441948b8>,\n",
       "           splitter='best')],\n",
       "       [DecisionTreeRegressor(criterion='friedman_mse', max_depth=3,\n",
       "           max_features=None, max_leaf_nodes=None,\n",
       "           min_impurity_decrease=0.0, min_impurity_split=None,\n",
       "           min_samples_leaf=1, min_samples_split=2,\n",
       "           min_weight_fraction_leaf=0.0, presort='auto',\n",
       "           random_state=<mtrand.RandomState object at 0x7f7b441948b8>,\n",
       "           splitter='best')],\n",
       "       [DecisionTreeRegressor(criterion='friedman_mse', max_depth=3,\n",
       "           max_features=None, max_leaf_nodes=None,\n",
       "           min_impurity_decrease=0.0, min_impurity_split=None,\n",
       "           min_samples_leaf=1, min_samples_split=2,\n",
       "           min_weight_fraction_leaf=0.0, presort='auto',\n",
       "           random_state=<mtrand.RandomState object at 0x7f7b441948b8>,\n",
       "           splitter='best')]], dtype=object)"
      ]
     },
     "execution_count": 124,
     "metadata": {},
     "output_type": "execute_result"
    }
   ],
   "source": [
    "gb.estimators_"
   ]
  },
  {
   "cell_type": "markdown",
   "metadata": {},
   "source": [
    "It outputs the collection of fitted sub-estimators."
   ]
  },
  {
   "cell_type": "markdown",
   "metadata": {},
   "source": [
    "We now try to use the 'gb' classifier to generate features that will be relevant inputs for the logistic regression.\n",
    "<font color=\"red\">**Question 37**:\n",
    "    With the 'gb.apply()' method, generate a transformation 'leafs_train' of the training set 'Xtrain_oh[:, cols_to_keep]' for which the nth column corresponds to the number of the leaf returned by the estimator n.\n",
    "</font>"
   ]
  },
  {
   "cell_type": "code",
   "execution_count": 125,
   "metadata": {},
   "outputs": [],
   "source": [
    "leafs_train = gb.apply(Xtrain_oh[:,cols_to_keep])[:,:,0] # Fill here.\n",
    "leafs_test = gb.apply(Xtest_oh[:,cols_to_keep])[:,:,0] # Fill here."
   ]
  },
  {
   "cell_type": "code",
   "execution_count": 126,
   "metadata": {},
   "outputs": [
    {
     "data": {
      "text/plain": [
       "array([[ 3.,  3.,  3., ...,  3.,  3.,  3.],\n",
       "       [ 3.,  3.,  3., ...,  3.,  3.,  3.],\n",
       "       [ 3.,  3.,  3., ...,  3.,  3.,  3.],\n",
       "       ...,\n",
       "       [ 3.,  3.,  3., ...,  3.,  3.,  3.],\n",
       "       [ 3.,  3.,  3., ...,  3.,  3.,  3.],\n",
       "       [ 3., 13.,  3., ...,  3.,  3.,  3.]])"
      ]
     },
     "execution_count": 126,
     "metadata": {},
     "output_type": "execute_result"
    }
   ],
   "source": [
    "leafs_train"
   ]
  },
  {
   "cell_type": "markdown",
   "metadata": {},
   "source": [
    "After your applied gb.apply on Xtrain_oh[:, cols_to_keep], remember that use have only one class to predict (click = 0 or 1). "
   ]
  },
  {
   "cell_type": "code",
   "execution_count": 127,
   "metadata": {},
   "outputs": [],
   "source": [
    "leafs_train = pd.DataFrame(leafs_train) # Fill here\n",
    "leafs_test = pd.DataFrame(leafs_test)"
   ]
  },
  {
   "cell_type": "markdown",
   "metadata": {},
   "source": [
    "<font color=\"red\">**Question 38**:\n",
    "    Encode these new features into dummies.\n",
    "</font>"
   ]
  },
  {
   "cell_type": "code",
   "execution_count": 128,
   "metadata": {},
   "outputs": [],
   "source": [
    "ohe = OneHotEncoder(handle_unknown = 'ignore') # Fill here an argument if needed\n",
    "leafs_train_oh = ohe.fit_transform(leafs_train)\n",
    "leafs_test_oh = ohe.transform(leafs_test)"
   ]
  },
  {
   "cell_type": "markdown",
   "metadata": {},
   "source": [
    "<font color=\"red\">**Question 39**:\n",
    "    With the \"hstack\" function, create a new matrix of features by concatenating horizontally our new features \"leafs_train_oh\" and \"leafs_test_oh\", and previous features used for logistic regression (e.g. in \"Xtrain_oh[:, cols_to_keep]\").\n",
    "</font>\n",
    "<br><br>\n",
    "**Remark**: we use \"hstack\" from scipy.sparse (and not from numpy) because the output of our OneHotEncoder is a sparse array. You can verify it with the command \"type(Xtrain_oh)\"."
   ]
  },
  {
   "cell_type": "code",
   "execution_count": 129,
   "metadata": {},
   "outputs": [],
   "source": [
    "from scipy.sparse import csr_matrix, hstack\n",
    "Xtrain_concat = hstack([ Xtrain_oh[:,cols_to_keep] , leafs_train_oh ]) # Fill here"
   ]
  },
  {
   "cell_type": "code",
   "execution_count": 130,
   "metadata": {},
   "outputs": [],
   "source": [
    "Xtest_concat = hstack([ Xtest_oh[:,cols_to_keep] , leafs_test_oh ])"
   ]
  },
  {
   "cell_type": "code",
   "execution_count": 131,
   "metadata": {},
   "outputs": [
    {
     "data": {
      "text/plain": [
       "scipy.sparse.coo.coo_matrix"
      ]
     },
     "execution_count": 131,
     "metadata": {},
     "output_type": "execute_result"
    }
   ],
   "source": [
    "type(Xtrain_concat)"
   ]
  },
  {
   "cell_type": "markdown",
   "metadata": {},
   "source": [
    "<font color=\"red\">**Question 40**:\n",
    "    Run a logistic regression on the new features and evaluate its performance as before.\n",
    "</font>"
   ]
  },
  {
   "cell_type": "code",
   "execution_count": 132,
   "metadata": {},
   "outputs": [
    {
     "name": "stderr",
     "output_type": "stream",
     "text": [
      "/home/ubuntu/scikit-learn/sklearn/linear_model/logistic.py:432: FutureWarning: Default solver will be changed to 'lbfgs' in 0.22. Specify a solver to silence this warning.\n",
      "  FutureWarning)\n"
     ]
    }
   ],
   "source": [
    "lr = LogisticRegression()\n",
    "lr.fit(Xtrain_concat, ytrain)\n",
    "#lr.predict(Xtest_concat)\n",
    "\n",
    "soft = lr.predict_proba(Xtest_concat)\n",
    "# Fill here"
   ]
  },
  {
   "cell_type": "code",
   "execution_count": 133,
   "metadata": {},
   "outputs": [
    {
     "name": "stdout",
     "output_type": "stream",
     "text": [
      "The log loss is : 0.3999467948319651\n",
      "The ROC AUC is : 0.7417398982342002\n"
     ]
    }
   ],
   "source": [
    "print(\"The log loss is : \" + str(log_loss(ytest, soft)))\n",
    "print(\"The ROC AUC is : \" + str(roc_auc_score(ytest, soft[:,1])))"
   ]
  },
  {
   "cell_type": "markdown",
   "metadata": {},
   "source": [
    "The log-loss decreases and the ROC AUC Score increases."
   ]
  },
  {
   "cell_type": "markdown",
   "metadata": {},
   "source": [
    "<font color=\"red\">**Question 41**:\n",
    "    <br>\n",
    "    - Import XGBClassifier from xgboost package.\n",
    "    <br>\n",
    "    - Initialize it using the same number of estimators and learning rate as before. \n",
    "    <br>\n",
    "    - Which value of n_jobs did you choose?\n",
    "    <br>\n",
    "    - Fit it on the same columns 'cols_to_keep' of Xtrain_oh than for the previous logistic regression.\n",
    "    <br>\n",
    "    - Evaluate its performance and compare it to the GradientBoosting classifier of scikit learn. How is the error? Does it take more time to run?\n",
    "</font>"
   ]
  },
  {
   "cell_type": "code",
   "execution_count": 134,
   "metadata": {},
   "outputs": [
    {
     "name": "stdout",
     "output_type": "stream",
     "text": [
      "CPU times: user 55.1 s, sys: 296 ms, total: 55.4 s\n",
      "Wall time: 11.3 s\n"
     ]
    },
    {
     "data": {
      "text/plain": [
       "XGBClassifier(base_score=0.5, booster='gbtree', colsample_bylevel=1,\n",
       "       colsample_bytree=1, gamma=0, learning_rate=0.8, max_delta_step=0,\n",
       "       max_depth=3, min_child_weight=1, missing=None, n_estimators=50,\n",
       "       n_jobs=-1, nthread=None, objective='binary:logistic',\n",
       "       random_state=0, reg_alpha=0, reg_lambda=1, scale_pos_weight=1,\n",
       "       seed=None, silent=True, subsample=1)"
      ]
     },
     "execution_count": 134,
     "metadata": {},
     "output_type": "execute_result"
    }
   ],
   "source": [
    "from xgboost import XGBClassifier\n",
    "xgb = XGBClassifier(n_estimators = 50,n_jobs = -1,learning_rate = 0.8)\n",
    "%time xgb.fit(Xtrain_oh[:,cols_to_keep], ytrain)"
   ]
  },
  {
   "cell_type": "markdown",
   "metadata": {},
   "source": [
    "I chose n_jobs = -1 to improve the computation time."
   ]
  },
  {
   "cell_type": "code",
   "execution_count": 135,
   "metadata": {},
   "outputs": [
    {
     "name": "stdout",
     "output_type": "stream",
     "text": [
      "The log loss is : 0.4078966572208656\n",
      "The ROC AUC is : 0.7244454605414952\n"
     ]
    }
   ],
   "source": [
    "#xgb.predict(Xtest_oh[:,cols_to_keep])\n",
    "soft = xgb.predict_proba(Xtest_oh[:,cols_to_keep])\n",
    "print(\"The log loss is : \" + str(log_loss(ytest, soft)))\n",
    "print(\"The ROC AUC is : \" + str(roc_auc_score(ytest, soft[:,1])))"
   ]
  },
  {
   "cell_type": "markdown",
   "metadata": {},
   "source": [
    "The log loss decreases which is good, but the roc_auc_score is much lower. The computation time is however much quicker."
   ]
  },
  {
   "cell_type": "markdown",
   "metadata": {},
   "source": [
    "<font color=\"red\">**Question 42**:\n",
    "    Increase the number of estimators (e.g. 1024) and visualize the impact on performance. You might have to adapt the learning rate.\n",
    "</font>"
   ]
  },
  {
   "cell_type": "code",
   "execution_count": 136,
   "metadata": {},
   "outputs": [
    {
     "name": "stdout",
     "output_type": "stream",
     "text": [
      "CPU times: user 16min 52s, sys: 2.56 s, total: 16min 55s\n",
      "Wall time: 2min 11s\n"
     ]
    },
    {
     "data": {
      "text/plain": [
       "XGBClassifier(base_score=0.5, booster='gbtree', colsample_bylevel=1,\n",
       "       colsample_bytree=1, gamma=0, learning_rate=1, max_delta_step=0,\n",
       "       max_depth=3, min_child_weight=1, missing=None, n_estimators=1024,\n",
       "       n_jobs=-1, nthread=None, objective='binary:logistic',\n",
       "       random_state=0, reg_alpha=0, reg_lambda=1, scale_pos_weight=1,\n",
       "       seed=None, silent=True, subsample=1)"
      ]
     },
     "execution_count": 136,
     "metadata": {},
     "output_type": "execute_result"
    }
   ],
   "source": [
    "xgb = XGBClassifier(n_estimators = 1024,n_jobs = -1,learning_rate = 1)\n",
    "%time xgb.fit(Xtrain_oh[:,cols_to_keep], ytrain) # Fill here"
   ]
  },
  {
   "cell_type": "code",
   "execution_count": 137,
   "metadata": {},
   "outputs": [
    {
     "name": "stdout",
     "output_type": "stream",
     "text": [
      "The log loss is : 0.4032496677497013\n",
      "The ROC AUC is : 0.7398608227679364\n"
     ]
    }
   ],
   "source": [
    "#xgb.predict(Xtest_oh)\n",
    "soft = xgb.predict_proba(Xtest_oh[:,cols_to_keep])\n",
    "print(\"The log loss is : \" + str(log_loss(ytest, soft)))\n",
    "print(\"The ROC AUC is : \" + str(roc_auc_score(ytest, soft[:,1])))"
   ]
  },
  {
   "cell_type": "markdown",
   "metadata": {},
   "source": [
    "The increase in the number of estimators allows us to increase the roc_auc_score and to decrease the log loss. However, the computation time has dramatically increased."
   ]
  },
  {
   "cell_type": "markdown",
   "metadata": {},
   "source": [
    "# Features hashing and random forest"
   ]
  },
  {
   "cell_type": "markdown",
   "metadata": {},
   "source": [
    "We restart with raw features before dummy encoding: Xtrain, Xtest.\n",
    "<font color=\"red\">**Question 43**:\n",
    "    Display again the number of modalities per feature in Xtrain.\n",
    "</font>"
   ]
  },
  {
   "cell_type": "code",
   "execution_count": 138,
   "metadata": {},
   "outputs": [
    {
     "data": {
      "text/plain": [
       "hour                    24\n",
       "C1                       7\n",
       "banner_pos               7\n",
       "site_category           22\n",
       "app_id                3054\n",
       "app_domain             196\n",
       "app_category            26\n",
       "device_type              5\n",
       "device_conn_type         4\n",
       "C14                   2225\n",
       "C15                      8\n",
       "C16                      9\n",
       "C17                    420\n",
       "C18                      4\n",
       "C19                     66\n",
       "C20                    163\n",
       "C21                     60\n",
       "weekday                  7\n",
       "user                701585\n",
       "site                  5442\n",
       "dtype: int64"
      ]
     },
     "execution_count": 138,
     "metadata": {},
     "output_type": "execute_result"
    }
   ],
   "source": [
    "Xtrain.nunique()"
   ]
  },
  {
   "cell_type": "markdown",
   "metadata": {},
   "source": [
    "We want to define a transformation which regroups the least frequent modalities into a label 'isRare'. In order to do so, we decide to define our own Transformer.\n",
    "<font color=\"red\">**Question 44**:\n",
    "    Understand the different steps of 'fit' and 'transform'.\n",
    "</font>"
   ]
  },
  {
   "cell_type": "code",
   "execution_count": 139,
   "metadata": {},
   "outputs": [],
   "source": [
    "from sklearn.base import BaseEstimator, TransformerMixin\n",
    "\n",
    "class MergeRareTransformer(BaseEstimator, TransformerMixin):\n",
    "    \n",
    "    def __init__(self, col_names, threshold):\n",
    "        self.col_names = col_names\n",
    "        self.threshold = threshold\n",
    "\n",
    "    def fit(self, X, y=None):\n",
    "\n",
    "        X = pd.DataFrame(X)\n",
    "        counts_dict_list = []\n",
    "        \n",
    "        ################## READ THIS #########################\n",
    "        for i in range(len(self.col_names)):\n",
    "            \n",
    "            serie = X[self.col_names[i]].value_counts()  # Série des counts de chaque modalité\n",
    "            rare_indexes = serie[serie<self.threshold[i]].index  # Les indices des features les moins fréquentes < au seuil\n",
    "            frequent_indexes = serie[serie>=self.threshold[i]].index  # Les indices des features les plus fréquentes\n",
    "            dico = {x:'isRare' for x in rare_indexes}\n",
    "            dico.update({x: str(x) for x in frequent_indexes})\n",
    "            counts_dict_list.append(dico)   # Un index isRare pour les données rares, et x lui-même pour les données fréquentes\n",
    "            \n",
    "        ######################################################\n",
    "            \n",
    "        self.counts_dict_list_ = counts_dict_list\n",
    "        return self\n",
    "\n",
    "    def transform(self, X):\n",
    "\n",
    "        Xt = pd.DataFrame()\n",
    "        \n",
    "        ################## READ THIS #########################\n",
    "        \n",
    "        for col, count_dict in zip(self.col_names, self.counts_dict_list_):\n",
    "            Xt[col] = X[col].apply(lambda x:count_dict[x] if x in count_dict else 'isRare')\n",
    "            \n",
    "            # A quoi sert le \"else 'isRare'\" dans la transformation de la colonne ?\n",
    "            # Le 'isRare' sert à noter 'isRare' pour les nouvelles données jamais observées, et appliquer le count_dict aux autres.\n",
    "        ######################################################\n",
    "\n",
    "        return Xt\n"
   ]
  },
  {
   "cell_type": "markdown",
   "metadata": {},
   "source": [
    "<font color=\"red\">**Question 45:**\n",
    "    <br>\n",
    "    - Fit and transform the training set. To do so, merge all mmodalities occuring at least 20 times in each column.\n",
    "    <br>\n",
    "    - Transform the test set.\n",
    "</font>"
   ]
  },
  {
   "cell_type": "code",
   "execution_count": 140,
   "metadata": {},
   "outputs": [],
   "source": [
    "mg = MergeRareTransformer(col_names=Xtrain.columns, threshold=[20]*len(Xtrain.columns))\n",
    "Xtrain_mg = mg.fit_transform(Xtrain) # Fill here with fit_transform or fit then transform.\n",
    "Xtest_mg = mg.transform(Xtest)"
   ]
  },
  {
   "cell_type": "markdown",
   "metadata": {},
   "source": [
    "<font color=\"red\">**Question 46:**\n",
    "   How many elements of the column Xtrain_mg['app_domain'] are now labeled as 'rare'?\n",
    "</font>"
   ]
  },
  {
   "cell_type": "code",
   "execution_count": 141,
   "metadata": {},
   "outputs": [
    {
     "data": {
      "text/plain": [
       "513"
      ]
     },
     "execution_count": 141,
     "metadata": {},
     "output_type": "execute_result"
    }
   ],
   "source": [
    "sum(Xtrain_mg['app_domain'] == 'isRare') # Fill here"
   ]
  },
  {
   "cell_type": "markdown",
   "metadata": {},
   "source": [
    "We have 513 rare datas out of 900'000 data points, which is a reasonable amount of rare datas."
   ]
  },
  {
   "cell_type": "markdown",
   "metadata": {},
   "source": [
    "<font color=\"red\">**Question 47:**\n",
    "   In the new train set, display the number of modalities for each feature.\n",
    "</font>"
   ]
  },
  {
   "cell_type": "code",
   "execution_count": 142,
   "metadata": {},
   "outputs": [
    {
     "data": {
      "text/plain": [
       "hour                  24\n",
       "C1                     7\n",
       "banner_pos             7\n",
       "site_category         18\n",
       "app_id               613\n",
       "app_domain            53\n",
       "app_category          19\n",
       "device_type            5\n",
       "device_conn_type       4\n",
       "C14                 1339\n",
       "C15                    8\n",
       "C16                    9\n",
       "C17                  381\n",
       "C18                    4\n",
       "C19                   63\n",
       "C20                  148\n",
       "C21                   60\n",
       "weekday                7\n",
       "user                 901\n",
       "site                 889\n",
       "dtype: int64"
      ]
     },
     "execution_count": 142,
     "metadata": {},
     "output_type": "execute_result"
    }
   ],
   "source": [
    "Xtrain_mg.nunique() # Fill here"
   ]
  },
  {
   "cell_type": "markdown",
   "metadata": {},
   "source": [
    "Modalities are arbitrary object, such as '234', 'isRare', etc. We will now transorm them into integers with the hashing trick.\n",
    "<font color=\"red\">**Question 48:**\n",
    "   To better understand how the 'hash' function is working, apply it to a string of your choice.\n",
    "</font>"
   ]
  },
  {
   "cell_type": "code",
   "execution_count": 143,
   "metadata": {},
   "outputs": [
    {
     "data": {
      "text/plain": [
       "-3283540004345137673"
      ]
     },
     "execution_count": 143,
     "metadata": {},
     "output_type": "execute_result"
    }
   ],
   "source": [
    "import hashlib\n",
    "hash('hello from the other side') # Fill here"
   ]
  },
  {
   "cell_type": "markdown",
   "metadata": {},
   "source": [
    "<font color=\"red\">**Question 49:**\n",
    "   Create two new datasets 'Xtrain_ha' and 'Xtest_ha' containing the output of the hashing process. Use the '.apply' method to transform iteratively the columns by mapping to each value its remainder in the euclidean division of the hash by 1000000. \n",
    "   Example:\n",
    "</font>\n",
    "</font>\n",
    "<p>\n",
    "<center>\n",
    "2060777048690<font color=\"red\">918393</font>  -->  918393\n",
    "</center>\n",
    "Remark: do not forget that the function 'hash' has to take a string as input."
   ]
  },
  {
   "cell_type": "code",
   "execution_count": 144,
   "metadata": {},
   "outputs": [],
   "source": [
    "Xtrain_ha = pd.DataFrame()\n",
    "Xtest_ha = pd.DataFrame()\n",
    "for col in Xtrain_mg.columns:\n",
    "    Xtrain_ha[col] = Xtrain_mg[col].apply(lambda x : hash(str(x)) % 1000000) # Fill here defining a lambda function\n",
    "    Xtest_ha[col] = Xtest_mg[col].apply(lambda x : hash( str(x)) % 1000000)"
   ]
  },
  {
   "cell_type": "markdown",
   "metadata": {},
   "source": [
    "<font color=\"red\">**Question 50:**\n",
    "   Visualize the content of the DataFrames you have obtained.\n",
    "</font>"
   ]
  },
  {
   "cell_type": "code",
   "execution_count": 145,
   "metadata": {},
   "outputs": [
    {
     "data": {
      "text/html": [
       "<div>\n",
       "<style scoped>\n",
       "    .dataframe tbody tr th:only-of-type {\n",
       "        vertical-align: middle;\n",
       "    }\n",
       "\n",
       "    .dataframe tbody tr th {\n",
       "        vertical-align: top;\n",
       "    }\n",
       "\n",
       "    .dataframe thead th {\n",
       "        text-align: right;\n",
       "    }\n",
       "</style>\n",
       "<table border=\"1\" class=\"dataframe\">\n",
       "  <thead>\n",
       "    <tr style=\"text-align: right;\">\n",
       "      <th></th>\n",
       "      <th>hour</th>\n",
       "      <th>C1</th>\n",
       "      <th>banner_pos</th>\n",
       "      <th>site_category</th>\n",
       "      <th>app_id</th>\n",
       "      <th>app_domain</th>\n",
       "      <th>app_category</th>\n",
       "      <th>device_type</th>\n",
       "      <th>device_conn_type</th>\n",
       "      <th>C14</th>\n",
       "      <th>C15</th>\n",
       "      <th>C16</th>\n",
       "      <th>C17</th>\n",
       "      <th>C18</th>\n",
       "      <th>C19</th>\n",
       "      <th>C20</th>\n",
       "      <th>C21</th>\n",
       "      <th>weekday</th>\n",
       "      <th>user</th>\n",
       "      <th>site</th>\n",
       "    </tr>\n",
       "  </thead>\n",
       "  <tbody>\n",
       "    <tr>\n",
       "      <th>864087</th>\n",
       "      <td>4446</td>\n",
       "      <td>758049</td>\n",
       "      <td>308882</td>\n",
       "      <td>284485</td>\n",
       "      <td>663626</td>\n",
       "      <td>152519</td>\n",
       "      <td>482402</td>\n",
       "      <td>308882</td>\n",
       "      <td>772298</td>\n",
       "      <td>847328</td>\n",
       "      <td>667711</td>\n",
       "      <td>597520</td>\n",
       "      <td>171462</td>\n",
       "      <td>772298</td>\n",
       "      <td>876307</td>\n",
       "      <td>133483</td>\n",
       "      <td>228935</td>\n",
       "      <td>661989</td>\n",
       "      <td>651001</td>\n",
       "      <td>115976</td>\n",
       "    </tr>\n",
       "    <tr>\n",
       "      <th>778087</th>\n",
       "      <td>174384</td>\n",
       "      <td>758049</td>\n",
       "      <td>772298</td>\n",
       "      <td>67389</td>\n",
       "      <td>385542</td>\n",
       "      <td>222881</td>\n",
       "      <td>676104</td>\n",
       "      <td>308882</td>\n",
       "      <td>772298</td>\n",
       "      <td>312527</td>\n",
       "      <td>667711</td>\n",
       "      <td>597520</td>\n",
       "      <td>885199</td>\n",
       "      <td>772298</td>\n",
       "      <td>876307</td>\n",
       "      <td>920105</td>\n",
       "      <td>787378</td>\n",
       "      <td>308882</td>\n",
       "      <td>651001</td>\n",
       "      <td>991351</td>\n",
       "    </tr>\n",
       "    <tr>\n",
       "      <th>210755</th>\n",
       "      <td>93705</td>\n",
       "      <td>758049</td>\n",
       "      <td>772298</td>\n",
       "      <td>693137</td>\n",
       "      <td>663626</td>\n",
       "      <td>152519</td>\n",
       "      <td>482402</td>\n",
       "      <td>308882</td>\n",
       "      <td>772298</td>\n",
       "      <td>805759</td>\n",
       "      <td>667711</td>\n",
       "      <td>597520</td>\n",
       "      <td>222908</td>\n",
       "      <td>772298</td>\n",
       "      <td>901675</td>\n",
       "      <td>133483</td>\n",
       "      <td>978728</td>\n",
       "      <td>595783</td>\n",
       "      <td>651001</td>\n",
       "      <td>803961</td>\n",
       "    </tr>\n",
       "    <tr>\n",
       "      <th>56088</th>\n",
       "      <td>855067</td>\n",
       "      <td>758049</td>\n",
       "      <td>308882</td>\n",
       "      <td>107496</td>\n",
       "      <td>663626</td>\n",
       "      <td>152519</td>\n",
       "      <td>482402</td>\n",
       "      <td>308882</td>\n",
       "      <td>772298</td>\n",
       "      <td>216613</td>\n",
       "      <td>667711</td>\n",
       "      <td>597520</td>\n",
       "      <td>165490</td>\n",
       "      <td>772298</td>\n",
       "      <td>876307</td>\n",
       "      <td>58156</td>\n",
       "      <td>787378</td>\n",
       "      <td>595783</td>\n",
       "      <td>651001</td>\n",
       "      <td>741152</td>\n",
       "    </tr>\n",
       "    <tr>\n",
       "      <th>824840</th>\n",
       "      <td>207933</td>\n",
       "      <td>758049</td>\n",
       "      <td>772298</td>\n",
       "      <td>284485</td>\n",
       "      <td>663626</td>\n",
       "      <td>152519</td>\n",
       "      <td>482402</td>\n",
       "      <td>308882</td>\n",
       "      <td>772298</td>\n",
       "      <td>496096</td>\n",
       "      <td>667711</td>\n",
       "      <td>597520</td>\n",
       "      <td>171462</td>\n",
       "      <td>772298</td>\n",
       "      <td>876307</td>\n",
       "      <td>835254</td>\n",
       "      <td>228935</td>\n",
       "      <td>308882</td>\n",
       "      <td>651001</td>\n",
       "      <td>117175</td>\n",
       "    </tr>\n",
       "  </tbody>\n",
       "</table>\n",
       "</div>"
      ],
      "text/plain": [
       "          hour      C1  banner_pos  site_category  app_id  app_domain  \\\n",
       "864087    4446  758049      308882         284485  663626      152519   \n",
       "778087  174384  758049      772298          67389  385542      222881   \n",
       "210755   93705  758049      772298         693137  663626      152519   \n",
       "56088   855067  758049      308882         107496  663626      152519   \n",
       "824840  207933  758049      772298         284485  663626      152519   \n",
       "\n",
       "        app_category  device_type  device_conn_type     C14     C15     C16  \\\n",
       "864087        482402       308882            772298  847328  667711  597520   \n",
       "778087        676104       308882            772298  312527  667711  597520   \n",
       "210755        482402       308882            772298  805759  667711  597520   \n",
       "56088         482402       308882            772298  216613  667711  597520   \n",
       "824840        482402       308882            772298  496096  667711  597520   \n",
       "\n",
       "           C17     C18     C19     C20     C21  weekday    user    site  \n",
       "864087  171462  772298  876307  133483  228935   661989  651001  115976  \n",
       "778087  885199  772298  876307  920105  787378   308882  651001  991351  \n",
       "210755  222908  772298  901675  133483  978728   595783  651001  803961  \n",
       "56088   165490  772298  876307   58156  787378   595783  651001  741152  \n",
       "824840  171462  772298  876307  835254  228935   308882  651001  117175  "
      ]
     },
     "execution_count": 145,
     "metadata": {},
     "output_type": "execute_result"
    }
   ],
   "source": [
    "Xtrain_ha.tail() # Fill here"
   ]
  },
  {
   "cell_type": "code",
   "execution_count": 146,
   "metadata": {},
   "outputs": [
    {
     "data": {
      "text/html": [
       "<div>\n",
       "<style scoped>\n",
       "    .dataframe tbody tr th:only-of-type {\n",
       "        vertical-align: middle;\n",
       "    }\n",
       "\n",
       "    .dataframe tbody tr th {\n",
       "        vertical-align: top;\n",
       "    }\n",
       "\n",
       "    .dataframe thead th {\n",
       "        text-align: right;\n",
       "    }\n",
       "</style>\n",
       "<table border=\"1\" class=\"dataframe\">\n",
       "  <thead>\n",
       "    <tr style=\"text-align: right;\">\n",
       "      <th></th>\n",
       "      <th>hour</th>\n",
       "      <th>C1</th>\n",
       "      <th>banner_pos</th>\n",
       "      <th>site_category</th>\n",
       "      <th>app_id</th>\n",
       "      <th>app_domain</th>\n",
       "      <th>app_category</th>\n",
       "      <th>device_type</th>\n",
       "      <th>device_conn_type</th>\n",
       "      <th>C14</th>\n",
       "      <th>C15</th>\n",
       "      <th>C16</th>\n",
       "      <th>C17</th>\n",
       "      <th>C18</th>\n",
       "      <th>C19</th>\n",
       "      <th>C20</th>\n",
       "      <th>C21</th>\n",
       "      <th>weekday</th>\n",
       "      <th>user</th>\n",
       "      <th>site</th>\n",
       "    </tr>\n",
       "  </thead>\n",
       "  <tbody>\n",
       "    <tr>\n",
       "      <th>617759</th>\n",
       "      <td>207933</td>\n",
       "      <td>758049</td>\n",
       "      <td>308882</td>\n",
       "      <td>693137</td>\n",
       "      <td>663626</td>\n",
       "      <td>152519</td>\n",
       "      <td>482402</td>\n",
       "      <td>308882</td>\n",
       "      <td>772298</td>\n",
       "      <td>240805</td>\n",
       "      <td>667711</td>\n",
       "      <td>597520</td>\n",
       "      <td>795573</td>\n",
       "      <td>595783</td>\n",
       "      <td>901675</td>\n",
       "      <td>133483</td>\n",
       "      <td>818821</td>\n",
       "      <td>661989</td>\n",
       "      <td>651001</td>\n",
       "      <td>727727</td>\n",
       "    </tr>\n",
       "    <tr>\n",
       "      <th>693227</th>\n",
       "      <td>356800</td>\n",
       "      <td>758049</td>\n",
       "      <td>772298</td>\n",
       "      <td>284485</td>\n",
       "      <td>663626</td>\n",
       "      <td>152519</td>\n",
       "      <td>482402</td>\n",
       "      <td>308882</td>\n",
       "      <td>772298</td>\n",
       "      <td>132631</td>\n",
       "      <td>667711</td>\n",
       "      <td>597520</td>\n",
       "      <td>195965</td>\n",
       "      <td>595783</td>\n",
       "      <td>603214</td>\n",
       "      <td>246131</td>\n",
       "      <td>748127</td>\n",
       "      <td>595783</td>\n",
       "      <td>651001</td>\n",
       "      <td>353872</td>\n",
       "    </tr>\n",
       "    <tr>\n",
       "      <th>906065</th>\n",
       "      <td>927192</td>\n",
       "      <td>758049</td>\n",
       "      <td>308882</td>\n",
       "      <td>693137</td>\n",
       "      <td>663626</td>\n",
       "      <td>152519</td>\n",
       "      <td>482402</td>\n",
       "      <td>308882</td>\n",
       "      <td>772298</td>\n",
       "      <td>337718</td>\n",
       "      <td>667711</td>\n",
       "      <td>597520</td>\n",
       "      <td>903537</td>\n",
       "      <td>661989</td>\n",
       "      <td>876307</td>\n",
       "      <td>915223</td>\n",
       "      <td>145351</td>\n",
       "      <td>252995</td>\n",
       "      <td>651001</td>\n",
       "      <td>206459</td>\n",
       "    </tr>\n",
       "    <tr>\n",
       "      <th>828507</th>\n",
       "      <td>207933</td>\n",
       "      <td>758049</td>\n",
       "      <td>772298</td>\n",
       "      <td>67389</td>\n",
       "      <td>596908</td>\n",
       "      <td>222881</td>\n",
       "      <td>676104</td>\n",
       "      <td>308882</td>\n",
       "      <td>772298</td>\n",
       "      <td>425277</td>\n",
       "      <td>667711</td>\n",
       "      <td>597520</td>\n",
       "      <td>472774</td>\n",
       "      <td>661989</td>\n",
       "      <td>664581</td>\n",
       "      <td>663082</td>\n",
       "      <td>560186</td>\n",
       "      <td>661989</td>\n",
       "      <td>651001</td>\n",
       "      <td>991351</td>\n",
       "    </tr>\n",
       "    <tr>\n",
       "      <th>869730</th>\n",
       "      <td>356800</td>\n",
       "      <td>765578</td>\n",
       "      <td>772298</td>\n",
       "      <td>67389</td>\n",
       "      <td>663626</td>\n",
       "      <td>152519</td>\n",
       "      <td>482402</td>\n",
       "      <td>772298</td>\n",
       "      <td>772298</td>\n",
       "      <td>580962</td>\n",
       "      <td>667711</td>\n",
       "      <td>597520</td>\n",
       "      <td>978859</td>\n",
       "      <td>595783</td>\n",
       "      <td>901675</td>\n",
       "      <td>133483</td>\n",
       "      <td>818821</td>\n",
       "      <td>595783</td>\n",
       "      <td>651001</td>\n",
       "      <td>51032</td>\n",
       "    </tr>\n",
       "  </tbody>\n",
       "</table>\n",
       "</div>"
      ],
      "text/plain": [
       "          hour      C1  banner_pos  site_category  app_id  app_domain  \\\n",
       "617759  207933  758049      308882         693137  663626      152519   \n",
       "693227  356800  758049      772298         284485  663626      152519   \n",
       "906065  927192  758049      308882         693137  663626      152519   \n",
       "828507  207933  758049      772298          67389  596908      222881   \n",
       "869730  356800  765578      772298          67389  663626      152519   \n",
       "\n",
       "        app_category  device_type  device_conn_type     C14     C15     C16  \\\n",
       "617759        482402       308882            772298  240805  667711  597520   \n",
       "693227        482402       308882            772298  132631  667711  597520   \n",
       "906065        482402       308882            772298  337718  667711  597520   \n",
       "828507        676104       308882            772298  425277  667711  597520   \n",
       "869730        482402       772298            772298  580962  667711  597520   \n",
       "\n",
       "           C17     C18     C19     C20     C21  weekday    user    site  \n",
       "617759  795573  595783  901675  133483  818821   661989  651001  727727  \n",
       "693227  195965  595783  603214  246131  748127   595783  651001  353872  \n",
       "906065  903537  661989  876307  915223  145351   252995  651001  206459  \n",
       "828507  472774  661989  664581  663082  560186   661989  651001  991351  \n",
       "869730  978859  595783  901675  133483  818821   595783  651001   51032  "
      ]
     },
     "execution_count": 146,
     "metadata": {},
     "output_type": "execute_result"
    }
   ],
   "source": [
    "Xtest_ha.head() "
   ]
  },
  {
   "cell_type": "markdown",
   "metadata": {},
   "source": [
    "<font color=\"red\">**Question 51:**\n",
    "    <br>\n",
    "    - Train a RandomForestClassifier on Xtrain_ha and evaluate its performance on Xtest_ha. One can chose 1024 estimators, min_samples_leaf=20 and verbose=1 in order to monitor the fitting step.\n",
    "    <br>\n",
    "</font>"
   ]
  },
  {
   "cell_type": "code",
   "execution_count": 147,
   "metadata": {},
   "outputs": [
    {
     "name": "stderr",
     "output_type": "stream",
     "text": [
      "[Parallel(n_jobs=-1)]: Using backend ThreadingBackend with 8 concurrent workers.\n",
      "[Parallel(n_jobs=-1)]: Done  34 tasks      | elapsed:   17.5s\n",
      "[Parallel(n_jobs=-1)]: Done 184 tasks      | elapsed:  1.4min\n",
      "[Parallel(n_jobs=-1)]: Done 434 tasks      | elapsed:  3.2min\n",
      "[Parallel(n_jobs=-1)]: Done 784 tasks      | elapsed:  5.7min\n",
      "[Parallel(n_jobs=-1)]: Done 1024 out of 1024 | elapsed:  7.4min finished\n"
     ]
    },
    {
     "data": {
      "text/plain": [
       "RandomForestClassifier(bootstrap=True, class_weight=None, criterion='gini',\n",
       "            max_depth=None, max_features='auto', max_leaf_nodes=None,\n",
       "            min_impurity_decrease=0.0, min_impurity_split=None,\n",
       "            min_samples_leaf=20, min_samples_split=2,\n",
       "            min_weight_fraction_leaf=0.0, n_estimators=1024, n_jobs=-1,\n",
       "            oob_score=False, random_state=None, verbose=1,\n",
       "            warm_start=False)"
      ]
     },
     "execution_count": 147,
     "metadata": {},
     "output_type": "execute_result"
    }
   ],
   "source": [
    "from sklearn.ensemble import RandomForestClassifier # Fill here\n",
    "rf = RandomForestClassifier(n_estimators = 1024, min_samples_leaf = 20, verbose = 1, n_jobs = -1)\n",
    "rf.fit(Xtrain_ha, ytrain)"
   ]
  },
  {
   "cell_type": "code",
   "execution_count": 148,
   "metadata": {},
   "outputs": [
    {
     "name": "stderr",
     "output_type": "stream",
     "text": [
      "[Parallel(n_jobs=8)]: Using backend ThreadingBackend with 8 concurrent workers.\n",
      "[Parallel(n_jobs=8)]: Done  34 tasks      | elapsed:    0.3s\n",
      "[Parallel(n_jobs=8)]: Done 184 tasks      | elapsed:    1.3s\n",
      "[Parallel(n_jobs=8)]: Done 434 tasks      | elapsed:    3.0s\n",
      "[Parallel(n_jobs=8)]: Done 784 tasks      | elapsed:    5.4s\n",
      "[Parallel(n_jobs=8)]: Done 1024 out of 1024 | elapsed:    7.0s finished\n"
     ]
    }
   ],
   "source": [
    "soft = rf.predict_proba(Xtest_ha)"
   ]
  },
  {
   "cell_type": "code",
   "execution_count": 149,
   "metadata": {},
   "outputs": [
    {
     "name": "stdout",
     "output_type": "stream",
     "text": [
      "The log loss is : 0.4007716705135834\n",
      "The ROC AUC is : 0.7414204358558852\n"
     ]
    }
   ],
   "source": [
    "print(\"The log loss is : \" + str(log_loss(ytest, soft)))\n",
    "print(\"The ROC AUC is : \" + str(roc_auc_score(ytest, soft[:,1])))"
   ]
  },
  {
   "cell_type": "markdown",
   "metadata": {},
   "source": [
    "<font color=\"red\">**Question 52:**\n",
    "   Compare with xgboost performance on the same hashed dataset.\n",
    "</font>"
   ]
  },
  {
   "cell_type": "code",
   "execution_count": 150,
   "metadata": {},
   "outputs": [
    {
     "name": "stdout",
     "output_type": "stream",
     "text": [
      "CPU times: user 19min 43s, sys: 5.05 s, total: 19min 48s\n",
      "Wall time: 2min 28s\n",
      "The log loss is : 0.3996620087252306\n",
      "The ROC AUC is : 0.743639510656227\n"
     ]
    }
   ],
   "source": [
    "xgb = XGBClassifier(n_estimators = 1024,n_jobs = -1,learning_rate = 1)\n",
    "%time xgb.fit(Xtrain_ha, ytrain) # Fill here\n",
    "soft = xgb.predict_proba(Xtest_ha)\n",
    "print(\"The log loss is : \" + str(log_loss(ytest, soft)))\n",
    "print(\"The ROC AUC is : \" + str(roc_auc_score(ytest, soft[:,1])))"
   ]
  },
  {
   "cell_type": "markdown",
   "metadata": {},
   "source": [
    "The XGBClassifier performs better in this specific case."
   ]
  },
  {
   "cell_type": "markdown",
   "metadata": {},
   "source": [
    "<font color=\"red\">**Question 53:**\n",
    "    Plot the ROC and the lift curves for the obtained classifier (xgboost on hashed data).\n",
    "</font>"
   ]
  },
  {
   "cell_type": "code",
   "execution_count": 151,
   "metadata": {},
   "outputs": [
    {
     "data": {
      "image/png": "[encoded data removed]",
      "text/plain": [
       "<Figure size 864x432 with 1 Axes>"
      ]
     },
     "metadata": {},
     "output_type": "display_data"
    }
   ],
   "source": [
    "# Plot the lift curve here\n",
    "plt.figure(figsize=(12,6))\n",
    "plotlift(soft[:,1],ytest)\n",
    "# The following line just plots a vertical line for you to answer the second part of the question\n",
    "plt.axvline(x= 0.2 , linestyle='--', color='r') # Fill here\n",
    "plt.title(\"Lift plot\")\n",
    "plt.show()"
   ]
  },
  {
   "cell_type": "code",
   "execution_count": 152,
   "metadata": {
    "scrolled": false
   },
   "outputs": [
    {
     "data": {
      "image/png": "[encoded data removed]",
      "text/plain": [
       "<Figure size 864x432 with 1 Axes>"
      ]
     },
     "metadata": {},
     "output_type": "display_data"
    }
   ],
   "source": [
    "# Plot the ROC curve here\n",
    "fpr, tpr, thresholds = roc_curve(ytest, soft[:,1]) # Fill here.\n",
    "plt.figure(figsize=(12,6))\n",
    "plt.plot(fpr, tpr, color='darkorange', lw=1)\n",
    "plt.plot([0, 1], [0, 1], color='navy', lw=1, linestyle='--')\n",
    "plt.xlim([0.0, 1.0])\n",
    "plt.ylim([0.0, 1.05])\n",
    "plt.xlabel('False Positive Rate')\n",
    "plt.ylabel('True Positive Rate')\n",
    "plt.title('Receiver operating characteristic')\n",
    "#plt.legend(loc=\"lower right\")\n",
    "plt.show()"
   ]
  },
  {
   "cell_type": "markdown",
   "metadata": {},
   "source": [
    "Hashing produces columns of integers arbitrarily ordered. One can wonder if adding more columns hashed in a different fashion would lead to better performance. \n",
    "<font color=\"red\">**Question 54:**\n",
    "    Add hashed columns by recursively hashing the previous ones: complete the following code. \n",
    "</font>"
   ]
  },
  {
   "cell_type": "code",
   "execution_count": 153,
   "metadata": {},
   "outputs": [],
   "source": [
    "Xtrain_haha = pd.DataFrame(Xtrain_ha).copy()\n",
    "Xtest_haha = pd.DataFrame(Xtest_ha).copy()\n",
    "\n",
    "n_hash = 3\n",
    "cols = Xtrain_ha.columns\n",
    "for l in range(n_hash):\n",
    "    for col in cols:\n",
    "        Xtrain_haha[col + '-hash'] = Xtrain_haha[col].apply(lambda x : hash(str(x)) % 1000000)\n",
    "        Xtest_haha[col + '-hash'] = Xtest_haha[col].apply(lambda x : hash(str(x)) % 1000000)\n",
    "    cols = [col + '-hash' for col in cols]"
   ]
  },
  {
   "cell_type": "markdown",
   "metadata": {},
   "source": [
    "<font color=\"red\">**Question 55:**\n",
    "    Evaluate the performance of a random forest and/or an xgboost clasifier on these enlarged dataset.\n",
    "</font>"
   ]
  },
  {
   "cell_type": "code",
   "execution_count": 154,
   "metadata": {},
   "outputs": [
    {
     "name": "stderr",
     "output_type": "stream",
     "text": [
      "[Parallel(n_jobs=-1)]: Using backend ThreadingBackend with 8 concurrent workers.\n",
      "[Parallel(n_jobs=-1)]: Done  34 tasks      | elapsed:   30.4s\n",
      "[Parallel(n_jobs=-1)]: Done 184 tasks      | elapsed:  2.4min\n",
      "[Parallel(n_jobs=-1)]: Done 434 tasks      | elapsed:  5.5min\n",
      "[Parallel(n_jobs=-1)]: Done 784 tasks      | elapsed:  9.9min\n",
      "[Parallel(n_jobs=-1)]: Done 1024 out of 1024 | elapsed: 12.9min finished\n",
      "[Parallel(n_jobs=8)]: Using backend ThreadingBackend with 8 concurrent workers.\n",
      "[Parallel(n_jobs=8)]: Done  34 tasks      | elapsed:    0.4s\n",
      "[Parallel(n_jobs=8)]: Done 184 tasks      | elapsed:    1.8s\n",
      "[Parallel(n_jobs=8)]: Done 434 tasks      | elapsed:    4.1s\n",
      "[Parallel(n_jobs=8)]: Done 784 tasks      | elapsed:    7.3s\n"
     ]
    },
    {
     "name": "stdout",
     "output_type": "stream",
     "text": [
      "The log loss is : 0.3986712471801392\n",
      "The ROC AUC is : 0.7447054983570616\n"
     ]
    },
    {
     "name": "stderr",
     "output_type": "stream",
     "text": [
      "[Parallel(n_jobs=8)]: Done 1024 out of 1024 | elapsed:    9.6s finished\n"
     ]
    }
   ],
   "source": [
    "# Random Forest\n",
    "rf = RandomForestClassifier(n_estimators = 1024, min_samples_leaf = 20, verbose = 1, n_jobs = -1)\n",
    "rf.fit(Xtrain_haha, ytrain)\n",
    "soft = rf.predict_proba(Xtest_haha)\n",
    "print(\"The log loss is : \" + str(log_loss(ytest, soft)))\n",
    "print(\"The ROC AUC is : \" + str(roc_auc_score(ytest, soft[:,1])))"
   ]
  },
  {
   "cell_type": "code",
   "execution_count": 155,
   "metadata": {},
   "outputs": [
    {
     "name": "stdout",
     "output_type": "stream",
     "text": [
      "The log loss is : 0.402019185090081\n",
      "The ROC AUC is : 0.7407334690515777\n"
     ]
    }
   ],
   "source": [
    "xgb = XGBClassifier(n_estimators = 1024,n_jobs = -1,learning_rate = 1)\n",
    "xgb.fit(Xtrain_haha, ytrain) # Fill here\n",
    "soft = xgb.predict_proba(Xtest_haha)\n",
    "print(\"The log loss is : \" + str(log_loss(ytest, soft)))\n",
    "print(\"The ROC AUC is : \" + str(roc_auc_score(ytest, soft[:,1])))"
   ]
  },
  {
   "cell_type": "markdown",
   "metadata": {},
   "source": [
    "The performance of the Random Forest increased, and decreased with the XGBoost."
   ]
  },
  {
   "cell_type": "markdown",
   "metadata": {},
   "source": [
    "<font color=\"red\">**Question 56:**\n",
    "    Compare the different models used in the TP.\n",
    "</font>"
   ]
  },
  {
   "cell_type": "markdown",
   "metadata": {},
   "source": [
    "The different models in the TP are the following :\n",
    "- the logistic regression\n",
    "- the Gradient Boosting\n",
    "- the XGBoost \n",
    "- the Random Forest\n",
    "\n",
    "\n",
    "The logistic regression works well when we select mostly the relevant columns. This model might underfit the complexity of the problem when we have too many features.\n",
    "\n",
    "\n",
    "The gradient boosting decision tree is hard to overfit since it is an ensemble model. The accuracy obtained is much closer to results obtained by XGBoost or Random Forest, but the computation time is long.\n",
    "\n",
    "\n",
    "The XGBoost works well on many features, and is much faster to train. However, increasing the number of estimators comes at a computational cost.\n",
    "\n",
    "\n",
    "The random forest is long to fit, and there is a risk to overfit if the depth is too important. However, using more estimators in the ensemble model allows a more robust model."
   ]
  },
  {
   "cell_type": "markdown",
   "metadata": {},
   "source": [
    "<h1><center>BONUS<center></h1>"
   ]
  },
  {
   "cell_type": "markdown",
   "metadata": {},
   "source": [
    "# Field-aware Factorization Machines\n",
    "<br>\n",
    "<font color=\"red\">\n",
    "Afficher les noms des colonnes de la matrice Xtrain_ha\n",
    "</font>"
   ]
  },
  {
   "cell_type": "code",
   "execution_count": 156,
   "metadata": {},
   "outputs": [
    {
     "data": {
      "text/plain": [
       "Index(['hour', 'C1', 'banner_pos', 'site_category', 'app_id', 'app_domain',\n",
       "       'app_category', 'device_type', 'device_conn_type', 'C14', 'C15', 'C16',\n",
       "       'C17', 'C18', 'C19', 'C20', 'C21', 'weekday', 'user', 'site'],\n",
       "      dtype='object')"
      ]
     },
     "execution_count": 156,
     "metadata": {},
     "output_type": "execute_result"
    }
   ],
   "source": [
    "Xtrain_ha.columns"
   ]
  },
  {
   "cell_type": "markdown",
   "metadata": {},
   "source": [
    "<font color=\"red\">\n",
    "Créer une liste de liste de colonnes. La nème sous-liste comporte les noms des colonnes du nème champ.</font>"
   ]
  },
  {
   "cell_type": "code",
   "execution_count": 157,
   "metadata": {},
   "outputs": [
    {
     "data": {
      "text/plain": [
       "array([356800, 132498, 728304, 174384, 145351, 661989, 927192, 745394,\n",
       "       308882,  93705,   4446, 252995, 546498, 619777, 850654, 207933,\n",
       "       748802, 965458, 855067, 609656, 595783, 652273, 772298, 711293])"
      ]
     },
     "execution_count": 157,
     "metadata": {},
     "output_type": "execute_result"
    }
   ],
   "source": [
    "Xtrain_ha['hour'].unique()"
   ]
  },
  {
   "cell_type": "code",
   "execution_count": 159,
   "metadata": {},
   "outputs": [],
   "source": [
    "fields = []\n",
    "fields.append(['weekday', 'hour'])\n",
    "fields.append(['banner_pos', 'user', 'C1'])\n",
    "fields.append(['C14', 'C15', 'C16', 'C17', 'C18', 'C19', 'C20', 'C21'])\n",
    "fields.append(['site_category', 'site'])\n",
    "fields.append(['app_id', 'app_domain', 'app_category'])\n",
    "fields.append(['device_type', 'device_conn_type'])"
   ]
  },
  {
   "cell_type": "code",
   "execution_count": 160,
   "metadata": {},
   "outputs": [
    {
     "data": {
      "text/plain": [
       "[['weekday', 'hour'],\n",
       " ['banner_pos', 'user', 'C1'],\n",
       " ['C14', 'C15', 'C16', 'C17', 'C18', 'C19', 'C20', 'C21'],\n",
       " ['site_category', 'site'],\n",
       " ['app_id', 'app_domain', 'app_category'],\n",
       " ['device_type', 'device_conn_type']]"
      ]
     },
     "execution_count": 160,
     "metadata": {},
     "output_type": "execute_result"
    }
   ],
   "source": [
    "fields"
   ]
  },
  {
   "cell_type": "markdown",
   "metadata": {},
   "source": [
    "<font color=\"red\">\n",
    "Avec enumerate, générer un dictionnaire qui à chaque nom de colonne associe son champ.</font>"
   ]
  },
  {
   "cell_type": "code",
   "execution_count": 161,
   "metadata": {},
   "outputs": [],
   "source": [
    "dicFields = {name_col : i for i,f in enumerate(fields) for name_col in f}"
   ]
  },
  {
   "cell_type": "code",
   "execution_count": 162,
   "metadata": {},
   "outputs": [
    {
     "data": {
      "text/plain": [
       "{'weekday': 0,\n",
       " 'hour': 0,\n",
       " 'banner_pos': 1,\n",
       " 'user': 1,\n",
       " 'C1': 1,\n",
       " 'C14': 2,\n",
       " 'C15': 2,\n",
       " 'C16': 2,\n",
       " 'C17': 2,\n",
       " 'C18': 2,\n",
       " 'C19': 2,\n",
       " 'C20': 2,\n",
       " 'C21': 2,\n",
       " 'site_category': 3,\n",
       " 'site': 3,\n",
       " 'app_id': 4,\n",
       " 'app_domain': 4,\n",
       " 'app_category': 4,\n",
       " 'device_type': 5,\n",
       " 'device_conn_type': 5}"
      ]
     },
     "execution_count": 162,
     "metadata": {},
     "output_type": "execute_result"
    }
   ],
   "source": [
    "dicFields"
   ]
  },
  {
   "cell_type": "markdown",
   "metadata": {},
   "source": [
    "Pour formatter les données au format LibFFM, nous devons nous assurer que deux colonnes différentes possèdent des modalités différentes. Pour cela, nous ajoutons devant chaque modalité une chaîne de caractère caractéristique de la colonne.\n",
    "<center>\n",
    "x --> 'nom de la colonne ' + str(x)\n",
    "</center>\n",
    "<br>\n",
    "<font color=\"red\">Effectuer cette transformation avec la méthode apply</font>"
   ]
  },
  {
   "cell_type": "code",
   "execution_count": 164,
   "metadata": {},
   "outputs": [],
   "source": [
    "Xtrain_ffm = pd.DataFrame()\n",
    "Xtest_ffm = pd.DataFrame()\n",
    "for col in Xtrain_ha.columns:\n",
    "    Xtrain_ffm[col] = Xtrain_ha[col].apply(lambda x : str(col) + str(x))\n",
    "    Xtest_ffm[col] = Xtest_ha[col].apply(lambda x : str(col) + str(x))"
   ]
  },
  {
   "cell_type": "code",
   "execution_count": 165,
   "metadata": {},
   "outputs": [
    {
     "data": {
      "text/html": [
       "<div>\n",
       "<style scoped>\n",
       "    .dataframe tbody tr th:only-of-type {\n",
       "        vertical-align: middle;\n",
       "    }\n",
       "\n",
       "    .dataframe tbody tr th {\n",
       "        vertical-align: top;\n",
       "    }\n",
       "\n",
       "    .dataframe thead th {\n",
       "        text-align: right;\n",
       "    }\n",
       "</style>\n",
       "<table border=\"1\" class=\"dataframe\">\n",
       "  <thead>\n",
       "    <tr style=\"text-align: right;\">\n",
       "      <th></th>\n",
       "      <th>hour</th>\n",
       "      <th>C1</th>\n",
       "      <th>banner_pos</th>\n",
       "      <th>site_category</th>\n",
       "      <th>app_id</th>\n",
       "      <th>app_domain</th>\n",
       "      <th>app_category</th>\n",
       "      <th>device_type</th>\n",
       "      <th>device_conn_type</th>\n",
       "      <th>C14</th>\n",
       "      <th>C15</th>\n",
       "      <th>C16</th>\n",
       "      <th>C17</th>\n",
       "      <th>C18</th>\n",
       "      <th>C19</th>\n",
       "      <th>C20</th>\n",
       "      <th>C21</th>\n",
       "      <th>weekday</th>\n",
       "      <th>user</th>\n",
       "      <th>site</th>\n",
       "    </tr>\n",
       "  </thead>\n",
       "  <tbody>\n",
       "    <tr>\n",
       "      <th>92438</th>\n",
       "      <td>hour356800</td>\n",
       "      <td>C1722883</td>\n",
       "      <td>banner_pos308882</td>\n",
       "      <td>site_category67389</td>\n",
       "      <td>app_id708206</td>\n",
       "      <td>app_domain152519</td>\n",
       "      <td>app_category676104</td>\n",
       "      <td>device_type728304</td>\n",
       "      <td>device_conn_type661989</td>\n",
       "      <td>C14496096</td>\n",
       "      <td>C15667711</td>\n",
       "      <td>C16597520</td>\n",
       "      <td>C17171462</td>\n",
       "      <td>C18772298</td>\n",
       "      <td>C19876307</td>\n",
       "      <td>C20133483</td>\n",
       "      <td>C21228935</td>\n",
       "      <td>weekday772298</td>\n",
       "      <td>user651001</td>\n",
       "      <td>site991351</td>\n",
       "    </tr>\n",
       "    <tr>\n",
       "      <th>60898</th>\n",
       "      <td>hour132498</td>\n",
       "      <td>C1758049</td>\n",
       "      <td>banner_pos772298</td>\n",
       "      <td>site_category67389</td>\n",
       "      <td>app_id184509</td>\n",
       "      <td>app_domain222881</td>\n",
       "      <td>app_category714039</td>\n",
       "      <td>device_type308882</td>\n",
       "      <td>device_conn_type595783</td>\n",
       "      <td>C14496096</td>\n",
       "      <td>C15667711</td>\n",
       "      <td>C16597520</td>\n",
       "      <td>C17171462</td>\n",
       "      <td>C18772298</td>\n",
       "      <td>C19876307</td>\n",
       "      <td>C20133483</td>\n",
       "      <td>C21228935</td>\n",
       "      <td>weekday308882</td>\n",
       "      <td>user651001</td>\n",
       "      <td>site991351</td>\n",
       "    </tr>\n",
       "    <tr>\n",
       "      <th>556199</th>\n",
       "      <td>hour728304</td>\n",
       "      <td>C1758049</td>\n",
       "      <td>banner_pos772298</td>\n",
       "      <td>site_category693137</td>\n",
       "      <td>app_id663626</td>\n",
       "      <td>app_domain152519</td>\n",
       "      <td>app_category482402</td>\n",
       "      <td>device_type308882</td>\n",
       "      <td>device_conn_type595783</td>\n",
       "      <td>C14932631</td>\n",
       "      <td>C15667711</td>\n",
       "      <td>C16597520</td>\n",
       "      <td>C17401646</td>\n",
       "      <td>C18772298</td>\n",
       "      <td>C1968222</td>\n",
       "      <td>C20133483</td>\n",
       "      <td>C2132359</td>\n",
       "      <td>weekday772298</td>\n",
       "      <td>user651001</td>\n",
       "      <td>site443385</td>\n",
       "    </tr>\n",
       "    <tr>\n",
       "      <th>193129</th>\n",
       "      <td>hour174384</td>\n",
       "      <td>C1758049</td>\n",
       "      <td>banner_pos308882</td>\n",
       "      <td>site_category693137</td>\n",
       "      <td>app_id663626</td>\n",
       "      <td>app_domain152519</td>\n",
       "      <td>app_category482402</td>\n",
       "      <td>device_type308882</td>\n",
       "      <td>device_conn_type772298</td>\n",
       "      <td>C1460330</td>\n",
       "      <td>C15667711</td>\n",
       "      <td>C16597520</td>\n",
       "      <td>C17296341</td>\n",
       "      <td>C18772298</td>\n",
       "      <td>C19200130</td>\n",
       "      <td>C2058156</td>\n",
       "      <td>C2178702</td>\n",
       "      <td>weekday308882</td>\n",
       "      <td>user651001</td>\n",
       "      <td>site206459</td>\n",
       "    </tr>\n",
       "    <tr>\n",
       "      <th>231985</th>\n",
       "      <td>hour145351</td>\n",
       "      <td>C1758049</td>\n",
       "      <td>banner_pos772298</td>\n",
       "      <td>site_category284485</td>\n",
       "      <td>app_id663626</td>\n",
       "      <td>app_domain152519</td>\n",
       "      <td>app_category482402</td>\n",
       "      <td>device_type308882</td>\n",
       "      <td>device_conn_type772298</td>\n",
       "      <td>C14343520</td>\n",
       "      <td>C15667711</td>\n",
       "      <td>C16597520</td>\n",
       "      <td>C17171462</td>\n",
       "      <td>C18772298</td>\n",
       "      <td>C19876307</td>\n",
       "      <td>C20835254</td>\n",
       "      <td>C21228935</td>\n",
       "      <td>weekday207933</td>\n",
       "      <td>user651001</td>\n",
       "      <td>site117175</td>\n",
       "    </tr>\n",
       "  </tbody>\n",
       "</table>\n",
       "</div>"
      ],
      "text/plain": [
       "              hour        C1        banner_pos        site_category  \\\n",
       "92438   hour356800  C1722883  banner_pos308882   site_category67389   \n",
       "60898   hour132498  C1758049  banner_pos772298   site_category67389   \n",
       "556199  hour728304  C1758049  banner_pos772298  site_category693137   \n",
       "193129  hour174384  C1758049  banner_pos308882  site_category693137   \n",
       "231985  hour145351  C1758049  banner_pos772298  site_category284485   \n",
       "\n",
       "              app_id        app_domain        app_category        device_type  \\\n",
       "92438   app_id708206  app_domain152519  app_category676104  device_type728304   \n",
       "60898   app_id184509  app_domain222881  app_category714039  device_type308882   \n",
       "556199  app_id663626  app_domain152519  app_category482402  device_type308882   \n",
       "193129  app_id663626  app_domain152519  app_category482402  device_type308882   \n",
       "231985  app_id663626  app_domain152519  app_category482402  device_type308882   \n",
       "\n",
       "              device_conn_type        C14        C15        C16        C17  \\\n",
       "92438   device_conn_type661989  C14496096  C15667711  C16597520  C17171462   \n",
       "60898   device_conn_type595783  C14496096  C15667711  C16597520  C17171462   \n",
       "556199  device_conn_type595783  C14932631  C15667711  C16597520  C17401646   \n",
       "193129  device_conn_type772298   C1460330  C15667711  C16597520  C17296341   \n",
       "231985  device_conn_type772298  C14343520  C15667711  C16597520  C17171462   \n",
       "\n",
       "              C18        C19        C20        C21        weekday        user  \\\n",
       "92438   C18772298  C19876307  C20133483  C21228935  weekday772298  user651001   \n",
       "60898   C18772298  C19876307  C20133483  C21228935  weekday308882  user651001   \n",
       "556199  C18772298   C1968222  C20133483   C2132359  weekday772298  user651001   \n",
       "193129  C18772298  C19200130   C2058156   C2178702  weekday308882  user651001   \n",
       "231985  C18772298  C19876307  C20835254  C21228935  weekday207933  user651001   \n",
       "\n",
       "              site  \n",
       "92438   site991351  \n",
       "60898   site991351  \n",
       "556199  site443385  \n",
       "193129  site206459  \n",
       "231985  site117175  "
      ]
     },
     "execution_count": 165,
     "metadata": {},
     "output_type": "execute_result"
    }
   ],
   "source": [
    "Xtrain_ffm.head()"
   ]
  },
  {
   "cell_type": "markdown",
   "metadata": {},
   "source": [
    "Avec np.unique, on créée la liste de toutes les modalités apparaissant dans toutes les colonnes."
   ]
  },
  {
   "cell_type": "code",
   "execution_count": 166,
   "metadata": {},
   "outputs": [],
   "source": [
    "allvals = []\n",
    "allcols_ffm = [col for f in fields for col in f]  # Toutes les colonnes appartenant à l'un des champ\n",
    "for col in allcols_ffm:\n",
    "    allvals.append(np.unique(Xtrain_ffm[col]))\n",
    "allvals= [val for sublist in allvals for val in sublist]"
   ]
  },
  {
   "cell_type": "code",
   "execution_count": 167,
   "metadata": {},
   "outputs": [
    {
     "data": {
      "text/plain": [
       "['weekday207933',\n",
       " 'weekday252995',\n",
       " 'weekday308882',\n",
       " 'weekday595783',\n",
       " 'weekday661989',\n",
       " 'weekday728304',\n",
       " 'weekday772298',\n",
       " 'hour132498',\n",
       " 'hour145351',\n",
       " 'hour174384',\n",
       " 'hour207933',\n",
       " 'hour252995',\n",
       " 'hour308882',\n",
       " 'hour356800',\n",
       " 'hour4446',\n",
       " 'hour546498',\n",
       " 'hour595783',\n",
       " 'hour609656',\n",
       " 'hour619777',\n",
       " 'hour652273',\n",
       " 'hour661989',\n",
       " 'hour711293',\n",
       " 'hour728304',\n",
       " 'hour745394',\n",
       " 'hour748802',\n",
       " 'hour772298',\n",
       " 'hour850654',\n",
       " 'hour855067',\n",
       " 'hour927192',\n",
       " 'hour93705',\n",
       " 'hour965458',\n",
       " 'banner_pos252995',\n",
       " 'banner_pos308882',\n",
       " 'banner_pos595783',\n",
       " 'banner_pos661989',\n",
       " 'banner_pos728304',\n",
       " 'banner_pos772298',\n",
       " 'banner_pos93705',\n",
       " 'user100861',\n",
       " 'user102332',\n",
       " 'user103240',\n",
       " 'user104199',\n",
       " 'user106456',\n",
       " 'user107224',\n",
       " 'user108774',\n",
       " 'user109514',\n",
       " 'user11033',\n",
       " 'user11098',\n",
       " 'user113635',\n",
       " 'user114080',\n",
       " 'user114105',\n",
       " 'user114829',\n",
       " 'user117574',\n",
       " 'user119006',\n",
       " 'user119234',\n",
       " 'user119526',\n",
       " 'user120668',\n",
       " 'user121413',\n",
       " 'user121560',\n",
       " 'user121669',\n",
       " 'user122372',\n",
       " 'user126439',\n",
       " 'user12650',\n",
       " 'user128788',\n",
       " 'user129305',\n",
       " 'user12963',\n",
       " 'user131334',\n",
       " 'user131672',\n",
       " 'user13385',\n",
       " 'user134052',\n",
       " 'user135132',\n",
       " 'user1360',\n",
       " 'user137526',\n",
       " 'user139217',\n",
       " 'user142026',\n",
       " 'user142644',\n",
       " 'user143122',\n",
       " 'user14369',\n",
       " 'user144300',\n",
       " 'user144638',\n",
       " 'user145823',\n",
       " 'user145861',\n",
       " 'user148009',\n",
       " 'user149783',\n",
       " 'user151820',\n",
       " 'user152205',\n",
       " 'user153365',\n",
       " 'user153801',\n",
       " 'user154011',\n",
       " 'user155560',\n",
       " 'user155658',\n",
       " 'user155730',\n",
       " 'user157551',\n",
       " 'user159534',\n",
       " 'user162889',\n",
       " 'user164311',\n",
       " 'user165278',\n",
       " 'user166043',\n",
       " 'user167009',\n",
       " 'user167210',\n",
       " 'user169780',\n",
       " 'user172239',\n",
       " 'user173274',\n",
       " 'user173649',\n",
       " 'user173656',\n",
       " 'user174070',\n",
       " 'user175196',\n",
       " 'user175561',\n",
       " 'user177260',\n",
       " 'user178025',\n",
       " 'user178074',\n",
       " 'user178399',\n",
       " 'user179499',\n",
       " 'user182436',\n",
       " 'user182451',\n",
       " 'user183125',\n",
       " 'user184143',\n",
       " 'user184326',\n",
       " 'user185166',\n",
       " 'user186393',\n",
       " 'user188749',\n",
       " 'user189181',\n",
       " 'user190142',\n",
       " 'user191960',\n",
       " 'user192127',\n",
       " 'user193380',\n",
       " 'user197003',\n",
       " 'user197229',\n",
       " 'user198750',\n",
       " 'user198822',\n",
       " 'user199300',\n",
       " 'user200401',\n",
       " 'user201138',\n",
       " 'user202587',\n",
       " 'user205647',\n",
       " 'user207008',\n",
       " 'user207986',\n",
       " 'user209046',\n",
       " 'user209234',\n",
       " 'user209857',\n",
       " 'user209911',\n",
       " 'user210024',\n",
       " 'user210749',\n",
       " 'user210993',\n",
       " 'user212287',\n",
       " 'user212321',\n",
       " 'user212994',\n",
       " 'user213173',\n",
       " 'user214711',\n",
       " 'user215113',\n",
       " 'user215345',\n",
       " 'user215639',\n",
       " 'user215990',\n",
       " 'user216371',\n",
       " 'user216672',\n",
       " 'user216748',\n",
       " 'user216998',\n",
       " 'user21858',\n",
       " 'user218787',\n",
       " 'user22516',\n",
       " 'user22558',\n",
       " 'user2259',\n",
       " 'user227220',\n",
       " 'user227976',\n",
       " 'user228914',\n",
       " 'user229113',\n",
       " 'user229315',\n",
       " 'user230090',\n",
       " 'user231223',\n",
       " 'user232796',\n",
       " 'user233013',\n",
       " 'user233102',\n",
       " 'user233772',\n",
       " 'user233807',\n",
       " 'user233935',\n",
       " 'user236559',\n",
       " 'user237001',\n",
       " 'user237573',\n",
       " 'user239335',\n",
       " 'user239685',\n",
       " 'user240264',\n",
       " 'user240335',\n",
       " 'user241812',\n",
       " 'user241864',\n",
       " 'user242397',\n",
       " 'user243277',\n",
       " 'user2439',\n",
       " 'user245727',\n",
       " 'user246621',\n",
       " 'user247093',\n",
       " 'user248046',\n",
       " 'user249217',\n",
       " 'user249324',\n",
       " 'user24972',\n",
       " 'user250558',\n",
       " 'user250603',\n",
       " 'user252279',\n",
       " 'user252712',\n",
       " 'user253636',\n",
       " 'user254036',\n",
       " 'user256413',\n",
       " 'user256587',\n",
       " 'user257401',\n",
       " 'user257619',\n",
       " 'user258512',\n",
       " 'user259353',\n",
       " 'user259636',\n",
       " 'user261634',\n",
       " 'user262105',\n",
       " 'user262383',\n",
       " 'user262450',\n",
       " 'user265147',\n",
       " 'user265643',\n",
       " 'user26589',\n",
       " 'user267102',\n",
       " 'user267268',\n",
       " 'user268438',\n",
       " 'user270103',\n",
       " 'user27152',\n",
       " 'user271749',\n",
       " 'user271903',\n",
       " 'user272371',\n",
       " 'user272895',\n",
       " 'user275453',\n",
       " 'user276206',\n",
       " 'user276271',\n",
       " 'user277282',\n",
       " 'user278267',\n",
       " 'user280617',\n",
       " 'user282497',\n",
       " 'user283184',\n",
       " 'user284611',\n",
       " 'user285228',\n",
       " 'user286004',\n",
       " 'user286413',\n",
       " 'user287932',\n",
       " 'user288348',\n",
       " 'user290174',\n",
       " 'user292922',\n",
       " 'user293088',\n",
       " 'user293289',\n",
       " 'user29645',\n",
       " 'user298097',\n",
       " 'user298425',\n",
       " 'user3000',\n",
       " 'user300156',\n",
       " 'user300900',\n",
       " 'user301332',\n",
       " 'user301574',\n",
       " 'user301638',\n",
       " 'user30279',\n",
       " 'user303951',\n",
       " 'user304239',\n",
       " 'user306155',\n",
       " 'user307552',\n",
       " 'user308880',\n",
       " 'user310988',\n",
       " 'user311631',\n",
       " 'user318121',\n",
       " 'user318813',\n",
       " 'user318936',\n",
       " 'user319962',\n",
       " 'user320210',\n",
       " 'user320807',\n",
       " 'user321437',\n",
       " 'user322437',\n",
       " 'user322905',\n",
       " 'user323938',\n",
       " 'user324046',\n",
       " 'user326290',\n",
       " 'user326713',\n",
       " 'user328741',\n",
       " 'user331901',\n",
       " 'user336812',\n",
       " 'user337745',\n",
       " 'user338341',\n",
       " 'user338522',\n",
       " 'user339255',\n",
       " 'user339698',\n",
       " 'user343194',\n",
       " 'user343214',\n",
       " 'user345289',\n",
       " 'user345815',\n",
       " 'user346730',\n",
       " 'user349150',\n",
       " 'user350220',\n",
       " 'user35088',\n",
       " 'user35310',\n",
       " 'user353644',\n",
       " 'user354504',\n",
       " 'user354510',\n",
       " 'user356867',\n",
       " 'user358429',\n",
       " 'user358860',\n",
       " 'user359285',\n",
       " 'user359423',\n",
       " 'user359646',\n",
       " 'user359730',\n",
       " 'user360506',\n",
       " 'user362127',\n",
       " 'user362255',\n",
       " 'user362458',\n",
       " 'user364280',\n",
       " 'user364862',\n",
       " 'user370891',\n",
       " 'user370895',\n",
       " 'user371171',\n",
       " 'user372511',\n",
       " 'user372756',\n",
       " 'user373285',\n",
       " 'user374247',\n",
       " 'user374335',\n",
       " 'user375815',\n",
       " 'user37582',\n",
       " 'user37600',\n",
       " 'user376239',\n",
       " 'user376266',\n",
       " 'user376889',\n",
       " 'user377933',\n",
       " 'user378428',\n",
       " 'user378541',\n",
       " 'user380595',\n",
       " 'user381073',\n",
       " 'user381224',\n",
       " 'user382112',\n",
       " 'user382897',\n",
       " 'user385941',\n",
       " 'user389500',\n",
       " 'user389880',\n",
       " 'user389975',\n",
       " 'user391599',\n",
       " 'user39167',\n",
       " 'user391696',\n",
       " 'user392719',\n",
       " 'user393728',\n",
       " 'user393739',\n",
       " 'user394541',\n",
       " 'user395163',\n",
       " 'user396387',\n",
       " 'user397772',\n",
       " 'user398656',\n",
       " 'user399317',\n",
       " 'user402690',\n",
       " 'user404181',\n",
       " 'user407652',\n",
       " 'user408265',\n",
       " 'user409229',\n",
       " 'user409588',\n",
       " 'user410262',\n",
       " 'user410822',\n",
       " 'user411008',\n",
       " 'user412856',\n",
       " 'user414792',\n",
       " 'user415355',\n",
       " 'user418644',\n",
       " 'user41868',\n",
       " 'user419168',\n",
       " 'user419575',\n",
       " 'user420268',\n",
       " 'user421035',\n",
       " 'user421119',\n",
       " 'user422525',\n",
       " 'user422974',\n",
       " 'user423457',\n",
       " 'user424817',\n",
       " 'user427099',\n",
       " 'user429335',\n",
       " 'user429614',\n",
       " 'user430316',\n",
       " 'user430891',\n",
       " 'user430985',\n",
       " 'user431998',\n",
       " 'user432319',\n",
       " 'user433193',\n",
       " 'user436891',\n",
       " 'user438132',\n",
       " 'user438370',\n",
       " 'user438384',\n",
       " 'user438529',\n",
       " 'user439478',\n",
       " 'user43961',\n",
       " 'user441459',\n",
       " 'user443610',\n",
       " 'user443997',\n",
       " 'user444176',\n",
       " 'user447169',\n",
       " 'user448856',\n",
       " 'user449998',\n",
       " 'user45101',\n",
       " 'user451090',\n",
       " 'user452547',\n",
       " 'user453510',\n",
       " 'user454334',\n",
       " 'user455045',\n",
       " 'user456334',\n",
       " 'user456635',\n",
       " 'user458199',\n",
       " 'user459893',\n",
       " 'user460252',\n",
       " 'user461407',\n",
       " 'user461673',\n",
       " 'user462340',\n",
       " 'user463758',\n",
       " 'user464065',\n",
       " 'user464314',\n",
       " 'user468197',\n",
       " 'user470552',\n",
       " 'user474141',\n",
       " 'user475655',\n",
       " 'user476212',\n",
       " 'user478518',\n",
       " 'user478675',\n",
       " 'user478921',\n",
       " 'user479285',\n",
       " 'user481786',\n",
       " 'user482012',\n",
       " 'user482038',\n",
       " 'user482082',\n",
       " 'user482137',\n",
       " 'user482662',\n",
       " 'user484902',\n",
       " 'user485020',\n",
       " 'user48545',\n",
       " 'user486734',\n",
       " 'user486868',\n",
       " 'user487185',\n",
       " 'user488721',\n",
       " 'user489420',\n",
       " 'user489882',\n",
       " 'user49065',\n",
       " 'user494857',\n",
       " 'user495207',\n",
       " 'user495446',\n",
       " 'user496424',\n",
       " 'user499249',\n",
       " 'user500181',\n",
       " 'user50061',\n",
       " 'user502347',\n",
       " 'user50324',\n",
       " 'user503840',\n",
       " 'user505222',\n",
       " 'user505322',\n",
       " 'user505520',\n",
       " 'user506952',\n",
       " 'user5071',\n",
       " 'user509724',\n",
       " 'user511388',\n",
       " 'user511658',\n",
       " 'user5118',\n",
       " 'user514411',\n",
       " 'user514540',\n",
       " 'user51583',\n",
       " 'user516774',\n",
       " 'user517630',\n",
       " 'user518800',\n",
       " 'user518911',\n",
       " 'user519071',\n",
       " 'user520401',\n",
       " 'user521460',\n",
       " 'user521781',\n",
       " 'user524500',\n",
       " 'user526058',\n",
       " 'user527047',\n",
       " 'user529782',\n",
       " 'user530016',\n",
       " 'user531387',\n",
       " 'user532110',\n",
       " 'user532949',\n",
       " 'user533599',\n",
       " 'user534062',\n",
       " 'user53421',\n",
       " 'user534788',\n",
       " 'user535628',\n",
       " 'user536457',\n",
       " 'user538805',\n",
       " 'user540840',\n",
       " 'user54096',\n",
       " 'user545215',\n",
       " 'user545457',\n",
       " 'user546763',\n",
       " 'user548384',\n",
       " 'user548790',\n",
       " 'user549400',\n",
       " 'user550135',\n",
       " 'user550486',\n",
       " 'user550824',\n",
       " 'user55091',\n",
       " 'user551540',\n",
       " 'user552356',\n",
       " 'user55295',\n",
       " 'user558769',\n",
       " 'user559063',\n",
       " 'user560849',\n",
       " 'user560997',\n",
       " 'user56107',\n",
       " 'user561070',\n",
       " 'user561920',\n",
       " 'user562373',\n",
       " 'user562899',\n",
       " 'user563701',\n",
       " 'user565700',\n",
       " 'user572781',\n",
       " 'user573355',\n",
       " 'user574033',\n",
       " 'user575368',\n",
       " 'user575910',\n",
       " 'user578044',\n",
       " 'user579322',\n",
       " 'user580966',\n",
       " 'user581865',\n",
       " 'user585143',\n",
       " 'user586091',\n",
       " 'user587098',\n",
       " 'user587990',\n",
       " 'user588275',\n",
       " 'user588914',\n",
       " 'user590037',\n",
       " 'user59058',\n",
       " 'user591308',\n",
       " 'user592797',\n",
       " 'user594211',\n",
       " 'user594755',\n",
       " 'user594947',\n",
       " 'user595114',\n",
       " 'user59571',\n",
       " 'user596195',\n",
       " 'user597273',\n",
       " 'user598367',\n",
       " 'user598702',\n",
       " 'user598834',\n",
       " 'user599597',\n",
       " 'user600212',\n",
       " 'user600324',\n",
       " 'user601593',\n",
       " 'user601603',\n",
       " 'user601772',\n",
       " 'user602561',\n",
       " 'user602779',\n",
       " 'user603024',\n",
       " 'user6034',\n",
       " 'user603723',\n",
       " 'user603770',\n",
       " 'user603973',\n",
       " 'user604260',\n",
       " 'user604858',\n",
       " 'user605447',\n",
       " 'user605685',\n",
       " 'user606617',\n",
       " 'user607309',\n",
       " 'user608140',\n",
       " 'user608483',\n",
       " 'user608806',\n",
       " 'user610964',\n",
       " 'user613819',\n",
       " 'user616459',\n",
       " 'user616604',\n",
       " 'user616783',\n",
       " 'user618427',\n",
       " 'user619072',\n",
       " 'user61952',\n",
       " 'user620154',\n",
       " 'user620432',\n",
       " 'user622026',\n",
       " 'user622514',\n",
       " 'user623788',\n",
       " 'user62495',\n",
       " 'user627417',\n",
       " 'user628944',\n",
       " 'user630826',\n",
       " 'user63143',\n",
       " 'user631598',\n",
       " 'user634452',\n",
       " 'user634539',\n",
       " 'user635412',\n",
       " 'user636692',\n",
       " 'user637811',\n",
       " 'user638887',\n",
       " 'user639185',\n",
       " 'user642448',\n",
       " 'user644555',\n",
       " 'user644980',\n",
       " 'user650983',\n",
       " 'user651001',\n",
       " 'user652413',\n",
       " 'user65429',\n",
       " 'user654522',\n",
       " 'user655761',\n",
       " 'user656851',\n",
       " 'user657021',\n",
       " 'user657456',\n",
       " 'user658599',\n",
       " 'user659732',\n",
       " 'user66003',\n",
       " 'user661340',\n",
       " 'user662931',\n",
       " 'user66459',\n",
       " 'user665937',\n",
       " 'user666506',\n",
       " 'user667120',\n",
       " 'user669424',\n",
       " 'user669601',\n",
       " 'user671034',\n",
       " 'user671422',\n",
       " 'user67195',\n",
       " 'user672492',\n",
       " 'user673318',\n",
       " 'user67355',\n",
       " 'user673688',\n",
       " 'user674848',\n",
       " 'user679746',\n",
       " 'user680293',\n",
       " 'user680781',\n",
       " 'user681866',\n",
       " 'user682347',\n",
       " 'user685303',\n",
       " 'user68537',\n",
       " 'user685738',\n",
       " 'user686339',\n",
       " 'user68745',\n",
       " 'user687488',\n",
       " 'user688261',\n",
       " 'user689378',\n",
       " 'user690400',\n",
       " 'user690741',\n",
       " 'user690962',\n",
       " 'user691313',\n",
       " 'user691599',\n",
       " 'user692093',\n",
       " 'user693587',\n",
       " 'user693968',\n",
       " 'user694482',\n",
       " 'user696341',\n",
       " 'user697202',\n",
       " 'user700873',\n",
       " 'user70261',\n",
       " 'user702761',\n",
       " 'user702980',\n",
       " 'user703629',\n",
       " 'user705341',\n",
       " 'user708358',\n",
       " 'user708837',\n",
       " 'user708952',\n",
       " 'user709574',\n",
       " 'user710163',\n",
       " 'user71078',\n",
       " 'user712421',\n",
       " 'user713726',\n",
       " 'user713919',\n",
       " 'user713995',\n",
       " 'user714261',\n",
       " 'user714806',\n",
       " 'user71759',\n",
       " 'user718576',\n",
       " 'user71911',\n",
       " 'user719207',\n",
       " 'user719629',\n",
       " 'user720686',\n",
       " 'user722479',\n",
       " 'user723273',\n",
       " 'user723878',\n",
       " 'user724751',\n",
       " 'user725394',\n",
       " 'user726264',\n",
       " 'user726586',\n",
       " 'user726801',\n",
       " 'user727979',\n",
       " 'user728492',\n",
       " 'user72874',\n",
       " 'user728838',\n",
       " 'user730986',\n",
       " 'user731198',\n",
       " 'user731334',\n",
       " 'user731853',\n",
       " 'user73529',\n",
       " 'user736973',\n",
       " 'user739240',\n",
       " 'user740905',\n",
       " 'user741437',\n",
       " 'user741762',\n",
       " 'user742319',\n",
       " 'user743343',\n",
       " 'user743588',\n",
       " 'user744299',\n",
       " 'user745322',\n",
       " 'user745339',\n",
       " 'user74566',\n",
       " 'user745863',\n",
       " 'user746756',\n",
       " 'user747670',\n",
       " 'user748418',\n",
       " 'user748438',\n",
       " 'user749737',\n",
       " 'user75048',\n",
       " 'user751578',\n",
       " 'user751652',\n",
       " 'user751804',\n",
       " 'user751919',\n",
       " 'user752576',\n",
       " 'user754710',\n",
       " 'user755499',\n",
       " 'user758353',\n",
       " 'user75896',\n",
       " 'user759169',\n",
       " 'user759535',\n",
       " 'user760165',\n",
       " 'user760401',\n",
       " 'user760883',\n",
       " 'user76110',\n",
       " 'user761328',\n",
       " 'user762591',\n",
       " 'user763001',\n",
       " 'user765591',\n",
       " 'user766059',\n",
       " 'user766872',\n",
       " 'user767603',\n",
       " 'user767837',\n",
       " 'user767874',\n",
       " 'user769497',\n",
       " 'user769685',\n",
       " 'user770499',\n",
       " 'user772259',\n",
       " 'user77387',\n",
       " 'user774264',\n",
       " 'user775847',\n",
       " 'user776684',\n",
       " 'user777207',\n",
       " 'user779452',\n",
       " 'user77980',\n",
       " 'user782622',\n",
       " 'user786069',\n",
       " 'user786108',\n",
       " 'user787700',\n",
       " 'user787840',\n",
       " 'user788969',\n",
       " 'user790562',\n",
       " 'user790630',\n",
       " 'user793724',\n",
       " 'user794471',\n",
       " 'user794573',\n",
       " 'user795434',\n",
       " 'user795811',\n",
       " 'user79616',\n",
       " 'user796183',\n",
       " 'user797404',\n",
       " 'user79758',\n",
       " 'user798983',\n",
       " 'user799088',\n",
       " 'user801346',\n",
       " 'user80193',\n",
       " 'user802007',\n",
       " 'user803010',\n",
       " 'user805628',\n",
       " 'user805831',\n",
       " 'user805849',\n",
       " 'user806406',\n",
       " 'user807009',\n",
       " 'user80702',\n",
       " 'user809253',\n",
       " 'user810690',\n",
       " 'user811105',\n",
       " 'user811231',\n",
       " 'user816810',\n",
       " 'user818',\n",
       " 'user818561',\n",
       " 'user818949',\n",
       " 'user819209',\n",
       " 'user820110',\n",
       " 'user820708',\n",
       " 'user820756',\n",
       " 'user822993',\n",
       " 'user824317',\n",
       " 'user82617',\n",
       " 'user82754',\n",
       " 'user829355',\n",
       " 'user830692',\n",
       " 'user831227',\n",
       " 'user832420',\n",
       " 'user832613',\n",
       " 'user832945',\n",
       " 'user834529',\n",
       " 'user836261',\n",
       " 'user837122',\n",
       " 'user839306',\n",
       " 'user839464',\n",
       " 'user840865',\n",
       " 'user841515',\n",
       " 'user84288',\n",
       " 'user844511',\n",
       " 'user844707',\n",
       " 'user845730',\n",
       " 'user845952',\n",
       " 'user847294',\n",
       " 'user848337',\n",
       " 'user848974',\n",
       " 'user850917',\n",
       " 'user851229',\n",
       " 'user852144',\n",
       " 'user852189',\n",
       " 'user852236',\n",
       " 'user854236',\n",
       " 'user854491',\n",
       " 'user855845',\n",
       " 'user856121',\n",
       " 'user856489',\n",
       " 'user856552',\n",
       " 'user856795',\n",
       " 'user857759',\n",
       " 'user858230',\n",
       " 'user859405',\n",
       " 'user860877',\n",
       " 'user862737',\n",
       " 'user863610',\n",
       " 'user864524',\n",
       " 'user864808',\n",
       " 'user866309',\n",
       " 'user866536',\n",
       " 'user866663',\n",
       " 'user867776',\n",
       " 'user867842',\n",
       " 'user867976',\n",
       " 'user872441',\n",
       " 'user874086',\n",
       " 'user876164',\n",
       " 'user877362',\n",
       " 'user877640',\n",
       " 'user878867',\n",
       " 'user880879',\n",
       " 'user881055',\n",
       " 'user882169',\n",
       " 'user883094',\n",
       " 'user88326',\n",
       " 'user884046',\n",
       " 'user885284',\n",
       " 'user887286',\n",
       " 'user887928',\n",
       " 'user894811',\n",
       " 'user896313',\n",
       " 'user896317',\n",
       " 'user89641',\n",
       " 'user896497',\n",
       " 'user896866',\n",
       " 'user897183',\n",
       " 'user897453',\n",
       " 'user898158',\n",
       " 'user898623',\n",
       " 'user902625',\n",
       " 'user903112',\n",
       " 'user904332',\n",
       " 'user906044',\n",
       " 'user913316',\n",
       " 'user913635',\n",
       " 'user914517',\n",
       " 'user915440',\n",
       " 'user916639',\n",
       " 'user916915',\n",
       " 'user916934',\n",
       " 'user917204',\n",
       " 'user917963',\n",
       " 'user919255',\n",
       " 'user920794',\n",
       " 'user921429',\n",
       " 'user921541',\n",
       " 'user922405',\n",
       " 'user924468',\n",
       " 'user925268',\n",
       " 'user926000',\n",
       " 'user927940',\n",
       " 'user929838',\n",
       " 'user931609',\n",
       " 'user93215',\n",
       " 'user933263',\n",
       " 'user935031',\n",
       " 'user936086',\n",
       " 'user936234',\n",
       " 'user937240',\n",
       " 'user939988',\n",
       " 'user940607',\n",
       " 'user947380',\n",
       " 'user948380',\n",
       " 'user95088',\n",
       " 'user951561',\n",
       " 'user95168',\n",
       " 'user951730',\n",
       " 'user953313',\n",
       " 'user954116',\n",
       " 'user954650',\n",
       " 'user955553',\n",
       " 'user955686',\n",
       " 'user955973',\n",
       " 'user956064',\n",
       " 'user957053',\n",
       " 'user958637',\n",
       " 'user958639',\n",
       " 'user95982',\n",
       " 'user961236',\n",
       " 'user961769',\n",
       " 'user965216',\n",
       " 'user966599',\n",
       " 'user966638',\n",
       " 'user966677',\n",
       " 'user968059',\n",
       " 'user96806',\n",
       " 'user969',\n",
       " 'user972908',\n",
       " 'user974231',\n",
       " 'user974498',\n",
       " 'user974748',\n",
       " 'user975430',\n",
       " 'user975493',\n",
       " 'user976284',\n",
       " 'user977064',\n",
       " 'user978876',\n",
       " 'user979354',\n",
       " 'user979450',\n",
       " 'user982660',\n",
       " 'user982993',\n",
       " 'user983871',\n",
       " 'user984189',\n",
       " 'user984859',\n",
       " 'user98489',\n",
       " 'user984890',\n",
       " 'user985579',\n",
       " 'user985875',\n",
       " 'user986030',\n",
       " 'user986927',\n",
       " 'user987826',\n",
       " 'user988195',\n",
       " 'user988412',\n",
       " 'user988540',\n",
       " 'user991426',\n",
       " 'user991490',\n",
       " 'user991650',\n",
       " 'user992286',\n",
       " 'user99647',\n",
       " 'user997054',\n",
       " 'user997142',\n",
       " 'user998758',\n",
       " 'user999021',\n",
       " 'C1343037',\n",
       " 'C1392873',\n",
       " 'C1450089',\n",
       " 'C1722883',\n",
       " 'C1758049',\n",
       " 'C1765578',\n",
       " 'C1798053',\n",
       " 'C14101108',\n",
       " 'C14101446',\n",
       " 'C1410221',\n",
       " 'C14102327',\n",
       " 'C14102786',\n",
       " 'C14102974',\n",
       " 'C1410301',\n",
       " 'C14104922',\n",
       " 'C14104998',\n",
       " 'C14105124',\n",
       " 'C14105150',\n",
       " 'C14105324',\n",
       " 'C14105959',\n",
       " 'C14106122',\n",
       " 'C14106644',\n",
       " 'C14107725',\n",
       " 'C14107996',\n",
       " 'C14109023',\n",
       " 'C14109563',\n",
       " 'C14110460',\n",
       " 'C141108',\n",
       " 'C14111089',\n",
       " 'C14111929',\n",
       " 'C14112395',\n",
       " 'C14113626',\n",
       " 'C14115222',\n",
       " 'C14117152',\n",
       " 'C14117791',\n",
       " 'C1411783',\n",
       " 'C14117852',\n",
       " 'C14119926',\n",
       " 'C14120110',\n",
       " 'C14120122',\n",
       " 'C14120917',\n",
       " 'C14121160',\n",
       " 'C14121696',\n",
       " 'C14122563',\n",
       " 'C141227',\n",
       " 'C14124017',\n",
       " 'C14124790',\n",
       " 'C1412504',\n",
       " 'C14125891',\n",
       " 'C14126875',\n",
       " 'C14126980',\n",
       " 'C14128463',\n",
       " 'C1412847',\n",
       " 'C14129682',\n",
       " 'C14129913',\n",
       " 'C14131987',\n",
       " 'C14132631',\n",
       " 'C14134584',\n",
       " 'C14135290',\n",
       " 'C14135305',\n",
       " 'C14135697',\n",
       " 'C14135985',\n",
       " ...]"
      ]
     },
     "execution_count": 167,
     "metadata": {},
     "output_type": "execute_result"
    }
   ],
   "source": [
    "allvals"
   ]
  },
  {
   "cell_type": "markdown",
   "metadata": {},
   "source": [
    "<font color=\"red\">\n",
    "En utilisant \"enumerate\", créer un dictionnaire qui à chaque valeur associe son rang dans la liste allvals.</font>"
   ]
  },
  {
   "cell_type": "code",
   "execution_count": 168,
   "metadata": {},
   "outputs": [],
   "source": [
    "dicFeat = {val:i for i,val in enumerate(allvals) }"
   ]
  },
  {
   "cell_type": "code",
   "execution_count": 169,
   "metadata": {},
   "outputs": [
    {
     "data": {
      "text/plain": [
       "{'weekday207933': 0,\n",
       " 'weekday252995': 1,\n",
       " 'weekday308882': 2,\n",
       " 'weekday595783': 3,\n",
       " 'weekday661989': 4,\n",
       " 'weekday728304': 5,\n",
       " 'weekday772298': 6,\n",
       " 'hour132498': 7,\n",
       " 'hour145351': 8,\n",
       " 'hour174384': 9,\n",
       " 'hour207933': 10,\n",
       " 'hour252995': 11,\n",
       " 'hour308882': 12,\n",
       " 'hour356800': 13,\n",
       " 'hour4446': 14,\n",
       " 'hour546498': 15,\n",
       " 'hour595783': 16,\n",
       " 'hour609656': 17,\n",
       " 'hour619777': 18,\n",
       " 'hour652273': 19,\n",
       " 'hour661989': 20,\n",
       " 'hour711293': 21,\n",
       " 'hour728304': 22,\n",
       " 'hour745394': 23,\n",
       " 'hour748802': 24,\n",
       " 'hour772298': 25,\n",
       " 'hour850654': 26,\n",
       " 'hour855067': 27,\n",
       " 'hour927192': 28,\n",
       " 'hour93705': 29,\n",
       " 'hour965458': 30,\n",
       " 'banner_pos252995': 31,\n",
       " 'banner_pos308882': 32,\n",
       " 'banner_pos595783': 33,\n",
       " 'banner_pos661989': 34,\n",
       " 'banner_pos728304': 35,\n",
       " 'banner_pos772298': 36,\n",
       " 'banner_pos93705': 37,\n",
       " 'user100861': 38,\n",
       " 'user102332': 39,\n",
       " 'user103240': 40,\n",
       " 'user104199': 41,\n",
       " 'user106456': 42,\n",
       " 'user107224': 43,\n",
       " 'user108774': 44,\n",
       " 'user109514': 45,\n",
       " 'user11033': 46,\n",
       " 'user11098': 47,\n",
       " 'user113635': 48,\n",
       " 'user114080': 49,\n",
       " 'user114105': 50,\n",
       " 'user114829': 51,\n",
       " 'user117574': 52,\n",
       " 'user119006': 53,\n",
       " 'user119234': 54,\n",
       " 'user119526': 55,\n",
       " 'user120668': 56,\n",
       " 'user121413': 57,\n",
       " 'user121560': 58,\n",
       " 'user121669': 59,\n",
       " 'user122372': 60,\n",
       " 'user126439': 61,\n",
       " 'user12650': 62,\n",
       " 'user128788': 63,\n",
       " 'user129305': 64,\n",
       " 'user12963': 65,\n",
       " 'user131334': 66,\n",
       " 'user131672': 67,\n",
       " 'user13385': 68,\n",
       " 'user134052': 69,\n",
       " 'user135132': 70,\n",
       " 'user1360': 71,\n",
       " 'user137526': 72,\n",
       " 'user139217': 73,\n",
       " 'user142026': 74,\n",
       " 'user142644': 75,\n",
       " 'user143122': 76,\n",
       " 'user14369': 77,\n",
       " 'user144300': 78,\n",
       " 'user144638': 79,\n",
       " 'user145823': 80,\n",
       " 'user145861': 81,\n",
       " 'user148009': 82,\n",
       " 'user149783': 83,\n",
       " 'user151820': 84,\n",
       " 'user152205': 85,\n",
       " 'user153365': 86,\n",
       " 'user153801': 87,\n",
       " 'user154011': 88,\n",
       " 'user155560': 89,\n",
       " 'user155658': 90,\n",
       " 'user155730': 91,\n",
       " 'user157551': 92,\n",
       " 'user159534': 93,\n",
       " 'user162889': 94,\n",
       " 'user164311': 95,\n",
       " 'user165278': 96,\n",
       " 'user166043': 97,\n",
       " 'user167009': 98,\n",
       " 'user167210': 99,\n",
       " 'user169780': 100,\n",
       " 'user172239': 101,\n",
       " 'user173274': 102,\n",
       " 'user173649': 103,\n",
       " 'user173656': 104,\n",
       " 'user174070': 105,\n",
       " 'user175196': 106,\n",
       " 'user175561': 107,\n",
       " 'user177260': 108,\n",
       " 'user178025': 109,\n",
       " 'user178074': 110,\n",
       " 'user178399': 111,\n",
       " 'user179499': 112,\n",
       " 'user182436': 113,\n",
       " 'user182451': 114,\n",
       " 'user183125': 115,\n",
       " 'user184143': 116,\n",
       " 'user184326': 117,\n",
       " 'user185166': 118,\n",
       " 'user186393': 119,\n",
       " 'user188749': 120,\n",
       " 'user189181': 121,\n",
       " 'user190142': 122,\n",
       " 'user191960': 123,\n",
       " 'user192127': 124,\n",
       " 'user193380': 125,\n",
       " 'user197003': 126,\n",
       " 'user197229': 127,\n",
       " 'user198750': 128,\n",
       " 'user198822': 129,\n",
       " 'user199300': 130,\n",
       " 'user200401': 131,\n",
       " 'user201138': 132,\n",
       " 'user202587': 133,\n",
       " 'user205647': 134,\n",
       " 'user207008': 135,\n",
       " 'user207986': 136,\n",
       " 'user209046': 137,\n",
       " 'user209234': 138,\n",
       " 'user209857': 139,\n",
       " 'user209911': 140,\n",
       " 'user210024': 141,\n",
       " 'user210749': 142,\n",
       " 'user210993': 143,\n",
       " 'user212287': 144,\n",
       " 'user212321': 145,\n",
       " 'user212994': 146,\n",
       " 'user213173': 147,\n",
       " 'user214711': 148,\n",
       " 'user215113': 149,\n",
       " 'user215345': 150,\n",
       " 'user215639': 151,\n",
       " 'user215990': 152,\n",
       " 'user216371': 153,\n",
       " 'user216672': 154,\n",
       " 'user216748': 155,\n",
       " 'user216998': 156,\n",
       " 'user21858': 157,\n",
       " 'user218787': 158,\n",
       " 'user22516': 159,\n",
       " 'user22558': 160,\n",
       " 'user2259': 161,\n",
       " 'user227220': 162,\n",
       " 'user227976': 163,\n",
       " 'user228914': 164,\n",
       " 'user229113': 165,\n",
       " 'user229315': 166,\n",
       " 'user230090': 167,\n",
       " 'user231223': 168,\n",
       " 'user232796': 169,\n",
       " 'user233013': 170,\n",
       " 'user233102': 171,\n",
       " 'user233772': 172,\n",
       " 'user233807': 173,\n",
       " 'user233935': 174,\n",
       " 'user236559': 175,\n",
       " 'user237001': 176,\n",
       " 'user237573': 177,\n",
       " 'user239335': 178,\n",
       " 'user239685': 179,\n",
       " 'user240264': 180,\n",
       " 'user240335': 181,\n",
       " 'user241812': 182,\n",
       " 'user241864': 183,\n",
       " 'user242397': 184,\n",
       " 'user243277': 185,\n",
       " 'user2439': 186,\n",
       " 'user245727': 187,\n",
       " 'user246621': 188,\n",
       " 'user247093': 189,\n",
       " 'user248046': 190,\n",
       " 'user249217': 191,\n",
       " 'user249324': 192,\n",
       " 'user24972': 193,\n",
       " 'user250558': 194,\n",
       " 'user250603': 195,\n",
       " 'user252279': 196,\n",
       " 'user252712': 197,\n",
       " 'user253636': 198,\n",
       " 'user254036': 199,\n",
       " 'user256413': 200,\n",
       " 'user256587': 201,\n",
       " 'user257401': 202,\n",
       " 'user257619': 203,\n",
       " 'user258512': 204,\n",
       " 'user259353': 205,\n",
       " 'user259636': 206,\n",
       " 'user261634': 207,\n",
       " 'user262105': 208,\n",
       " 'user262383': 209,\n",
       " 'user262450': 210,\n",
       " 'user265147': 211,\n",
       " 'user265643': 212,\n",
       " 'user26589': 213,\n",
       " 'user267102': 214,\n",
       " 'user267268': 215,\n",
       " 'user268438': 216,\n",
       " 'user270103': 217,\n",
       " 'user27152': 218,\n",
       " 'user271749': 219,\n",
       " 'user271903': 220,\n",
       " 'user272371': 221,\n",
       " 'user272895': 222,\n",
       " 'user275453': 223,\n",
       " 'user276206': 224,\n",
       " 'user276271': 225,\n",
       " 'user277282': 226,\n",
       " 'user278267': 227,\n",
       " 'user280617': 228,\n",
       " 'user282497': 229,\n",
       " 'user283184': 230,\n",
       " 'user284611': 231,\n",
       " 'user285228': 232,\n",
       " 'user286004': 233,\n",
       " 'user286413': 234,\n",
       " 'user287932': 235,\n",
       " 'user288348': 236,\n",
       " 'user290174': 237,\n",
       " 'user292922': 238,\n",
       " 'user293088': 239,\n",
       " 'user293289': 240,\n",
       " 'user29645': 241,\n",
       " 'user298097': 242,\n",
       " 'user298425': 243,\n",
       " 'user3000': 244,\n",
       " 'user300156': 245,\n",
       " 'user300900': 246,\n",
       " 'user301332': 247,\n",
       " 'user301574': 248,\n",
       " 'user301638': 249,\n",
       " 'user30279': 250,\n",
       " 'user303951': 251,\n",
       " 'user304239': 252,\n",
       " 'user306155': 253,\n",
       " 'user307552': 254,\n",
       " 'user308880': 255,\n",
       " 'user310988': 256,\n",
       " 'user311631': 257,\n",
       " 'user318121': 258,\n",
       " 'user318813': 259,\n",
       " 'user318936': 260,\n",
       " 'user319962': 261,\n",
       " 'user320210': 262,\n",
       " 'user320807': 263,\n",
       " 'user321437': 264,\n",
       " 'user322437': 265,\n",
       " 'user322905': 266,\n",
       " 'user323938': 267,\n",
       " 'user324046': 268,\n",
       " 'user326290': 269,\n",
       " 'user326713': 270,\n",
       " 'user328741': 271,\n",
       " 'user331901': 272,\n",
       " 'user336812': 273,\n",
       " 'user337745': 274,\n",
       " 'user338341': 275,\n",
       " 'user338522': 276,\n",
       " 'user339255': 277,\n",
       " 'user339698': 278,\n",
       " 'user343194': 279,\n",
       " 'user343214': 280,\n",
       " 'user345289': 281,\n",
       " 'user345815': 282,\n",
       " 'user346730': 283,\n",
       " 'user349150': 284,\n",
       " 'user350220': 285,\n",
       " 'user35088': 286,\n",
       " 'user35310': 287,\n",
       " 'user353644': 288,\n",
       " 'user354504': 289,\n",
       " 'user354510': 290,\n",
       " 'user356867': 291,\n",
       " 'user358429': 292,\n",
       " 'user358860': 293,\n",
       " 'user359285': 294,\n",
       " 'user359423': 295,\n",
       " 'user359646': 296,\n",
       " 'user359730': 297,\n",
       " 'user360506': 298,\n",
       " 'user362127': 299,\n",
       " 'user362255': 300,\n",
       " 'user362458': 301,\n",
       " 'user364280': 302,\n",
       " 'user364862': 303,\n",
       " 'user370891': 304,\n",
       " 'user370895': 305,\n",
       " 'user371171': 306,\n",
       " 'user372511': 307,\n",
       " 'user372756': 308,\n",
       " 'user373285': 309,\n",
       " 'user374247': 310,\n",
       " 'user374335': 311,\n",
       " 'user375815': 312,\n",
       " 'user37582': 313,\n",
       " 'user37600': 314,\n",
       " 'user376239': 315,\n",
       " 'user376266': 316,\n",
       " 'user376889': 317,\n",
       " 'user377933': 318,\n",
       " 'user378428': 319,\n",
       " 'user378541': 320,\n",
       " 'user380595': 321,\n",
       " 'user381073': 322,\n",
       " 'user381224': 323,\n",
       " 'user382112': 324,\n",
       " 'user382897': 325,\n",
       " 'user385941': 326,\n",
       " 'user389500': 327,\n",
       " 'user389880': 328,\n",
       " 'user389975': 329,\n",
       " 'user391599': 330,\n",
       " 'user39167': 331,\n",
       " 'user391696': 332,\n",
       " 'user392719': 333,\n",
       " 'user393728': 334,\n",
       " 'user393739': 335,\n",
       " 'user394541': 336,\n",
       " 'user395163': 337,\n",
       " 'user396387': 338,\n",
       " 'user397772': 339,\n",
       " 'user398656': 340,\n",
       " 'user399317': 341,\n",
       " 'user402690': 342,\n",
       " 'user404181': 343,\n",
       " 'user407652': 344,\n",
       " 'user408265': 345,\n",
       " 'user409229': 346,\n",
       " 'user409588': 347,\n",
       " 'user410262': 348,\n",
       " 'user410822': 349,\n",
       " 'user411008': 350,\n",
       " 'user412856': 351,\n",
       " 'user414792': 352,\n",
       " 'user415355': 353,\n",
       " 'user418644': 354,\n",
       " 'user41868': 355,\n",
       " 'user419168': 356,\n",
       " 'user419575': 357,\n",
       " 'user420268': 358,\n",
       " 'user421035': 359,\n",
       " 'user421119': 360,\n",
       " 'user422525': 361,\n",
       " 'user422974': 362,\n",
       " 'user423457': 363,\n",
       " 'user424817': 364,\n",
       " 'user427099': 365,\n",
       " 'user429335': 366,\n",
       " 'user429614': 367,\n",
       " 'user430316': 368,\n",
       " 'user430891': 369,\n",
       " 'user430985': 370,\n",
       " 'user431998': 371,\n",
       " 'user432319': 372,\n",
       " 'user433193': 373,\n",
       " 'user436891': 374,\n",
       " 'user438132': 375,\n",
       " 'user438370': 376,\n",
       " 'user438384': 377,\n",
       " 'user438529': 378,\n",
       " 'user439478': 379,\n",
       " 'user43961': 380,\n",
       " 'user441459': 381,\n",
       " 'user443610': 382,\n",
       " 'user443997': 383,\n",
       " 'user444176': 384,\n",
       " 'user447169': 385,\n",
       " 'user448856': 386,\n",
       " 'user449998': 387,\n",
       " 'user45101': 388,\n",
       " 'user451090': 389,\n",
       " 'user452547': 390,\n",
       " 'user453510': 391,\n",
       " 'user454334': 392,\n",
       " 'user455045': 393,\n",
       " 'user456334': 394,\n",
       " 'user456635': 395,\n",
       " 'user458199': 396,\n",
       " 'user459893': 397,\n",
       " 'user460252': 398,\n",
       " 'user461407': 399,\n",
       " 'user461673': 400,\n",
       " 'user462340': 401,\n",
       " 'user463758': 402,\n",
       " 'user464065': 403,\n",
       " 'user464314': 404,\n",
       " 'user468197': 405,\n",
       " 'user470552': 406,\n",
       " 'user474141': 407,\n",
       " 'user475655': 408,\n",
       " 'user476212': 409,\n",
       " 'user478518': 410,\n",
       " 'user478675': 411,\n",
       " 'user478921': 412,\n",
       " 'user479285': 413,\n",
       " 'user481786': 414,\n",
       " 'user482012': 415,\n",
       " 'user482038': 416,\n",
       " 'user482082': 417,\n",
       " 'user482137': 418,\n",
       " 'user482662': 419,\n",
       " 'user484902': 420,\n",
       " 'user485020': 421,\n",
       " 'user48545': 422,\n",
       " 'user486734': 423,\n",
       " 'user486868': 424,\n",
       " 'user487185': 425,\n",
       " 'user488721': 426,\n",
       " 'user489420': 427,\n",
       " 'user489882': 428,\n",
       " 'user49065': 429,\n",
       " 'user494857': 430,\n",
       " 'user495207': 431,\n",
       " 'user495446': 432,\n",
       " 'user496424': 433,\n",
       " 'user499249': 434,\n",
       " 'user500181': 435,\n",
       " 'user50061': 436,\n",
       " 'user502347': 437,\n",
       " 'user50324': 438,\n",
       " 'user503840': 439,\n",
       " 'user505222': 440,\n",
       " 'user505322': 441,\n",
       " 'user505520': 442,\n",
       " 'user506952': 443,\n",
       " 'user5071': 444,\n",
       " 'user509724': 445,\n",
       " 'user511388': 446,\n",
       " 'user511658': 447,\n",
       " 'user5118': 448,\n",
       " 'user514411': 449,\n",
       " 'user514540': 450,\n",
       " 'user51583': 451,\n",
       " 'user516774': 452,\n",
       " 'user517630': 453,\n",
       " 'user518800': 454,\n",
       " 'user518911': 455,\n",
       " 'user519071': 456,\n",
       " 'user520401': 457,\n",
       " 'user521460': 458,\n",
       " 'user521781': 459,\n",
       " 'user524500': 460,\n",
       " 'user526058': 461,\n",
       " 'user527047': 462,\n",
       " 'user529782': 463,\n",
       " 'user530016': 464,\n",
       " 'user531387': 465,\n",
       " 'user532110': 466,\n",
       " 'user532949': 467,\n",
       " 'user533599': 468,\n",
       " 'user534062': 469,\n",
       " 'user53421': 470,\n",
       " 'user534788': 471,\n",
       " 'user535628': 472,\n",
       " 'user536457': 473,\n",
       " 'user538805': 474,\n",
       " 'user540840': 475,\n",
       " 'user54096': 476,\n",
       " 'user545215': 477,\n",
       " 'user545457': 478,\n",
       " 'user546763': 479,\n",
       " 'user548384': 480,\n",
       " 'user548790': 481,\n",
       " 'user549400': 482,\n",
       " 'user550135': 483,\n",
       " 'user550486': 484,\n",
       " 'user550824': 485,\n",
       " 'user55091': 486,\n",
       " 'user551540': 487,\n",
       " 'user552356': 488,\n",
       " 'user55295': 489,\n",
       " 'user558769': 490,\n",
       " 'user559063': 491,\n",
       " 'user560849': 492,\n",
       " 'user560997': 493,\n",
       " 'user56107': 494,\n",
       " 'user561070': 495,\n",
       " 'user561920': 496,\n",
       " 'user562373': 497,\n",
       " 'user562899': 498,\n",
       " 'user563701': 499,\n",
       " 'user565700': 500,\n",
       " 'user572781': 501,\n",
       " 'user573355': 502,\n",
       " 'user574033': 503,\n",
       " 'user575368': 504,\n",
       " 'user575910': 505,\n",
       " 'user578044': 506,\n",
       " 'user579322': 507,\n",
       " 'user580966': 508,\n",
       " 'user581865': 509,\n",
       " 'user585143': 510,\n",
       " 'user586091': 511,\n",
       " 'user587098': 512,\n",
       " 'user587990': 513,\n",
       " 'user588275': 514,\n",
       " 'user588914': 515,\n",
       " 'user590037': 516,\n",
       " 'user59058': 517,\n",
       " 'user591308': 518,\n",
       " 'user592797': 519,\n",
       " 'user594211': 520,\n",
       " 'user594755': 521,\n",
       " 'user594947': 522,\n",
       " 'user595114': 523,\n",
       " 'user59571': 524,\n",
       " 'user596195': 525,\n",
       " 'user597273': 526,\n",
       " 'user598367': 527,\n",
       " 'user598702': 528,\n",
       " 'user598834': 529,\n",
       " 'user599597': 530,\n",
       " 'user600212': 531,\n",
       " 'user600324': 532,\n",
       " 'user601593': 533,\n",
       " 'user601603': 534,\n",
       " 'user601772': 535,\n",
       " 'user602561': 536,\n",
       " 'user602779': 537,\n",
       " 'user603024': 538,\n",
       " 'user6034': 539,\n",
       " 'user603723': 540,\n",
       " 'user603770': 541,\n",
       " 'user603973': 542,\n",
       " 'user604260': 543,\n",
       " 'user604858': 544,\n",
       " 'user605447': 545,\n",
       " 'user605685': 546,\n",
       " 'user606617': 547,\n",
       " 'user607309': 548,\n",
       " 'user608140': 549,\n",
       " 'user608483': 550,\n",
       " 'user608806': 551,\n",
       " 'user610964': 552,\n",
       " 'user613819': 553,\n",
       " 'user616459': 554,\n",
       " 'user616604': 555,\n",
       " 'user616783': 556,\n",
       " 'user618427': 557,\n",
       " 'user619072': 558,\n",
       " 'user61952': 559,\n",
       " 'user620154': 560,\n",
       " 'user620432': 561,\n",
       " 'user622026': 562,\n",
       " 'user622514': 563,\n",
       " 'user623788': 564,\n",
       " 'user62495': 565,\n",
       " 'user627417': 566,\n",
       " 'user628944': 567,\n",
       " 'user630826': 568,\n",
       " 'user63143': 569,\n",
       " 'user631598': 570,\n",
       " 'user634452': 571,\n",
       " 'user634539': 572,\n",
       " 'user635412': 573,\n",
       " 'user636692': 574,\n",
       " 'user637811': 575,\n",
       " 'user638887': 576,\n",
       " 'user639185': 577,\n",
       " 'user642448': 578,\n",
       " 'user644555': 579,\n",
       " 'user644980': 580,\n",
       " 'user650983': 581,\n",
       " 'user651001': 582,\n",
       " 'user652413': 583,\n",
       " 'user65429': 584,\n",
       " 'user654522': 585,\n",
       " 'user655761': 586,\n",
       " 'user656851': 587,\n",
       " 'user657021': 588,\n",
       " 'user657456': 589,\n",
       " 'user658599': 590,\n",
       " 'user659732': 591,\n",
       " 'user66003': 592,\n",
       " 'user661340': 593,\n",
       " 'user662931': 594,\n",
       " 'user66459': 595,\n",
       " 'user665937': 596,\n",
       " 'user666506': 597,\n",
       " 'user667120': 598,\n",
       " 'user669424': 599,\n",
       " 'user669601': 600,\n",
       " 'user671034': 601,\n",
       " 'user671422': 602,\n",
       " 'user67195': 603,\n",
       " 'user672492': 604,\n",
       " 'user673318': 605,\n",
       " 'user67355': 606,\n",
       " 'user673688': 607,\n",
       " 'user674848': 608,\n",
       " 'user679746': 609,\n",
       " 'user680293': 610,\n",
       " 'user680781': 611,\n",
       " 'user681866': 612,\n",
       " 'user682347': 613,\n",
       " 'user685303': 614,\n",
       " 'user68537': 615,\n",
       " 'user685738': 616,\n",
       " 'user686339': 617,\n",
       " 'user68745': 618,\n",
       " 'user687488': 619,\n",
       " 'user688261': 620,\n",
       " 'user689378': 621,\n",
       " 'user690400': 622,\n",
       " 'user690741': 623,\n",
       " 'user690962': 624,\n",
       " 'user691313': 625,\n",
       " 'user691599': 626,\n",
       " 'user692093': 627,\n",
       " 'user693587': 628,\n",
       " 'user693968': 629,\n",
       " 'user694482': 630,\n",
       " 'user696341': 631,\n",
       " 'user697202': 632,\n",
       " 'user700873': 633,\n",
       " 'user70261': 634,\n",
       " 'user702761': 635,\n",
       " 'user702980': 636,\n",
       " 'user703629': 637,\n",
       " 'user705341': 638,\n",
       " 'user708358': 639,\n",
       " 'user708837': 640,\n",
       " 'user708952': 641,\n",
       " 'user709574': 642,\n",
       " 'user710163': 643,\n",
       " 'user71078': 644,\n",
       " 'user712421': 645,\n",
       " 'user713726': 646,\n",
       " 'user713919': 647,\n",
       " 'user713995': 648,\n",
       " 'user714261': 649,\n",
       " 'user714806': 650,\n",
       " 'user71759': 651,\n",
       " 'user718576': 652,\n",
       " 'user71911': 653,\n",
       " 'user719207': 654,\n",
       " 'user719629': 655,\n",
       " 'user720686': 656,\n",
       " 'user722479': 657,\n",
       " 'user723273': 658,\n",
       " 'user723878': 659,\n",
       " 'user724751': 660,\n",
       " 'user725394': 661,\n",
       " 'user726264': 662,\n",
       " 'user726586': 663,\n",
       " 'user726801': 664,\n",
       " 'user727979': 665,\n",
       " 'user728492': 666,\n",
       " 'user72874': 667,\n",
       " 'user728838': 668,\n",
       " 'user730986': 669,\n",
       " 'user731198': 670,\n",
       " 'user731334': 671,\n",
       " 'user731853': 672,\n",
       " 'user73529': 673,\n",
       " 'user736973': 674,\n",
       " 'user739240': 675,\n",
       " 'user740905': 676,\n",
       " 'user741437': 677,\n",
       " 'user741762': 678,\n",
       " 'user742319': 679,\n",
       " 'user743343': 680,\n",
       " 'user743588': 681,\n",
       " 'user744299': 682,\n",
       " 'user745322': 683,\n",
       " 'user745339': 684,\n",
       " 'user74566': 685,\n",
       " 'user745863': 686,\n",
       " 'user746756': 687,\n",
       " 'user747670': 688,\n",
       " 'user748418': 689,\n",
       " 'user748438': 690,\n",
       " 'user749737': 691,\n",
       " 'user75048': 692,\n",
       " 'user751578': 693,\n",
       " 'user751652': 694,\n",
       " 'user751804': 695,\n",
       " 'user751919': 696,\n",
       " 'user752576': 697,\n",
       " 'user754710': 698,\n",
       " 'user755499': 699,\n",
       " 'user758353': 700,\n",
       " 'user75896': 701,\n",
       " 'user759169': 702,\n",
       " 'user759535': 703,\n",
       " 'user760165': 704,\n",
       " 'user760401': 705,\n",
       " 'user760883': 706,\n",
       " 'user76110': 707,\n",
       " 'user761328': 708,\n",
       " 'user762591': 709,\n",
       " 'user763001': 710,\n",
       " 'user765591': 711,\n",
       " 'user766059': 712,\n",
       " 'user766872': 713,\n",
       " 'user767603': 714,\n",
       " 'user767837': 715,\n",
       " 'user767874': 716,\n",
       " 'user769497': 717,\n",
       " 'user769685': 718,\n",
       " 'user770499': 719,\n",
       " 'user772259': 720,\n",
       " 'user77387': 721,\n",
       " 'user774264': 722,\n",
       " 'user775847': 723,\n",
       " 'user776684': 724,\n",
       " 'user777207': 725,\n",
       " 'user779452': 726,\n",
       " 'user77980': 727,\n",
       " 'user782622': 728,\n",
       " 'user786069': 729,\n",
       " 'user786108': 730,\n",
       " 'user787700': 731,\n",
       " 'user787840': 732,\n",
       " 'user788969': 733,\n",
       " 'user790562': 734,\n",
       " 'user790630': 735,\n",
       " 'user793724': 736,\n",
       " 'user794471': 737,\n",
       " 'user794573': 738,\n",
       " 'user795434': 739,\n",
       " 'user795811': 740,\n",
       " 'user79616': 741,\n",
       " 'user796183': 742,\n",
       " 'user797404': 743,\n",
       " 'user79758': 744,\n",
       " 'user798983': 745,\n",
       " 'user799088': 746,\n",
       " 'user801346': 747,\n",
       " 'user80193': 748,\n",
       " 'user802007': 749,\n",
       " 'user803010': 750,\n",
       " 'user805628': 751,\n",
       " 'user805831': 752,\n",
       " 'user805849': 753,\n",
       " 'user806406': 754,\n",
       " 'user807009': 755,\n",
       " 'user80702': 756,\n",
       " 'user809253': 757,\n",
       " 'user810690': 758,\n",
       " 'user811105': 759,\n",
       " 'user811231': 760,\n",
       " 'user816810': 761,\n",
       " 'user818': 762,\n",
       " 'user818561': 763,\n",
       " 'user818949': 764,\n",
       " 'user819209': 765,\n",
       " 'user820110': 766,\n",
       " 'user820708': 767,\n",
       " 'user820756': 768,\n",
       " 'user822993': 769,\n",
       " 'user824317': 770,\n",
       " 'user82617': 771,\n",
       " 'user82754': 772,\n",
       " 'user829355': 773,\n",
       " 'user830692': 774,\n",
       " 'user831227': 775,\n",
       " 'user832420': 776,\n",
       " 'user832613': 777,\n",
       " 'user832945': 778,\n",
       " 'user834529': 779,\n",
       " 'user836261': 780,\n",
       " 'user837122': 781,\n",
       " 'user839306': 782,\n",
       " 'user839464': 783,\n",
       " 'user840865': 784,\n",
       " 'user841515': 785,\n",
       " 'user84288': 786,\n",
       " 'user844511': 787,\n",
       " 'user844707': 788,\n",
       " 'user845730': 789,\n",
       " 'user845952': 790,\n",
       " 'user847294': 791,\n",
       " 'user848337': 792,\n",
       " 'user848974': 793,\n",
       " 'user850917': 794,\n",
       " 'user851229': 795,\n",
       " 'user852144': 796,\n",
       " 'user852189': 797,\n",
       " 'user852236': 798,\n",
       " 'user854236': 799,\n",
       " 'user854491': 800,\n",
       " 'user855845': 801,\n",
       " 'user856121': 802,\n",
       " 'user856489': 803,\n",
       " 'user856552': 804,\n",
       " 'user856795': 805,\n",
       " 'user857759': 806,\n",
       " 'user858230': 807,\n",
       " 'user859405': 808,\n",
       " 'user860877': 809,\n",
       " 'user862737': 810,\n",
       " 'user863610': 811,\n",
       " 'user864524': 812,\n",
       " 'user864808': 813,\n",
       " 'user866309': 814,\n",
       " 'user866536': 815,\n",
       " 'user866663': 816,\n",
       " 'user867776': 817,\n",
       " 'user867842': 818,\n",
       " 'user867976': 819,\n",
       " 'user872441': 820,\n",
       " 'user874086': 821,\n",
       " 'user876164': 822,\n",
       " 'user877362': 823,\n",
       " 'user877640': 824,\n",
       " 'user878867': 825,\n",
       " 'user880879': 826,\n",
       " 'user881055': 827,\n",
       " 'user882169': 828,\n",
       " 'user883094': 829,\n",
       " 'user88326': 830,\n",
       " 'user884046': 831,\n",
       " 'user885284': 832,\n",
       " 'user887286': 833,\n",
       " 'user887928': 834,\n",
       " 'user894811': 835,\n",
       " 'user896313': 836,\n",
       " 'user896317': 837,\n",
       " 'user89641': 838,\n",
       " 'user896497': 839,\n",
       " 'user896866': 840,\n",
       " 'user897183': 841,\n",
       " 'user897453': 842,\n",
       " 'user898158': 843,\n",
       " 'user898623': 844,\n",
       " 'user902625': 845,\n",
       " 'user903112': 846,\n",
       " 'user904332': 847,\n",
       " 'user906044': 848,\n",
       " 'user913316': 849,\n",
       " 'user913635': 850,\n",
       " 'user914517': 851,\n",
       " 'user915440': 852,\n",
       " 'user916639': 853,\n",
       " 'user916915': 854,\n",
       " 'user916934': 855,\n",
       " 'user917204': 856,\n",
       " 'user917963': 857,\n",
       " 'user919255': 858,\n",
       " 'user920794': 859,\n",
       " 'user921429': 860,\n",
       " 'user921541': 861,\n",
       " 'user922405': 862,\n",
       " 'user924468': 863,\n",
       " 'user925268': 864,\n",
       " 'user926000': 865,\n",
       " 'user927940': 866,\n",
       " 'user929838': 867,\n",
       " 'user931609': 868,\n",
       " 'user93215': 869,\n",
       " 'user933263': 870,\n",
       " 'user935031': 871,\n",
       " 'user936086': 872,\n",
       " 'user936234': 873,\n",
       " 'user937240': 874,\n",
       " 'user939988': 875,\n",
       " 'user940607': 876,\n",
       " 'user947380': 877,\n",
       " 'user948380': 878,\n",
       " 'user95088': 879,\n",
       " 'user951561': 880,\n",
       " 'user95168': 881,\n",
       " 'user951730': 882,\n",
       " 'user953313': 883,\n",
       " 'user954116': 884,\n",
       " 'user954650': 885,\n",
       " 'user955553': 886,\n",
       " 'user955686': 887,\n",
       " 'user955973': 888,\n",
       " 'user956064': 889,\n",
       " 'user957053': 890,\n",
       " 'user958637': 891,\n",
       " 'user958639': 892,\n",
       " 'user95982': 893,\n",
       " 'user961236': 894,\n",
       " 'user961769': 895,\n",
       " 'user965216': 896,\n",
       " 'user966599': 897,\n",
       " 'user966638': 898,\n",
       " 'user966677': 899,\n",
       " 'user968059': 900,\n",
       " 'user96806': 901,\n",
       " 'user969': 902,\n",
       " 'user972908': 903,\n",
       " 'user974231': 904,\n",
       " 'user974498': 905,\n",
       " 'user974748': 906,\n",
       " 'user975430': 907,\n",
       " 'user975493': 908,\n",
       " 'user976284': 909,\n",
       " 'user977064': 910,\n",
       " 'user978876': 911,\n",
       " 'user979354': 912,\n",
       " 'user979450': 913,\n",
       " 'user982660': 914,\n",
       " 'user982993': 915,\n",
       " 'user983871': 916,\n",
       " 'user984189': 917,\n",
       " 'user984859': 918,\n",
       " 'user98489': 919,\n",
       " 'user984890': 920,\n",
       " 'user985579': 921,\n",
       " 'user985875': 922,\n",
       " 'user986030': 923,\n",
       " 'user986927': 924,\n",
       " 'user987826': 925,\n",
       " 'user988195': 926,\n",
       " 'user988412': 927,\n",
       " 'user988540': 928,\n",
       " 'user991426': 929,\n",
       " 'user991490': 930,\n",
       " 'user991650': 931,\n",
       " 'user992286': 932,\n",
       " 'user99647': 933,\n",
       " 'user997054': 934,\n",
       " 'user997142': 935,\n",
       " 'user998758': 936,\n",
       " 'user999021': 937,\n",
       " 'C1343037': 938,\n",
       " 'C1392873': 939,\n",
       " 'C1450089': 940,\n",
       " 'C1722883': 941,\n",
       " 'C1758049': 942,\n",
       " 'C1765578': 943,\n",
       " 'C1798053': 944,\n",
       " 'C14101108': 945,\n",
       " 'C14101446': 946,\n",
       " 'C1410221': 947,\n",
       " 'C14102327': 948,\n",
       " 'C14102786': 949,\n",
       " 'C14102974': 950,\n",
       " 'C1410301': 951,\n",
       " 'C14104922': 952,\n",
       " 'C14104998': 953,\n",
       " 'C14105124': 954,\n",
       " 'C14105150': 955,\n",
       " 'C14105324': 956,\n",
       " 'C14105959': 957,\n",
       " 'C14106122': 958,\n",
       " 'C14106644': 959,\n",
       " 'C14107725': 960,\n",
       " 'C14107996': 961,\n",
       " 'C14109023': 962,\n",
       " 'C14109563': 963,\n",
       " 'C14110460': 964,\n",
       " 'C141108': 965,\n",
       " 'C14111089': 966,\n",
       " 'C14111929': 967,\n",
       " 'C14112395': 968,\n",
       " 'C14113626': 969,\n",
       " 'C14115222': 970,\n",
       " 'C14117152': 971,\n",
       " 'C14117791': 972,\n",
       " 'C1411783': 973,\n",
       " 'C14117852': 974,\n",
       " 'C14119926': 975,\n",
       " 'C14120110': 976,\n",
       " 'C14120122': 977,\n",
       " 'C14120917': 978,\n",
       " 'C14121160': 979,\n",
       " 'C14121696': 980,\n",
       " 'C14122563': 981,\n",
       " 'C141227': 982,\n",
       " 'C14124017': 983,\n",
       " 'C14124790': 984,\n",
       " 'C1412504': 985,\n",
       " 'C14125891': 986,\n",
       " 'C14126875': 987,\n",
       " 'C14126980': 988,\n",
       " 'C14128463': 989,\n",
       " 'C1412847': 990,\n",
       " 'C14129682': 991,\n",
       " 'C14129913': 992,\n",
       " 'C14131987': 993,\n",
       " 'C14132631': 994,\n",
       " 'C14134584': 995,\n",
       " 'C14135290': 996,\n",
       " 'C14135305': 997,\n",
       " 'C14135697': 998,\n",
       " 'C14135985': 999,\n",
       " ...}"
      ]
     },
     "execution_count": 169,
     "metadata": {},
     "output_type": "execute_result"
    }
   ],
   "source": [
    "dicFeat"
   ]
  },
  {
   "cell_type": "markdown",
   "metadata": {},
   "source": [
    "On les dataframe comme suit : \n",
    "dans chaque colonne \"col\", la valeur \"x\" est remplacée par la chaîne de caractère \"f:v:1\", où f est le champ associé à la colonne et v est l'indice de la modalité x.\n",
    "<font color=\"red\">\n",
    "Inspecter le code ci-dessous.</font>"
   ]
  },
  {
   "cell_type": "code",
   "execution_count": 170,
   "metadata": {},
   "outputs": [],
   "source": [
    "for col in allcols_ffm:\n",
    "    f = dicFields[col]\n",
    "    Xtrain_ffm[col] = Xtrain_ffm[col].apply(lambda x:\"{}:{}:1\".format(f,dicFeat[x]) if x in dicFeat else \"\")\n",
    "    Xtest_ffm[col] = Xtest_ffm[col].apply(lambda x:\"{}:{}:1\".format(f,dicFeat[x]) if x in dicFeat else \"\")"
   ]
  },
  {
   "cell_type": "code",
   "execution_count": 171,
   "metadata": {},
   "outputs": [
    {
     "data": {
      "text/html": [
       "<div>\n",
       "<style scoped>\n",
       "    .dataframe tbody tr th:only-of-type {\n",
       "        vertical-align: middle;\n",
       "    }\n",
       "\n",
       "    .dataframe tbody tr th {\n",
       "        vertical-align: top;\n",
       "    }\n",
       "\n",
       "    .dataframe thead th {\n",
       "        text-align: right;\n",
       "    }\n",
       "</style>\n",
       "<table border=\"1\" class=\"dataframe\">\n",
       "  <thead>\n",
       "    <tr style=\"text-align: right;\">\n",
       "      <th></th>\n",
       "      <th>hour</th>\n",
       "      <th>C1</th>\n",
       "      <th>banner_pos</th>\n",
       "      <th>site_category</th>\n",
       "      <th>app_id</th>\n",
       "      <th>app_domain</th>\n",
       "      <th>app_category</th>\n",
       "      <th>device_type</th>\n",
       "      <th>device_conn_type</th>\n",
       "      <th>C14</th>\n",
       "      <th>C15</th>\n",
       "      <th>C16</th>\n",
       "      <th>C17</th>\n",
       "      <th>C18</th>\n",
       "      <th>C19</th>\n",
       "      <th>C20</th>\n",
       "      <th>C21</th>\n",
       "      <th>weekday</th>\n",
       "      <th>user</th>\n",
       "      <th>site</th>\n",
       "    </tr>\n",
       "  </thead>\n",
       "  <tbody>\n",
       "    <tr>\n",
       "      <th>92438</th>\n",
       "      <td>0:13:1</td>\n",
       "      <td>1:941:1</td>\n",
       "      <td>1:32:1</td>\n",
       "      <td>3:2967:1</td>\n",
       "      <td>4:4262:1</td>\n",
       "      <td>4:4477:1</td>\n",
       "      <td>4:4535:1</td>\n",
       "      <td>5:4548:1</td>\n",
       "      <td>5:4552:1</td>\n",
       "      <td>2:1541:1</td>\n",
       "      <td>2:2285:1</td>\n",
       "      <td>2:2292:1</td>\n",
       "      <td>2:2328:1</td>\n",
       "      <td>2:2682:1</td>\n",
       "      <td>2:2739:1</td>\n",
       "      <td>2:2754:1</td>\n",
       "      <td>2:2903:1</td>\n",
       "      <td>0:6:1</td>\n",
       "      <td>1:582:1</td>\n",
       "      <td>3:3851:1</td>\n",
       "    </tr>\n",
       "    <tr>\n",
       "      <th>60898</th>\n",
       "      <td>0:7:1</td>\n",
       "      <td>1:942:1</td>\n",
       "      <td>1:36:1</td>\n",
       "      <td>3:2967:1</td>\n",
       "      <td>4:3913:1</td>\n",
       "      <td>4:4482:1</td>\n",
       "      <td>4:4536:1</td>\n",
       "      <td>5:4546:1</td>\n",
       "      <td>5:4551:1</td>\n",
       "      <td>2:1541:1</td>\n",
       "      <td>2:2285:1</td>\n",
       "      <td>2:2292:1</td>\n",
       "      <td>2:2328:1</td>\n",
       "      <td>2:2682:1</td>\n",
       "      <td>2:2739:1</td>\n",
       "      <td>2:2754:1</td>\n",
       "      <td>2:2903:1</td>\n",
       "      <td>0:2:1</td>\n",
       "      <td>1:582:1</td>\n",
       "      <td>3:3851:1</td>\n",
       "    </tr>\n",
       "    <tr>\n",
       "      <th>556199</th>\n",
       "      <td>0:22:1</td>\n",
       "      <td>1:942:1</td>\n",
       "      <td>1:36:1</td>\n",
       "      <td>3:2968:1</td>\n",
       "      <td>4:4233:1</td>\n",
       "      <td>4:4477:1</td>\n",
       "      <td>4:4532:1</td>\n",
       "      <td>5:4546:1</td>\n",
       "      <td>5:4551:1</td>\n",
       "      <td>2:2187:1</td>\n",
       "      <td>2:2285:1</td>\n",
       "      <td>2:2292:1</td>\n",
       "      <td>2:2425:1</td>\n",
       "      <td>2:2682:1</td>\n",
       "      <td>2:2717:1</td>\n",
       "      <td>2:2754:1</td>\n",
       "      <td>2:2910:1</td>\n",
       "      <td>0:6:1</td>\n",
       "      <td>1:582:1</td>\n",
       "      <td>3:3308:1</td>\n",
       "    </tr>\n",
       "    <tr>\n",
       "      <th>193129</th>\n",
       "      <td>0:9:1</td>\n",
       "      <td>1:942:1</td>\n",
       "      <td>1:32:1</td>\n",
       "      <td>3:2968:1</td>\n",
       "      <td>4:4233:1</td>\n",
       "      <td>4:4477:1</td>\n",
       "      <td>4:4532:1</td>\n",
       "      <td>5:4546:1</td>\n",
       "      <td>5:4553:1</td>\n",
       "      <td>2:1711:1</td>\n",
       "      <td>2:2285:1</td>\n",
       "      <td>2:2292:1</td>\n",
       "      <td>2:2387:1</td>\n",
       "      <td>2:2682:1</td>\n",
       "      <td>2:2690:1</td>\n",
       "      <td>2:2822:1</td>\n",
       "      <td>2:2939:1</td>\n",
       "      <td>0:2:1</td>\n",
       "      <td>1:582:1</td>\n",
       "      <td>3:3060:1</td>\n",
       "    </tr>\n",
       "    <tr>\n",
       "      <th>231985</th>\n",
       "      <td>0:8:1</td>\n",
       "      <td>1:942:1</td>\n",
       "      <td>1:36:1</td>\n",
       "      <td>3:2958:1</td>\n",
       "      <td>4:4233:1</td>\n",
       "      <td>4:4477:1</td>\n",
       "      <td>4:4532:1</td>\n",
       "      <td>5:4546:1</td>\n",
       "      <td>5:4553:1</td>\n",
       "      <td>2:1323:1</td>\n",
       "      <td>2:2285:1</td>\n",
       "      <td>2:2292:1</td>\n",
       "      <td>2:2328:1</td>\n",
       "      <td>2:2682:1</td>\n",
       "      <td>2:2739:1</td>\n",
       "      <td>2:2860:1</td>\n",
       "      <td>2:2903:1</td>\n",
       "      <td>0:0:1</td>\n",
       "      <td>1:582:1</td>\n",
       "      <td>3:2979:1</td>\n",
       "    </tr>\n",
       "  </tbody>\n",
       "</table>\n",
       "</div>"
      ],
      "text/plain": [
       "          hour       C1 banner_pos site_category    app_id app_domain  \\\n",
       "92438   0:13:1  1:941:1     1:32:1      3:2967:1  4:4262:1   4:4477:1   \n",
       "60898    0:7:1  1:942:1     1:36:1      3:2967:1  4:3913:1   4:4482:1   \n",
       "556199  0:22:1  1:942:1     1:36:1      3:2968:1  4:4233:1   4:4477:1   \n",
       "193129   0:9:1  1:942:1     1:32:1      3:2968:1  4:4233:1   4:4477:1   \n",
       "231985   0:8:1  1:942:1     1:36:1      3:2958:1  4:4233:1   4:4477:1   \n",
       "\n",
       "       app_category device_type device_conn_type       C14       C15  \\\n",
       "92438      4:4535:1    5:4548:1         5:4552:1  2:1541:1  2:2285:1   \n",
       "60898      4:4536:1    5:4546:1         5:4551:1  2:1541:1  2:2285:1   \n",
       "556199     4:4532:1    5:4546:1         5:4551:1  2:2187:1  2:2285:1   \n",
       "193129     4:4532:1    5:4546:1         5:4553:1  2:1711:1  2:2285:1   \n",
       "231985     4:4532:1    5:4546:1         5:4553:1  2:1323:1  2:2285:1   \n",
       "\n",
       "             C16       C17       C18       C19       C20       C21 weekday  \\\n",
       "92438   2:2292:1  2:2328:1  2:2682:1  2:2739:1  2:2754:1  2:2903:1   0:6:1   \n",
       "60898   2:2292:1  2:2328:1  2:2682:1  2:2739:1  2:2754:1  2:2903:1   0:2:1   \n",
       "556199  2:2292:1  2:2425:1  2:2682:1  2:2717:1  2:2754:1  2:2910:1   0:6:1   \n",
       "193129  2:2292:1  2:2387:1  2:2682:1  2:2690:1  2:2822:1  2:2939:1   0:2:1   \n",
       "231985  2:2292:1  2:2328:1  2:2682:1  2:2739:1  2:2860:1  2:2903:1   0:0:1   \n",
       "\n",
       "           user      site  \n",
       "92438   1:582:1  3:3851:1  \n",
       "60898   1:582:1  3:3851:1  \n",
       "556199  1:582:1  3:3308:1  \n",
       "193129  1:582:1  3:3060:1  \n",
       "231985  1:582:1  3:2979:1  "
      ]
     },
     "execution_count": 171,
     "metadata": {},
     "output_type": "execute_result"
    }
   ],
   "source": [
    "Xtrain_ffm.head()"
   ]
  },
  {
   "cell_type": "markdown",
   "metadata": {},
   "source": [
    "<font color=\"red\">Pour les deux dataframe obtenues, concaténer à gauche la colonne de clics ytrain ou ytest correspondante</font>"
   ]
  },
  {
   "cell_type": "code",
   "execution_count": 172,
   "metadata": {},
   "outputs": [],
   "source": [
    "yXtrain_ffm = pd.concat([ytrain.astype(str), Xtrain_ffm],axis=1)\n",
    "yXtest_ffm = pd.concat([ytest.astype(str), Xtest_ffm],axis=1)"
   ]
  },
  {
   "cell_type": "code",
   "execution_count": 173,
   "metadata": {
    "scrolled": true
   },
   "outputs": [
    {
     "data": {
      "text/html": [
       "<div>\n",
       "<style scoped>\n",
       "    .dataframe tbody tr th:only-of-type {\n",
       "        vertical-align: middle;\n",
       "    }\n",
       "\n",
       "    .dataframe tbody tr th {\n",
       "        vertical-align: top;\n",
       "    }\n",
       "\n",
       "    .dataframe thead th {\n",
       "        text-align: right;\n",
       "    }\n",
       "</style>\n",
       "<table border=\"1\" class=\"dataframe\">\n",
       "  <thead>\n",
       "    <tr style=\"text-align: right;\">\n",
       "      <th></th>\n",
       "      <th>click</th>\n",
       "      <th>hour</th>\n",
       "      <th>C1</th>\n",
       "      <th>banner_pos</th>\n",
       "      <th>site_category</th>\n",
       "      <th>app_id</th>\n",
       "      <th>app_domain</th>\n",
       "      <th>app_category</th>\n",
       "      <th>device_type</th>\n",
       "      <th>device_conn_type</th>\n",
       "      <th>...</th>\n",
       "      <th>C15</th>\n",
       "      <th>C16</th>\n",
       "      <th>C17</th>\n",
       "      <th>C18</th>\n",
       "      <th>C19</th>\n",
       "      <th>C20</th>\n",
       "      <th>C21</th>\n",
       "      <th>weekday</th>\n",
       "      <th>user</th>\n",
       "      <th>site</th>\n",
       "    </tr>\n",
       "  </thead>\n",
       "  <tbody>\n",
       "    <tr>\n",
       "      <th>92438</th>\n",
       "      <td>1</td>\n",
       "      <td>0:13:1</td>\n",
       "      <td>1:941:1</td>\n",
       "      <td>1:32:1</td>\n",
       "      <td>3:2967:1</td>\n",
       "      <td>4:4262:1</td>\n",
       "      <td>4:4477:1</td>\n",
       "      <td>4:4535:1</td>\n",
       "      <td>5:4548:1</td>\n",
       "      <td>5:4552:1</td>\n",
       "      <td>...</td>\n",
       "      <td>2:2285:1</td>\n",
       "      <td>2:2292:1</td>\n",
       "      <td>2:2328:1</td>\n",
       "      <td>2:2682:1</td>\n",
       "      <td>2:2739:1</td>\n",
       "      <td>2:2754:1</td>\n",
       "      <td>2:2903:1</td>\n",
       "      <td>0:6:1</td>\n",
       "      <td>1:582:1</td>\n",
       "      <td>3:3851:1</td>\n",
       "    </tr>\n",
       "    <tr>\n",
       "      <th>60898</th>\n",
       "      <td>0</td>\n",
       "      <td>0:7:1</td>\n",
       "      <td>1:942:1</td>\n",
       "      <td>1:36:1</td>\n",
       "      <td>3:2967:1</td>\n",
       "      <td>4:3913:1</td>\n",
       "      <td>4:4482:1</td>\n",
       "      <td>4:4536:1</td>\n",
       "      <td>5:4546:1</td>\n",
       "      <td>5:4551:1</td>\n",
       "      <td>...</td>\n",
       "      <td>2:2285:1</td>\n",
       "      <td>2:2292:1</td>\n",
       "      <td>2:2328:1</td>\n",
       "      <td>2:2682:1</td>\n",
       "      <td>2:2739:1</td>\n",
       "      <td>2:2754:1</td>\n",
       "      <td>2:2903:1</td>\n",
       "      <td>0:2:1</td>\n",
       "      <td>1:582:1</td>\n",
       "      <td>3:3851:1</td>\n",
       "    </tr>\n",
       "    <tr>\n",
       "      <th>556199</th>\n",
       "      <td>0</td>\n",
       "      <td>0:22:1</td>\n",
       "      <td>1:942:1</td>\n",
       "      <td>1:36:1</td>\n",
       "      <td>3:2968:1</td>\n",
       "      <td>4:4233:1</td>\n",
       "      <td>4:4477:1</td>\n",
       "      <td>4:4532:1</td>\n",
       "      <td>5:4546:1</td>\n",
       "      <td>5:4551:1</td>\n",
       "      <td>...</td>\n",
       "      <td>2:2285:1</td>\n",
       "      <td>2:2292:1</td>\n",
       "      <td>2:2425:1</td>\n",
       "      <td>2:2682:1</td>\n",
       "      <td>2:2717:1</td>\n",
       "      <td>2:2754:1</td>\n",
       "      <td>2:2910:1</td>\n",
       "      <td>0:6:1</td>\n",
       "      <td>1:582:1</td>\n",
       "      <td>3:3308:1</td>\n",
       "    </tr>\n",
       "    <tr>\n",
       "      <th>193129</th>\n",
       "      <td>0</td>\n",
       "      <td>0:9:1</td>\n",
       "      <td>1:942:1</td>\n",
       "      <td>1:32:1</td>\n",
       "      <td>3:2968:1</td>\n",
       "      <td>4:4233:1</td>\n",
       "      <td>4:4477:1</td>\n",
       "      <td>4:4532:1</td>\n",
       "      <td>5:4546:1</td>\n",
       "      <td>5:4553:1</td>\n",
       "      <td>...</td>\n",
       "      <td>2:2285:1</td>\n",
       "      <td>2:2292:1</td>\n",
       "      <td>2:2387:1</td>\n",
       "      <td>2:2682:1</td>\n",
       "      <td>2:2690:1</td>\n",
       "      <td>2:2822:1</td>\n",
       "      <td>2:2939:1</td>\n",
       "      <td>0:2:1</td>\n",
       "      <td>1:582:1</td>\n",
       "      <td>3:3060:1</td>\n",
       "    </tr>\n",
       "    <tr>\n",
       "      <th>231985</th>\n",
       "      <td>0</td>\n",
       "      <td>0:8:1</td>\n",
       "      <td>1:942:1</td>\n",
       "      <td>1:36:1</td>\n",
       "      <td>3:2958:1</td>\n",
       "      <td>4:4233:1</td>\n",
       "      <td>4:4477:1</td>\n",
       "      <td>4:4532:1</td>\n",
       "      <td>5:4546:1</td>\n",
       "      <td>5:4553:1</td>\n",
       "      <td>...</td>\n",
       "      <td>2:2285:1</td>\n",
       "      <td>2:2292:1</td>\n",
       "      <td>2:2328:1</td>\n",
       "      <td>2:2682:1</td>\n",
       "      <td>2:2739:1</td>\n",
       "      <td>2:2860:1</td>\n",
       "      <td>2:2903:1</td>\n",
       "      <td>0:0:1</td>\n",
       "      <td>1:582:1</td>\n",
       "      <td>3:2979:1</td>\n",
       "    </tr>\n",
       "  </tbody>\n",
       "</table>\n",
       "<p>5 rows × 21 columns</p>\n",
       "</div>"
      ],
      "text/plain": [
       "       click    hour       C1 banner_pos site_category    app_id app_domain  \\\n",
       "92438      1  0:13:1  1:941:1     1:32:1      3:2967:1  4:4262:1   4:4477:1   \n",
       "60898      0   0:7:1  1:942:1     1:36:1      3:2967:1  4:3913:1   4:4482:1   \n",
       "556199     0  0:22:1  1:942:1     1:36:1      3:2968:1  4:4233:1   4:4477:1   \n",
       "193129     0   0:9:1  1:942:1     1:32:1      3:2968:1  4:4233:1   4:4477:1   \n",
       "231985     0   0:8:1  1:942:1     1:36:1      3:2958:1  4:4233:1   4:4477:1   \n",
       "\n",
       "       app_category device_type device_conn_type    ...          C15  \\\n",
       "92438      4:4535:1    5:4548:1         5:4552:1    ...     2:2285:1   \n",
       "60898      4:4536:1    5:4546:1         5:4551:1    ...     2:2285:1   \n",
       "556199     4:4532:1    5:4546:1         5:4551:1    ...     2:2285:1   \n",
       "193129     4:4532:1    5:4546:1         5:4553:1    ...     2:2285:1   \n",
       "231985     4:4532:1    5:4546:1         5:4553:1    ...     2:2285:1   \n",
       "\n",
       "             C16       C17       C18       C19       C20       C21 weekday  \\\n",
       "92438   2:2292:1  2:2328:1  2:2682:1  2:2739:1  2:2754:1  2:2903:1   0:6:1   \n",
       "60898   2:2292:1  2:2328:1  2:2682:1  2:2739:1  2:2754:1  2:2903:1   0:2:1   \n",
       "556199  2:2292:1  2:2425:1  2:2682:1  2:2717:1  2:2754:1  2:2910:1   0:6:1   \n",
       "193129  2:2292:1  2:2387:1  2:2682:1  2:2690:1  2:2822:1  2:2939:1   0:2:1   \n",
       "231985  2:2292:1  2:2328:1  2:2682:1  2:2739:1  2:2860:1  2:2903:1   0:0:1   \n",
       "\n",
       "           user      site  \n",
       "92438   1:582:1  3:3851:1  \n",
       "60898   1:582:1  3:3851:1  \n",
       "556199  1:582:1  3:3308:1  \n",
       "193129  1:582:1  3:3060:1  \n",
       "231985  1:582:1  3:2979:1  \n",
       "\n",
       "[5 rows x 21 columns]"
      ]
     },
     "execution_count": 173,
     "metadata": {},
     "output_type": "execute_result"
    }
   ],
   "source": [
    "yXtrain_ffm.head()"
   ]
  },
  {
   "cell_type": "markdown",
   "metadata": {},
   "source": [
    "<font color=\"red\">Que produit la commande ci-dessous ?</font>"
   ]
  },
  {
   "cell_type": "code",
   "execution_count": 174,
   "metadata": {},
   "outputs": [],
   "source": [
    "train_w = yXtrain_ffm.apply(lambda row:' '.join(row.values),axis=1).values\n",
    "test_w = yXtest_ffm.apply(lambda row:' '.join(row.values),axis=1).values"
   ]
  },
  {
   "cell_type": "code",
   "execution_count": 175,
   "metadata": {},
   "outputs": [
    {
     "data": {
      "text/plain": [
       "array(['1 0:13:1 1:941:1 1:32:1 3:2967:1 4:4262:1 4:4477:1 4:4535:1 5:4548:1 5:4552:1 2:1541:1 2:2285:1 2:2292:1 2:2328:1 2:2682:1 2:2739:1 2:2754:1 2:2903:1 0:6:1 1:582:1 3:3851:1',\n",
       "       '0 0:7:1 1:942:1 1:36:1 3:2967:1 4:3913:1 4:4482:1 4:4536:1 5:4546:1 5:4551:1 2:1541:1 2:2285:1 2:2292:1 2:2328:1 2:2682:1 2:2739:1 2:2754:1 2:2903:1 0:2:1 1:582:1 3:3851:1',\n",
       "       '0 0:22:1 1:942:1 1:36:1 3:2968:1 4:4233:1 4:4477:1 4:4532:1 5:4546:1 5:4551:1 2:2187:1 2:2285:1 2:2292:1 2:2425:1 2:2682:1 2:2717:1 2:2754:1 2:2910:1 0:6:1 1:582:1 3:3308:1',\n",
       "       ...,\n",
       "       '0 0:29:1 1:942:1 1:36:1 3:2968:1 4:4233:1 4:4477:1 4:4532:1 5:4546:1 5:4553:1 2:1994:1 2:2285:1 2:2292:1 2:2352:1 2:2682:1 2:2743:1 2:2754:1 2:2952:1 0:3:1 1:582:1 3:3667:1',\n",
       "       '1 0:27:1 1:942:1 1:32:1 3:2954:1 4:4233:1 4:4477:1 4:4532:1 5:4546:1 5:4553:1 2:1111:1 2:2285:1 2:2292:1 2:2324:1 2:2682:1 2:2739:1 2:2822:1 2:2940:1 0:3:1 1:582:1 3:3606:1',\n",
       "       '0 0:10:1 1:942:1 1:36:1 3:2958:1 4:4233:1 4:4477:1 4:4532:1 5:4546:1 5:4553:1 2:1541:1 2:2285:1 2:2292:1 2:2328:1 2:2682:1 2:2739:1 2:2860:1 2:2903:1 0:2:1 1:582:1 3:2979:1'],\n",
       "      dtype=object)"
      ]
     },
     "execution_count": 175,
     "metadata": {},
     "output_type": "execute_result"
    }
   ],
   "source": [
    "train_w"
   ]
  },
  {
   "cell_type": "markdown",
   "metadata": {},
   "source": [
    "Cela concatène toutes les valeurs d'une même ligne."
   ]
  },
  {
   "cell_type": "markdown",
   "metadata": {},
   "source": [
    "<font color=\"red\">Ecrire les dataframe ci-dessus dans un fichier texte</font>"
   ]
  },
  {
   "cell_type": "code",
   "execution_count": 197,
   "metadata": {},
   "outputs": [],
   "source": [
    "thefile = open('train.txt','w')\n",
    "for item in train_w:\n",
    "    thefile.write(\"%s\\n\" % item)"
   ]
  },
  {
   "cell_type": "code",
   "execution_count": 198,
   "metadata": {},
   "outputs": [],
   "source": [
    "# Faire de même pour le test set\n",
    "thefile2 = open('test.txt','w')\n",
    "for item in test_w:\n",
    "    thefile2.write(\"%s\\n\" % item)"
   ]
  },
  {
   "cell_type": "markdown",
   "metadata": {},
   "source": [
    "Pour apprendre le modèle de FFM, on utilise la librairie LibFFM https://www.csie.ntu.edu.tw/~cjlin/libffm/  \n",
    "Dans le répertoire notebooks/ se trouvent deux exécutables : ffm-train et ffm-predict.  \n",
    "Dans jupyter notebook, le point d'exclamation ! permet de lancer une commande bash.  \n",
    "L'usage est le suivant : \n",
    "\n",
    "-   `ffm-train'\n",
    "\n",
    "    usage: ffm-train [options] training_set_file [model_file]\n",
    "\n",
    "    options:  \n",
    "    -l <lambda>: set regularization parameter (default 0.00002)  \n",
    "    -k <factor>: set number of latent factors (default 4)  \n",
    "    -t <iteration>: set number of iterations (default 15)  \n",
    "    -r <eta>: set learning rate (default 0.2)  \n",
    "    -s <nr_threads>: set number of threads (default 1)  \n",
    "    -p <path>: set path to the validation set  \n",
    "    --quiet: quiet model (no output)  \n",
    "    --no-norm: disable instance-wise normalization  \n",
    "    --auto-stop: stop at the iteration that achieves the best validation loss (must be used with -p)  \n",
    "<br>\n",
    "<font color=\"red\">Apprendre le modèle. On pourra :  \n",
    "- utiliser un paramètre de régularisation de 0.00001  \n",
    "- utiliser un learning rate de 0.05  \n",
    "- utiliser de l'ordre de 15 facteurs latents\n",
    "- effectuer de l'ordre de 30 itérations  \n",
    "- avec l'option -p, passer en paramètres de validation le ficher de test  \n",
    "- activer le mode --autostop \n",
    "</font> "
   ]
  },
  {
   "cell_type": "code",
   "execution_count": 199,
   "metadata": {},
   "outputs": [
    {
     "name": "stdout",
     "output_type": "stream",
     "text": [
      "usage: ffm-train [options] training_set_file [model_file]\r\n",
      "\r\n",
      "options:\r\n",
      "-l <lambda>: set regularization parameter (default 0.00002)\r\n",
      "-k <factor>: set number of latent factors (default 4)\r\n",
      "-t <iteration>: set number of iterations (default 15)\r\n",
      "-r <eta>: set learning rate (default 0.2)\r\n",
      "-s <nr_threads>: set number of threads (default 1)\r\n",
      "-p <path>: set path to the validation set\r\n",
      "--quiet: quiet mode (no output)\r\n",
      "--no-norm: disable instance-wise normalization\r\n",
      "--auto-stop: stop at the iteration that achieves the best validation loss (must be used with -p)\r\n",
      "\r\n"
     ]
    }
   ],
   "source": [
    "!/home/ubuntu/notebooks/ffm-train"
   ]
  },
  {
   "cell_type": "code",
   "execution_count": 200,
   "metadata": {},
   "outputs": [
    {
     "name": "stdout",
     "output_type": "stream",
     "text": [
      "First check if the text file has already been converted to binary format (0.0 seconds)\n",
      "Binary file NOT found. Convert text file to binary file (3.1 seconds)\n",
      "First check if the text file has already been converted to binary format (0.0 seconds)\n",
      "Binary file NOT found. Convert text file to binary file (0.4 seconds)\n",
      "iter   tr_logloss   va_logloss      tr_time\n",
      "   1      0.41048      0.40383          2.6\n",
      "   2      0.40282      0.40090          5.1\n",
      "   3      0.40079      0.39955          7.6\n",
      "   4      0.39954      0.39858         10.1\n",
      "   5      0.39860      0.39812         12.7\n",
      "   6      0.39791      0.39789         15.2\n",
      "   7      0.39734      0.39731         17.7\n",
      "   8      0.39683      0.39710         20.2\n",
      "   9      0.39636      0.39693         22.7\n",
      "  10      0.39599      0.39668         25.2\n",
      "  11      0.39560      0.39667         27.7\n",
      "  12      0.39529      0.39633         30.2\n",
      "  13      0.39499      0.39624         32.8\n",
      "  14      0.39468      0.39614         35.3\n",
      "  15      0.39441      0.39611         37.8\n",
      "  16      0.39415      0.39605         40.4\n",
      "  17      0.39391      0.39594         42.9\n",
      "  18      0.39368      0.39598         45.4\n",
      "  19      0.39347      0.39598         47.9\n",
      "  20      0.39320      0.39600         50.4\n",
      "  21      0.39301      0.39584         52.9\n",
      "  22      0.39279      0.39583         55.4\n",
      "  23      0.39260      0.39580         57.9\n",
      "  24      0.39243      0.39580         60.5\n",
      "  25      0.39221      0.39579         63.0\n",
      "  26      0.39203      0.39579         65.5\n",
      "  27      0.39186      0.39571         68.0\n",
      "  28      0.39168      0.39582         70.5\n",
      "  29      0.39150      0.39569         73.0\n",
      "  30      0.39133      0.39573         75.6\n"
     ]
    }
   ],
   "source": [
    "!/home/ubuntu/libffm/ffm-train -l 0.00001 -k 15 -t 30 -r 0.05 -s 4 -p /home/ubuntu/notebooks/test.txt /home/ubuntu/notebooks/train.txt model-avazu_2\n"
   ]
  },
  {
   "cell_type": "markdown",
   "metadata": {},
   "source": [
    "L'usage de ffm-predict est : ffm-predict nom-fichier-test nom-fichier-modèle fichier-dans-lequel-ecrire-la-prediction  \n",
    "<font color=\"red\">Effectuer la prédiction.</font>"
   ]
  },
  {
   "cell_type": "code",
   "execution_count": 201,
   "metadata": {},
   "outputs": [
    {
     "name": "stdout",
     "output_type": "stream",
     "text": [
      "logloss = 0.39573\r\n"
     ]
    }
   ],
   "source": [
    "!/home/ubuntu/libffm/ffm-predict /home/ubuntu/notebooks/test.txt model-avazu_2 /home/ubuntu/notebooks/prediction.txt\n"
   ]
  },
  {
   "cell_type": "markdown",
   "metadata": {},
   "source": [
    "<font color=\"red\">Calculer la log_loss et l'aire sous la courbe roc.</font>"
   ]
  },
  {
   "cell_type": "code",
   "execution_count": 202,
   "metadata": {},
   "outputs": [],
   "source": [
    "prediction = pd.read_csv(\"prediction.txt\", header=None)"
   ]
  },
  {
   "cell_type": "code",
   "execution_count": 208,
   "metadata": {},
   "outputs": [
    {
     "data": {
      "text/html": [
       "<div>\n",
       "<style scoped>\n",
       "    .dataframe tbody tr th:only-of-type {\n",
       "        vertical-align: middle;\n",
       "    }\n",
       "\n",
       "    .dataframe tbody tr th {\n",
       "        vertical-align: top;\n",
       "    }\n",
       "\n",
       "    .dataframe thead th {\n",
       "        text-align: right;\n",
       "    }\n",
       "</style>\n",
       "<table border=\"1\" class=\"dataframe\">\n",
       "  <thead>\n",
       "    <tr style=\"text-align: right;\">\n",
       "      <th></th>\n",
       "      <th>0</th>\n",
       "    </tr>\n",
       "  </thead>\n",
       "  <tbody>\n",
       "    <tr>\n",
       "      <th>0</th>\n",
       "      <td>0.292388</td>\n",
       "    </tr>\n",
       "    <tr>\n",
       "      <th>1</th>\n",
       "      <td>0.391247</td>\n",
       "    </tr>\n",
       "    <tr>\n",
       "      <th>2</th>\n",
       "      <td>0.088465</td>\n",
       "    </tr>\n",
       "    <tr>\n",
       "      <th>3</th>\n",
       "      <td>0.103851</td>\n",
       "    </tr>\n",
       "    <tr>\n",
       "      <th>4</th>\n",
       "      <td>0.149750</td>\n",
       "    </tr>\n",
       "  </tbody>\n",
       "</table>\n",
       "</div>"
      ],
      "text/plain": [
       "          0\n",
       "0  0.292388\n",
       "1  0.391247\n",
       "2  0.088465\n",
       "3  0.103851\n",
       "4  0.149750"
      ]
     },
     "execution_count": 208,
     "metadata": {},
     "output_type": "execute_result"
    }
   ],
   "source": [
    "prediction.head()"
   ]
  },
  {
   "cell_type": "code",
   "execution_count": 207,
   "metadata": {
    "scrolled": true
   },
   "outputs": [
    {
     "name": "stdout",
     "output_type": "stream",
     "text": [
      "The log loss is : 0.3957328547012827\n",
      "The ROC AUC is : 0.7499530592042756\n"
     ]
    }
   ],
   "source": [
    "print(\"The log loss is : \" + str(log_loss(ytest[:99984], prediction)))\n",
    "print(\"The ROC AUC is : \" + str(roc_auc_score(ytest[:99984], prediction)))"
   ]
  },
  {
   "cell_type": "markdown",
   "metadata": {
    "collapsed": true
   },
   "source": [
    "# Blending"
   ]
  },
  {
   "cell_type": "markdown",
   "metadata": {},
   "source": [
    "<font color=\"red\">\n",
    "Séparer les données de train Xtrain en deux avec train_test_split.</font>"
   ]
  },
  {
   "cell_type": "code",
   "execution_count": 209,
   "metadata": {},
   "outputs": [],
   "source": [
    "Xtrain_meth, Xtrain_blend, ytrain_meth, ytrain_blend = train_test_split(Xtrain_oh,ytrain,test_size=0.2)"
   ]
  },
  {
   "cell_type": "markdown",
   "metadata": {
    "collapsed": true
   },
   "source": [
    "<font color=\"red\">\n",
    "Entrainer une régression logistique sur Xtrain_meth, et évaluer ses scores sur Xtrain_blend (conserver dans un vecteur).</font>"
   ]
  },
  {
   "cell_type": "code",
   "execution_count": 210,
   "metadata": {},
   "outputs": [
    {
     "name": "stderr",
     "output_type": "stream",
     "text": [
      "/home/ubuntu/scikit-learn/sklearn/linear_model/logistic.py:432: FutureWarning: Default solver will be changed to 'lbfgs' in 0.22. Specify a solver to silence this warning.\n",
      "  FutureWarning)\n"
     ]
    },
    {
     "ename": "KeyboardInterrupt",
     "evalue": "",
     "output_type": "error",
     "traceback": [
      "\u001b[0;31m---------------------------------------------------------------------------\u001b[0m",
      "\u001b[0;31mKeyboardInterrupt\u001b[0m                         Traceback (most recent call last)",
      "\u001b[0;32m<ipython-input-210-85dcb7ea7797>\u001b[0m in \u001b[0;36m<module>\u001b[0;34m()\u001b[0m\n\u001b[1;32m      1\u001b[0m \u001b[0mlr\u001b[0m \u001b[0;34m=\u001b[0m \u001b[0mLogisticRegression\u001b[0m\u001b[0;34m(\u001b[0m\u001b[0;34m)\u001b[0m\u001b[0;34m\u001b[0m\u001b[0m\n\u001b[0;32m----> 2\u001b[0;31m \u001b[0mlr\u001b[0m\u001b[0;34m.\u001b[0m\u001b[0mfit\u001b[0m\u001b[0;34m(\u001b[0m\u001b[0mXtrain_meth\u001b[0m\u001b[0;34m,\u001b[0m \u001b[0mytrain_meth\u001b[0m\u001b[0;34m)\u001b[0m\u001b[0;34m\u001b[0m\u001b[0m\n\u001b[0m\u001b[1;32m      3\u001b[0m \u001b[0;34m\u001b[0m\u001b[0m\n\u001b[1;32m      4\u001b[0m \u001b[0msoft_lr_train\u001b[0m \u001b[0;34m=\u001b[0m \u001b[0mlr\u001b[0m\u001b[0;34m.\u001b[0m\u001b[0mpredict_proba\u001b[0m\u001b[0;34m(\u001b[0m\u001b[0mXtrain_blend\u001b[0m\u001b[0;34m)\u001b[0m\u001b[0;34m\u001b[0m\u001b[0m\n\u001b[1;32m      5\u001b[0m \u001b[0msoft_lr_test\u001b[0m \u001b[0;34m=\u001b[0m \u001b[0mlr\u001b[0m\u001b[0;34m.\u001b[0m\u001b[0mpredict_proba\u001b[0m\u001b[0;34m(\u001b[0m\u001b[0mXtest_oh\u001b[0m\u001b[0;34m)\u001b[0m\u001b[0;34m\u001b[0m\u001b[0m\n",
      "\u001b[0;32m/home/ubuntu/scikit-learn/sklearn/linear_model/logistic.py\u001b[0m in \u001b[0;36mfit\u001b[0;34m(self, X, y, sample_weight)\u001b[0m\n\u001b[1;32m   1299\u001b[0m                 \u001b[0mself\u001b[0m\u001b[0;34m.\u001b[0m\u001b[0mclass_weight\u001b[0m\u001b[0;34m,\u001b[0m \u001b[0mself\u001b[0m\u001b[0;34m.\u001b[0m\u001b[0mpenalty\u001b[0m\u001b[0;34m,\u001b[0m \u001b[0mself\u001b[0m\u001b[0;34m.\u001b[0m\u001b[0mdual\u001b[0m\u001b[0;34m,\u001b[0m \u001b[0mself\u001b[0m\u001b[0;34m.\u001b[0m\u001b[0mverbose\u001b[0m\u001b[0;34m,\u001b[0m\u001b[0;34m\u001b[0m\u001b[0m\n\u001b[1;32m   1300\u001b[0m                 \u001b[0mself\u001b[0m\u001b[0;34m.\u001b[0m\u001b[0mmax_iter\u001b[0m\u001b[0;34m,\u001b[0m \u001b[0mself\u001b[0m\u001b[0;34m.\u001b[0m\u001b[0mtol\u001b[0m\u001b[0;34m,\u001b[0m \u001b[0mself\u001b[0m\u001b[0;34m.\u001b[0m\u001b[0mrandom_state\u001b[0m\u001b[0;34m,\u001b[0m\u001b[0;34m\u001b[0m\u001b[0m\n\u001b[0;32m-> 1301\u001b[0;31m                 sample_weight=sample_weight)\n\u001b[0m\u001b[1;32m   1302\u001b[0m             \u001b[0mself\u001b[0m\u001b[0;34m.\u001b[0m\u001b[0mn_iter_\u001b[0m \u001b[0;34m=\u001b[0m \u001b[0mnp\u001b[0m\u001b[0;34m.\u001b[0m\u001b[0marray\u001b[0m\u001b[0;34m(\u001b[0m\u001b[0;34m[\u001b[0m\u001b[0mn_iter_\u001b[0m\u001b[0;34m]\u001b[0m\u001b[0;34m)\u001b[0m\u001b[0;34m\u001b[0m\u001b[0m\n\u001b[1;32m   1303\u001b[0m             \u001b[0;32mreturn\u001b[0m \u001b[0mself\u001b[0m\u001b[0;34m\u001b[0m\u001b[0m\n",
      "\u001b[0;32m/home/ubuntu/scikit-learn/sklearn/svm/base.py\u001b[0m in \u001b[0;36m_fit_liblinear\u001b[0;34m(X, y, C, fit_intercept, intercept_scaling, class_weight, penalty, dual, verbose, max_iter, tol, random_state, multi_class, loss, epsilon, sample_weight)\u001b[0m\n\u001b[1;32m    912\u001b[0m         \u001b[0mX\u001b[0m\u001b[0;34m,\u001b[0m \u001b[0my_ind\u001b[0m\u001b[0;34m,\u001b[0m \u001b[0msp\u001b[0m\u001b[0;34m.\u001b[0m\u001b[0misspmatrix\u001b[0m\u001b[0;34m(\u001b[0m\u001b[0mX\u001b[0m\u001b[0;34m)\u001b[0m\u001b[0;34m,\u001b[0m \u001b[0msolver_type\u001b[0m\u001b[0;34m,\u001b[0m \u001b[0mtol\u001b[0m\u001b[0;34m,\u001b[0m \u001b[0mbias\u001b[0m\u001b[0;34m,\u001b[0m \u001b[0mC\u001b[0m\u001b[0;34m,\u001b[0m\u001b[0;34m\u001b[0m\u001b[0m\n\u001b[1;32m    913\u001b[0m         \u001b[0mclass_weight_\u001b[0m\u001b[0;34m,\u001b[0m \u001b[0mmax_iter\u001b[0m\u001b[0;34m,\u001b[0m \u001b[0mrnd\u001b[0m\u001b[0;34m.\u001b[0m\u001b[0mrandint\u001b[0m\u001b[0;34m(\u001b[0m\u001b[0mnp\u001b[0m\u001b[0;34m.\u001b[0m\u001b[0miinfo\u001b[0m\u001b[0;34m(\u001b[0m\u001b[0;34m'i'\u001b[0m\u001b[0;34m)\u001b[0m\u001b[0;34m.\u001b[0m\u001b[0mmax\u001b[0m\u001b[0;34m)\u001b[0m\u001b[0;34m,\u001b[0m\u001b[0;34m\u001b[0m\u001b[0m\n\u001b[0;32m--> 914\u001b[0;31m         epsilon, sample_weight)\n\u001b[0m\u001b[1;32m    915\u001b[0m     \u001b[0;31m# Regarding rnd.randint(..) in the above signature:\u001b[0m\u001b[0;34m\u001b[0m\u001b[0;34m\u001b[0m\u001b[0m\n\u001b[1;32m    916\u001b[0m     \u001b[0;31m# seed for srand in range [0..INT_MAX); due to limitations in Numpy\u001b[0m\u001b[0;34m\u001b[0m\u001b[0;34m\u001b[0m\u001b[0m\n",
      "\u001b[0;31mKeyboardInterrupt\u001b[0m: "
     ]
    }
   ],
   "source": [
    "lr = LogisticRegression()\n",
    "lr.fit(Xtrain_meth, ytrain_meth)\n",
    "\n",
    "soft_lr_train = lr.predict_proba(Xtrain_blend)\n",
    "soft_lr_test = lr.predict_proba(Xtest_oh)\n",
    "\n",
    "print(\"The log loss is : \" + str(log_loss(ytrain_blend, soft_lr_train)))\n",
    "print(\"The ROC AUC is : \" + str(roc_auc_score(ytrain_blend, soft_lr_train[:,1])))"
   ]
  },
  {
   "cell_type": "markdown",
   "metadata": {},
   "source": [
    "<font color=\"red\">\n",
    "Entrainer un xgboost sur Xtrain_meth, et évaluer ses scores sur Xtrain_blend (conserver dans un vecteur).</font>"
   ]
  },
  {
   "cell_type": "code",
   "execution_count": null,
   "metadata": {},
   "outputs": [],
   "source": [
    "xgb = XGBClassifier(n_estimators = 10,n_jobs = -1,learning_rate = 0.8)\n",
    "xgb.fit(Xtrain_meth, ytrain_meth) # Fill here\n",
    "\n",
    "soft_xgb_train = xgb.predict_proba(Xtest_blend)\n",
    "soft_xgb_test = xgb.predict_proba(Xtest_oh)\n",
    "\n",
    "print(\"The log loss is : \" + str(log_loss(ytrain_blend, soft_xgb_train)))\n",
    "print(\"The ROC AUC is : \" + str(roc_auc_score(ytrain_blend, soft_xgb_train[:,1])))"
   ]
  },
  {
   "cell_type": "markdown",
   "metadata": {},
   "source": [
    "<font color=\"red\">\n",
    "Entrainer un random forest sur Xtrain_meth, et évaluer ses scores sur Xtrain_blend (conserver dans un vecteur).</font>"
   ]
  },
  {
   "cell_type": "code",
   "execution_count": null,
   "metadata": {},
   "outputs": [],
   "source": [
    "rf = RandomForestClassifier(n_estimators = 100)\n",
    "rf.fit(Xtrain_meth, ytrain_meth) # Fill here\n",
    "\n",
    "soft_rf_train = rf.predict_proba(Xtest_blend)\n",
    "soft_rf_test = rf.predict_proba(Xtest_oh)\n",
    "\n",
    "print(\"The log loss is : \" + str(log_loss(ytrain_blend, soft_rf_train)))\n",
    "print(\"The ROC AUC is : \" + str(roc_auc_score(ytrain_blend, soft_rf_train[:,1])))"
   ]
  },
  {
   "cell_type": "markdown",
   "metadata": {},
   "source": [
    "<font color=\"red\">\n",
    "Entrainer un extraTrees sur Xtrain_meth, et évaluer ses scores sur Xtrain_blend (conserver dans un vecteur).</font>"
   ]
  },
  {
   "cell_type": "code",
   "execution_count": null,
   "metadata": {},
   "outputs": [],
   "source": [
    "from sklearn.ensemble import ExtraTreesClassifier\n",
    "xt = ExtraTreesClassifier(n_estimators = 100)\n",
    "xt.fit(Xtrain_meth, ytrain_meth) # Fill here\n",
    "\n",
    "soft_xt_train = xt.predict_proba(Xtest_blend)\n",
    "soft_xt_test = xt.predict_proba(Xtest_oh)\n",
    "\n",
    "print(\"The log loss is : \" + str(log_loss(ytrain_blend, soft_xt_train)))\n",
    "print(\"The ROC AUC is : \" + str(roc_auc_score(ytrain_blend, soft_xt_train[:,1])))"
   ]
  },
  {
   "cell_type": "markdown",
   "metadata": {},
   "source": [
    "<font color=\"red\">\n",
    "Entrainer un FFM sur Xtrain_meth, et évaluer ses scores sur Xtrain_blend (conserver dans un vecteur).</font>"
   ]
  },
  {
   "cell_type": "code",
   "execution_count": null,
   "metadata": {},
   "outputs": [],
   "source": [
    "Xtrain_ffm = pd.DataFrame()\n",
    "Xtest_ffm = pd.DataFrame()\n",
    "for col in Xtrain_meth.columns:\n",
    "    Xtrain_ffm[col] = Xtrain_meth[col].apply(lambda x : str(col) + str(x))\n",
    "    Xtest_ffm[col] = Xtest_blend[col].apply(lambda x : str(col) + str(x))\n",
    "\n",
    "allvals = []\n",
    "allcols_ffm = [col for f in fields for col in f]  # Toutes les colonnes appartenant à l'un des champ\n",
    "for col in allcols_ffm:\n",
    "    allvals.append(np.unique(Xtrain_ffm[col]))\n",
    "allvals= [val for sublist in allvals for val in sublist]\n",
    "\n",
    "dicFeat = {val:i for i,val in enumerate(allvals) }\n",
    "\n",
    "for col in allcols_ffm:\n",
    "    f = dicFields[col]\n",
    "    Xtrain_ffm[col] = Xtrain_ffm[col].apply(lambda x:\"{}:{}:1\".format(f,dicFeat[x]) if x in dicFeat else \"\")\n",
    "    Xtest_ffm[col] = Xtest_ffm[col].apply(lambda x:\"{}:{}:1\".format(f,dicFeat[x]) if x in dicFeat else \"\")\n",
    "\n",
    "yXtrain_ffm = pd.concat([ytrain_meth.astype(str), Xtrain_ffm],axis=1)\n",
    "yXtest_ffm = pd.concat([ytrain_blend.astype(str), Xtest_ffm],axis=1)\n",
    "\n",
    "train_w = yXtrain_ffm.apply(lambda row:' '.join(row.values),axis=1).values\n",
    "test_w = yXtest_ffm.apply(lambda row:' '.join(row.values),axis=1).values\n",
    "\n",
    "thefile = open('train_blend.txt','w')\n",
    "for item in train_w:\n",
    "    thefile.write(\"%s\\n\" % item)\n",
    "    \n",
    "# Faire de même pour le test set\n",
    "thefile2 = open('test_blend.txt','w')\n",
    "for item in test_w:\n",
    "    thefile2.write(\"%s\\n\" % item)\n",
    "\n",
    "!/home/ubuntu/libffm/ffm-train -l 0.00001 -k 15 -t 30 -r 0.05 -s 4 -p /home/ubuntu/notebooks/test_blend.txt /home/ubuntu/notebooks/train_blend.txt model-avazu_blend\n",
    "!/home/ubuntu/libffm/ffm-predict /home/ubuntu/notebooks/test_blend.txt model-avazu_blend /home/ubuntu/notebooks/prediction_blend.txt\n",
    "\n",
    "prediction = pd.read_csv(\"prediction_blend.txt\", header=None)\n",
    "\n",
    "print(\"The log loss is : \" + str(log_loss(ytrain_blend, prediction_blend)))\n",
    "print(\"The ROC AUC is : \" + str(roc_auc_score(ytrain_blend, prediction_blend)))"
   ]
  },
  {
   "cell_type": "code",
   "execution_count": null,
   "metadata": {},
   "outputs": [],
   "source": []
  },
  {
   "cell_type": "markdown",
   "metadata": {},
   "source": [
    "<font color=\"red\">\n",
    "Concaténer tous les scores obtenus sur Xtrain_blend pour former une même matrice de design Zblend.</font>"
   ]
  },
  {
   "cell_type": "code",
   "execution_count": null,
   "metadata": {},
   "outputs": [],
   "source": [
    "Zblend_train = pd.concatenate([soft_lr_train, soft_xgb_train, soft_rf_train, soft_xt_train, soft_ffm_train], axis=1)"
   ]
  },
  {
   "cell_type": "code",
   "execution_count": null,
   "metadata": {},
   "outputs": [],
   "source": [
    "Zblend_test = pd.concatenate([soft_lr_test, soft_xgb_test, soft_rf_test, soft_xt_test, soft_ffm_test], axis=1)"
   ]
  },
  {
   "cell_type": "markdown",
   "metadata": {},
   "source": [
    "<font color=\"red\">\n",
    "Entrainer une régression logistique sur (Zblend,ytrain_blend).</font>"
   ]
  },
  {
   "cell_type": "code",
   "execution_count": null,
   "metadata": {},
   "outputs": [],
   "source": [
    "lr = LogisticRegression()\n",
    "lr.fit(Zblend_train, ytrain_meth)"
   ]
  },
  {
   "cell_type": "markdown",
   "metadata": {},
   "source": [
    "<font color=\"red\">\n",
    "Evaluer les performances de la méthode sur la base de test.</font>"
   ]
  },
  {
   "cell_type": "code",
   "execution_count": null,
   "metadata": {},
   "outputs": [],
   "source": [
    "soft_zblend = lr.predict_proba(Zblend_test)\n",
    "\n",
    "print(\"The log loss is : \" + str(log_loss(ytest, soft_zblend)))\n",
    "print(\"The ROC AUC is : \" + str(roc_auc_score(ytest, soft_zblend[:,1])))"
   ]
  },
  {
   "cell_type": "markdown",
   "metadata": {},
   "source": [
    "# ----------------------------------------"
   ]
  },
  {
   "cell_type": "markdown",
   "metadata": {},
   "source": [
    "# Jeu de données complet\n",
    "La base complète contient 40.000.000 d'instances. Elle se situe dans le répertoire avazu-large-data-set.zip.  \n",
    "Afin de vous épargner le temps de prétraitement (labelisation, hashing), les fichiers train_ha.zip et test_ha.zip contiennent les résultats du feature engineering précédent :\n",
    "- fusion des modalités les moins fréquentes (<20) au sein d'un même label\n",
    "- hashing des valeurs obtenues.  "
   ]
  },
  {
   "cell_type": "code",
   "execution_count": null,
   "metadata": {},
   "outputs": [],
   "source": [
    "train_ha = pd.read_csv('../data/train_ha.zip')\n",
    "test_ha = pd.read_csv('../data/test_ha.zip')"
   ]
  },
  {
   "cell_type": "markdown",
   "metadata": {},
   "source": [
    "<font color=\"red\">Inspecter la première ligne de train_ha. Créer le vecteur ytrain correspondant à la colonne des clics, et la dataframe Xtrain_ha correspondant aux features hashées. Faire de même avec test_ha.</font>"
   ]
  },
  {
   "cell_type": "code",
   "execution_count": null,
   "metadata": {},
   "outputs": [],
   "source": []
  },
  {
   "cell_type": "markdown",
   "metadata": {},
   "source": [
    "### SGD Classifier"
   ]
  },
  {
   "cell_type": "markdown",
   "metadata": {},
   "source": [
    "<font color=\"red\">Procéder à l'encodage en dummies</font>"
   ]
  },
  {
   "cell_type": "code",
   "execution_count": null,
   "metadata": {},
   "outputs": [],
   "source": []
  },
  {
   "cell_type": "markdown",
   "metadata": {},
   "source": [
    "<font color=\"red\">Importer SGDClassifier de sklearn.linear_model et effectuer 5 passes sur les données (utiliser les options loss='log' et n_jobs=-1). \n",
    "</font>"
   ]
  },
  {
   "cell_type": "code",
   "execution_count": null,
   "metadata": {},
   "outputs": [],
   "source": []
  },
  {
   "cell_type": "markdown",
   "metadata": {},
   "source": [
    "### XGBoost   \n",
    "<font color=\"red\">Mettre en oeuvre un classifieur xgboost (avec un nombre modéré d'estimateurs pour limiter le temps de calcul)</font>"
   ]
  },
  {
   "cell_type": "code",
   "execution_count": null,
   "metadata": {},
   "outputs": [],
   "source": []
  },
  {
   "cell_type": "markdown",
   "metadata": {},
   "source": [
    "### Random Forest\n",
    "Pour des raisons de temps d'exécution, nous adoptons ici l'implémentation Distributed Random Forest de H2O https://www.h2o.ai/ plus performante."
   ]
  },
  {
   "cell_type": "code",
   "execution_count": null,
   "metadata": {},
   "outputs": [],
   "source": [
    "import h2o\n",
    "h2o.init()"
   ]
  },
  {
   "cell_type": "code",
   "execution_count": null,
   "metadata": {},
   "outputs": [],
   "source": [
    "hftrain = h2o.H2OFrame(train_ha)\n",
    "hftest =  h2o.H2OFrame(test_ha)"
   ]
  },
  {
   "cell_type": "code",
   "execution_count": null,
   "metadata": {},
   "outputs": [],
   "source": [
    "from h2o.estimators.random_forest import H2ORandomForestEstimator\n",
    "rf.train(x=list(range(1,train_ha.shape[1])), y=0, training_frame=hftrain)"
   ]
  },
  {
   "cell_type": "code",
   "execution_count": null,
   "metadata": {},
   "outputs": [],
   "source": [
    "soft = h2o.as_list(rf.predict(hftest))\n",
    "log_loss(ytest,soft),roc_auc_score(ytest,soft)"
   ]
  },
  {
   "cell_type": "markdown",
   "metadata": {},
   "source": [
    "Score obtenu : logloss ~0.395, AUC ~0.75  "
   ]
  },
  {
   "cell_type": "markdown",
   "metadata": {},
   "source": [
    "### Factorization Machines\n",
    "Afin de vous éviter le formattage des données au format libFFM, celles ci ont été pré-enregistrée dans ../data/testffm-big.txt et ../data/trainffm-big.txt. \n",
    "<br>\n",
    "<font color=\"red\">Utiliser la commande bash \"head -1 nom_fichier\" pour afficher la première ligne des données de train.</font>"
   ]
  },
  {
   "cell_type": "code",
   "execution_count": null,
   "metadata": {},
   "outputs": [],
   "source": []
  },
  {
   "cell_type": "markdown",
   "metadata": {},
   "source": [
    "<font color=\"red\">Lancer l'apprentissage des ffm avec les paramètres -l 0.00001 -k 15 -r 0.05 et en précisant le nombre d'itérations souhaité (une passe sur les données prend environ 180 secondes sur une m5-12xlarge).</font>"
   ]
  },
  {
   "cell_type": "code",
   "execution_count": null,
   "metadata": {},
   "outputs": [],
   "source": []
  },
  {
   "cell_type": "markdown",
   "metadata": {},
   "source": [
    "<font color=\"red\">Effectuer la prédiction et l'évaluation des performances (log-loss, AUC).</font>"
   ]
  },
  {
   "cell_type": "code",
   "execution_count": null,
   "metadata": {},
   "outputs": [],
   "source": []
  },
  {
   "cell_type": "code",
   "execution_count": null,
   "metadata": {},
   "outputs": [],
   "source": []
  }
 ],
 "metadata": {
  "kernelspec": {
   "display_name": "Python 3",
   "language": "python",
   "name": "python3"
  },
  "language_info": {
   "codemirror_mode": {
    "name": "ipython",
    "version": 3
   },
   "file_extension": ".py",
   "mimetype": "text/x-python",
   "name": "python",
   "nbconvert_exporter": "python",
   "pygments_lexer": "ipython3",
   "version": "3.6.5"
  }
 },
 "nbformat": 4,
 "nbformat_minor": 2
}
