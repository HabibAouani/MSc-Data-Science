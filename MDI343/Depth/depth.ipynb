{
 "cells": [
  {
   "cell_type": "markdown",
   "metadata": {
    "ExecuteTime": {
     "end_time": "2019-01-16T14:27:41.622157Z",
     "start_time": "2019-01-16T14:27:41.613921Z"
    }
   },
   "source": [
    "<center><h2>Depth and Depth-Based Classification</h2></center>"
   ]
  },
  {
   "cell_type": "code",
   "execution_count": 2,
   "metadata": {
    "ExecuteTime": {
     "end_time": "2019-01-16T14:31:59.362000Z",
     "start_time": "2019-01-16T14:31:58.240898Z"
    }
   },
   "outputs": [],
   "source": [
    "import pandas as pd\n",
    "import numpy as np\n",
    "import matplotlib.pyplot as plt\n",
    "\n",
    "from scipy.stats import multivariate_normal\n",
    "import seaborn as sns"
   ]
  },
  {
   "cell_type": "markdown",
   "metadata": {},
   "source": [
    "1. From each of them, draw a data set containing 25 points and plot it, each on a separate plot."
   ]
  },
  {
   "cell_type": "code",
   "execution_count": 97,
   "metadata": {
    "ExecuteTime": {
     "end_time": "2019-01-16T15:16:31.674542Z",
     "start_time": "2019-01-16T15:16:31.666165Z"
    }
   },
   "outputs": [],
   "source": [
    "def rand_bi_gauss(n, mu, sigma) :\n",
    "    \"\"\" Sample n1 and n2 points from two Gaussian variables centered in mu1,\n",
    "    mu2, with respective std deviations sigma1 and sigma2\n",
    "    \"\"\"\n",
    "    X = np.random.multivariate_normal(mu, sigma, n)\n",
    "    y = np.random.randint(2, size=n)\n",
    "    return X, y"
   ]
  },
  {
   "cell_type": "code",
   "execution_count": 111,
   "metadata": {
    "ExecuteTime": {
     "end_time": "2019-01-16T15:19:53.286578Z",
     "start_time": "2019-01-16T15:19:53.259854Z"
    }
   },
   "outputs": [],
   "source": [
    "symlist = ['o', 's', 'D', 'x', '+', '*', 'p', 'v', '-', '^']\n",
    "def plot_2d(data, y=None, w=None, alpha_choice=1):\n",
    "    \"\"\" Plot in 2D the dataset data, colors and symbols according to the\n",
    "    class given by the vector y (if given); the separating hyperplan w can\n",
    "    also be displayed if asked\"\"\"\n",
    "\n",
    "    k = np.unique(y).shape[0]\n",
    "    color_blind_list = sns.color_palette(\"colorblind\", k)\n",
    "    sns.set_palette(color_blind_list)\n",
    "    if y is None:\n",
    "        labs = [\"\"]\n",
    "        idxbyclass = [range(data.shape[0])]\n",
    "    else:\n",
    "        labs = np.unique(y)\n",
    "        idxbyclass = [np.where(y == labs[i])[0] for i in range(len(labs))]\n",
    "\n",
    "    for i in range(len(labs)):\n",
    "        plt.scatter(data[idxbyclass[i], 0], data[idxbyclass[i], 1],\n",
    "                    c=color_blind_list[i], s=80, marker=symlist[i])\n",
    "    plt.ylim([np.min(data[:, 1]), np.max(data[:, 1])])\n",
    "    plt.xlim([np.min(data[:, 0]), np.max(data[:, 0])])\n",
    "    mx = np.min(data[:, 0])\n",
    "    maxx = np.max(data[:, 0])\n",
    "    if w is not None:\n",
    "        plt.plot([mx, maxx], [mx * -w[1] / w[2] - w[0] / w[2],\n",
    "                              maxx * -w[1] / w[2] - w[0] / w[2]],\n",
    "                 \"g\", alpha=alpha_choice)"
   ]
  },
  {
   "cell_type": "code",
   "execution_count": 119,
   "metadata": {
    "ExecuteTime": {
     "end_time": "2019-01-16T15:23:01.102055Z",
     "start_time": "2019-01-16T15:23:01.093976Z"
    }
   },
   "outputs": [],
   "source": [
    "X1, y1 = rand_bi_gauss(25, [0,0], [[1,1], [1,4]])\n",
    "X2, y2 = rand_bi_gauss(25, [2,2], [[1,1], [1,4]])\n",
    "X3, y3 = rand_bi_gauss(25, [0,0], [[4,4], [4,16]])"
   ]
  },
  {
   "cell_type": "code",
   "execution_count": 120,
   "metadata": {
    "ExecuteTime": {
     "end_time": "2019-01-16T15:23:01.887267Z",
     "start_time": "2019-01-16T15:23:01.588737Z"
    }
   },
   "outputs": [
    {
     "name": "stderr",
     "output_type": "stream",
     "text": [
      "'c' argument looks like a single numeric RGB or RGBA sequence, which should be avoided as value-mapping will have precedence in case its length matches with 'x' & 'y'.  Please use a 2-D array with a single row if you really want to specify the same RGB or RGBA value for all points.\n",
      "'c' argument looks like a single numeric RGB or RGBA sequence, which should be avoided as value-mapping will have precedence in case its length matches with 'x' & 'y'.  Please use a 2-D array with a single row if you really want to specify the same RGB or RGBA value for all points.\n"
     ]
    },
    {
     "data": {
      "image/png": "[encoded data removed]",
      "text/plain": [
       "<Figure size 432x288 with 1 Axes>"
      ]
     },
     "metadata": {},
     "output_type": "display_data"
    }
   ],
   "source": [
    "plot_2d(X1, y1)"
   ]
  },
  {
   "cell_type": "code",
   "execution_count": 122,
   "metadata": {
    "ExecuteTime": {
     "end_time": "2019-01-16T15:23:29.348223Z",
     "start_time": "2019-01-16T15:23:29.107867Z"
    }
   },
   "outputs": [
    {
     "name": "stderr",
     "output_type": "stream",
     "text": [
      "'c' argument looks like a single numeric RGB or RGBA sequence, which should be avoided as value-mapping will have precedence in case its length matches with 'x' & 'y'.  Please use a 2-D array with a single row if you really want to specify the same RGB or RGBA value for all points.\n",
      "'c' argument looks like a single numeric RGB or RGBA sequence, which should be avoided as value-mapping will have precedence in case its length matches with 'x' & 'y'.  Please use a 2-D array with a single row if you really want to specify the same RGB or RGBA value for all points.\n"
     ]
    },
    {
     "data": {
      "image/png": "[encoded data removed]",
      "text/plain": [
       "<Figure size 432x288 with 1 Axes>"
      ]
     },
     "metadata": {},
     "output_type": "display_data"
    }
   ],
   "source": [
    "plot_2d(X2, y2)"
   ]
  },
  {
   "cell_type": "code",
   "execution_count": 123,
   "metadata": {
    "ExecuteTime": {
     "end_time": "2019-01-16T15:23:38.393272Z",
     "start_time": "2019-01-16T15:23:38.141004Z"
    }
   },
   "outputs": [
    {
     "name": "stderr",
     "output_type": "stream",
     "text": [
      "'c' argument looks like a single numeric RGB or RGBA sequence, which should be avoided as value-mapping will have precedence in case its length matches with 'x' & 'y'.  Please use a 2-D array with a single row if you really want to specify the same RGB or RGBA value for all points.\n",
      "'c' argument looks like a single numeric RGB or RGBA sequence, which should be avoided as value-mapping will have precedence in case its length matches with 'x' & 'y'.  Please use a 2-D array with a single row if you really want to specify the same RGB or RGBA value for all points.\n"
     ]
    },
    {
     "data": {
      "image/png": "[encoded data removed]",
      "text/plain": [
       "<Figure size 432x288 with 1 Axes>"
      ]
     },
     "metadata": {},
     "output_type": "display_data"
    }
   ],
   "source": [
    "plot_2d(X3, y3)"
   ]
  },
  {
   "cell_type": "markdown",
   "metadata": {},
   "source": [
    "2. Program a function depthMah that computes the Mahalanobis depth and takes as input arguments the points for which the depth should be computed and the data set with respect to which the depth is to be computed. Apply this function to each of the data sets from question 1, i.e., calculate the depth of each point of the data set with respect to the data set itself; plot the data sets indicating on the plots depth value (rounded to two digits after the period) next to each point."
   ]
  },
  {
   "cell_type": "code",
   "execution_count": 134,
   "metadata": {
    "ExecuteTime": {
     "end_time": "2019-01-16T15:27:22.789527Z",
     "start_time": "2019-01-16T15:27:22.770413Z"
    }
   },
   "outputs": [
    {
     "data": {
      "text/plain": [
       "array([[-2.64792731e+16,  8.19409038e+16, -3.75606287e+16,\n",
       "        -5.40532146e+16,  9.47651545e+15, -4.13836131e+16,\n",
       "         1.07409466e+16,  1.25002517e+15, -5.54033809e+16,\n",
       "        -6.36898583e+16, -2.86059816e+16,  9.74966824e+15,\n",
       "        -4.88576516e+17, -1.25341374e+16, -2.58329149e+15,\n",
       "         4.40137372e+15, -2.82694570e+16,  3.31730898e+16,\n",
       "         1.39031290e+16, -7.88401857e+15, -4.59002832e+17,\n",
       "        -9.37603030e+15,  3.56774916e+16, -1.65924530e+17,\n",
       "        -1.48654063e+16],\n",
       "       [ 5.10235193e+17, -1.86641448e+18,  7.20185883e+17,\n",
       "         1.08340196e+18, -2.80504020e+17,  9.54088366e+17,\n",
       "        -1.74507830e+17, -6.97998635e+15,  3.01771570e+17,\n",
       "         1.26404048e+18,  6.02885502e+17, -2.02281952e+17,\n",
       "         1.08586853e+19,  2.17459242e+17,  7.02045160e+16,\n",
       "        -3.60876441e+16,  6.36575614e+17, -8.16115838e+17,\n",
       "        -5.31971203e+17,  1.89778420e+17,  8.76664577e+18,\n",
       "         2.51638898e+17, -9.26332203e+17,  2.91921716e+18,\n",
       "         4.36627497e+17],\n",
       "       [-3.19735296e+16,  1.70233535e+17, -4.80276381e+16,\n",
       "        -6.72899042e+16, -4.81485880e+15, -6.93366222e+16,\n",
       "         1.25764855e+16,  1.97583804e+15,  1.45827030e+16,\n",
       "        -8.59880636e+16, -3.96571506e+16,  1.41723935e+16,\n",
       "        -8.26701502e+17, -1.39447019e+16, -6.19275925e+15,\n",
       "         3.05366985e+15, -4.71521477e+16,  5.96430584e+16,\n",
       "         6.02855929e+16, -9.04806740e+15, -7.34784081e+17,\n",
       "        -2.03686539e+16,  6.88678000e+16, -2.15330371e+17,\n",
       "        -2.81487188e+16],\n",
       "       [ 8.58272870e+15, -4.77843642e+16,  1.75812399e+16,\n",
       "         1.60146937e+16,  2.53039915e+16,  3.00276609e+16,\n",
       "        -6.87329513e+15,  1.95185556e+15, -6.42058290e+16,\n",
       "         2.26347606e+16,  1.19723058e+16, -2.52972280e+15,\n",
       "         3.31005690e+17,  4.79962238e+15,  4.08909763e+15,\n",
       "        -6.30759898e+14,  2.10513327e+16, -2.52543935e+16,\n",
       "        -2.27200389e+16, -9.33506518e+14,  3.65849962e+17,\n",
       "         1.04815701e+16, -3.38833786e+16,  6.09223931e+16,\n",
       "         2.29951450e+15],\n",
       "       [-7.99065563e+16,  2.58647559e+17, -1.01980628e+17,\n",
       "        -1.66604878e+17,  2.07860644e+15, -1.64543532e+17,\n",
       "         2.82543923e+16,  1.80028829e+15,  5.43472193e+16,\n",
       "        -2.02448895e+17, -9.50622292e+16,  3.44684205e+16,\n",
       "        -1.82912436e+18, -2.37738496e+16, -1.61453242e+16,\n",
       "         4.66181783e+15, -1.18374630e+17,  1.57809054e+17,\n",
       "         1.62654231e+17, -1.10204880e+16, -1.21811525e+18,\n",
       "        -4.23886018e+16,  1.68283687e+17, -5.36702052e+17,\n",
       "        -7.76251165e+16],\n",
       "       [ 7.52279639e+15, -2.41779513e+16,  9.80646635e+15,\n",
       "         2.01370027e+16,  2.56270623e+15,  2.33222129e+16,\n",
       "        -2.42227148e+15,  3.64110427e+14, -3.72841622e+16,\n",
       "         3.23574871e+16,  1.24150753e+16, -3.75080896e+15,\n",
       "         2.97102455e+17,  1.39014408e+15,  3.34076845e+15,\n",
       "        -9.70652765e+13,  2.06427551e+16, -2.13349182e+16,\n",
       "        -1.85152174e+16, -2.17998711e+15,  1.73994351e+17,\n",
       "         6.95351938e+15, -2.84712701e+16,  5.83541300e+16,\n",
       "         8.02434478e+15],\n",
       "       [ 5.35452003e+13, -9.52937930e+15,  5.28642873e+15,\n",
       "        -1.66986404e+15, -3.48257931e+14, -5.03278802e+15,\n",
       "         6.94482705e+14, -1.27668674e+15,  3.22009869e+16,\n",
       "        -5.18389514e+15, -9.88966514e+14,  7.07925220e+14,\n",
       "        -4.67624748e+16,  9.23485721e+13, -2.00142254e+15,\n",
       "        -1.95186643e+14, -3.80893092e+15,  8.19679653e+15,\n",
       "         1.00773319e+16,  3.32365521e+15, -9.61703650e+15,\n",
       "        -1.25824884e+15,  7.76607775e+15,  1.53656885e+16,\n",
       "        -2.39201835e+15],\n",
       "       [-1.79394918e+15,  1.36423203e+16, -4.64216550e+15,\n",
       "        -9.76301161e+14,  3.17776798e+15,  1.88170823e+15,\n",
       "         1.28126350e+15,  1.00675563e+14, -3.00949491e+16,\n",
       "        -1.14863352e+15,  6.55386538e+14,  2.24469452e+14,\n",
       "         5.98312885e+15, -2.22677720e+15,  8.40578133e+14,\n",
       "         5.48914102e+14,  1.72455904e+15, -4.17302056e+15,\n",
       "        -8.99393622e+15, -3.12332105e+15, -3.27009094e+16,\n",
       "         5.25055874e+14, -4.22335244e+15, -1.52511209e+16,\n",
       "         4.01839699e+15],\n",
       "       [-1.73666185e+17,  4.99265499e+17, -2.25299262e+17,\n",
       "        -3.90138823e+17,  9.94431569e+15, -3.53542465e+17,\n",
       "         5.57639288e+16,  4.97323582e+15,  2.65124080e+16,\n",
       "        -4.72249211e+17, -2.42732454e+17,  9.25429899e+16,\n",
       "        -4.13273196e+18, -4.67720560e+16, -2.16923544e+16,\n",
       "         5.78771845e+15, -2.54791407e+17,  2.94036109e+17,\n",
       "         2.24747664e+17,  8.98679623e+15, -2.91608712e+18,\n",
       "        -7.46287897e+16,  3.01330710e+17, -1.44784931e+18,\n",
       "        -1.98069192e+17],\n",
       "       [-1.77692748e+16,  7.51806508e+16, -1.97631242e+16,\n",
       "        -3.70614381e+16,  1.58952633e+16, -3.13274493e+16,\n",
       "         5.88957883e+15,  6.76139535e+14,  3.99336138e+16,\n",
       "        -4.76467894e+16, -2.68625692e+16,  1.04489789e+16,\n",
       "        -4.30098665e+17, -2.98635327e+15, -1.67582026e+15,\n",
       "         8.99712492e+14, -2.62154541e+16,  3.63899866e+16,\n",
       "         4.64843542e+16, -1.60053365e+14, -2.15355458e+17,\n",
       "        -8.53010121e+15,  3.32703910e+16, -1.08718953e+17,\n",
       "        -2.22723759e+16],\n",
       "       [ 2.09266605e+16, -1.14750493e+17,  2.14089980e+16,\n",
       "         3.85873615e+16,  2.66238037e+14,  4.32296557e+16,\n",
       "        -6.19281948e+15, -4.68400672e+14, -5.50327879e+16,\n",
       "         5.45830455e+16,  2.75044540e+16, -1.08130891e+16,\n",
       "         5.08167533e+17,  2.01684346e+15,  2.44022955e+15,\n",
       "        -7.02108403e+14,  3.08885529e+16, -4.23971191e+16,\n",
       "        -5.34210232e+16,  4.78323728e+15,  2.67631388e+17,\n",
       "         1.04580223e+16, -4.85756720e+16,  1.29292484e+17,\n",
       "         2.64021865e+16],\n",
       "       [ 8.60006451e+15, -4.74029506e+16,  1.95060516e+16,\n",
       "         2.04469562e+16, -3.51274829e+15,  1.82676748e+16,\n",
       "        -4.00589501e+15, -2.52465815e+14,  2.11183528e+16,\n",
       "         2.47964948e+16,  1.06212914e+16, -6.29867293e+15,\n",
       "         2.51872382e+17,  5.40807155e+15,  3.12979816e+15,\n",
       "        -1.91452393e+14,  1.34974350e+16, -1.43346827e+16,\n",
       "        -6.45177874e+15,  4.63865873e+15,  2.83686061e+17,\n",
       "         9.19668754e+15, -1.77791562e+16,  4.06208919e+16,\n",
       "         3.47645368e+15],\n",
       "       [ 4.57834053e+17, -1.42123013e+18,  4.82169843e+17,\n",
       "         7.91335957e+17, -3.11345689e+17,  5.85759414e+17,\n",
       "        -1.52697461e+17, -3.51851140e+16,  7.35753397e+17,\n",
       "         9.09677524e+17,  4.19178235e+17, -1.64727304e+17,\n",
       "         6.83983631e+18,  1.62618587e+17,  1.79859239e+16,\n",
       "        -1.62843906e+16,  3.06615057e+17, -5.04371274e+17,\n",
       "        -2.57938273e+17,  2.00775195e+17,  4.42066919e+18,\n",
       "         1.67097720e+17, -4.43722147e+17,  2.90614004e+18,\n",
       "         2.49689024e+17],\n",
       "       [-4.97080593e+15,  3.24582433e+16, -7.80809809e+15,\n",
       "        -4.97916991e+15, -1.21560420e+14, -7.18571582e+15,\n",
       "         6.33724909e+14,  5.43538819e+14, -6.76653425e+15,\n",
       "        -1.30984903e+16, -6.57473208e+15,  2.58574253e+15,\n",
       "        -9.36274053e+16,  4.95145396e+11,  5.80827172e+14,\n",
       "         9.32550542e+14, -4.32627197e+15,  7.78614607e+15,\n",
       "         3.08339384e+15,  2.79750763e+15, -3.04598503e+16,\n",
       "        -3.76614561e+14,  1.82005785e+15, -4.36368128e+16,\n",
       "        -7.19338595e+15],\n",
       "       [-6.14499934e+15,  1.35957108e+16, -7.81085316e+15,\n",
       "        -1.11836374e+16,  2.92685683e+15, -1.04376273e+16,\n",
       "         2.30481911e+15,  1.18601835e+14, -4.13099742e+15,\n",
       "        -1.47657031e+16, -7.11639095e+15,  3.05872806e+15,\n",
       "        -1.25797870e+17, -2.10205506e+15, -8.80383142e+14,\n",
       "         4.10129929e+14, -6.99874611e+15,  9.52723494e+15,\n",
       "         4.27137526e+15, -1.68832139e+15, -9.11348176e+16,\n",
       "        -2.68106677e+15,  7.37643175e+15, -4.31144961e+16,\n",
       "        -5.26379832e+15],\n",
       "       [ 3.90073540e+15,  6.12960836e+15,  2.55908956e+15,\n",
       "         6.76826502e+15, -4.49438658e+15,  5.32739073e+15,\n",
       "        -5.36336331e+14,  6.04393560e+13, -7.34873999e+15,\n",
       "         7.91980524e+15,  3.05787225e+15, -1.59431676e+15,\n",
       "         5.49134558e+16,  2.06825195e+15,  1.03573282e+15,\n",
       "        -2.71739916e+14,  3.04519838e+15, -5.78992156e+15,\n",
       "        -3.68189949e+15,  4.04175041e+14,  2.74221971e+16,\n",
       "         1.41955299e+15, -3.49610144e+15,  1.59493911e+16,\n",
       "         2.64105810e+15],\n",
       "       [-2.95244559e+16,  1.04556444e+17, -3.89591328e+16,\n",
       "        -6.59749996e+16,  2.77436324e+16, -5.59649868e+16,\n",
       "         1.08455142e+16,  9.72738582e+14, -9.27705057e+15,\n",
       "        -7.75611324e+16, -3.48770477e+16,  1.39761491e+16,\n",
       "        -6.75882728e+17, -9.68707741e+15, -4.27909554e+15,\n",
       "         1.15833158e+15, -3.85166335e+16,  5.08489931e+16,\n",
       "         4.72312732e+16, -1.13094098e+16, -4.86957635e+17,\n",
       "        -1.45337906e+16,  5.65998645e+16, -1.83090470e+17,\n",
       "        -2.95013125e+16],\n",
       "       [ 4.20637210e+15, -3.64080475e+16,  1.07386750e+16,\n",
       "         5.11988168e+15,  4.17175544e+15,  1.25705231e+16,\n",
       "        -3.90513079e+14, -8.32606412e+14, -2.95815386e+16,\n",
       "         1.69009726e+16,  1.29667551e+16, -6.71734657e+15,\n",
       "         1.94176253e+17, -1.83574551e+15,  1.16203874e+15,\n",
       "        -2.69193272e+13,  1.05841650e+16, -1.26255717e+16,\n",
       "        -1.93417752e+16, -4.69165637e+15,  1.16809152e+17,\n",
       "         2.84131617e+15, -1.37801144e+16,  4.70270614e+16,\n",
       "         1.46959567e+16],\n",
       "       [-1.59446288e+17,  5.48454562e+17, -1.96384100e+17,\n",
       "        -3.03692127e+17,  9.74382041e+16, -2.78336275e+17,\n",
       "         6.18694570e+16,  5.10042522e+15, -1.16692460e+16,\n",
       "        -4.02393572e+17, -1.80712709e+17,  7.33344757e+16,\n",
       "        -3.44242757e+18, -5.91163356e+16, -2.62766919e+16,\n",
       "         4.17429778e+15, -2.00218905e+17,  2.69425449e+17,\n",
       "         2.23466061e+17, -5.17903389e+16, -2.54856333e+18,\n",
       "        -8.00516614e+16,  2.67478426e+17, -8.28516466e+17,\n",
       "        -1.28653437e+17],\n",
       "       [ 1.23406260e+16, -1.03856289e+16,  1.39592539e+16,\n",
       "         2.51909848e+16, -7.70170236e+15,  1.84718735e+16,\n",
       "        -5.05510044e+15, -7.90466395e+14,  2.68976120e+16,\n",
       "         2.72066222e+16,  1.13838638e+16, -4.26571764e+15,\n",
       "         1.95809948e+17,  6.72233901e+15,  5.18685835e+14,\n",
       "        -3.52734637e+14,  9.58214607e+15, -1.83580720e+16,\n",
       "        -1.14066880e+16,  7.98934836e+15,  1.50183196e+17,\n",
       "         5.88529767e+15, -1.59343669e+16,  7.94675652e+16,\n",
       "         5.43349267e+15],\n",
       "       [ 4.86406046e+17, -1.52353676e+18,  5.64694246e+17,\n",
       "         8.01793893e+17, -2.91030995e+17,  4.96899420e+17,\n",
       "        -1.87465009e+17, -3.65025154e+16,  1.55574388e+18,\n",
       "         9.80018244e+17,  4.32631953e+17, -1.46062808e+17,\n",
       "         6.88392160e+18,  2.04062026e+17,  3.82360409e+14,\n",
       "        -4.07673378e+16,  2.83187862e+17, -3.78633912e+17,\n",
       "        -1.22060313e+17,  2.34434330e+17,  4.08983734e+18,\n",
       "         1.46940672e+17, -2.83289994e+17,  3.12082315e+18,\n",
       "         2.21423943e+17],\n",
       "       [-1.40200861e+15,  3.96754364e+16, -5.25570804e+15,\n",
       "        -2.11505084e+15,  7.29327875e+13, -2.40595367e+15,\n",
       "         1.19244315e+15,  4.17318937e+14,  4.52183282e+15,\n",
       "        -5.26683724e+15, -2.65297216e+15,  1.98757576e+15,\n",
       "        -7.11824006e+16, -8.70198085e+14, -4.96868650e+14,\n",
       "        -1.10776054e+14, -3.05103414e+15,  3.14358187e+15,\n",
       "         1.67745411e+15, -1.69985099e+15, -6.44725841e+16,\n",
       "        -2.00122965e+15,  5.27481736e+15, -3.20904265e+15,\n",
       "        -2.38854879e+15],\n",
       "       [-3.37403431e+16,  1.58001591e+17, -5.12284100e+16,\n",
       "        -6.82942622e+16,  1.35363254e+16, -5.65438729e+16,\n",
       "         1.52285729e+16,  2.63678640e+15, -2.54389563e+16,\n",
       "        -8.56688103e+16, -3.76017221e+16,  1.79738091e+16,\n",
       "        -7.02255224e+17, -1.39746685e+16, -3.33750236e+15,\n",
       "         1.54236734e+15, -3.60707641e+16,  4.81104040e+16,\n",
       "         3.75166259e+16, -1.62478116e+16, -5.52188721e+17,\n",
       "        -1.91200654e+16,  4.91767760e+16, -1.92075789e+17,\n",
       "        -2.53806100e+16],\n",
       "       [-1.49731497e+17,  5.84395840e+17, -2.20595391e+17,\n",
       "        -3.06667785e+17,  9.00865791e+16, -2.47404705e+17,\n",
       "         6.10624643e+16,  1.40958569e+16, -1.79239619e+17,\n",
       "        -3.77747556e+17, -1.64496554e+17,  7.40841583e+16,\n",
       "        -3.53064707e+18, -7.05312315e+16, -1.70026520e+16,\n",
       "         9.39374766e+13, -1.57947374e+17,  2.58172429e+17,\n",
       "         2.27316912e+17, -1.00476227e+17, -2.62137942e+18,\n",
       "        -9.07327411e+16,  2.59928065e+17, -2.74460666e+17,\n",
       "        -9.68547418e+16],\n",
       "       [ 2.08067381e+16, -8.12179521e+16,  2.74202320e+16,\n",
       "         3.08213960e+16, -1.28653437e+16,  1.74934766e+16,\n",
       "        -7.61922820e+15, -1.21126238e+15,  6.70398183e+16,\n",
       "         3.84683153e+16,  1.37627288e+16, -7.27638477e+15,\n",
       "         2.77961440e+17,  8.50449193e+15,  2.77692897e+14,\n",
       "        -8.79461290e+14,  1.16462419e+16, -1.43195532e+16,\n",
       "         6.73898956e+15,  1.11963618e+16,  3.04917398e+17,\n",
       "         6.21141016e+15, -1.34456976e+16,  1.04906522e+17,\n",
       "         1.06117206e+16]])"
      ]
     },
     "execution_count": 134,
     "metadata": {},
     "output_type": "execute_result"
    }
   ],
   "source": [
    "np.linalg.inv(np.cov(X1))"
   ]
  },
  {
   "cell_type": "code",
   "execution_count": 138,
   "metadata": {
    "ExecuteTime": {
     "end_time": "2019-01-16T15:30:55.975006Z",
     "start_time": "2019-01-16T15:30:55.965722Z"
    }
   },
   "outputs": [
    {
     "data": {
      "text/plain": [
       "array([[-9.55802114e+17, -9.55802114e+17],\n",
       "       [-9.55802114e+17, -9.55802114e+17]])"
      ]
     },
     "execution_count": 138,
     "metadata": {},
     "output_type": "execute_result"
    }
   ],
   "source": [
    "(X1-X1.mean()).T.dot(np.linalg.inv(np.cov(X1))).dot(X1-X1.mean())"
   ]
  },
  {
   "cell_type": "code",
   "execution_count": 157,
   "metadata": {
    "ExecuteTime": {
     "end_time": "2019-01-16T15:40:00.557267Z",
     "start_time": "2019-01-16T15:40:00.549815Z"
    }
   },
   "outputs": [],
   "source": [
    "def depthMah(x,X) :\n",
    "    mu_X = X.mean()\n",
    "    sigma = np.cov(X.T)\n",
    "    sigma_1 = np.linalg.inv(sigma)\n",
    "    dist = (x-mu_X).T.dot(sigma_1).dot(x-mu_X)\n",
    "    return 1/(1+dist)"
   ]
  },
  {
   "cell_type": "code",
   "execution_count": 159,
   "metadata": {
    "ExecuteTime": {
     "end_time": "2019-01-16T15:42:11.122131Z",
     "start_time": "2019-01-16T15:42:11.109879Z"
    }
   },
   "outputs": [],
   "source": [
    "depth = []\n",
    "for obs in X1 :\n",
    "    depth.append(depthMah(obs,X1))"
   ]
  },
  {
   "cell_type": "code",
   "execution_count": 184,
   "metadata": {
    "ExecuteTime": {
     "end_time": "2019-01-16T15:52:35.607680Z",
     "start_time": "2019-01-16T15:52:35.583843Z"
    }
   },
   "outputs": [],
   "source": [
    "symlist = ['o', 's', 'D', 'x', '+', '*', 'p', 'v', '-', '^']\n",
    "def plot_2d(data, y=None, w=None, alpha_choice=1):\n",
    "    \"\"\" Plot in 2D the dataset data, colors and symbols according to the\n",
    "    class given by the vector y (if given); the separating hyperplan w can\n",
    "    also be displayed if asked\"\"\"\n",
    "\n",
    "    k = np.unique(y).shape[0]\n",
    "    color_blind_list = sns.color_palette(\"colorblind\", k)\n",
    "    sns.set_palette(color_blind_list)\n",
    "    if y is None:\n",
    "        labs = [\"\"]\n",
    "        idxbyclass = [range(data.shape[0])]\n",
    "    else:\n",
    "        labs = np.unique(y)\n",
    "        idxbyclass = [np.where(y == labs[i])[0] for i in range(len(labs))]\n",
    "\n",
    "    for i in range(len(labs)):\n",
    "        plt.scatter(data[idxbyclass[i], 0], data[idxbyclass[i], 1],\n",
    "                    c=color_blind_list[i], s=depth[i]*500, marker='o')\n",
    "        #plt.annotate(depth, (data[idxbyclass[i], 0], data[idxbyclass[i], 1]))\n",
    "    plt.ylim([np.min(data[:, 1]), np.max(data[:, 1])])\n",
    "    plt.xlim([np.min(data[:, 0]), np.max(data[:, 0])])\n",
    "    mx = np.min(data[:, 0])\n",
    "    maxx = np.max(data[:, 0])\n",
    "    if w is not None:\n",
    "        plt.plot([mx, maxx], [mx * -w[1] / w[2] - w[0] / w[2],\n",
    "                              maxx * -w[1] / w[2] - w[0] / w[2]],\n",
    "                 \"g\", alpha=alpha_choice)"
   ]
  },
  {
   "cell_type": "code",
   "execution_count": 185,
   "metadata": {
    "ExecuteTime": {
     "end_time": "2019-01-16T15:52:36.545200Z",
     "start_time": "2019-01-16T15:52:36.273486Z"
    }
   },
   "outputs": [
    {
     "name": "stderr",
     "output_type": "stream",
     "text": [
      "'c' argument looks like a single numeric RGB or RGBA sequence, which should be avoided as value-mapping will have precedence in case its length matches with 'x' & 'y'.  Please use a 2-D array with a single row if you really want to specify the same RGB or RGBA value for all points.\n",
      "'c' argument looks like a single numeric RGB or RGBA sequence, which should be avoided as value-mapping will have precedence in case its length matches with 'x' & 'y'.  Please use a 2-D array with a single row if you really want to specify the same RGB or RGBA value for all points.\n"
     ]
    },
    {
     "data": {
      "image/png": "[encoded data removed]",
      "text/plain": [
       "<Figure size 432x288 with 1 Axes>"
      ]
     },
     "metadata": {},
     "output_type": "display_data"
    }
   ],
   "source": [
    "plot_2d(X1, y1)"
   ]
  },
  {
   "cell_type": "code",
   "execution_count": null,
   "metadata": {},
   "outputs": [],
   "source": [
    "fig, ax = plt.subplots()\n",
    "ax.scatter(X, y)\n",
    "\n",
    "for i, txt in enumerate(n):\n",
    "    ax.annotate(txt, (z[i], y[i]))"
   ]
  }
 ],
 "metadata": {
  "kernelspec": {
   "display_name": "Python 3",
   "language": "python",
   "name": "python3"
  },
  "language_info": {
   "codemirror_mode": {
    "name": "ipython",
    "version": 3
   },
   "file_extension": ".py",
   "mimetype": "text/x-python",
   "name": "python",
   "nbconvert_exporter": "python",
   "pygments_lexer": "ipython3",
   "version": "3.6.5"
  },
  "latex_envs": {
   "LaTeX_envs_menu_present": true,
   "autoclose": false,
   "autocomplete": true,
   "bibliofile": "biblio.bib",
   "cite_by": "apalike",
   "current_citInitial": 1,
   "eqLabelWithNumbers": true,
   "eqNumInitial": 1,
   "hotkeys": {
    "equation": "Ctrl-E",
    "itemize": "Ctrl-I"
   },
   "labels_anchors": false,
   "latex_user_defs": false,
   "report_style_numbering": false,
   "user_envs_cfg": false
  },
  "toc": {
   "base_numbering": 1,
   "nav_menu": {},
   "number_sections": true,
   "sideBar": true,
   "skip_h1_title": false,
   "title_cell": "Table of Contents",
   "title_sidebar": "Contents",
   "toc_cell": false,
   "toc_position": {},
   "toc_section_display": true,
   "toc_window_display": false
  }
 },
 "nbformat": 4,
 "nbformat_minor": 2
}
