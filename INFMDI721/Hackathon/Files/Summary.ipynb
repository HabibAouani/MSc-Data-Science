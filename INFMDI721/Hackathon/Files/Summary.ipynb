{
 "cells": [
  {
   "cell_type": "markdown",
   "metadata": {
    "slideshow": {
     "slide_type": "slide"
    }
   },
   "source": [
    "# Web Scraping - Table"
   ]
  },
  {
   "cell_type": "code",
   "execution_count": 3,
   "metadata": {
    "ExecuteTime": {
     "end_time": "2018-11-29T19:56:47.716196Z",
     "start_time": "2018-11-29T19:56:47.696281Z"
    },
    "slideshow": {
     "slide_type": "slide"
    }
   },
   "outputs": [],
   "source": [
    "from bs4 import BeautifulSoup\n",
    "import requests\n",
    "import pandas as pd\n",
    "import numpy as np\n",
    "import requests\n",
    "import json\n",
    "from github import Github\n",
    "from flask import jsonify\n",
    "\n",
    "web_link = \"https://gist.github.com/paulmillr/2657075\"\n",
    "\n",
    "def get_names(link):\n",
    "\n",
    "    soup = BeautifulSoup(requests.get(link).text, \"html.parser\")\n",
    "\n",
    "    table = soup.find(\"table\")\n",
    "    table_data = table.find_all(\"td\")\n",
    "    data = []\n",
    "\n",
    "    for info in table_data :\n",
    "        data.append(info.text)\n",
    "\n",
    "\n",
    "    table_data = pd.DataFrame(np.array(data).reshape(256,4), columns=['Name', 'Contributions', 'Location', 'ToDrop'])\n",
    "    table_data = table_data.drop(['ToDrop'], axis=1)\n",
    "    print(table_data)"
   ]
  },
  {
   "cell_type": "code",
   "execution_count": 4,
   "metadata": {
    "ExecuteTime": {
     "end_time": "2018-11-29T19:56:56.425891Z",
     "start_time": "2018-11-29T19:56:48.807616Z"
    },
    "slideshow": {
     "slide_type": "slide"
    }
   },
   "outputs": [
    {
     "name": "stdout",
     "output_type": "stream",
     "text": [
      "                                        Name Contributions  \\\n",
      "0                  fabpot (Fabien Potencier)         12947   \n",
      "1                    andrew (Andrew Nesbitt)         10188   \n",
      "2               taylorotwell (Taylor Otwell)          8376   \n",
      "3                            egoist (EGOIST)          7688   \n",
      "4               HugoGiraudel (Hugo Giraudel)          7658   \n",
      "5               ornicar (Thibault Duplessis)          7341   \n",
      "6                  bebraw (Juho Vepsäläinen)          6895   \n",
      "7                          nelsonic (Nelson)          6501   \n",
      "8               alexcrichton (Alex Crichton)          6145   \n",
      "9                  jonathanong (jongleberry)          5763   \n",
      "10                 mikermcneil (Mike McNeil)          5736   \n",
      "11                    benbalter (Ben Balter)          5699   \n",
      "12                    jxnblk (Brent Jackson)          5601   \n",
      "13                yegor256 (Yegor Bugayenko)          5566   \n",
      "14                               orta (Orta)          5453   \n",
      "15                 rstacruz (Rico Sta. Cruz)          5313   \n",
      "16          GrahamCampbell (Graham Campbell)          5135   \n",
      "17                               afc163 (偏右)          5069   \n",
      "18              kamranahmedse (Kamran Ahmed)          4994   \n",
      "19                 joshaber (Josh Abernathy)          4941   \n",
      "20                bkeepers (Brandon Keepers)          4873   \n",
      "21              kennethreitz (Kenneth Reitz)          4873   \n",
      "22                   kytrinyx (Katrina Owen)          4866   \n",
      "23                       STRML (Samuel Reed)          4855   \n",
      "24                     atmos (Corey Donohoe)          4826   \n",
      "25   weierophinney (Matthew Weier O'Phinney)          4820   \n",
      "26                    agentzh (Yichun Zhang)          4740   \n",
      "27              steipete (Peter Steinberger)          4694   \n",
      "28                        ai (Andrey Sitnik)          4664   \n",
      "29                      mikepenz (Mike Penz)          4659   \n",
      "..                                       ...           ...   \n",
      "226                     nikic (Nikita Popov)          1498   \n",
      "227                     codahale (Coda Hale)          1496   \n",
      "228         amitshekhariitbhu (AMIT SHEKHAR)          1495   \n",
      "229                             rakyll (JBD)          1483   \n",
      "230                    junyanz (Jun-Yan Zhu)          1479   \n",
      "231                        simurai (simurai)          1478   \n",
      "232       nicolasgramlich (Nicolas Gramlich)          1459   \n",
      "233               shiffman (Daniel Shiffman)          1455   \n",
      "234                  purcell (Steve Purcell)          1441   \n",
      "235                   evanphx (Evan Phoenix)          1436   \n",
      "236               ericelliott (Eric Elliott)          1436   \n",
      "237                       matyhtf (Tianfeng)          1434   \n",
      "238           StephenGrider (Stephen Grider)          1431   \n",
      "239                     AdamBien (Adam Bien)          1430   \n",
      "240                  rtomayko (Ryan Tomayko)          1428   \n",
      "241               tomchristie (Tom Christie)          1413   \n",
      "242                 be5invis (Belleve Invis)          1402   \n",
      "243               amueller (Andreas Mueller)          1393   \n",
      "244                     dead-horse (Yiyu He)          1380   \n",
      "245                        remy (Remy Sharp)          1379   \n",
      "246                             Unknwon (无闻)          1374   \n",
      "247                   jiyinyiyong (Jon Chen)          1373   \n",
      "248                          Shougo (Shougo)          1371   \n",
      "249             arunoda (Arunoda Susiripala)          1369   \n",
      "250                benoitc (Benoit Chesneau)          1364   \n",
      "251                          ask (Ask Solem)          1363   \n",
      "252               JohnSundell (John Sundell)          1356   \n",
      "253                   Raynos (Jake Verbaten)          1334   \n",
      "254                 samuelclay (Samuel Clay)          1332   \n",
      "255       unicodeveloper (Prosper Otemuyiwa)          1322   \n",
      "\n",
      "                      Location  \n",
      "0                San Francisco  \n",
      "1                 Somerset, UK  \n",
      "2              Little Rock, AR  \n",
      "3               Chengdu, China  \n",
      "4                       Berlin  \n",
      "5                Paris, France  \n",
      "6              Vienna, Austria  \n",
      "7                       London  \n",
      "8            San Francisco, CA  \n",
      "9              Los Angeles, CA  \n",
      "10                  Austin, TX  \n",
      "11              Washington, DC  \n",
      "12               New York City  \n",
      "13               Palo Alto, CA  \n",
      "14          NYC / Huddersfield  \n",
      "15         Manila, Philippines  \n",
      "16          The United Kingdom  \n",
      "17             Hangzhou, China  \n",
      "18                       Dubai  \n",
      "19                The Gem City  \n",
      "20                              \n",
      "21              Winchester, VA  \n",
      "22                              \n",
      "23               Milwaukee, WI  \n",
      "24            South Lake Tahoe  \n",
      "25        Sioux Falls, SD, USA  \n",
      "26      San Francisco Bay Area  \n",
      "27             Vienna, Austria  \n",
      "28    Saint Petersburg, Russia  \n",
      "29               Linz, Austria  \n",
      "..                         ...  \n",
      "226            Berlin, Germany  \n",
      "227                Oakland, CA  \n",
      "228           New Delhi, India  \n",
      "229          San Francisco, CA  \n",
      "230               Berkeley, CA  \n",
      "231             Sapporo, Japan  \n",
      "232          San Francisco, CA  \n",
      "233               New York, NY  \n",
      "234    Wellington, New Zealand  \n",
      "235            Los Angeles, CA  \n",
      "236  San Francisco, California  \n",
      "237                      China  \n",
      "238                             \n",
      "239                Planet Java  \n",
      "240                 Austin, TX  \n",
      "241               Brighton, UK  \n",
      "242             Beijing, China  \n",
      "243                        NYC  \n",
      "244            Hangzhou, China  \n",
      "245               Brighton, UK  \n",
      "246                 Boston, MA  \n",
      "247            Shanghai, China  \n",
      "248                        Vim  \n",
      "249         Colombo, Sri Lanka  \n",
      "250              Creil, France  \n",
      "251              Palo Alto, CA  \n",
      "252   Poland / Norway / Sweden  \n",
      "253              San Francisco  \n",
      "254              San Francisco  \n",
      "255             Lagos, Nigeria  \n",
      "\n",
      "[256 rows x 3 columns]\n"
     ]
    }
   ],
   "source": [
    "get_names(web_link)"
   ]
  },
  {
   "cell_type": "markdown",
   "metadata": {
    "slideshow": {
     "slide_type": "slide"
    }
   },
   "source": [
    "# Web Scraping - Specific cells"
   ]
  },
  {
   "cell_type": "code",
   "execution_count": null,
   "metadata": {
    "slideshow": {
     "slide_type": "slide"
    }
   },
   "outputs": [],
   "source": [
    "import requests\n",
    "import unittest\n",
    "from bs4 import BeautifulSoup\n",
    "import pandas as pd\n",
    "\n",
    "website_prefix = \"https://www.reuters.com/finance/stocks/financial-highlights/\"\n",
    "stock_mkt = \"PA\"\n",
    "stock_name = ['AIR', 'LVMH', 'DANO']\n",
    "\n",
    "df = []\n",
    "\n",
    "for j in stock_name :\n",
    "\n",
    "    def _handle_request_result_and_build_soup(request_result):\n",
    "        if request_result.status_code == 200:\n",
    "            html_doc =  request_result.text\n",
    "            soup = BeautifulSoup(html_doc,\"html.parser\")\n",
    "        return soup\n",
    "\n",
    "    url = website_prefix + j + \".\" + stock_mkt\n",
    "    res = requests.get(url)\n",
    "    soup = _handle_request_result_and_build_soup(res)\n",
    "\n",
    "    data = []\n",
    "    sp = []\n",
    "    change_per = []\n",
    "\n",
    "    print((((((soup.find(\"span\", class_=\"valueContent\")).text).replace(\"\\n\", \"\").replace(\"\t    \t\t\t\t\t\t    \", \"\")).replace(\"€\", \"\")).split(\"\t\t\t\t\t            \")[0]))\n",
    "\n",
    "    data.extend(list(map(lambda x: (((x.text).replace(\",\", \"\")).replace(\"--\", \"0\")), soup.find_all(\"td\", class_=\"data\"))))\n",
    "    change_per.extend(list(map(lambda x: x.split(\"\\t\"), (((((soup.find(\"span\", class_=\"valueContent\")).text).replace(\"\\n\", \"\").replace(\"\t    \t\t\t\t\t\t    \", \"\")).replace(\"€\", \"\")).split(\"\t\t\t\t\t            \")[0]))))\n",
    "    sp.extend(list(map(lambda x: (((x.text).replace(\"\\n\\n\\t\\t\\t\\t\", \"\")).replace(\"EUR\", \"\")).split(\"\\n\"), soup.find_all(\"div\", class_=\"sectionQuoteDetail\"))))\n",
    "    print(change_per)"
   ]
  },
  {
   "cell_type": "markdown",
   "metadata": {
    "slideshow": {
     "slide_type": "slide"
    }
   },
   "source": [
    "# Working with APIs"
   ]
  },
  {
   "cell_type": "code",
   "execution_count": null,
   "metadata": {
    "slideshow": {
     "slide_type": "slide"
    }
   },
   "outputs": [],
   "source": [
    "import pandas as pd\n",
    "import requests\n",
    "import xlrd\n",
    "\n",
    "population = pd.read_excel(\"ensemble.xls\", skiprows=7, sheet_name = 'Communes')\n",
    "population = population[[\"Nom de la commune\", \"Population totale\", \"Code département\"]]\n",
    "population = population.sort_values(by=[\"Population totale\"], ascending = False)\n",
    "# \"~\" negates the condition\n",
    "population = population[~population['Nom de la commune'].str.contains('Paris')]\n",
    "LIMIT = 30\n",
    "\n",
    "population = population[3:10]\n",
    "\n",
    "API_key = open(\"api_key.txt\", \"r\").read()\n",
    "\n",
    "url_template = \"https://maps.googleapis.com/maps/api/distancematrix/json?units=metric&origins={}&destinations={}&key={}\"\n",
    "origins = '|'.join(population['Nom de la commune'])\n",
    "destinations = '|'.join(population['Nom de la commune'])\n",
    "url_formatted = url_template.format(origins, destinations,API_key)\n",
    "\n",
    "\n",
    "results = requests.get(url_formatted).json()"
   ]
  },
  {
   "cell_type": "markdown",
   "metadata": {
    "slideshow": {
     "slide_type": "slide"
    }
   },
   "source": [
    "# Test Driven Development"
   ]
  },
  {
   "cell_type": "code",
   "execution_count": 1,
   "metadata": {
    "ExecuteTime": {
     "end_time": "2018-11-29T19:07:51.635353Z",
     "start_time": "2018-11-29T19:07:51.591900Z"
    },
    "slideshow": {
     "slide_type": "subslide"
    }
   },
   "outputs": [],
   "source": [
    "import unittest #Library that allows tests\n",
    "\n",
    "def array_front9(nums):\n",
    "    for index, element in enumerate(nums):\n",
    "        #enumerate permet de boucler sur l'index et la valeur\n",
    "        if index <= 3 and element == 9 :\n",
    "            return True\n",
    "    return False\n",
    "\n",
    "#We now want to check that our function works\n",
    "class Lesson1Tests(unittest.TestCase):\n",
    "\n",
    "    def testArrayFront9(self):\n",
    "\n",
    "\t   #Pre-defined tests and results\n",
    "        self.assertEqual(array_front9([1, 2, 9, 3, 4]) , True)\n",
    "        self.assertEqual(array_front9([1, 2, 3, 4, 9]) , False)\n",
    "        self.assertEqual(array_front9([1, 2, 3, 4, 5]) , False)\n",
    "\n",
    "def main():\n",
    "    unittest.main()\n",
    "    #If all tests are concluent, will return True\n"
   ]
  },
  {
   "cell_type": "markdown",
   "metadata": {
    "slideshow": {
     "slide_type": "slide"
    }
   },
   "source": [
    "# Create map"
   ]
  },
  {
   "cell_type": "code",
   "execution_count": 28,
   "metadata": {
    "ExecuteTime": {
     "end_time": "2018-11-29T21:59:15.641593Z",
     "start_time": "2018-11-29T21:59:14.022702Z"
    },
    "slideshow": {
     "slide_type": "subslide"
    }
   },
   "outputs": [],
   "source": [
    "import pandas as pd\n",
    "import folium\n",
    "from matplotlib.colors import Normalize, rgb2hex\n",
    "import matplotlib.cm as cm"
   ]
  },
  {
   "cell_type": "code",
   "execution_count": 145,
   "metadata": {
    "ExecuteTime": {
     "end_time": "2018-11-29T23:20:05.530976Z",
     "start_time": "2018-11-29T23:20:04.632319Z"
    },
    "slideshow": {
     "slide_type": "subslide"
    }
   },
   "outputs": [],
   "source": [
    "data = pd.read_csv('http://earthquake.usgs.gov/earthquakes/feed/v1.0/summary/all_day.csv')\n",
    "norm = Normalize(data['mag'].min(), data['mag'].max())\n",
    "\n",
    "\n",
    "map = folium.Map(location=[48, -102], zoom_start=3, png_enabled =True)\n",
    "for eq in data.iterrows():\n",
    "    color = rgb2hex(cm.OrRd(norm(float(eq[1]['mag']))))\n",
    "    folium.CircleMarker(location = [eq[1]['latitude'], eq[1]['longitude']], fill_color=color,popup=eq[1]['place'], \n",
    "                    radius=4*float(eq[1]['mag']),color=color\n",
    "                    ).add_to(map)\n",
    "map.save('map.png')\n",
    "    "
   ]
  },
  {
   "cell_type": "code",
   "execution_count": 168,
   "metadata": {
    "ExecuteTime": {
     "end_time": "2018-11-30T09:37:01.887583Z",
     "start_time": "2018-11-30T09:37:01.790798Z"
    },
    "slideshow": {
     "slide_type": "skip"
    }
   },
   "outputs": [
    {
     "data": {
      "text/html": [
       "<iframe width='100%'' height='800' frameborder='0' scrolling='no' src='map.html'></iframe>"
      ],
      "text/plain": [
       "<IPython.core.display.HTML object>"
      ]
     },
     "execution_count": 168,
     "metadata": {},
     "output_type": "execute_result"
    }
   ],
   "source": [
    "import IPython\n",
    "iframe = \"<iframe width='100%'' height='800' frameborder='0' scrolling='no' src='map.html'></iframe>\"\n",
    "IPython.display.HTML(iframe)"
   ]
  },
  {
   "cell_type": "code",
   "execution_count": 129,
   "metadata": {
    "ExecuteTime": {
     "end_time": "2018-11-29T23:10:43.186264Z",
     "start_time": "2018-11-29T23:10:42.894687Z"
    },
    "slideshow": {
     "slide_type": "slide"
    }
   },
   "outputs": [
    {
     "data": {
      "image/png": "[encoded data removed]",
      "text/plain": [
       "<Figure size 432x288 with 1 Axes>"
      ]
     },
     "metadata": {},
     "output_type": "display_data"
    }
   ],
   "source": [
    "import matplotlib\n",
    "import matplotlib.pyplot as plt\n",
    "import numpy as np\n",
    "\n",
    "# Data for plotting\n",
    "t = np.arange(0.0, 2.0, 0.01)\n",
    "s = 1 + np.sin(2 * np.pi * t)\n",
    "\n",
    "fig, ax = plt.subplots()\n",
    "ax.plot(t, s)\n",
    "\n",
    "ax.set(xlabel='time (s)', ylabel='voltage (mV)',\n",
    "       title='About as simple as it gets, folks')\n",
    "ax.grid()\n",
    "\n",
    "plt.show()"
   ]
  },
  {
   "cell_type": "markdown",
   "metadata": {
    "slideshow": {
     "slide_type": "slide"
    }
   },
   "source": [
    "# Generate report"
   ]
  },
  {
   "cell_type": "code",
   "execution_count": 123,
   "metadata": {
    "ExecuteTime": {
     "end_time": "2018-11-29T23:08:31.863422Z",
     "start_time": "2018-11-29T23:08:31.851101Z"
    },
    "slideshow": {
     "slide_type": "slide"
    }
   },
   "outputs": [],
   "source": [
    "from reportlab.pdfgen import canvas\n",
    " \n",
    "c = canvas.Canvas(\"hello.pdf\")\n",
    "c.drawString(100,750,\"Welcome to Reportlab!\")\n",
    "c.save()"
   ]
  },
  {
   "cell_type": "code",
   "execution_count": 165,
   "metadata": {
    "ExecuteTime": {
     "end_time": "2018-11-30T07:03:28.572838Z",
     "start_time": "2018-11-30T07:03:28.503701Z"
    },
    "slideshow": {
     "slide_type": "slide"
    }
   },
   "outputs": [
    {
     "data": {
      "application/javascript": [
       "require([\"base/js/namespace\"],function(Jupyter) {\n",
       "    Jupyter.notebook.save_checkpoint();\n",
       "});"
      ],
      "text/plain": [
       "<IPython.core.display.Javascript object>"
      ]
     },
     "metadata": {},
     "output_type": "display_data"
    }
   ],
   "source": [
    "%%javascript\n",
    "require([\"base/js/namespace\"],function(Jupyter) {\n",
    "    Jupyter.notebook.save_checkpoint();\n",
    "});"
   ]
  },
  {
   "cell_type": "code",
   "execution_count": 166,
   "metadata": {
    "ExecuteTime": {
     "end_time": "2018-11-30T07:03:35.637362Z",
     "start_time": "2018-11-30T07:03:30.118194Z"
    },
    "slideshow": {
     "slide_type": "slide"
    }
   },
   "outputs": [
    {
     "data": {
      "text/plain": [
       "0"
      ]
     },
     "execution_count": 166,
     "metadata": {},
     "output_type": "execute_result"
    }
   ],
   "source": [
    "import os\n",
    "os.system(\"jupyter nbconvert --to slides Summary.ipynb\")\n",
    "#latest modif"
   ]
  },
  {
   "cell_type": "markdown",
   "metadata": {
    "slideshow": {
     "slide_type": "slide"
    }
   },
   "source": [
    "# Send Email report"
   ]
  },
  {
   "cell_type": "code",
   "execution_count": 163,
   "metadata": {
    "ExecuteTime": {
     "end_time": "2018-11-29T23:51:33.341830Z",
     "start_time": "2018-11-29T23:51:25.469552Z"
    },
    "slideshow": {
     "slide_type": "slide"
    }
   },
   "outputs": [
    {
     "data": {
      "text/plain": [
       "(221, b'2.0.0 closing connection h203sm6894917wma.19 - gsmtp')"
      ]
     },
     "execution_count": 163,
     "metadata": {},
     "output_type": "execute_result"
    }
   ],
   "source": [
    "import smtplib\n",
    "from email.mime.multipart import MIMEMultipart\n",
    "from email.mime.text import MIMEText\n",
    "from email.mime.base import MIMEBase\n",
    "from email import encoders\n",
    " \n",
    "fromaddr = \"mael.fabien@gmail.com\"\n",
    "toaddr = \"mael.fabien@gmail.com\"\n",
    " \n",
    "msg = MIMEMultipart()\n",
    " \n",
    "msg['From'] = fromaddr\n",
    "msg['To'] = toaddr\n",
    "msg['Subject'] = \"Hackathon groupe baseline-college\"\n",
    " \n",
    "body = '''Bonjour Charles, \n",
    "\n",
    "\n",
    "Vous trouverez en pièce jointe de ce mail notre travail pour le Hackathon du MS Big Data.\n",
    "\n",
    "\n",
    "Meilleures salutations,\n",
    "\n",
    "\n",
    "Anatoli, Raphaël, Anthony, Alexandre, Maël \n",
    "\n",
    "'''\n",
    " \n",
    "msg.attach(MIMEText(body, 'plain'))\n",
    " \n",
    "filename = \"Summary.html\"\n",
    "attachment = open(filename, \"rb\")\n",
    " \n",
    "part = MIMEBase('application', 'octet-stream')\n",
    "part.set_payload((attachment).read())\n",
    "encoders.encode_base64(part)\n",
    "part.add_header('Content-Disposition', \"attachment; filename= %s\" % filename)\n",
    " \n",
    "msg.attach(part)\n",
    " \n",
    "server = smtplib.SMTP('smtp.gmail.com', 587)\n",
    "server.starttls()\n",
    "server.login(fromaddr, \"solenn98\")\n",
    "text = msg.as_string()\n",
    "server.sendmail(fromaddr, toaddr, text)\n",
    "server.quit()"
   ]
  },
  {
   "cell_type": "code",
   "execution_count": 167,
   "metadata": {
    "ExecuteTime": {
     "end_time": "2018-11-30T07:08:32.579602Z",
     "start_time": "2018-11-30T07:08:29.342574Z"
    }
   },
   "outputs": [],
   "source": [
    "import os \n",
    "import smtplib\n",
    "\n",
    "from email.mime.multipart import MIMEMultipart\n",
    "from email.mime.text import MIMEText\n",
    "from email.mime.base import MIMEBase\n",
    "from email.mime.image import MIMEImage\n",
    "from email import encoders\n",
    "\n",
    "with open('Login.txt', 'r') as file:\n",
    "    gmail_pwd = file.read()\n",
    "\n",
    "#Set up crap for the attachments\n",
    "#files = \"/tmp/test/dbfiles\"\n",
    "filenames = [\"Summary.html\", \"map.html\"]\n",
    "#print filenames\n",
    "\n",
    "\n",
    "#Set up users for email\n",
    "gmail_user = \"mael.fabien@gmail.com\"\n",
    "#gmail_pwd = open('Login.txt', 'r')\n",
    "recipients = ['anatoli.db@gmail.com','anthonyhoudaille@gmail.com', 'raphael.lederman@wanadoo.fr', 'alexandre.bec@telecom-paristech.fr']\n",
    "\n",
    "#Create Module\n",
    "def mail(to, subject, text, attach):\n",
    "    msg = MIMEMultipart()\n",
    "    msg['From'] = gmail_user\n",
    "    msg['To'] = \", \".join(recipients)\n",
    "    msg['Subject'] = subject\n",
    "\n",
    "    msg.attach(MIMEText(text))\n",
    "\n",
    "    #get all the attachments\n",
    "    for file in filenames:\n",
    "        part = MIMEBase('application', 'octet-stream')\n",
    "        part.set_payload(open(file, 'rb').read())\n",
    "        encoders.encode_base64(part)\n",
    "        part.add_header('Content-Disposition', 'attachment; filename=\"%s\"' % file)\n",
    "        msg.attach(part)\n",
    "\n",
    "    mailServer = smtplib.SMTP(\"smtp.gmail.com\", 587)\n",
    "    mailServer.ehlo()\n",
    "    mailServer.starttls()\n",
    "    mailServer.ehlo()\n",
    "    mailServer.login(gmail_user, gmail_pwd)\n",
    "    mailServer.sendmail(gmail_user, to, msg.as_string())\n",
    "    # Should be mailServer.quit(), but that crashes...\n",
    "    mailServer.close()\n",
    "\n",
    "body = '''Bonjour Charles, \n",
    "\n",
    "\n",
    "Vous trouverez en pièce jointe de ce mail notre travail pour le Hackathon du MS Big Data.\n",
    "\n",
    "\n",
    "Meilleures salutations,\n",
    "\n",
    "\n",
    "Anatoli, Raphaël, Anthony, Alexandre, Maël \n",
    "\n",
    "'''\n",
    "#send it\n",
    "mail(recipients,\"Hackathon\",body,filenames)"
   ]
  },
  {
   "cell_type": "code",
   "execution_count": null,
   "metadata": {},
   "outputs": [],
   "source": []
  }
 ],
 "metadata": {
  "celltoolbar": "Slideshow",
  "kernelspec": {
   "display_name": "Python 3",
   "language": "python",
   "name": "python3"
  },
  "language_info": {
   "codemirror_mode": {
    "name": "ipython",
    "version": 3
   },
   "file_extension": ".py",
   "mimetype": "text/x-python",
   "name": "python",
   "nbconvert_exporter": "python",
   "pygments_lexer": "ipython3",
   "version": "3.6.5"
  },
  "latex_envs": {
   "LaTeX_envs_menu_present": true,
   "autoclose": false,
   "autocomplete": true,
   "bibliofile": "biblio.bib",
   "cite_by": "apalike",
   "current_citInitial": 1,
   "eqLabelWithNumbers": true,
   "eqNumInitial": 1,
   "hotkeys": {
    "equation": "Ctrl-E",
    "itemize": "Ctrl-I"
   },
   "labels_anchors": false,
   "latex_user_defs": false,
   "report_style_numbering": false,
   "user_envs_cfg": false
  },
  "toc": {
   "base_numbering": 1,
   "nav_menu": {},
   "number_sections": true,
   "sideBar": true,
   "skip_h1_title": false,
   "title_cell": "Table of Contents",
   "title_sidebar": "Contents",
   "toc_cell": false,
   "toc_position": {},
   "toc_section_display": true,
   "toc_window_display": false
  }
 },
 "nbformat": 4,
 "nbformat_minor": 2
}
