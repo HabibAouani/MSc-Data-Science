{
 "cells": [
  {
   "cell_type": "markdown",
   "metadata": {},
   "source": [
    "# KickStarter campaign success predict\n",
    "\n",
    "In the following text, we will be taking a closer look at a KickStarter's campaign success prediction based on the Kaggle database"
   ]
  },
  {
   "cell_type": "code",
   "execution_count": 40,
   "metadata": {},
   "outputs": [
    {
     "data": {
      "text/html": [
       "<div>\n",
       "<style scoped>\n",
       "    .dataframe tbody tr th:only-of-type {\n",
       "        vertical-align: middle;\n",
       "    }\n",
       "\n",
       "    .dataframe tbody tr th {\n",
       "        vertical-align: top;\n",
       "    }\n",
       "\n",
       "    .dataframe thead th {\n",
       "        text-align: right;\n",
       "    }\n",
       "</style>\n",
       "<table border=\"1\" class=\"dataframe\">\n",
       "  <thead>\n",
       "    <tr style=\"text-align: right;\">\n",
       "      <th></th>\n",
       "      <th>project_id</th>\n",
       "      <th>name</th>\n",
       "      <th>desc</th>\n",
       "      <th>goal</th>\n",
       "      <th>keywords</th>\n",
       "      <th>disable_communication</th>\n",
       "      <th>country</th>\n",
       "      <th>currency</th>\n",
       "      <th>deadline</th>\n",
       "      <th>state_changed_at</th>\n",
       "      <th>created_at</th>\n",
       "      <th>launched_at</th>\n",
       "      <th>backers_count</th>\n",
       "      <th>final_status</th>\n",
       "    </tr>\n",
       "  </thead>\n",
       "  <tbody>\n",
       "    <tr>\n",
       "      <th>0</th>\n",
       "      <td>kkst1451568084</td>\n",
       "      <td>drawing for dollars</td>\n",
       "      <td>I like drawing pictures. and then i color them...</td>\n",
       "      <td>20.0</td>\n",
       "      <td>drawing-for-dollars</td>\n",
       "      <td>False</td>\n",
       "      <td>US</td>\n",
       "      <td>USD</td>\n",
       "      <td>1241333999</td>\n",
       "      <td>1241334017</td>\n",
       "      <td>1240600507</td>\n",
       "      <td>1240602723</td>\n",
       "      <td>3</td>\n",
       "      <td>1</td>\n",
       "    </tr>\n",
       "    <tr>\n",
       "      <th>1</th>\n",
       "      <td>kkst1474482071</td>\n",
       "      <td>Sponsor Dereck Blackburn (Lostwars) Artist in ...</td>\n",
       "      <td>I  Dereck Blackburn will be taking upon an inc...</td>\n",
       "      <td>300.0</td>\n",
       "      <td>sponsor-dereck-blackburn-lostwars-artist-in-re...</td>\n",
       "      <td>False</td>\n",
       "      <td>US</td>\n",
       "      <td>USD</td>\n",
       "      <td>1242429000</td>\n",
       "      <td>1242432018</td>\n",
       "      <td>1240960224</td>\n",
       "      <td>1240975592</td>\n",
       "      <td>2</td>\n",
       "      <td>0</td>\n",
       "    </tr>\n",
       "    <tr>\n",
       "      <th>2</th>\n",
       "      <td>kkst183622197</td>\n",
       "      <td>Mr. Squiggles</td>\n",
       "      <td>So I saw darkpony s successfully funded drawin...</td>\n",
       "      <td>30.0</td>\n",
       "      <td>mr-squiggles</td>\n",
       "      <td>False</td>\n",
       "      <td>US</td>\n",
       "      <td>USD</td>\n",
       "      <td>1243027560</td>\n",
       "      <td>1243027818</td>\n",
       "      <td>1242163613</td>\n",
       "      <td>1242164398</td>\n",
       "      <td>0</td>\n",
       "      <td>0</td>\n",
       "    </tr>\n",
       "    <tr>\n",
       "      <th>3</th>\n",
       "      <td>kkst597742710</td>\n",
       "      <td>Help me write my second novel.</td>\n",
       "      <td>Do your part to help out starving artists and ...</td>\n",
       "      <td>500.0</td>\n",
       "      <td>help-me-write-my-second-novel</td>\n",
       "      <td>False</td>\n",
       "      <td>US</td>\n",
       "      <td>USD</td>\n",
       "      <td>1243555740</td>\n",
       "      <td>1243556121</td>\n",
       "      <td>1240963795</td>\n",
       "      <td>1240966730</td>\n",
       "      <td>18</td>\n",
       "      <td>1</td>\n",
       "    </tr>\n",
       "    <tr>\n",
       "      <th>4</th>\n",
       "      <td>kkst1913131122</td>\n",
       "      <td>Support casting my sculpture in bronze</td>\n",
       "      <td>I m nearing completion on a sculpture  current...</td>\n",
       "      <td>2000.0</td>\n",
       "      <td>support-casting-my-sculpture-in-bronze</td>\n",
       "      <td>False</td>\n",
       "      <td>US</td>\n",
       "      <td>USD</td>\n",
       "      <td>1243769880</td>\n",
       "      <td>1243770317</td>\n",
       "      <td>1241177914</td>\n",
       "      <td>1241180541</td>\n",
       "      <td>1</td>\n",
       "      <td>0</td>\n",
       "    </tr>\n",
       "  </tbody>\n",
       "</table>\n",
       "</div>"
      ],
      "text/plain": [
       "       project_id                                               name  \\\n",
       "0  kkst1451568084                                drawing for dollars   \n",
       "1  kkst1474482071  Sponsor Dereck Blackburn (Lostwars) Artist in ...   \n",
       "2   kkst183622197                                      Mr. Squiggles   \n",
       "3   kkst597742710                     Help me write my second novel.   \n",
       "4  kkst1913131122             Support casting my sculpture in bronze   \n",
       "\n",
       "                                                desc    goal  \\\n",
       "0  I like drawing pictures. and then i color them...    20.0   \n",
       "1  I  Dereck Blackburn will be taking upon an inc...   300.0   \n",
       "2  So I saw darkpony s successfully funded drawin...    30.0   \n",
       "3  Do your part to help out starving artists and ...   500.0   \n",
       "4  I m nearing completion on a sculpture  current...  2000.0   \n",
       "\n",
       "                                            keywords  disable_communication  \\\n",
       "0                                drawing-for-dollars                  False   \n",
       "1  sponsor-dereck-blackburn-lostwars-artist-in-re...                  False   \n",
       "2                                       mr-squiggles                  False   \n",
       "3                      help-me-write-my-second-novel                  False   \n",
       "4             support-casting-my-sculpture-in-bronze                  False   \n",
       "\n",
       "  country currency    deadline  state_changed_at  created_at  launched_at  \\\n",
       "0      US      USD  1241333999        1241334017  1240600507   1240602723   \n",
       "1      US      USD  1242429000        1242432018  1240960224   1240975592   \n",
       "2      US      USD  1243027560        1243027818  1242163613   1242164398   \n",
       "3      US      USD  1243555740        1243556121  1240963795   1240966730   \n",
       "4      US      USD  1243769880        1243770317  1241177914   1241180541   \n",
       "\n",
       "   backers_count  final_status  \n",
       "0              3             1  \n",
       "1              2             0  \n",
       "2              0             0  \n",
       "3             18             1  \n",
       "4              1             0  "
      ]
     },
     "execution_count": 40,
     "metadata": {},
     "output_type": "execute_result"
    }
   ],
   "source": [
    "import pandas as pd\n",
    "import sklearn.linear_model as lm\n",
    "import matplotlib.pyplot as plt\n",
    "import seaborn as sns\n",
    "\n",
    "df = pd.read_csv('train_clean.csv')\n",
    "\n",
    "df.head()"
   ]
  },
  {
   "cell_type": "markdown",
   "metadata": {},
   "source": [
    "## Numeric exploratory analysis"
   ]
  },
  {
   "cell_type": "code",
   "execution_count": null,
   "metadata": {},
   "outputs": [],
   "source": [
    "#Reformat the columns that need to be :\n",
    "df['name'] = df['name'].astype(str)\n",
    "df['desc'] = df['desc'].astype(str)\n",
    "df['keywords'] = df['keywords'].astype(str)\n",
    "df['deadline'] = pd.to_datetime(df['deadline'])\n",
    "df['state_changed_at'] = pd.to_datetime(df['state_changed_at'])\n",
    "df['launched_at'] = pd.to_datetime(df['launched_at'])\n",
    "\n",
    "df['length_name'] = df['name'].astype(str).apply(len)\n",
    "df['length_descr'] = df['desc'].astype(str).apply(len)\n",
    "df['length_key']  = df['keywords'].astype(str).apply(len)"
   ]
  },
  {
   "cell_type": "code",
   "execution_count": 69,
   "metadata": {},
   "outputs": [
    {
     "data": {
      "text/plain": [
       "<matplotlib.axes._subplots.AxesSubplot at 0x1a30b3abe0>"
      ]
     },
     "execution_count": 69,
     "metadata": {},
     "output_type": "execute_result"
    },
    {
     "data": {
      "image/png": "[encoded data removed]",
      "text/plain": [
       "<Figure size 432x288 with 1 Axes>"
      ]
     },
     "metadata": {},
     "output_type": "display_data"
    }
   ],
   "source": [
    "df['length_name'].plot(bins=50, kind='hist')\n",
    "# Distribution de la longueur du nom de la campagne"
   ]
  },
  {
   "cell_type": "code",
   "execution_count": 70,
   "metadata": {},
   "outputs": [
    {
     "data": {
      "text/plain": [
       "<matplotlib.axes._subplots.AxesSubplot at 0x1a43968940>"
      ]
     },
     "execution_count": 70,
     "metadata": {},
     "output_type": "execute_result"
    },
    {
     "data": {
      "image/png": "[encoded data removed]",
      "text/plain": [
       "<Figure size 432x288 with 1 Axes>"
      ]
     },
     "metadata": {},
     "output_type": "display_data"
    }
   ],
   "source": [
    "df['length_descr'].plot(bins=50, kind='hist')\n",
    "# Distribution de la longueur de la description"
   ]
  },
  {
   "cell_type": "code",
   "execution_count": 71,
   "metadata": {},
   "outputs": [
    {
     "data": {
      "text/plain": [
       "<matplotlib.axes._subplots.AxesSubplot at 0x1a4501b668>"
      ]
     },
     "execution_count": 71,
     "metadata": {},
     "output_type": "execute_result"
    },
    {
     "data": {
      "image/png": "[encoded data removed]",
      "text/plain": [
       "<Figure size 432x288 with 1 Axes>"
      ]
     },
     "metadata": {},
     "output_type": "display_data"
    }
   ],
   "source": [
    "df['length_key'].plot(bins=50, kind='hist')\n",
    "# Distribution de la longueur des mots clés de la campagne"
   ]
  },
  {
   "cell_type": "code",
   "execution_count": null,
   "metadata": {},
   "outputs": [],
   "source": [
    "df['goal'].plot(bins=50, kind='hist')\n",
    "# Distribution des objectifs financiers d'une campagne"
   ]
  },
  {
   "cell_type": "code",
   "execution_count": null,
   "metadata": {},
   "outputs": [],
   "source": [
    "df['backers_count'].plot(bins=50, kind='hist')\n",
    "# Distribution du nombre de backers par campagne"
   ]
  },
  {
   "cell_type": "markdown",
   "metadata": {},
   "source": [
    "###### The name of a project seems to be as small as possible, whereas descriptions and keywords tend to be really long"
   ]
  },
  {
   "cell_type": "code",
   "execution_count": null,
   "metadata": {},
   "outputs": [],
   "source": [
    "# Première approche : Nombre de succès vs nombre d'échecs\n",
    "df['final_status'].value_counts()\n",
    "\n",
    "df['disable_communication'].value_counts()\n",
    "df['country'].value_counts()\n",
    "df['currency'].value_counts()"
   ]
  },
  {
   "cell_type": "code",
   "execution_count": 72,
   "metadata": {},
   "outputs": [
    {
     "data": {
      "text/html": [
       "<div>\n",
       "<style scoped>\n",
       "    .dataframe tbody tr th:only-of-type {\n",
       "        vertical-align: middle;\n",
       "    }\n",
       "\n",
       "    .dataframe tbody tr th {\n",
       "        vertical-align: top;\n",
       "    }\n",
       "\n",
       "    .dataframe thead th {\n",
       "        text-align: right;\n",
       "    }\n",
       "</style>\n",
       "<table border=\"1\" class=\"dataframe\">\n",
       "  <thead>\n",
       "    <tr style=\"text-align: right;\">\n",
       "      <th></th>\n",
       "      <th>goal</th>\n",
       "      <th>disable_communication</th>\n",
       "      <th>deadline</th>\n",
       "      <th>state_changed_at</th>\n",
       "      <th>created_at</th>\n",
       "      <th>launched_at</th>\n",
       "      <th>backers_count</th>\n",
       "      <th>final_status</th>\n",
       "      <th>length_name</th>\n",
       "      <th>length_descr</th>\n",
       "      <th>length_key</th>\n",
       "    </tr>\n",
       "  </thead>\n",
       "  <tbody>\n",
       "    <tr>\n",
       "      <th>goal</th>\n",
       "      <td>1.000000</td>\n",
       "      <td>-0.000602</td>\n",
       "      <td>0.021468</td>\n",
       "      <td>0.021179</td>\n",
       "      <td>0.020937</td>\n",
       "      <td>0.020859</td>\n",
       "      <td>0.008733</td>\n",
       "      <td>-0.018984</td>\n",
       "      <td>-0.002610</td>\n",
       "      <td>-0.004022</td>\n",
       "      <td>-0.011041</td>\n",
       "    </tr>\n",
       "    <tr>\n",
       "      <th>disable_communication</th>\n",
       "      <td>-0.000602</td>\n",
       "      <td>1.000000</td>\n",
       "      <td>0.046417</td>\n",
       "      <td>0.043782</td>\n",
       "      <td>0.048588</td>\n",
       "      <td>0.046166</td>\n",
       "      <td>-0.003294</td>\n",
       "      <td>-0.037517</td>\n",
       "      <td>-0.005603</td>\n",
       "      <td>-0.012580</td>\n",
       "      <td>-0.011193</td>\n",
       "    </tr>\n",
       "    <tr>\n",
       "      <th>deadline</th>\n",
       "      <td>0.021468</td>\n",
       "      <td>0.046417</td>\n",
       "      <td>1.000000</td>\n",
       "      <td>0.999930</td>\n",
       "      <td>0.984109</td>\n",
       "      <td>0.999674</td>\n",
       "      <td>0.005281</td>\n",
       "      <td>-0.123052</td>\n",
       "      <td>-0.125559</td>\n",
       "      <td>-0.052281</td>\n",
       "      <td>-0.086550</td>\n",
       "    </tr>\n",
       "    <tr>\n",
       "      <th>state_changed_at</th>\n",
       "      <td>0.021179</td>\n",
       "      <td>0.043782</td>\n",
       "      <td>0.999930</td>\n",
       "      <td>1.000000</td>\n",
       "      <td>0.984029</td>\n",
       "      <td>0.999641</td>\n",
       "      <td>0.005501</td>\n",
       "      <td>-0.121628</td>\n",
       "      <td>-0.125682</td>\n",
       "      <td>-0.051946</td>\n",
       "      <td>-0.086427</td>\n",
       "    </tr>\n",
       "    <tr>\n",
       "      <th>created_at</th>\n",
       "      <td>0.020937</td>\n",
       "      <td>0.048588</td>\n",
       "      <td>0.984109</td>\n",
       "      <td>0.984029</td>\n",
       "      <td>1.000000</td>\n",
       "      <td>0.984558</td>\n",
       "      <td>0.001053</td>\n",
       "      <td>-0.126394</td>\n",
       "      <td>-0.127369</td>\n",
       "      <td>-0.053050</td>\n",
       "      <td>-0.095307</td>\n",
       "    </tr>\n",
       "    <tr>\n",
       "      <th>launched_at</th>\n",
       "      <td>0.020859</td>\n",
       "      <td>0.046166</td>\n",
       "      <td>0.999674</td>\n",
       "      <td>0.999641</td>\n",
       "      <td>0.984558</td>\n",
       "      <td>1.000000</td>\n",
       "      <td>0.005357</td>\n",
       "      <td>-0.119916</td>\n",
       "      <td>-0.125650</td>\n",
       "      <td>-0.053076</td>\n",
       "      <td>-0.086582</td>\n",
       "    </tr>\n",
       "    <tr>\n",
       "      <th>backers_count</th>\n",
       "      <td>0.008733</td>\n",
       "      <td>-0.003294</td>\n",
       "      <td>0.005281</td>\n",
       "      <td>0.005501</td>\n",
       "      <td>0.001053</td>\n",
       "      <td>0.005357</td>\n",
       "      <td>1.000000</td>\n",
       "      <td>0.116764</td>\n",
       "      <td>-0.013601</td>\n",
       "      <td>0.001557</td>\n",
       "      <td>0.006659</td>\n",
       "    </tr>\n",
       "    <tr>\n",
       "      <th>final_status</th>\n",
       "      <td>-0.018984</td>\n",
       "      <td>-0.037517</td>\n",
       "      <td>-0.123052</td>\n",
       "      <td>-0.121628</td>\n",
       "      <td>-0.126394</td>\n",
       "      <td>-0.119916</td>\n",
       "      <td>0.116764</td>\n",
       "      <td>1.000000</td>\n",
       "      <td>0.024238</td>\n",
       "      <td>0.013789</td>\n",
       "      <td>0.073340</td>\n",
       "    </tr>\n",
       "    <tr>\n",
       "      <th>length_name</th>\n",
       "      <td>-0.002610</td>\n",
       "      <td>-0.005603</td>\n",
       "      <td>-0.125559</td>\n",
       "      <td>-0.125682</td>\n",
       "      <td>-0.127369</td>\n",
       "      <td>-0.125650</td>\n",
       "      <td>-0.013601</td>\n",
       "      <td>0.024238</td>\n",
       "      <td>1.000000</td>\n",
       "      <td>0.069544</td>\n",
       "      <td>0.336503</td>\n",
       "    </tr>\n",
       "    <tr>\n",
       "      <th>length_descr</th>\n",
       "      <td>-0.004022</td>\n",
       "      <td>-0.012580</td>\n",
       "      <td>-0.052281</td>\n",
       "      <td>-0.051946</td>\n",
       "      <td>-0.053050</td>\n",
       "      <td>-0.053076</td>\n",
       "      <td>0.001557</td>\n",
       "      <td>0.013789</td>\n",
       "      <td>0.069544</td>\n",
       "      <td>1.000000</td>\n",
       "      <td>0.160762</td>\n",
       "    </tr>\n",
       "    <tr>\n",
       "      <th>length_key</th>\n",
       "      <td>-0.011041</td>\n",
       "      <td>-0.011193</td>\n",
       "      <td>-0.086550</td>\n",
       "      <td>-0.086427</td>\n",
       "      <td>-0.095307</td>\n",
       "      <td>-0.086582</td>\n",
       "      <td>0.006659</td>\n",
       "      <td>0.073340</td>\n",
       "      <td>0.336503</td>\n",
       "      <td>0.160762</td>\n",
       "      <td>1.000000</td>\n",
       "    </tr>\n",
       "  </tbody>\n",
       "</table>\n",
       "</div>"
      ],
      "text/plain": [
       "                           goal  disable_communication  deadline  \\\n",
       "goal                   1.000000              -0.000602  0.021468   \n",
       "disable_communication -0.000602               1.000000  0.046417   \n",
       "deadline               0.021468               0.046417  1.000000   \n",
       "state_changed_at       0.021179               0.043782  0.999930   \n",
       "created_at             0.020937               0.048588  0.984109   \n",
       "launched_at            0.020859               0.046166  0.999674   \n",
       "backers_count          0.008733              -0.003294  0.005281   \n",
       "final_status          -0.018984              -0.037517 -0.123052   \n",
       "length_name           -0.002610              -0.005603 -0.125559   \n",
       "length_descr          -0.004022              -0.012580 -0.052281   \n",
       "length_key            -0.011041              -0.011193 -0.086550   \n",
       "\n",
       "                       state_changed_at  created_at  launched_at  \\\n",
       "goal                           0.021179    0.020937     0.020859   \n",
       "disable_communication          0.043782    0.048588     0.046166   \n",
       "deadline                       0.999930    0.984109     0.999674   \n",
       "state_changed_at               1.000000    0.984029     0.999641   \n",
       "created_at                     0.984029    1.000000     0.984558   \n",
       "launched_at                    0.999641    0.984558     1.000000   \n",
       "backers_count                  0.005501    0.001053     0.005357   \n",
       "final_status                  -0.121628   -0.126394    -0.119916   \n",
       "length_name                   -0.125682   -0.127369    -0.125650   \n",
       "length_descr                  -0.051946   -0.053050    -0.053076   \n",
       "length_key                    -0.086427   -0.095307    -0.086582   \n",
       "\n",
       "                       backers_count  final_status  length_name  length_descr  \\\n",
       "goal                        0.008733     -0.018984    -0.002610     -0.004022   \n",
       "disable_communication      -0.003294     -0.037517    -0.005603     -0.012580   \n",
       "deadline                    0.005281     -0.123052    -0.125559     -0.052281   \n",
       "state_changed_at            0.005501     -0.121628    -0.125682     -0.051946   \n",
       "created_at                  0.001053     -0.126394    -0.127369     -0.053050   \n",
       "launched_at                 0.005357     -0.119916    -0.125650     -0.053076   \n",
       "backers_count               1.000000      0.116764    -0.013601      0.001557   \n",
       "final_status                0.116764      1.000000     0.024238      0.013789   \n",
       "length_name                -0.013601      0.024238     1.000000      0.069544   \n",
       "length_descr                0.001557      0.013789     0.069544      1.000000   \n",
       "length_key                  0.006659      0.073340     0.336503      0.160762   \n",
       "\n",
       "                       length_key  \n",
       "goal                    -0.011041  \n",
       "disable_communication   -0.011193  \n",
       "deadline                -0.086550  \n",
       "state_changed_at        -0.086427  \n",
       "created_at              -0.095307  \n",
       "launched_at             -0.086582  \n",
       "backers_count            0.006659  \n",
       "final_status             0.073340  \n",
       "length_name              0.336503  \n",
       "length_descr             0.160762  \n",
       "length_key               1.000000  "
      ]
     },
     "execution_count": 72,
     "metadata": {},
     "output_type": "execute_result"
    }
   ],
   "source": [
    "#Correlation matrix\n",
    "df.corr()"
   ]
  },
  {
   "cell_type": "markdown",
   "metadata": {},
   "source": [
    "Quite logically :\n",
    "- A higher goal seems to lead to a lower sucess probability\n",
    "- More backers means a higher sucess rate\n",
    "- The longer the name, description or keywords, the higher the sucess probability (but the predictive power seems quite reduced)"
   ]
  },
  {
   "cell_type": "markdown",
   "metadata": {},
   "source": [
    "## Text cleaning"
   ]
  },
  {
   "cell_type": "markdown",
   "metadata": {},
   "source": [
    "In the following part, we will take a look at the description field. The process is the same for the name and the keywords used and it will be done in a less detailed way afterwards."
   ]
  },
  {
   "cell_type": "markdown",
   "metadata": {},
   "source": [
    "##### Text normalization"
   ]
  },
  {
   "cell_type": "code",
   "execution_count": 105,
   "metadata": {},
   "outputs": [
    {
     "name": "stdout",
     "output_type": "stream",
     "text": [
      "[nltk_data] Downloading package stopwords to\n",
      "[nltk_data]     /Users/maelfabien/nltk_data...\n",
      "[nltk_data]   Package stopwords is already up-to-date!\n"
     ]
    },
    {
     "data": {
      "text/plain": [
       "True"
      ]
     },
     "execution_count": 105,
     "metadata": {},
     "output_type": "execute_result"
    }
   ],
   "source": [
    "import nltk\n",
    "import string\n",
    "from nltk.corpus import stopwords\n",
    "nltk.download('stopwords')"
   ]
  },
  {
   "cell_type": "code",
   "execution_count": 106,
   "metadata": {},
   "outputs": [],
   "source": [
    "def text_process(descr):\n",
    "    \"\"\"\n",
    "    Takes in a string of text, then performs the following:\n",
    "    1. Remove all punctuation\n",
    "    2. Remove all stopwords\n",
    "    3. Returns a list of the cleaned text\n",
    "    \"\"\"\n",
    "    # Check characters to see if they are in punctuation\n",
    "    nopunc = [char for char in descr if char not in string.punctuation]\n",
    "\n",
    "    # Join the characters again to form the string.\n",
    "    nopunc = ''.join(nopunc)\n",
    "    \n",
    "    # Now just remove any stopwords\n",
    "    return [word for word in nopunc.split() if word.lower() not in stopwords.words('english')]"
   ]
  },
  {
   "cell_type": "code",
   "execution_count": 107,
   "metadata": {},
   "outputs": [
    {
     "data": {
      "text/plain": [
       "0    [like, drawing, pictures, color, thought, woul...\n",
       "1    [Dereck, Blackburn, taking, upon, incredible, ...\n",
       "2    [saw, darkpony, successfully, funded, drawing,...\n",
       "3    [part, help, starving, artists, help, write, s...\n",
       "4    [nearing, completion, sculpture, currently, ti...\n",
       "Name: desc, dtype: object"
      ]
     },
     "execution_count": 107,
     "metadata": {},
     "output_type": "execute_result"
    }
   ],
   "source": [
    "df['desc'].apply(text_process).head()"
   ]
  },
  {
   "cell_type": "markdown",
   "metadata": {},
   "source": [
    "###### Vectorization for Bag-Of-Words"
   ]
  },
  {
   "cell_type": "code",
   "execution_count": 108,
   "metadata": {},
   "outputs": [],
   "source": [
    "# Count how many times a word occurs in each description (Term Frequency)\n",
    "# Weight the count so that frequent tokens get lower weights (Inverse Document Frequency)\n",
    "# L2 Norm : normalize vectors to unit length"
   ]
  },
  {
   "cell_type": "code",
   "execution_count": 109,
   "metadata": {},
   "outputs": [],
   "source": [
    "from sklearn.feature_extraction.text import CountVectorizer"
   ]
  },
  {
   "cell_type": "code",
   "execution_count": null,
   "metadata": {},
   "outputs": [],
   "source": [
    "#Transform our Bag-Of-Words\n",
    "bow_transformer = CountVectorizer(analyzer=text_process).fit(df['desc'])\n",
    "\n",
    "# Print total number of vocab words\n",
    "print(len(bow_transformer.vocabulary_))"
   ]
  },
  {
   "cell_type": "code",
   "execution_count": null,
   "metadata": {},
   "outputs": [],
   "source": [
    "#Transform our Bag-Of-Words\n",
    "descr_bow = bow_transformer.transform(df['desc'])"
   ]
  },
  {
   "cell_type": "code",
   "execution_count": null,
   "metadata": {},
   "outputs": [],
   "source": [
    "print('Shape of Sparse Matrix: ', descr_bow.shape)\n",
    "print('Amount of Non-Zero occurences: ', descr_bow.nnz)"
   ]
  },
  {
   "cell_type": "code",
   "execution_count": null,
   "metadata": {},
   "outputs": [],
   "source": [
    "sparsity = (100.0 * descr_bow.nnz / (descr_bow.shape[0] * descr_bow.shape[1]))\n",
    "print('sparsity: {}'.format(round(sparsity)))"
   ]
  },
  {
   "cell_type": "markdown",
   "metadata": {},
   "source": [
    "##### TF-IDF transform"
   ]
  },
  {
   "cell_type": "code",
   "execution_count": null,
   "metadata": {},
   "outputs": [],
   "source": [
    "from sklearn.feature_extraction.text import TfidfTransformer"
   ]
  },
  {
   "cell_type": "code",
   "execution_count": null,
   "metadata": {},
   "outputs": [],
   "source": [
    "tfidf_transformer = TfidfTransformer().fit(descr_bow)"
   ]
  },
  {
   "cell_type": "code",
   "execution_count": null,
   "metadata": {},
   "outputs": [],
   "source": [
    "# Check the IDF of the word \"technology\"\n",
    "print(tfidf_transformer.idf_[bow_transformer.vocabulary_['technology']])"
   ]
  },
  {
   "cell_type": "code",
   "execution_count": null,
   "metadata": {},
   "outputs": [],
   "source": [
    "descr_tfidf = tfidf_transformer.transform(descr_bow)"
   ]
  },
  {
   "cell_type": "markdown",
   "metadata": {},
   "source": [
    "##### Model training"
   ]
  },
  {
   "cell_type": "code",
   "execution_count": null,
   "metadata": {},
   "outputs": [],
   "source": [
    "from sklearn.model_selection import train_test_split\n",
    "\n",
    "descr_train, descr_test, final_train, final_test = train_test_split(df['desc'], df['final_status'], test_size=0.2)"
   ]
  },
  {
   "cell_type": "code",
   "execution_count": null,
   "metadata": {},
   "outputs": [],
   "source": [
    "#Use Sklearn capability to store a pipeline of workflow\n",
    "from sklearn.pipeline import Pipeline\n",
    "pipeline = Pipeline([\n",
    "    ('bow', CountVectorizer(analyzer=text_process)),  # strings to token integer counts\n",
    "    ('tfidf', TfidfTransformer()),  # integer counts to weighted TF-IDF scores\n",
    "    ('classifier', MultinomialNB()),  # train on TF-IDF vectors w/ Naive Bayes classifier\n",
    "])"
   ]
  },
  {
   "cell_type": "code",
   "execution_count": null,
   "metadata": {},
   "outputs": [],
   "source": [
    "pipeline.fit(descr_train,final_train)\n",
    "predictions = pipeline.predict(descr_test)"
   ]
  },
  {
   "cell_type": "markdown",
   "metadata": {},
   "source": [
    "##### Assessing the results"
   ]
  },
  {
   "cell_type": "code",
   "execution_count": null,
   "metadata": {},
   "outputs": [],
   "source": [
    "from sklearn.metrics import classification_report\n",
    "print (classification_report(predictions,final_test))"
   ]
  },
  {
   "cell_type": "code",
   "execution_count": null,
   "metadata": {},
   "outputs": [],
   "source": [
    "# We reach an overall 80% of precision based on the description of a campaign"
   ]
  },
  {
   "cell_type": "markdown",
   "metadata": {},
   "source": [
    "## Same process for the name of the campaign"
   ]
  },
  {
   "cell_type": "code",
   "execution_count": null,
   "metadata": {},
   "outputs": [],
   "source": [
    "df['name'].apply(text_process).head()\n",
    "bow_transformer_name = CountVectorizer(analyzer=text_process).fit(df['name'])\n",
    "descr_bow_name = bow_transformer_name.transform(df['name'])\n",
    "tfidf_transformer_name = TfidfTransformer().fit(descr_bow_name)\n",
    "descr_tfidf_name = tfidf_transformer_name.transform(descr_bow_name)\n",
    "name_train, name_test, final_train, final_test = train_test_split(df['name'], df['final_status'], test_size=0.2)\n",
    "pipeline.fit(name_train,final_train)\n",
    "predictions_name = pipeline.predict(name_test)\n",
    "print (classification_report(predictions_name,final_test))"
   ]
  },
  {
   "cell_type": "markdown",
   "metadata": {},
   "source": [
    "## Same process for the keywords of the campaign"
   ]
  },
  {
   "cell_type": "code",
   "execution_count": null,
   "metadata": {},
   "outputs": [],
   "source": [
    "df['keywords'].apply(text_process).head()\n",
    "bow_transformer_keywords = CountVectorizer(analyzer=text_process).fit(df['keywords'])\n",
    "descr_bow_keywords = bow_transformer_keywords.transform(df['keywords'])\n",
    "tfidf_transformer_keywords = TfidfTransformer().fit(descr_bow_keywords)\n",
    "descr_tfidf_keywords = tfidf_transformer_keywords.transform(descr_bow_keywords)\n",
    "keywords_train, keywords_test, final_train, final_test = train_test_split(df['keywords'], df['final_status'], test_size=0.2)\n",
    "pipeline.fit(keywords_train,final_train)\n",
    "predictions_keywords = pipeline.predict(keywords_test)\n",
    "print (classification_report(predictions_keywords,final_test))"
   ]
  },
  {
   "cell_type": "code",
   "execution_count": null,
   "metadata": {},
   "outputs": [],
   "source": []
  }
 ],
 "metadata": {
  "kernelspec": {
   "display_name": "Python 3",
   "language": "python",
   "name": "python3"
  },
  "language_info": {
   "codemirror_mode": {
    "name": "ipython",
    "version": 3
   },
   "file_extension": ".py",
   "mimetype": "text/x-python",
   "name": "python",
   "nbconvert_exporter": "python",
   "pygments_lexer": "ipython3",
   "version": "3.6.5"
  }
 },
 "nbformat": 4,
 "nbformat_minor": 2
}
