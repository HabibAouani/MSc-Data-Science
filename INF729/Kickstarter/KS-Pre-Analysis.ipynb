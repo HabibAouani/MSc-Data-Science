{
 "cells": [
  {
   "cell_type": "markdown",
   "metadata": {},
   "source": [
    "# KickStarter campaign success predict\n",
    "\n",
    "In the following text, we will be taking a closer look at a KickStarter's campaign success prediction based on the Kaggle database"
   ]
  },
  {
   "cell_type": "code",
   "execution_count": 39,
   "metadata": {},
   "outputs": [],
   "source": [
    "import pandas as pd\n",
    "import sklearn.linear_model as lm\n",
    "import matplotlib.pyplot as plt\n",
    "import seaborn as sns\n",
    "\n",
    "df = pd.read_csv('train_clean.csv')\n",
    "\n",
    "df.head()\n",
    "df['country'].replace('US', 'USA', inplace=True)\n",
    "df['country'].replace('GB', 'GBR', inplace=True)\n",
    "df['country'].replace('CA', 'CAN', inplace=True)\n",
    "df['country'].replace('AU', 'AUS', inplace=True)\n",
    "df['country'].replace('NL', 'NLD', inplace=True)\n",
    "df['country'].replace('NZ', 'NZL', inplace=True)\n",
    "df['country'].replace('SE', 'SWE', inplace=True)\n",
    "df['country'].replace('DK', 'DNK', inplace=True)\n",
    "df['country'].replace('NO', 'NOR', inplace=True)\n",
    "df['country'].replace('IE', 'IRL', inplace=True)\n",
    "df['country'].replace('DE', 'DEU', inplace=True)\n",
    "df[['country','goal','backers_count','final_status']].to_csv('country.csv', index = None, header=True)"
   ]
  },
  {
   "cell_type": "markdown",
   "metadata": {},
   "source": [
    "## Numeric exploratory analysis"
   ]
  },
  {
   "cell_type": "code",
   "execution_count": 9,
   "metadata": {},
   "outputs": [],
   "source": [
    "#Reformat the columns that need to be :\n",
    "df['name'] = df['name'].astype(str)\n",
    "df['desc'] = df['desc'].astype(str)\n",
    "df['keywords'] = df['keywords'].astype(str)\n",
    "df['goal'] = df['goal'].astype(int)\n",
    "df['deadline'] = pd.to_datetime(df['deadline'])\n",
    "df['state_changed_at'] = pd.to_datetime(df['state_changed_at'])\n",
    "df['launched_at'] = pd.to_datetime(df['launched_at'])\n",
    "\n",
    "df['length_name'] = df['name'].astype(str).apply(len)\n",
    "df['length_descr'] = df['desc'].astype(str).apply(len)\n",
    "df['length_key']  = df['keywords'].astype(str).apply(len)"
   ]
  },
  {
   "cell_type": "code",
   "execution_count": 10,
   "metadata": {},
   "outputs": [
    {
     "data": {
      "text/plain": [
       "<matplotlib.axes._subplots.AxesSubplot at 0x1a2333c3c8>"
      ]
     },
     "execution_count": 10,
     "metadata": {},
     "output_type": "execute_result"
    },
    {
     "data": {
      "image/png": "[encoded data removed]",
      "text/plain": [
       "<Figure size 432x288 with 1 Axes>"
      ]
     },
     "metadata": {},
     "output_type": "display_data"
    }
   ],
   "source": [
    "df['length_name'].plot(bins=50, kind='hist')\n",
    "# Distribution de la longueur du nom de la campagne"
   ]
  },
  {
   "cell_type": "code",
   "execution_count": 11,
   "metadata": {},
   "outputs": [
    {
     "data": {
      "text/plain": [
       "<matplotlib.axes._subplots.AxesSubplot at 0x1a2364a828>"
      ]
     },
     "execution_count": 11,
     "metadata": {},
     "output_type": "execute_result"
    },
    {
     "data": {
      "image/png": "[encoded data removed]",
      "text/plain": [
       "<Figure size 432x288 with 1 Axes>"
      ]
     },
     "metadata": {},
     "output_type": "display_data"
    }
   ],
   "source": [
    "df['length_descr'].plot(bins=50, kind='hist')\n",
    "# Distribution de la longueur de la description"
   ]
  },
  {
   "cell_type": "code",
   "execution_count": 12,
   "metadata": {},
   "outputs": [
    {
     "data": {
      "text/plain": [
       "<matplotlib.axes._subplots.AxesSubplot at 0x1a2371ca58>"
      ]
     },
     "execution_count": 12,
     "metadata": {},
     "output_type": "execute_result"
    },
    {
     "data": {
      "image/png": "[encoded data removed]",
      "text/plain": [
       "<Figure size 432x288 with 1 Axes>"
      ]
     },
     "metadata": {},
     "output_type": "display_data"
    }
   ],
   "source": [
    "df['length_key'].plot(bins=50, kind='hist')\n",
    "# Distribution de la longueur des mots clés de la campagne"
   ]
  },
  {
   "cell_type": "code",
   "execution_count": 14,
   "metadata": {},
   "outputs": [
    {
     "data": {
      "text/plain": [
       "0         20\n",
       "1        300\n",
       "2         30\n",
       "3        500\n",
       "4       2000\n",
       "5        700\n",
       "6        250\n",
       "7       1000\n",
       "8       5000\n",
       "9       3500\n",
       "10     30000\n",
       "11       300\n",
       "12      1500\n",
       "13       500\n",
       "14       500\n",
       "15      1000\n",
       "16       600\n",
       "17      1500\n",
       "18      3500\n",
       "19      1000\n",
       "20       365\n",
       "21       500\n",
       "22       400\n",
       "23       100\n",
       "24       250\n",
       "25      3000\n",
       "26       640\n",
       "27      3500\n",
       "28       300\n",
       "29      1000\n",
       "       ...  \n",
       "70      5000\n",
       "71     10000\n",
       "72    325000\n",
       "73      6000\n",
       "74      5000\n",
       "75      3500\n",
       "76     10000\n",
       "77      8000\n",
       "78      3000\n",
       "79       800\n",
       "80     15000\n",
       "81      3200\n",
       "82      8175\n",
       "83       200\n",
       "84      2000\n",
       "85      3500\n",
       "86      4500\n",
       "87     10000\n",
       "88     10000\n",
       "89      5000\n",
       "90      5000\n",
       "91     10000\n",
       "92      3000\n",
       "93      3500\n",
       "94       300\n",
       "95      3000\n",
       "96      5000\n",
       "97      7500\n",
       "98      3000\n",
       "99      3500\n",
       "Name: goal, Length: 100, dtype: int64"
      ]
     },
     "execution_count": 14,
     "metadata": {},
     "output_type": "execute_result"
    },
    {
     "data": {
      "image/png": "[encoded data removed]",
      "text/plain": [
       "<Figure size 432x288 with 1 Axes>"
      ]
     },
     "metadata": {},
     "output_type": "display_data"
    }
   ],
   "source": [
    "df['goal'].plot(bins=50, kind='hist')\n",
    "df['goal'].head(100)\n",
    "# Distribution des objectifs financiers d'une campagne"
   ]
  },
  {
   "cell_type": "code",
   "execution_count": 15,
   "metadata": {},
   "outputs": [
    {
     "data": {
      "text/plain": [
       "<matplotlib.axes._subplots.AxesSubplot at 0x1a2370c048>"
      ]
     },
     "execution_count": 15,
     "metadata": {},
     "output_type": "execute_result"
    },
    {
     "data": {
      "image/png": "[encoded data removed]",
      "text/plain": [
       "<Figure size 432x288 with 1 Axes>"
      ]
     },
     "metadata": {},
     "output_type": "display_data"
    }
   ],
   "source": [
    "df['backers_count'].plot(bins=50, kind='hist')\n",
    "# Distribution du nombre de backers par campagne"
   ]
  },
  {
   "cell_type": "markdown",
   "metadata": {},
   "source": [
    "###### The name of a project seems to be as small as possible, whereas descriptions and keywords tend to be really long"
   ]
  },
  {
   "cell_type": "code",
   "execution_count": 32,
   "metadata": {},
   "outputs": [
    {
     "name": "stdout",
     "output_type": "stream",
     "text": [
      "The success rate is : 31.96 %.\n"
     ]
    }
   ],
   "source": [
    "# Première approche : Nombre de succès vs nombre d'échecs\n",
    "df['final_status'].value_counts()\n",
    "success_rate = df['final_status'].sum()/len(df['final_status'])*100\n",
    "print(\"The success rate is : \" + str(round(success_rate,2)) +\" %.\")"
   ]
  },
  {
   "cell_type": "code",
   "execution_count": 18,
   "metadata": {},
   "outputs": [
    {
     "data": {
      "text/plain": [
       "False    107806\n",
       "True        323\n",
       "Name: disable_communication, dtype: int64"
      ]
     },
     "execution_count": 18,
     "metadata": {},
     "output_type": "execute_result"
    }
   ],
   "source": [
    "df['disable_communication'].value_counts()"
   ]
  },
  {
   "cell_type": "code",
   "execution_count": 19,
   "metadata": {},
   "outputs": [
    {
     "data": {
      "text/plain": [
       "US    92033\n",
       "GB     8758\n",
       "CA     3736\n",
       "AU     1880\n",
       "NL      705\n",
       "NZ      355\n",
       "SE      240\n",
       "DK      196\n",
       "NO      114\n",
       "IE      111\n",
       "DE        1\n",
       "Name: country, dtype: int64"
      ]
     },
     "execution_count": 19,
     "metadata": {},
     "output_type": "execute_result"
    }
   ],
   "source": [
    "df['country'].value_counts()"
   ]
  },
  {
   "cell_type": "code",
   "execution_count": 20,
   "metadata": {},
   "outputs": [
    {
     "data": {
      "text/plain": [
       "USD    92033\n",
       "GBP     8758\n",
       "CAD     3736\n",
       "AUD     1880\n",
       "EUR      817\n",
       "NZD      355\n",
       "SEK      240\n",
       "DKK      196\n",
       "NOK      114\n",
       "Name: currency, dtype: int64"
      ]
     },
     "execution_count": 20,
     "metadata": {},
     "output_type": "execute_result"
    }
   ],
   "source": [
    "df['currency'].value_counts()"
   ]
  },
  {
   "cell_type": "code",
   "execution_count": 72,
   "metadata": {},
   "outputs": [
    {
     "data": {
      "text/html": [
       "<div>\n",
       "<style scoped>\n",
       "    .dataframe tbody tr th:only-of-type {\n",
       "        vertical-align: middle;\n",
       "    }\n",
       "\n",
       "    .dataframe tbody tr th {\n",
       "        vertical-align: top;\n",
       "    }\n",
       "\n",
       "    .dataframe thead th {\n",
       "        text-align: right;\n",
       "    }\n",
       "</style>\n",
       "<table border=\"1\" class=\"dataframe\">\n",
       "  <thead>\n",
       "    <tr style=\"text-align: right;\">\n",
       "      <th></th>\n",
       "      <th>goal</th>\n",
       "      <th>disable_communication</th>\n",
       "      <th>deadline</th>\n",
       "      <th>state_changed_at</th>\n",
       "      <th>created_at</th>\n",
       "      <th>launched_at</th>\n",
       "      <th>backers_count</th>\n",
       "      <th>final_status</th>\n",
       "      <th>length_name</th>\n",
       "      <th>length_descr</th>\n",
       "      <th>length_key</th>\n",
       "    </tr>\n",
       "  </thead>\n",
       "  <tbody>\n",
       "    <tr>\n",
       "      <th>goal</th>\n",
       "      <td>1.000000</td>\n",
       "      <td>-0.000602</td>\n",
       "      <td>0.021468</td>\n",
       "      <td>0.021179</td>\n",
       "      <td>0.020937</td>\n",
       "      <td>0.020859</td>\n",
       "      <td>0.008733</td>\n",
       "      <td>-0.018984</td>\n",
       "      <td>-0.002610</td>\n",
       "      <td>-0.004022</td>\n",
       "      <td>-0.011041</td>\n",
       "    </tr>\n",
       "    <tr>\n",
       "      <th>disable_communication</th>\n",
       "      <td>-0.000602</td>\n",
       "      <td>1.000000</td>\n",
       "      <td>0.046417</td>\n",
       "      <td>0.043782</td>\n",
       "      <td>0.048588</td>\n",
       "      <td>0.046166</td>\n",
       "      <td>-0.003294</td>\n",
       "      <td>-0.037517</td>\n",
       "      <td>-0.005603</td>\n",
       "      <td>-0.012580</td>\n",
       "      <td>-0.011193</td>\n",
       "    </tr>\n",
       "    <tr>\n",
       "      <th>deadline</th>\n",
       "      <td>0.021468</td>\n",
       "      <td>0.046417</td>\n",
       "      <td>1.000000</td>\n",
       "      <td>0.999930</td>\n",
       "      <td>0.984109</td>\n",
       "      <td>0.999674</td>\n",
       "      <td>0.005281</td>\n",
       "      <td>-0.123052</td>\n",
       "      <td>-0.125559</td>\n",
       "      <td>-0.052281</td>\n",
       "      <td>-0.086550</td>\n",
       "    </tr>\n",
       "    <tr>\n",
       "      <th>state_changed_at</th>\n",
       "      <td>0.021179</td>\n",
       "      <td>0.043782</td>\n",
       "      <td>0.999930</td>\n",
       "      <td>1.000000</td>\n",
       "      <td>0.984029</td>\n",
       "      <td>0.999641</td>\n",
       "      <td>0.005501</td>\n",
       "      <td>-0.121628</td>\n",
       "      <td>-0.125682</td>\n",
       "      <td>-0.051946</td>\n",
       "      <td>-0.086427</td>\n",
       "    </tr>\n",
       "    <tr>\n",
       "      <th>created_at</th>\n",
       "      <td>0.020937</td>\n",
       "      <td>0.048588</td>\n",
       "      <td>0.984109</td>\n",
       "      <td>0.984029</td>\n",
       "      <td>1.000000</td>\n",
       "      <td>0.984558</td>\n",
       "      <td>0.001053</td>\n",
       "      <td>-0.126394</td>\n",
       "      <td>-0.127369</td>\n",
       "      <td>-0.053050</td>\n",
       "      <td>-0.095307</td>\n",
       "    </tr>\n",
       "    <tr>\n",
       "      <th>launched_at</th>\n",
       "      <td>0.020859</td>\n",
       "      <td>0.046166</td>\n",
       "      <td>0.999674</td>\n",
       "      <td>0.999641</td>\n",
       "      <td>0.984558</td>\n",
       "      <td>1.000000</td>\n",
       "      <td>0.005357</td>\n",
       "      <td>-0.119916</td>\n",
       "      <td>-0.125650</td>\n",
       "      <td>-0.053076</td>\n",
       "      <td>-0.086582</td>\n",
       "    </tr>\n",
       "    <tr>\n",
       "      <th>backers_count</th>\n",
       "      <td>0.008733</td>\n",
       "      <td>-0.003294</td>\n",
       "      <td>0.005281</td>\n",
       "      <td>0.005501</td>\n",
       "      <td>0.001053</td>\n",
       "      <td>0.005357</td>\n",
       "      <td>1.000000</td>\n",
       "      <td>0.116764</td>\n",
       "      <td>-0.013601</td>\n",
       "      <td>0.001557</td>\n",
       "      <td>0.006659</td>\n",
       "    </tr>\n",
       "    <tr>\n",
       "      <th>final_status</th>\n",
       "      <td>-0.018984</td>\n",
       "      <td>-0.037517</td>\n",
       "      <td>-0.123052</td>\n",
       "      <td>-0.121628</td>\n",
       "      <td>-0.126394</td>\n",
       "      <td>-0.119916</td>\n",
       "      <td>0.116764</td>\n",
       "      <td>1.000000</td>\n",
       "      <td>0.024238</td>\n",
       "      <td>0.013789</td>\n",
       "      <td>0.073340</td>\n",
       "    </tr>\n",
       "    <tr>\n",
       "      <th>length_name</th>\n",
       "      <td>-0.002610</td>\n",
       "      <td>-0.005603</td>\n",
       "      <td>-0.125559</td>\n",
       "      <td>-0.125682</td>\n",
       "      <td>-0.127369</td>\n",
       "      <td>-0.125650</td>\n",
       "      <td>-0.013601</td>\n",
       "      <td>0.024238</td>\n",
       "      <td>1.000000</td>\n",
       "      <td>0.069544</td>\n",
       "      <td>0.336503</td>\n",
       "    </tr>\n",
       "    <tr>\n",
       "      <th>length_descr</th>\n",
       "      <td>-0.004022</td>\n",
       "      <td>-0.012580</td>\n",
       "      <td>-0.052281</td>\n",
       "      <td>-0.051946</td>\n",
       "      <td>-0.053050</td>\n",
       "      <td>-0.053076</td>\n",
       "      <td>0.001557</td>\n",
       "      <td>0.013789</td>\n",
       "      <td>0.069544</td>\n",
       "      <td>1.000000</td>\n",
       "      <td>0.160762</td>\n",
       "    </tr>\n",
       "    <tr>\n",
       "      <th>length_key</th>\n",
       "      <td>-0.011041</td>\n",
       "      <td>-0.011193</td>\n",
       "      <td>-0.086550</td>\n",
       "      <td>-0.086427</td>\n",
       "      <td>-0.095307</td>\n",
       "      <td>-0.086582</td>\n",
       "      <td>0.006659</td>\n",
       "      <td>0.073340</td>\n",
       "      <td>0.336503</td>\n",
       "      <td>0.160762</td>\n",
       "      <td>1.000000</td>\n",
       "    </tr>\n",
       "  </tbody>\n",
       "</table>\n",
       "</div>"
      ],
      "text/plain": [
       "                           goal  disable_communication  deadline  \\\n",
       "goal                   1.000000              -0.000602  0.021468   \n",
       "disable_communication -0.000602               1.000000  0.046417   \n",
       "deadline               0.021468               0.046417  1.000000   \n",
       "state_changed_at       0.021179               0.043782  0.999930   \n",
       "created_at             0.020937               0.048588  0.984109   \n",
       "launched_at            0.020859               0.046166  0.999674   \n",
       "backers_count          0.008733              -0.003294  0.005281   \n",
       "final_status          -0.018984              -0.037517 -0.123052   \n",
       "length_name           -0.002610              -0.005603 -0.125559   \n",
       "length_descr          -0.004022              -0.012580 -0.052281   \n",
       "length_key            -0.011041              -0.011193 -0.086550   \n",
       "\n",
       "                       state_changed_at  created_at  launched_at  \\\n",
       "goal                           0.021179    0.020937     0.020859   \n",
       "disable_communication          0.043782    0.048588     0.046166   \n",
       "deadline                       0.999930    0.984109     0.999674   \n",
       "state_changed_at               1.000000    0.984029     0.999641   \n",
       "created_at                     0.984029    1.000000     0.984558   \n",
       "launched_at                    0.999641    0.984558     1.000000   \n",
       "backers_count                  0.005501    0.001053     0.005357   \n",
       "final_status                  -0.121628   -0.126394    -0.119916   \n",
       "length_name                   -0.125682   -0.127369    -0.125650   \n",
       "length_descr                  -0.051946   -0.053050    -0.053076   \n",
       "length_key                    -0.086427   -0.095307    -0.086582   \n",
       "\n",
       "                       backers_count  final_status  length_name  length_descr  \\\n",
       "goal                        0.008733     -0.018984    -0.002610     -0.004022   \n",
       "disable_communication      -0.003294     -0.037517    -0.005603     -0.012580   \n",
       "deadline                    0.005281     -0.123052    -0.125559     -0.052281   \n",
       "state_changed_at            0.005501     -0.121628    -0.125682     -0.051946   \n",
       "created_at                  0.001053     -0.126394    -0.127369     -0.053050   \n",
       "launched_at                 0.005357     -0.119916    -0.125650     -0.053076   \n",
       "backers_count               1.000000      0.116764    -0.013601      0.001557   \n",
       "final_status                0.116764      1.000000     0.024238      0.013789   \n",
       "length_name                -0.013601      0.024238     1.000000      0.069544   \n",
       "length_descr                0.001557      0.013789     0.069544      1.000000   \n",
       "length_key                  0.006659      0.073340     0.336503      0.160762   \n",
       "\n",
       "                       length_key  \n",
       "goal                    -0.011041  \n",
       "disable_communication   -0.011193  \n",
       "deadline                -0.086550  \n",
       "state_changed_at        -0.086427  \n",
       "created_at              -0.095307  \n",
       "launched_at             -0.086582  \n",
       "backers_count            0.006659  \n",
       "final_status             0.073340  \n",
       "length_name              0.336503  \n",
       "length_descr             0.160762  \n",
       "length_key               1.000000  "
      ]
     },
     "execution_count": 72,
     "metadata": {},
     "output_type": "execute_result"
    }
   ],
   "source": [
    "#Correlation matrix\n",
    "df.corr()"
   ]
  },
  {
   "cell_type": "markdown",
   "metadata": {},
   "source": [
    "Quite logically :\n",
    "- A higher goal seems to lead to a lower sucess probability\n",
    "- More backers means a higher sucess rate\n",
    "- The longer the name, description or keywords, the higher the sucess probability (but the predictive power seems quite reduced)"
   ]
  },
  {
   "cell_type": "markdown",
   "metadata": {},
   "source": [
    "## Text cleaning"
   ]
  },
  {
   "cell_type": "markdown",
   "metadata": {},
   "source": [
    "In the following part, we will take a look at the description field. The process is the same for the name and the keywords used and it will be done in a less detailed way afterwards."
   ]
  },
  {
   "cell_type": "markdown",
   "metadata": {},
   "source": [
    "##### Text normalization"
   ]
  },
  {
   "cell_type": "code",
   "execution_count": 105,
   "metadata": {},
   "outputs": [
    {
     "name": "stdout",
     "output_type": "stream",
     "text": [
      "[nltk_data] Downloading package stopwords to\n",
      "[nltk_data]     /Users/maelfabien/nltk_data...\n",
      "[nltk_data]   Package stopwords is already up-to-date!\n"
     ]
    },
    {
     "data": {
      "text/plain": [
       "True"
      ]
     },
     "execution_count": 105,
     "metadata": {},
     "output_type": "execute_result"
    }
   ],
   "source": [
    "import nltk\n",
    "import string\n",
    "from nltk.corpus import stopwords\n",
    "nltk.download('stopwords')"
   ]
  },
  {
   "cell_type": "code",
   "execution_count": 106,
   "metadata": {},
   "outputs": [],
   "source": [
    "def text_process(descr):\n",
    "    \"\"\"\n",
    "    Takes in a string of text, then performs the following:\n",
    "    1. Remove all punctuation\n",
    "    2. Remove all stopwords\n",
    "    3. Returns a list of the cleaned text\n",
    "    \"\"\"\n",
    "    # Check characters to see if they are in punctuation\n",
    "    nopunc = [char for char in descr if char not in string.punctuation]\n",
    "\n",
    "    # Join the characters again to form the string.\n",
    "    nopunc = ''.join(nopunc)\n",
    "    \n",
    "    # Now just remove any stopwords\n",
    "    return [word for word in nopunc.split() if word.lower() not in stopwords.words('english')]"
   ]
  },
  {
   "cell_type": "code",
   "execution_count": 107,
   "metadata": {},
   "outputs": [
    {
     "data": {
      "text/plain": [
       "0    [like, drawing, pictures, color, thought, woul...\n",
       "1    [Dereck, Blackburn, taking, upon, incredible, ...\n",
       "2    [saw, darkpony, successfully, funded, drawing,...\n",
       "3    [part, help, starving, artists, help, write, s...\n",
       "4    [nearing, completion, sculpture, currently, ti...\n",
       "Name: desc, dtype: object"
      ]
     },
     "execution_count": 107,
     "metadata": {},
     "output_type": "execute_result"
    }
   ],
   "source": [
    "df['desc'].apply(text_process).head()"
   ]
  },
  {
   "cell_type": "markdown",
   "metadata": {},
   "source": [
    "###### Vectorization for Bag-Of-Words"
   ]
  },
  {
   "cell_type": "code",
   "execution_count": 108,
   "metadata": {},
   "outputs": [],
   "source": [
    "# Count how many times a word occurs in each description (Term Frequency)\n",
    "# Weight the count so that frequent tokens get lower weights (Inverse Document Frequency)\n",
    "# L2 Norm : normalize vectors to unit length"
   ]
  },
  {
   "cell_type": "code",
   "execution_count": 109,
   "metadata": {},
   "outputs": [],
   "source": [
    "from sklearn.feature_extraction.text import CountVectorizer"
   ]
  },
  {
   "cell_type": "code",
   "execution_count": 110,
   "metadata": {},
   "outputs": [
    {
     "name": "stdout",
     "output_type": "stream",
     "text": [
      "108759\n"
     ]
    }
   ],
   "source": [
    "#Transform our Bag-Of-Words\n",
    "bow_transformer = CountVectorizer(analyzer=text_process).fit(df['desc'])\n",
    "\n",
    "# Print total number of vocab words\n",
    "print(len(bow_transformer.vocabulary_))"
   ]
  },
  {
   "cell_type": "code",
   "execution_count": 111,
   "metadata": {},
   "outputs": [],
   "source": [
    "#Transform our Bag-Of-Words\n",
    "descr_bow = bow_transformer.transform(df['desc'])"
   ]
  },
  {
   "cell_type": "code",
   "execution_count": 112,
   "metadata": {},
   "outputs": [
    {
     "name": "stdout",
     "output_type": "stream",
     "text": [
      "Shape of Sparse Matrix:  (108129, 108759)\n",
      "Amount of Non-Zero occurences:  1255439\n"
     ]
    }
   ],
   "source": [
    "print('Shape of Sparse Matrix: ', descr_bow.shape)\n",
    "print('Amount of Non-Zero occurences: ', descr_bow.nnz)"
   ]
  },
  {
   "cell_type": "code",
   "execution_count": 33,
   "metadata": {},
   "outputs": [
    {
     "ename": "NameError",
     "evalue": "name 'descr_bow' is not defined",
     "output_type": "error",
     "traceback": [
      "\u001b[0;31m---------------------------------------------------------------------------\u001b[0m",
      "\u001b[0;31mNameError\u001b[0m                                 Traceback (most recent call last)",
      "\u001b[0;32m<ipython-input-33-b26d0c70ae27>\u001b[0m in \u001b[0;36m<module>\u001b[0;34m()\u001b[0m\n\u001b[0;32m----> 1\u001b[0;31m \u001b[0msparsity\u001b[0m \u001b[0;34m=\u001b[0m \u001b[0;34m(\u001b[0m\u001b[0;36m100.0\u001b[0m \u001b[0;34m*\u001b[0m \u001b[0mdescr_bow\u001b[0m\u001b[0;34m.\u001b[0m\u001b[0mnnz\u001b[0m \u001b[0;34m/\u001b[0m \u001b[0;34m(\u001b[0m\u001b[0mdescr_bow\u001b[0m\u001b[0;34m.\u001b[0m\u001b[0mshape\u001b[0m\u001b[0;34m[\u001b[0m\u001b[0;36m0\u001b[0m\u001b[0;34m]\u001b[0m \u001b[0;34m*\u001b[0m \u001b[0mdescr_bow\u001b[0m\u001b[0;34m.\u001b[0m\u001b[0mshape\u001b[0m\u001b[0;34m[\u001b[0m\u001b[0;36m1\u001b[0m\u001b[0;34m]\u001b[0m\u001b[0;34m)\u001b[0m\u001b[0;34m)\u001b[0m\u001b[0;34m\u001b[0m\u001b[0m\n\u001b[0m\u001b[1;32m      2\u001b[0m \u001b[0mprint\u001b[0m\u001b[0;34m(\u001b[0m\u001b[0;34m'sparsity: {}'\u001b[0m\u001b[0;34m.\u001b[0m\u001b[0mformat\u001b[0m\u001b[0;34m(\u001b[0m\u001b[0mround\u001b[0m\u001b[0;34m(\u001b[0m\u001b[0msparsity\u001b[0m\u001b[0;34m)\u001b[0m\u001b[0;34m,\u001b[0m\u001b[0;36m2\u001b[0m\u001b[0;34m)\u001b[0m\u001b[0;34m)\u001b[0m\u001b[0;34m\u001b[0m\u001b[0m\n",
      "\u001b[0;31mNameError\u001b[0m: name 'descr_bow' is not defined"
     ]
    }
   ],
   "source": [
    "sparsity = (100.0 * descr_bow.nnz / (descr_bow.shape[0] * descr_bow.shape[1]))\n",
    "print('sparsity: {}'.format(round(sparsity),2))"
   ]
  },
  {
   "cell_type": "markdown",
   "metadata": {},
   "source": [
    "##### TF-IDF transform"
   ]
  },
  {
   "cell_type": "code",
   "execution_count": 114,
   "metadata": {},
   "outputs": [],
   "source": [
    "from sklearn.feature_extraction.text import TfidfTransformer"
   ]
  },
  {
   "cell_type": "code",
   "execution_count": 115,
   "metadata": {},
   "outputs": [],
   "source": [
    "tfidf_transformer = TfidfTransformer().fit(descr_bow)"
   ]
  },
  {
   "cell_type": "code",
   "execution_count": 116,
   "metadata": {},
   "outputs": [
    {
     "name": "stdout",
     "output_type": "stream",
     "text": [
      "6.3238889373982206\n"
     ]
    }
   ],
   "source": [
    "# Check the IDF of the word \"technology\"\n",
    "print(tfidf_transformer.idf_[bow_transformer.vocabulary_['technology']])"
   ]
  },
  {
   "cell_type": "code",
   "execution_count": 117,
   "metadata": {},
   "outputs": [],
   "source": [
    "descr_tfidf = tfidf_transformer.transform(descr_bow)"
   ]
  },
  {
   "cell_type": "markdown",
   "metadata": {},
   "source": [
    "##### Model training"
   ]
  },
  {
   "cell_type": "code",
   "execution_count": 118,
   "metadata": {},
   "outputs": [],
   "source": [
    "from sklearn.model_selection import train_test_split\n",
    "\n",
    "descr_train, descr_test, final_train, final_test = train_test_split(df['desc'], df['final_status'], test_size=0.2)"
   ]
  },
  {
   "cell_type": "code",
   "execution_count": 119,
   "metadata": {},
   "outputs": [],
   "source": [
    "#Use Sklearn capability to store a pipeline of workflow\n",
    "from sklearn.pipeline import Pipeline\n",
    "pipeline = Pipeline([\n",
    "    ('bow', CountVectorizer(analyzer=text_process)),  # strings to token integer counts\n",
    "    ('tfidf', TfidfTransformer()),  # integer counts to weighted TF-IDF scores\n",
    "    ('classifier', MultinomialNB()),  # train on TF-IDF vectors w/ Naive Bayes classifier\n",
    "])"
   ]
  },
  {
   "cell_type": "code",
   "execution_count": 120,
   "metadata": {},
   "outputs": [],
   "source": [
    "pipeline.fit(descr_train,final_train)\n",
    "predictions = pipeline.predict(descr_test)"
   ]
  },
  {
   "cell_type": "markdown",
   "metadata": {},
   "source": [
    "##### Assessing the results"
   ]
  },
  {
   "cell_type": "code",
   "execution_count": 121,
   "metadata": {},
   "outputs": [
    {
     "name": "stdout",
     "output_type": "stream",
     "text": [
      "             precision    recall  f1-score   support\n",
      "\n",
      "          0       0.99      0.69      0.82     21249\n",
      "          1       0.04      0.72      0.08       377\n",
      "\n",
      "avg / total       0.98      0.69      0.80     21626\n",
      "\n"
     ]
    }
   ],
   "source": [
    "from sklearn.metrics import classification_report\n",
    "print (classification_report(predictions,final_test))"
   ]
  },
  {
   "cell_type": "code",
   "execution_count": 122,
   "metadata": {},
   "outputs": [],
   "source": [
    "# We reach an overall 80% of precision based on the description of a campaign"
   ]
  },
  {
   "cell_type": "markdown",
   "metadata": {},
   "source": [
    "## Same process for the name of the campaign"
   ]
  },
  {
   "cell_type": "code",
   "execution_count": null,
   "metadata": {},
   "outputs": [],
   "source": [
    "df['name'].apply(text_process).head()\n",
    "bow_transformer_name = CountVectorizer(analyzer=text_process).fit(df['name'])\n",
    "descr_bow_name = bow_transformer_name.transform(df['name'])\n",
    "tfidf_transformer_name = TfidfTransformer().fit(descr_bow_name)\n",
    "descr_tfidf_name = tfidf_transformer_name.transform(descr_bow_name)\n",
    "name_train, name_test, final_train, final_test = train_test_split(df['name'], df['final_status'], test_size=0.2)\n",
    "pipeline.fit(name_train,final_train)\n",
    "predictions_name = pipeline.predict(name_test)\n",
    "print (classification_report(predictions_name,final_test))"
   ]
  },
  {
   "cell_type": "markdown",
   "metadata": {},
   "source": [
    "## Same process for the keywords of the campaign"
   ]
  },
  {
   "cell_type": "code",
   "execution_count": null,
   "metadata": {},
   "outputs": [],
   "source": [
    "df['keywords'].apply(text_process).head()\n",
    "bow_transformer_keywords = CountVectorizer(analyzer=text_process).fit(df['keywords'])\n",
    "descr_bow_keywords = bow_transformer_keywords.transform(df['keywords'])\n",
    "tfidf_transformer_keywords = TfidfTransformer().fit(descr_bow_keywords)\n",
    "descr_tfidf_keywords = tfidf_transformer_keywords.transform(descr_bow_keywords)\n",
    "keywords_train, keywords_test, final_train, final_test = train_test_split(df['keywords'], df['final_status'], test_size=0.2)\n",
    "pipeline.fit(keywords_train,final_train)\n",
    "predictions_keywords = pipeline.predict(keywords_test)\n",
    "print (classification_report(predictions_keywords,final_test))"
   ]
  },
  {
   "cell_type": "code",
   "execution_count": null,
   "metadata": {},
   "outputs": [],
   "source": []
  }
 ],
 "metadata": {
  "kernelspec": {
   "display_name": "Python 3",
   "language": "python",
   "name": "python3"
  },
  "language_info": {
   "codemirror_mode": {
    "name": "ipython",
    "version": 3
   },
   "file_extension": ".py",
   "mimetype": "text/x-python",
   "name": "python",
   "nbconvert_exporter": "python",
   "pygments_lexer": "ipython3",
   "version": "3.6.5"
  }
 },
 "nbformat": 4,
 "nbformat_minor": 2
}
